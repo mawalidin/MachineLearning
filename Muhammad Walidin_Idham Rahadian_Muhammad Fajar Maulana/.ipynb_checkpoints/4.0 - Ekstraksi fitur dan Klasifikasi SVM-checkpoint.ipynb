{
 "cells": [
  {
   "cell_type": "code",
   "execution_count": 1,
   "metadata": {},
   "outputs": [],
   "source": [
    "import pandas as pd\n",
    "import numpy as np\n",
    "import csv"
   ]
  },
  {
   "cell_type": "code",
   "execution_count": 2,
   "metadata": {},
   "outputs": [],
   "source": [
    "# Me-Load dataset yang sudah melalui tahap preprocessing\n",
    "train = pd.read_csv( \"data/data/data_latih.csv\")\n",
    "test = pd.read_csv(\"data/data/test_2.csv\")\n",
    "validation = pd.read_csv(\"data/data/validation_2.csv\")"
   ]
  },
  {
   "cell_type": "code",
   "execution_count": 3,
   "metadata": {},
   "outputs": [],
   "source": [
    "# Memisahkan data menjadi data latih dan data uji\n",
    "# untuk keperluan pembangunan model\n",
    "from sklearn.model_selection import train_test_split\n",
    "X = train['review']\n",
    "y = train['sentiment']\n",
    "X_train, X_test, y_train, y_test = train_test_split(X,y,test_size=0.2, random_state=42)"
   ]
  },
  {
   "cell_type": "code",
   "execution_count": 4,
   "metadata": {},
   "outputs": [],
   "source": [
    "# X.shape\n",
    "# X_test.to_csv(\"1test.csv\", index=False, quoting=3)"
   ]
  },
  {
   "cell_type": "code",
   "execution_count": 5,
   "metadata": {},
   "outputs": [],
   "source": [
    "# print(X_train)\n",
    "# X_train.to_csv(\"1fitur.csv\", index=False, quoting=3)"
   ]
  },
  {
   "cell_type": "code",
   "execution_count": 6,
   "metadata": {},
   "outputs": [
    {
     "name": "stdout",
     "output_type": "stream",
     "text": [
      "Creating tfidf..\n",
      "Wall time: 45.2 ms\n"
     ]
    }
   ],
   "source": [
    "# Proses pembobotan atau vektorisasi\n",
    "print(\"Creating tfidf..\")\n",
    "from sklearn.feature_extraction.text import TfidfVectorizer\n",
    "\n",
    "# Inisialisasi \"CountVectorizer\"\n",
    "vectorizer = TfidfVectorizer(analyzer = \"word\",\n",
    "                             tokenizer = None, \n",
    "                             preprocessor = None,\n",
    "                             stop_words = None, \n",
    "                             max_features = 5000) \n",
    "\n",
    "# Melakukan pengubahan data latih kedalam vektor fitur\n",
    "%time train_data_features = vectorizer.fit_transform(X_train)\n",
    "\n",
    "# df = pd.DataFrame(train_data_features.toarray(), columns=vectorizer.get_feature_names())\n",
    "# print(df)\n",
    "# df.to_csv(\"1vektor.csv\", index=False, quoting=3)\n",
    "\n",
    "\n",
    "# Mengkonversi dari list ke array, untuk memudahkan \n",
    "# ke tahap klasifikasi\n",
    "train_data_features = train_data_features.toarray()"
   ]
  },
  {
   "cell_type": "code",
   "execution_count": 7,
   "metadata": {},
   "outputs": [],
   "source": [
    "# Sama seperti pada data latih, data tes diubah kedalam\n",
    "# vektor fitur selanjutnya di konversi menjadi bentuk array\n",
    "test_data_features = vectorizer.transform(X_test)\n",
    "test_data_features = test_data_features.toarray()\n",
    "\n",
    "# df = pd.DataFrame(test_data_features.toarray(), columns=vectorizer.get_feature_names())\n",
    "# print(df)\n",
    "# df.to_csv(\"fitur_test.csv\")"
   ]
  },
  {
   "cell_type": "code",
   "execution_count": 8,
   "metadata": {
    "scrolled": true
   },
   "outputs": [],
   "source": [
    "# Proses klasifikasi menggunakan SVM\n",
    "from sklearn import model_selection, svm\n",
    "\n",
    "# Inisialisasi SVM\n",
    "SVM = svm.SVC(C=1.0, kernel='linear', degree=3, gamma='auto')\n",
    "\n",
    "# Memasang data latih ke classifier\n",
    "SVM.fit(train_data_features,y_train)\n",
    "\n",
    "# Melakukan prediksi dengan membandingkan dengan data tes\n",
    "pred = SVM.predict(test_data_features)\n"
   ]
  },
  {
   "cell_type": "code",
   "execution_count": 9,
   "metadata": {
    "scrolled": true
   },
   "outputs": [],
   "source": [
    "# rows = zip(X_test, pred)\n",
    "# rows\n",
    "# with open(\"1test.csv\", \"a\") as fp:\n",
    "#     wr = csv.writer(fp, dialect='excel')\n",
    "#     wr.writerow(pred)"
   ]
  },
  {
   "cell_type": "code",
   "execution_count": 10,
   "metadata": {},
   "outputs": [],
   "source": [
    "# print(X_test)"
   ]
  },
  {
   "cell_type": "code",
   "execution_count": 11,
   "metadata": {},
   "outputs": [
    {
     "name": "stdout",
     "output_type": "stream",
     "text": [
      "              precision    recall  f1-score   support\n",
      "\n",
      "           0       0.79      0.71      0.75        48\n",
      "           1       0.88      0.92      0.90       113\n",
      "\n",
      "    accuracy                           0.86       161\n",
      "   macro avg       0.84      0.81      0.82       161\n",
      "weighted avg       0.85      0.86      0.85       161\n",
      "\n"
     ]
    }
   ],
   "source": [
    "from sklearn.metrics import classification_report\n",
    "print(classification_report(y_test, pred))"
   ]
  },
  {
   "cell_type": "code",
   "execution_count": 12,
   "metadata": {},
   "outputs": [],
   "source": [
    "# Proses pengujian\n",
    "# Import library yang dibutuhkan\n",
    "from sklearn.metrics import accuracy_score,confusion_matrix\n",
    "from sklearn.metrics import precision_score, recall_score, f1_score"
   ]
  },
  {
   "cell_type": "code",
   "execution_count": 13,
   "metadata": {},
   "outputs": [
    {
     "name": "stdout",
     "output_type": "stream",
     "text": [
      "Accuracy Score: 0.8571428571428571\n",
      "Confusion Matrix: [[ 34  14]\n",
      " [  9 104]]\n",
      "Precision Score: 0.8813559322033898\n",
      "Recall Score: 0.9203539823008849\n",
      "F1 Score: 0.9004329004329005\n"
     ]
    }
   ],
   "source": [
    "# Melakukan proses pengujian\n",
    "acc = accuracy_score(y_test, pred)\n",
    "cm = confusion_matrix(y_test,pred)\n",
    "print(\"Accuracy Score: \" + str(acc))\n",
    "print(\"Confusion Matrix: \"+ str(cm))\n",
    "print(\"Precision Score: \"+ str(precision_score(y_test,pred)))\n",
    "print(\"Recall Score: \"+ str(recall_score(y_test,pred)))\n",
    "print(\"F1 Score: \"+ str(f1_score(y_test,pred)))"
   ]
  },
  {
   "cell_type": "code",
   "execution_count": 14,
   "metadata": {},
   "outputs": [
    {
     "name": "stdout",
     "output_type": "stream",
     "text": [
      "   acer  acronis  activated  acuh  ada  adalah  adan  adapter  admin   ae  \\\n",
      "0   0.0      0.0        0.0   0.0  0.0     0.0   0.0      0.0    0.0  0.0   \n",
      "1   0.0      0.0        0.0   0.0  0.0     0.0   0.0      0.0    0.0  0.0   \n",
      "2   0.0      0.0        0.0   0.0  0.0     0.0   0.0      0.0    0.0  0.0   \n",
      "3   0.0      0.0        0.0   0.0  0.0     0.0   0.0      0.0    0.0  0.0   \n",
      "\n",
      "   ...  yakin  yalord  yang  yangbelum  yaotu  year   yk  ylima  youtube  \\\n",
      "0  ...    0.0     0.0   0.0        0.0    0.0   0.0  0.0    0.0      0.0   \n",
      "1  ...    0.0     0.0   0.0        0.0    0.0   0.0  0.0    0.0      0.0   \n",
      "2  ...    0.0     0.0   0.0        0.0    0.0   0.0  0.0    0.0      0.0   \n",
      "3  ...    0.0     0.0   0.0        0.0    0.0   0.0  0.0    0.0      0.0   \n",
      "\n",
      "   zesuai  \n",
      "0     0.0  \n",
      "1     0.0  \n",
      "2     0.0  \n",
      "3     0.0  \n",
      "\n",
      "[4 rows x 1495 columns]\n",
      "[1 0 1 0]\n"
     ]
    }
   ],
   "source": [
    "# Menguji model prediksi yang telah di buat\n",
    "# dengan data masukan yang baru\n",
    "tes = ['pengemasan rapi barang cepat sampai sesuai pesanan terima kasih',\n",
    "       'kecewa',\n",
    "       'bagus berfungsi dengan baik',\n",
    "       'bungkus tidak profesional seharus memakai gelembung gelembung']\n",
    "# tes_features = vectorizer.transform(tes).toarray()\n",
    "\n",
    "est = vectorizer.transform(tes)\n",
    "df = pd.DataFrame(est.toarray(), columns=vectorizer.get_feature_names())\n",
    "print(df)\n",
    "df.to_csv(\"fitur_tes.csv\")\n",
    "# print(tes_features)\n",
    "print(SVM.predict(df))"
   ]
  },
  {
   "cell_type": "code",
   "execution_count": 15,
   "metadata": {},
   "outputs": [],
   "source": [
    "# df = pd.DataFrame(X.toarray(), columns=tfidf2.get_feature_names())\n",
    "# print(df)"
   ]
  },
  {
   "cell_type": "code",
   "execution_count": 16,
   "metadata": {},
   "outputs": [
    {
     "name": "stdout",
     "output_type": "stream",
     "text": [
      "['pengemasan rapi barang cepat sampai sesuai pesanan terima kasih', 'kecewa', 'bagus berfungsi dengan baik', 'bungkus tidak profesional seharus memakai gelembung gelembung']\n"
     ]
    }
   ],
   "source": [
    "# ds = pd.read_csv(\"\")\n",
    "print(tes)"
   ]
  },
  {
   "cell_type": "code",
   "execution_count": 17,
   "metadata": {},
   "outputs": [
    {
     "data": {
      "text/plain": [
       "['pesan tangal sembilan mei tujuh belas maksimal kirim tangal satu mei tujuh belas tangal satu mei tujuh belas jam delapan malam baru ada email bahwa pesan saya batal oleh seler tanpa alas apa padahal barang siap itu masih jual buang buang waktu orang saja seler yang tidak niat jual atau toko palsu ini seperti',\n",
       " 'sempat ada isue dengan laptop tapi suport dari bhineka cukup tangap beri solusi laptop asus uxtiga ratus tiga puluh satu ual sesuai deskripsi customer service ramah balas tiap chat so far so bagus laptop super ringan',\n",
       " 'barang cepat terima dan dalam adan baik rekomendasi seler',\n",
       " 'kecewa merek yang pes mito yang datangatau kirim merek coca',\n",
       " 'suara belum uji',\n",
       " 'emas rapi dan kirim sangat cepat',\n",
       " 'barang kami terima dalam dan baik',\n",
       " 'paket iya aman',\n",
       " 'barang ini palsu karena asli muat tertawa delapan gb',\n",
       " 'barang sesuai spesifikasi terima kasih',\n",
       " 'respon chat oke kirim oke barang sesuai mdh mdhan sukses',\n",
       " 'warna silver siap tidak bos terima kasih bos',\n",
       " 'barang bagus fungsi baik terima kasih',\n",
       " 'barang sampai tepat waktu sesuai target lazada barang sesuai spekyg ada sayang masih kosong belum ada windows tapi stil oke great lazada',\n",
       " 'tidak bisa baca deh simpan pas buka di pc lain data tidak ada',\n",
       " 'kecewa sekali sudah pokok kirim lama sudah lagi mesen yang enam puluh empat gb yang kirim tiga tiga gb pas cek nyata hanya tulis saja tiga tiga gb nyata asli bahkan lima ratus mbak parah syekali modus',\n",
       " 'atas',\n",
       " 'harga mahal barang tidak fungsi biruk sekali its so jelek tidak rekomendasi',\n",
       " 'emas an kurang rapi tapi untuk flashdisk bagus tidak ada masalah',\n",
       " 'bagus sesuai yang gambar emas rapi over al it s oke terima kasih ladaza',\n",
       " 'produk ini bagus yang butuh simpan data eksternal saya rekomendasi beli produk ini cepat respon dan kirim cepat emas juga bagus tampil produk juga keren',\n",
       " 'oke emas rapi barang oke',\n",
       " 'paket terima dengan baik dan cepat tapi sayang file yang simpan dalam memori sebut mudah hilang kecewa dengan kualitas ini barang',\n",
       " 'pokok saya minta ganti empat puluh tiga sesuai postingan yang benar saja masuk kirim tiga puluh dua tiga puluh dua tungu itikad baik',\n",
       " 'fungsi baik',\n",
       " 'pas tahun mati total pakai normal tujuh jam hari',\n",
       " 'belum di terima siapa terima',\n",
       " 'barang bagus kirim cepat barang asli terima kasih lazada',\n",
       " 'barang bagus moga awet',\n",
       " 'kemas rapi dan aman kirim lebih cepat dari estimasi tapi minus sekrup kunci',\n",
       " 'telah lima menit mouse tidak fungsi dan gambar layar diam dan laptop tidak bisa mati mati jika batrai habis',\n",
       " 'barang pas terima bagus tapi pas sudah di pakai error kecewa kalau nyimpen foto atau lagu selalu hilang sendiri atau format',\n",
       " 'excelent',\n",
       " 'rekomendasi sekali ini puas sekali kendala busy tidak terlalu lagi harga murah sangat dan video lebih lncar dan cepat barang sangat sangat super cepat sampai padahal jauh di malinau terima kasih',\n",
       " 'cuma kabel tenaga kurang bagus',\n",
       " 'hardisk masih awet sampai skrng',\n",
       " 'microphone dan converter jack tiga lima m telah terima dengan baik kualitas sesuai pesan bagus',\n",
       " 'boneka lucu',\n",
       " 'masa tiga go jek sudah ke sana tutup terus toko mesan tanggal tiga mei tujuh belas sampai dengan detik ini barang belum kirim',\n",
       " 'yang kami ingin merah yang kirim biru',\n",
       " 'baru pakai tiga hari hd sudah rusak data hilang jangan di beli tidak di rekomendasi',\n",
       " 'mantap sekali',\n",
       " 'jenis barang sebut nyata harga bekas bilang lebih mahal dari harga pasar dan untuk charger tidak stabil agak longar tlng tim lazada perhati untuk jenis barang second',\n",
       " 'hanya kabel buat volokan ke laptop kok tidak ada juragan bagaimana ini',\n",
       " 'respon jual sangat cepat pesan senin datang sabtu barang terima dengan utuh pokok e mantap betul',\n",
       " 'telah kami terima flashdisk enam puluh empat gb yang datang je tempat kami cukup lama dan telah coba tidak bisa guna atau rusak',\n",
       " 'imformasi karena marak whatsapp waspam bisa aku dari lazada maka kamu dari lazadaco indonesia keluar whatsapp trbaru delapan ratus lima puluh tiga lima belas lima belas tiga ribu delapan ratus enam puluh enam supaya kmi bisa merespon dan dengan cepat jadi yang ingin pesan baran slhkn chet kmi di sini juga layan dan belnja dengan yang lain itu di luar tngung jawab lazada terima kasih kasih perhati hti htipenipuan',\n",
       " 'lumayan bagus bintang yang bicara',\n",
       " 'oke',\n",
       " 'jual responive qdan a paket cepat rapi aman harga oke kulitas produk respond start cepat akting mudah warna natural cara seluruh lima atau lima',\n",
       " 'mantap moga awet',\n",
       " 'sesuai dengan harga mantap kali',\n",
       " 'terima kasih lazada paket sudah terima',\n",
       " 'wrn ungu',\n",
       " 'material sempurna emas jelek',\n",
       " 'awal sedikit seram seram sedap untuk beli electronic cara daring apalg saya cek belum ada ulas sama sekali tapi syukutlah terima kasih laptop terima dalam kondisi aman tidak ada cacat dan fungsi',\n",
       " 'barang sampai dengan selamat sesuai estimasi belum di coba moga muas dan awet',\n",
       " 'aku sudah nungu lama barang tidak datang juga kerjan ku jadi hambat gara gara seler ini',\n",
       " 'i suka it bagus',\n",
       " 'speaker yang satu seperti agak pecah suara boleh ganti tidak',\n",
       " 'produk mantap warbiasah',\n",
       " 'barang sudah sampai tapi belum saya pakai',\n",
       " 'bagus',\n",
       " 'barang bisa guna dan dalam kondisi oke',\n",
       " 'bagus bisa langsung pakai',\n",
       " 'mantap sesuai',\n",
       " 'terima kasih',\n",
       " 'pesan dari luar negeri lima hari kemudian sampai barang bagus tapi harap ada isi dalam kotak',\n",
       " 'kualitas barang sangat baik emas kirim barang sangat baik cepat kirim barang sangat cepat respon jual sangat cepat rekomendasi seler',\n",
       " 'mantap betul kalau sudah di bhineka',\n",
       " 'barang bagus keren bngt',\n",
       " 'laptop fungsi dengan baik cocok untuk buat atau edit file ms ofice dan browsing internet',\n",
       " 'sempat lama sih kemarin dilayanin hampir hari pertama lihat kaget kerdus peyot peyot dan sempat khawatir juga kalau isi bakal berabe pas buka dan cek kondisi barang untung barang aman cuma packingan yang rusak mungkin lain kali seler kasih lindung lebih untuk barang yang kirim terima kasih lazada layan cukup baik lebih percaya belanja di sini',\n",
       " 'barang kondisi oke respon cepat dan sangat baik',\n",
       " 'kirim molor tiga mingu saya kecewa',\n",
       " 'saya kecewa beli memory kartu sandisk delapan gb smpe rumah memory tidak bisa dipake buruk sekali anda',\n",
       " 'baik dan cepat sampai dari prediksi thanks',\n",
       " 'kirim sangat cepat barang asli dan baru ratus persen masih segel rekomendasi seler terimaksih lazada',\n",
       " 'saya suka bermanfat sekali usul kuota tambah lagi buat ruang simpan',\n",
       " 'unit lihat baru tapi sat tengah pakai mouse tidak bisa gerak layar nyala tapi tidak bisa di operasional saya coba batrai di lepas baru mau nyala kembali dan informasi tampil batrai masih satu jam tapi dadak mati',\n",
       " 'ini flashdisk bisa buat apa saja kan',\n",
       " 'garansi distributor tiga tahun',\n",
       " 'telah colok ke tv dari antena kok banyak semut ya gambar tidak jelas',\n",
       " 'bagus dan practical produk dengan cheap price terima kasih',\n",
       " 'saya sudah mes dan tungu bulan untuk produk ini namun sat seseharusn sampai tiba tiba batal dan tera alamat tidak temu padahal di gogle map pun alamat ini muncul',\n",
       " 'tertawa tahan tiga bulan telah itu rusak',\n",
       " 'lazada hai barang siap uatau mesan ada whatsap delapan ratus lima puluh tiga ribu empat ratus tiga ribu ratus enam puluh lima respon langsung aman dan percaya proses cepat hapy shoping lazada co indonesia terima kasih',\n",
       " 'barang sesuai discripsi',\n",
       " 'its oke its bagus untuk me terima kasih lazada working wel dan kirim sangat cepat',\n",
       " 'puas',\n",
       " 'mantap betul',\n",
       " 'barang sudah terima dengan baik',\n",
       " 'barang sesuai pesan terima kasih lazada',\n",
       " 'rekomendasi',\n",
       " 'barang sesuai pesan dan cepat sampai',\n",
       " 'produk bagus asli sesuai dengan deskripsi',\n",
       " 'terima kasih paket sudah terima sesuai dengan pesan emas bagus namun kalau boleh saran sat emas mohon guna emas dari kayu supaya sat proses kirim hindar dari ke khawatir bentur',\n",
       " 'barang cepat sampai dan emas sangat rapi',\n",
       " 'tolong kabar jika sudah ada stok',\n",
       " 'barang bagus',\n",
       " 'mantap betul juragan barang',\n",
       " 'barang antar dengan cepat dan sesuai dengan jelas yang ada jual merespondengan cepat',\n",
       " 'fungsi dengan baik',\n",
       " 'sesuai deskripsi nyala oke charger oke tqs lazada terima kasih seler bagus emas',\n",
       " 'barang datang cepat mulus moga tidak ada masalah depa',\n",
       " 'terima kasih juragan baca sempurna terima kasih seler jaya lazada',\n",
       " 'saya pesan warna hitam yang datang warna putih kecewa tidak sesuai ekspektasi',\n",
       " 'cewek jangan beli lagi di toko ini bong kalau bisa toko ini di blokir saja',\n",
       " 'sesuai judul produk rekomendasi degh gampang juga untuk pengunan',\n",
       " 'bagus barang sesuai dengan gambar tapi belum di cobra',\n",
       " 'kirim super cepat barang oke',\n",
       " 'kardus agak penyok untung isi aman terima kasih',\n",
       " 'kecewa tapi saya tidak bisa salah selain diri sendiri karena bal usb yang saya kira enam puluh empat giga nyata enam puluh empat mbak disi apan lagu lagu saja tidak muat parah',\n",
       " 'sesuai terima kasih lazada',\n",
       " 'kenapa ada garis di laptop kita minta ganti dengan prodoct yang baru iya',\n",
       " 'sesuai deskripsi dan semua fungsi dengan baik terima kasih lazada walau sempat ada cemas tentang kirim',\n",
       " 'emas bagus barang oke lah',\n",
       " 'barang oke packaging rapi dan kirim cepat beli hd ini pas lagi harbolnas sebelas des kira akan sampai lama nyata tanggal empat belas sudah sampai terima kasih jvp dan lazada',\n",
       " 'fungsi dengan baik',\n",
       " 'terima kasih',\n",
       " 'gmna',\n",
       " 'barang sesuai deskripsi fungsi dengan baik kirim tanpa masalah tapi sayang telepon genggam saya konektor voc jadi tidak pakai cara seluruh oke terima kasih',\n",
       " 'tertawa bisa guna sebentar sudah itu tidak tahu jadi tidak bisa dipakek terus tidak bisa simpan semua file tertawa file file tentu yang bisa disave dan buka kembali kenbanyakan tidak bisa buka',\n",
       " 'cara seluruh build bagus kukuh hanya kaget saja pas sampai kok tujuh belas tujuh belas kira lima belas lima belas v buat harga kaya susah nemu laptop lain dengan spesifikasi sama dan yang paling tara itu built in speakers tidak sangka bisa denger bass yang lumayan jernih dan dentum untuk kelas speaker laptop apalagi kalau ditaro di atas meja kayu iya ini speaker ada di bawah keyboard hadap ke meja performa sih iya sesuai spesifikasi kalau pun ada kurang iya di baterai untuk spesifikasi agak sangar begini memang tidak bakal bisa dipake main game ful tenaga kalau tidak colok ada bonus backpack juga dan meski bonus ini backpack serius bisa muat macam sampai tablet segala di luar laptop sama kabel plus adaptor kalau perlu bawa laptop coler tujuh belas tujuh belas juga hayuk bahan juga bagus pading cukup ada tiga kantong dengan ziper di luar dan ada tempat botol minum yang adjustable juga',\n",
       " 'terima kasih barang sudah terima dalam kondisi baik',\n",
       " 'ngak sesal belanja barang sampai tepat waktu',\n",
       " 'kalau di awal tidak jelas jadi takut mau beli',\n",
       " 'sesuai pesan kalau bisa di kasih fre dong',\n",
       " 'jual dichat kali kali tidak balas padahal sudah di read dikacangin begitu dapat uang langsung kabur',\n",
       " 'kata orang rumah barang sudah datang belum cek but thks',\n",
       " 'cocok sesuai pesan',\n",
       " 'ini serius juragan murah sekali buset',\n",
       " 'produk sudah coba semua fungsi baik emas rapi dan kirim juga lumayan cepat kalau bisa di tambah kirim sameday',\n",
       " 'mau kredit cicil berapa kali bayar',\n",
       " 'sudah mingu barang belum di kirim juga bagaimana ini juragan ada barang ngak sih',\n",
       " 'kirim cepat moga umur lama',\n",
       " 'kecewa kata usb satu satu gb tapi nyata satu satu gb tidak sesuai dengan pesan kita',\n",
       " 'baterai kok cepat habis jika sambil di charge nyterum pasang tidak rapi iya belum saya cek semua moga tidak lemod',\n",
       " 'sesuai pesan terima kasih kasih',\n",
       " 'barang sudah nyampai emas bagus barang muas walau lama nyampainya',\n",
       " 'bisa bayar dngan di cicil juragan',\n",
       " 'fungsi dengan baik sesuai deskripsi',\n",
       " 'barang bagus sesuai dengan yang di foto suka',\n",
       " 'sering error',\n",
       " 'kecewa yang dteng tidak sesuai dengan gambar a terus tidak bisa kepakek',\n",
       " 'tidak bisa di pakai',\n",
       " 'mantan mantan memang keren abiz cetar bahana dan hmpir semua orang kagum sama cara kerja alhamdulilah a aku puas sekali sama produk yang satu ini terima kasih kenkez jadi tagih ini beli di lazada',\n",
       " 'baru kali ini belanja predator cuma dapat dos charge sama laptop tanpa buku buku cd acer dan charge tidak ada kotak',\n",
       " 'simpan kapasitas besar oke',\n",
       " 'barang belum saya terima mohon bantu juragan terima kasih',\n",
       " 'ini asli tiga tiga gb juragan',\n",
       " 'file yang dipindahin ke flasdisk hilang sendiri tidak pakai rugi jadi',\n",
       " 'sudah mingu belum terima barang terus transfer dengn jumlah uang bayar buah tapi di terang jumlh hanya satu buah',\n",
       " 'barang yang datang bukan baracuda tiga lima tujuh tujuh rpm tapi pipeline hd',\n",
       " 'bang kalau plus upgrade ram jadi total berapa',\n",
       " 'velum bulan sudah matot kecewa sekali',\n",
       " 'juragan bisa instal win tujuh ngak iya',\n",
       " 'pas sekali',\n",
       " 'ini kalau cicil syarat apa saja bos',\n",
       " 'tidak siap dipake harus di instal dan tertawa dengan win puluh tidak rekomendasi',\n",
       " 'harga nyata sangat mahal banding dengan daring shoping lain utama yang inisial t sangat sesal',\n",
       " 'emas rapi barang cepat sampai sesuai pesan terima kasih',\n",
       " 'bungkus tidak profesional harus pakai gelembung gelembung',\n",
       " 'bagus fungsi dengan baik',\n",
       " 'emas aman barang sesuai',\n",
       " 'tenaga bank tidak dapat guna',\n",
       " 'pertama ragu tapi telah datang barang datang langsung test wow its complite bagus kerja terima kasih seler',\n",
       " 'sudah saya terima dan terima kasih kasih',\n",
       " 'barang tidak bungkus aman pakai buble hitam tipis jelek mudah sobek wajar saja kalau banyak hardisk yang rusak karena jual tidak bungkus aman di gudang kurir barang pasti lempar lempar tidak mungkin sayang sayang taruh pelan pelan karena barang ribu hardisk barang yang gampang rusak jika kena guncang jika jual tidak mau rugi jual saja buble agar aman tapi buble putih iya jangan buble hitam',\n",
       " 'barang terima dengan selamat dan sudah coba',\n",
       " 'harga jangkau tapi kualitas luar biasa layar hd jernih dan nyaman pakai asa seperti nyata tv mudah sekali aplikasi speker super keren rasa sangat untung beli produk ini sangat sangat rekomendasi',\n",
       " 'ke',\n",
       " 'tidak bisa nyimpan data seperti fladish bekas iya padahal saya sudah sering kecewa belnja di lazada',\n",
       " 'mini peluit trendy usb empat gb sudah saya terima sesuai pesan terima kasih',\n",
       " 'mantap barang sesuai pesan',\n",
       " 'produk terima dengan baik hinga sat ini produk fungsi dengan baik',\n",
       " 'tiga tiga gb nyata enam belas gb saja sedih kecewa',\n",
       " 'barang sudah terima mudah fungsi',\n",
       " 'apan flashdisk dari hongkong ini nama flashdisk pesan satu flashdisk sama main kok kirim main semua mana sama lagi mau dipake flashdisk mohon pertangung jawab',\n",
       " 'kami mengunakan windows puluh sedang yang kirim adalah produk untuk windows di bawah dan kami sudah coba untuk masuk ke windows tujuh namun tetap tidak bisa guna kami minta kembali dana saja karena nyata produk ini tidak sesuai harap kami',\n",
       " 'layaratau scren pecah dan barang sudah di kembali ke semart komp saya tungu laptop kirim kembali yang sesuai dengan permintan saya',\n",
       " 'produk keren dengan harga empat jt ini rekomen sekali dan bagus sekali buat yang suka main game ini bagus sekali dengan prosesor dan fitur yang pada terima kasih sekali lazada',\n",
       " 'hardisk rusak tidak bisa instal windows laptop saya kembali',\n",
       " 'so far okeh sesuai deskripsi tepat waktu kirim',\n",
       " 'laptop sudah saya terima dan emas bagus tanpa sedikit cacat thankslazada',\n",
       " 'barang cepat sampai fungsi baik harga bagus puas sekali terima kasih',\n",
       " 'layan mantap pesan datang tepat waktu walau saya di timika papua thks lazada',\n",
       " 'yang ditrima kok toshiba tidak sesuai dengan yang minta merek telepon genggam',\n",
       " 'produk bagus kirim cukup cepat beli tangal sembilan maret terima tanggal satu april namun untuk aktivasi antivirus tidak bisa saran baik untuk kirim kasih buble bungkus untuk jaga kualitas produk sat kirim',\n",
       " 'barang bagus',\n",
       " 'mantap tapi mouse dan mouse pad legion tidak ada di paket',\n",
       " 'otg kok tidak bisa konek ya',\n",
       " 'barang bagus dan kirim cepat respon cepat',\n",
       " 'barang sudah saya terima seler respon cepat saya kasih bonus sarung tangan he beli ke lima barang sesuai deskripsi clas puluh memang rekomendasi nanti beli di sini lagi',\n",
       " 'saya sudah ketes tv ini baik siar analog atau digital juga internet seperti youtube atau pun situs berita dengan browser bawan jalan lancar yang bun hasil tes adalah fitur mhl dan scren miroring karena butuh perangkat mobile yang dukung fitur sebut',\n",
       " 'mantap barang bagus kemas pakai plastik buble rapi dan pasti sesuai harap rekomendasi seler thanks layananya',\n",
       " 'pb slim merk apa kalau boleh tahu dan berapa mah juragan',\n",
       " 'jujur tidak iya jangan ngarep harga murah kualitas oke',\n",
       " 'ukur tiga tiga gb tapi isi data yang delapan gb ajh tidak muat karena sudah banyak virus padahal di pakai juga belum mhl doank pas saya nyimpen fto bukan kesimpen mlh hilang semua sesal bli',\n",
       " 'emas rapi',\n",
       " 'foto ada tutup fd asli tidak ada',\n",
       " 'satisfied dengan yang produk yang barang was bagus dan so cepat kirim',\n",
       " 'sampai sekarang masih oke ini laptop',\n",
       " 'mantap sesuai harap',\n",
       " 'puas sekali dengan layan lazada tertawa saja dalam informasi produk pihak lazada kurang kuasa l dan mau saya sampai ryzen tujuh mengunakan vega puluh serta sudah dukung fingerprint',\n",
       " 'sangat kecewa pesan halo kity yang datang bahkan hulk padahal belum sudah chat dan bilang kalau halo kity siap eh pas datang bahkan beda',\n",
       " 'ada yang penyok pada case di bagi antena mungkin kirim kurang aman dan hati hati tapi untung masih fungsi baik deskripsi ada yang tidak sesuai tidak ada batreatau tenaga bank itu buku manual bahasa cina tidak erti coba coba sendiri akhir bisa di bantu gogle',\n",
       " 'produk ini bagus di awal tapi pakai mingu sudah alami masalah satu file yang dicopy sering korupsi banyak file yang masuk dan sekitar delapan puluh persen tidak baca tiga tidak bisa guna untuk copy langsung ukur besar pasti ngadat empat sekarang tidak bisa guna karena semua yang masuk tidak dapat buka lima beberapa file hilang sendiri moga tidak ada yang kena masalah seperti ini lagi',\n",
       " 'barang sudah nympe pas di buka sangat kecewa tidak sesuai dengan pesan banyak kurang kabel usb sonk driver ide sonk pasti kecewa bget',\n",
       " 'barang terima dalam adan baik fungsi dengan bagus',\n",
       " 'barang sampai dengan cepat dan sesuai deskripsi',\n",
       " 'sudah pakai lama bulan bulan tidak ada masalah dan lancar lancar saja sengaja kasih rivew lama biar jadi bukti kalau barang di sini memang bagus',\n",
       " 'barang sesuai',\n",
       " 'barang kualitas bagus saya senang dan puas tksh',\n",
       " 'bagus mantap',\n",
       " 'barang darat dengan mulus hadiah juga lengkap keren moga awet',\n",
       " 'terima kasih barang sudah sampai barang bagus sesuai pesan',\n",
       " 'sesuai dengan pesan dan cepat',\n",
       " 'kirim cukup cepat sesuai gambar dan kapasitas tb kualitas sedang coba',\n",
       " 'oke',\n",
       " 'al bagus dan nomor masalah at al',\n",
       " 'untung dulu aku beli sisa satu unit hanya sembilan puluh enam ribu',\n",
       " 'murah tapi kuningan sering lepas lem kurang kuat',\n",
       " 'everthing adalah oke terima kasih lazada',\n",
       " 'barang sudah saya terima dengan kemas baik',\n",
       " 'walaupun datang lama sekali tapi ngak apa apa maklum jdan e mungkin overload obat juga dengan barang yang mantap dan moga saja awet soal saya sudah pu tiga untuk anak anak hardisk model ini dan semua keren terima kasih',\n",
       " 'esel seler paling atas barang yang kirim masih segel pabrik dan sesuai spesifikasimya lima stars',\n",
       " 'lumayan sesuai cuma tidak bisa nymbung otg ke telepon seluler',\n",
       " 'belum terima barang kok di keteranganx sudah terima siapa yang nerima',\n",
       " 'kirim sangat cepat dan produk sesuai terima kasih juragan',\n",
       " 'mesan tanggal tujuh atau empat atau lima belas sampai barang tanggal sembilan atau empat atau lima belas cepat sekali yah barang sesuai dengan gambar yang ada di web coba telepon ke suplier untuk ta cara pakai nyata telpon yang cantum nyambung dan sambut baik oleh layan puas dengan layan terima kasih lazada',\n",
       " 'sesuai harap',\n",
       " 'kirim cepat barang sesuai gambar dan emas baik dan rapi',\n",
       " 'bisa di ganti mi sama flash yang lain cuma flash dist saja admin',\n",
       " 'lebih baik cari yang lain',\n",
       " 'produk asli kualitas okey emas atas sekali sampai dengan aman tanpa lecet sedikit kurir dari june chasles ramah',\n",
       " 'barang cepat sampai hari langsung sampai rumah bagus juga barang hanya buka tutup flashdisk agak susahdan agak susah untuk cabut dari laptop',\n",
       " 'tapi barang lama sampai',\n",
       " 'mungkin karena produk negeri luar iya saya nrima agak lama',\n",
       " 'yang kirim bahkan newblack touch scren untuk samsung',\n",
       " 'datang cepat paket hemat rekomeded',\n",
       " 'produ oke kirim oke']"
      ]
     },
     "execution_count": 17,
     "metadata": {},
     "output_type": "execute_result"
    }
   ],
   "source": [
    "from csv import DictReader\n",
    "\n",
    "with open(\"data/data/test_2.csv\") as f:\n",
    "    a1 = [row[\"review\"] for row in DictReader(f)]\n",
    "    \n",
    "a1"
   ]
  },
  {
   "cell_type": "code",
   "execution_count": 18,
   "metadata": {},
   "outputs": [
    {
     "name": "stdout",
     "output_type": "stream",
     "text": [
      "[0 1 1 0 1 1 1 1 0 1 1 1 1 1 0 0 1 0 1 1 1 1 1 0 1 1 1 1 1 1 1 1 1 1 0 1 1\n",
      " 1 0 1 0 1 0 0 1 0 1 1 1 1 1 1 1 0 1 1 1 1 1 0 1 1 1 1 1 1 1 1 1 1 1 1 1 1\n",
      " 0 0 1 1 1 0 1 1 0 1 0 0 1 1 1 1 1 1 1 1 1 1 1 1 0 1 1 1 1 1 0 1 0 0 1 1 1\n",
      " 1 0 1 0 1 1 1 1 1 0 1 0 1 1 1 0 1 0 1 1 1 1 1 0 1 0 0 1 1 1 1 1 1 0 0 1 0\n",
      " 1 1 0 0 0 0 1 0 1 1 1 0 1 1 0 1 1 0 1 1 0 1 1 0 0 0 1 1 0 1 0 0 0 1 0 1 1\n",
      " 1 1 1 1 1 1 0 1 1 1 1 1 0 0 1 1 1 1 1 1 0 0 0 0 1 1 1 1 1 1 1 1 1 1 1 1 1\n",
      " 0 1 1 1 1 1 0 1 1 1 1 0 0 1 1 1 0 0 1 1]\n"
     ]
    }
   ],
   "source": [
    "coba = vectorizer.transform(a1).toarray()\n",
    "print(SVM.predict(coba))"
   ]
  },
  {
   "cell_type": "code",
   "execution_count": 19,
   "metadata": {},
   "outputs": [
    {
     "data": {
      "text/html": [
       "<div>\n",
       "<style scoped>\n",
       "    .dataframe tbody tr th:only-of-type {\n",
       "        vertical-align: middle;\n",
       "    }\n",
       "\n",
       "    .dataframe tbody tr th {\n",
       "        vertical-align: top;\n",
       "    }\n",
       "\n",
       "    .dataframe thead th {\n",
       "        text-align: right;\n",
       "    }\n",
       "</style>\n",
       "<table border=\"1\" class=\"dataframe\">\n",
       "  <thead>\n",
       "    <tr style=\"text-align: right;\">\n",
       "      <th></th>\n",
       "      <th>review</th>\n",
       "    </tr>\n",
       "  </thead>\n",
       "  <tbody>\n",
       "    <tr>\n",
       "      <th>0</th>\n",
       "      <td>pesan tangal sembilan mei tujuh belas maksimal...</td>\n",
       "    </tr>\n",
       "    <tr>\n",
       "      <th>1</th>\n",
       "      <td>sempat ada isue dengan laptop tapi suport dari...</td>\n",
       "    </tr>\n",
       "    <tr>\n",
       "      <th>2</th>\n",
       "      <td>barang cepat terima dan dalam adan baik rekome...</td>\n",
       "    </tr>\n",
       "    <tr>\n",
       "      <th>3</th>\n",
       "      <td>kecewa merek yang pes mito yang datangatau kir...</td>\n",
       "    </tr>\n",
       "    <tr>\n",
       "      <th>4</th>\n",
       "      <td>suara belum uji</td>\n",
       "    </tr>\n",
       "    <tr>\n",
       "      <th>...</th>\n",
       "      <td>...</td>\n",
       "    </tr>\n",
       "    <tr>\n",
       "      <th>237</th>\n",
       "      <td>tapi barang lama sampai</td>\n",
       "    </tr>\n",
       "    <tr>\n",
       "      <th>238</th>\n",
       "      <td>mungkin karena produk negeri luar iya saya nri...</td>\n",
       "    </tr>\n",
       "    <tr>\n",
       "      <th>239</th>\n",
       "      <td>yang kirim bahkan newblack touch scren untuk s...</td>\n",
       "    </tr>\n",
       "    <tr>\n",
       "      <th>240</th>\n",
       "      <td>datang cepat paket hemat rekomeded</td>\n",
       "    </tr>\n",
       "    <tr>\n",
       "      <th>241</th>\n",
       "      <td>produ oke kirim oke</td>\n",
       "    </tr>\n",
       "  </tbody>\n",
       "</table>\n",
       "<p>242 rows × 1 columns</p>\n",
       "</div>"
      ],
      "text/plain": [
       "                                                review\n",
       "0    pesan tangal sembilan mei tujuh belas maksimal...\n",
       "1    sempat ada isue dengan laptop tapi suport dari...\n",
       "2    barang cepat terima dan dalam adan baik rekome...\n",
       "3    kecewa merek yang pes mito yang datangatau kir...\n",
       "4                                      suara belum uji\n",
       "..                                                 ...\n",
       "237                            tapi barang lama sampai\n",
       "238  mungkin karena produk negeri luar iya saya nri...\n",
       "239  yang kirim bahkan newblack touch scren untuk s...\n",
       "240                 datang cepat paket hemat rekomeded\n",
       "241                                produ oke kirim oke\n",
       "\n",
       "[242 rows x 1 columns]"
      ]
     },
     "execution_count": 19,
     "metadata": {},
     "output_type": "execute_result"
    }
   ],
   "source": []
  },
  {
   "cell_type": "code",
   "execution_count": 20,
   "metadata": {},
   "outputs": [
    {
     "data": {
      "text/plain": [
       "1    113\n",
       "0     48\n",
       "Name: sentiment, dtype: int64"
      ]
     },
     "execution_count": 20,
     "metadata": {},
     "output_type": "execute_result"
    }
   ],
   "source": [
    "y_test.value_counts()"
   ]
  }
 ],
 "metadata": {
  "kernelspec": {
   "display_name": "Python 3",
   "language": "python",
   "name": "python3"
  },
  "language_info": {
   "codemirror_mode": {
    "name": "ipython",
    "version": 3
   },
   "file_extension": ".py",
   "mimetype": "text/x-python",
   "name": "python",
   "nbconvert_exporter": "python",
   "pygments_lexer": "ipython3",
   "version": "3.8.5"
  }
 },
 "nbformat": 4,
 "nbformat_minor": 4
}
