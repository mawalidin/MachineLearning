{
 "cells": [
  {
   "cell_type": "markdown",
   "metadata": {},
   "source": [
    "By: 10117094\tMuhammad Walidin\n",
    "    10116476\tIdham Rahadian\n",
    "    10116490\tMuhammad Fajar Maulana"
   ]
  },
  {
   "cell_type": "code",
   "execution_count": 1,
   "metadata": {},
   "outputs": [],
   "source": [
    "import pandas as pd\n",
    "import numpy as np\n",
    "import csv"
   ]
  },
  {
   "cell_type": "code",
   "execution_count": 2,
   "metadata": {},
   "outputs": [],
   "source": [
    "# Me-Load dataset yang sudah melalui tahap preprocessing\n",
    "train = pd.read_csv( \"data/data/data_latih.csv\")\n",
    "test = pd.read_csv(\"data/data/test_2.csv\")\n",
    "validation = pd.read_csv(\"data/data/validation_2.csv\")"
   ]
  },
  {
   "cell_type": "code",
   "execution_count": 3,
   "metadata": {},
   "outputs": [
    {
     "data": {
      "text/html": [
       "<div>\n",
       "<style scoped>\n",
       "    .dataframe tbody tr th:only-of-type {\n",
       "        vertical-align: middle;\n",
       "    }\n",
       "\n",
       "    .dataframe tbody tr th {\n",
       "        vertical-align: top;\n",
       "    }\n",
       "\n",
       "    .dataframe thead th {\n",
       "        text-align: right;\n",
       "    }\n",
       "</style>\n",
       "<table border=\"1\" class=\"dataframe\">\n",
       "  <thead>\n",
       "    <tr style=\"text-align: right;\">\n",
       "      <th></th>\n",
       "      <th>review</th>\n",
       "      <th>sentiment</th>\n",
       "    </tr>\n",
       "  </thead>\n",
       "  <tbody>\n",
       "    <tr>\n",
       "      <th>0</th>\n",
       "      <td>tidak ada ulas</td>\n",
       "      <td>1</td>\n",
       "    </tr>\n",
       "    <tr>\n",
       "      <th>1</th>\n",
       "      <td>puas kecil tapi kencang</td>\n",
       "      <td>1</td>\n",
       "    </tr>\n",
       "    <tr>\n",
       "      <th>2</th>\n",
       "      <td>barang yang datang bukan baracuda tiga lima tu...</td>\n",
       "      <td>0</td>\n",
       "    </tr>\n",
       "    <tr>\n",
       "      <th>3</th>\n",
       "      <td>terima kasih barang sudah sampai hari langsung...</td>\n",
       "      <td>1</td>\n",
       "    </tr>\n",
       "    <tr>\n",
       "      <th>4</th>\n",
       "      <td>barang bagus pengirman cepat mantap deh</td>\n",
       "      <td>1</td>\n",
       "    </tr>\n",
       "  </tbody>\n",
       "</table>\n",
       "</div>"
      ],
      "text/plain": [
       "                                              review  sentiment\n",
       "0                                     tidak ada ulas          1\n",
       "1                            puas kecil tapi kencang          1\n",
       "2  barang yang datang bukan baracuda tiga lima tu...          0\n",
       "3  terima kasih barang sudah sampai hari langsung...          1\n",
       "4            barang bagus pengirman cepat mantap deh          1"
      ]
     },
     "execution_count": 3,
     "metadata": {},
     "output_type": "execute_result"
    }
   ],
   "source": [
    "train.head()"
   ]
  },
  {
   "cell_type": "code",
   "execution_count": 4,
   "metadata": {},
   "outputs": [],
   "source": [
    "# Memisahkan data menjadi data latih dan data uji\n",
    "# untuk keperluan pembangunan model\n",
    "from sklearn.model_selection import train_test_split\n",
    "X = train['review']\n",
    "y = train['sentiment']\n",
    "X_train, X_test, y_train, y_test = train_test_split(X,y,test_size=0.2, random_state=42)"
   ]
  },
  {
   "cell_type": "code",
   "execution_count": 5,
   "metadata": {},
   "outputs": [],
   "source": [
    "# X.shape\n",
    "# X_test.to_csv(\"1test.csv\", index=False, quoting=3)"
   ]
  },
  {
   "cell_type": "code",
   "execution_count": 6,
   "metadata": {},
   "outputs": [],
   "source": [
    "# print(X_train)\n",
    "# X_train.to_csv(\"1fitur.csv\", index=False, quoting=3)b"
   ]
  },
  {
   "cell_type": "code",
   "execution_count": null,
   "metadata": {},
   "outputs": [],
   "source": []
  },
  {
   "cell_type": "code",
   "execution_count": 7,
   "metadata": {},
   "outputs": [
    {
     "name": "stdout",
     "output_type": "stream",
     "text": [
      "Creating tfidf..\n",
      "Wall time: 28 ms\n"
     ]
    }
   ],
   "source": [
    "# Proses pembobotan atau vektorisasi\n",
    "print(\"Creating tfidf..\")\n",
    "from sklearn.feature_extraction.text import TfidfVectorizer\n",
    "\n",
    "# Inisialisasi \"CountVectorizer\"\n",
    "vectorizer = TfidfVectorizer(analyzer = \"word\",\n",
    "                             tokenizer = None, \n",
    "                             preprocessor = None,\n",
    "                             stop_words = None, \n",
    "                             max_features = 5000) \n",
    "\n",
    "# Melakukan pengubahan data latih kedalam vektor fitur\n",
    "%time train_data_features = vectorizer.fit_transform(X_train)\n",
    "\n",
    "# df = pd.DataFrame(train_data_features.toarray(), columns=vectorizer.get_feature_names())\n",
    "# print(df)\n",
    "# df.to_csv(\"1vektor.csv\", index=False, quoting=3)\n",
    "\n",
    "\n",
    "# Mengkonversi dari list ke array, untuk memudahkan \n",
    "# ke tahap klasifikasi\n",
    "train_data_features = train_data_features.toarray()"
   ]
  },
  {
   "cell_type": "code",
   "execution_count": 8,
   "metadata": {},
   "outputs": [],
   "source": [
    "# Sama seperti pada data latih, data tes diubah kedalam\n",
    "# vektor fitur selanjutnya di konversi menjadi bentuk array\n",
    "test_data_features = vectorizer.transform(X_test)\n",
    "test_data_features = test_data_features.toarray()\n",
    "\n",
    "# df = pd.DataFrame(test_data_features.toarray(), columns=vectorizer.get_feature_names())\n",
    "# print(df)\n",
    "# df.to_csv(\"fitur_test.csv\")"
   ]
  },
  {
   "cell_type": "code",
   "execution_count": 9,
   "metadata": {
    "scrolled": true
   },
   "outputs": [],
   "source": [
    "# Proses klasifikasi menggunakan SVM\n",
    "from sklearn import model_selection, svm\n",
    "\n",
    "# Inisialisasi SVM\n",
    "SVM = svm.SVC(C=1.0, kernel='linear', degree=3, gamma='auto')\n",
    "\n",
    "# Memasang data latih ke classifier\n",
    "SVM.fit(train_data_features,y_train)\n",
    "\n",
    "# Melakukan prediksi dengan membandingkan dengan data tes\n",
    "pred = SVM.predict(test_data_features)\n"
   ]
  },
  {
   "cell_type": "code",
   "execution_count": 10,
   "metadata": {
    "scrolled": true
   },
   "outputs": [],
   "source": [
    "# rows = zip(X_test, pred)\n",
    "# rows\n",
    "# with open(\"1test.csv\", \"a\") as fp:\n",
    "#     wr = csv.writer(fp, dialect='excel')\n",
    "#     wr.writerow(pred)"
   ]
  },
  {
   "cell_type": "code",
   "execution_count": 11,
   "metadata": {},
   "outputs": [],
   "source": [
    "# print(X_test)"
   ]
  },
  {
   "cell_type": "code",
   "execution_count": 12,
   "metadata": {},
   "outputs": [],
   "source": [
    "# from sklearn.metrics import classification_report\n",
    "# print(classification_report(y_test, pred))"
   ]
  },
  {
   "cell_type": "code",
   "execution_count": 13,
   "metadata": {},
   "outputs": [],
   "source": [
    "# Proses pengujian\n",
    "# Import library yang dibutuhkan\n",
    "from sklearn.metrics import accuracy_score,confusion_matrix\n",
    "from sklearn.metrics import precision_score, recall_score, f1_score"
   ]
  },
  {
   "cell_type": "code",
   "execution_count": 14,
   "metadata": {},
   "outputs": [
    {
     "name": "stdout",
     "output_type": "stream",
     "text": [
      "Accuracy Score: 0.8571428571428571\n",
      "Confusion Matrix: [[ 34  14]\n",
      " [  9 104]]\n",
      "Precision Score: 0.8813559322033898\n",
      "Recall Score: 0.9203539823008849\n",
      "F1 Score: 0.9004329004329005\n"
     ]
    }
   ],
   "source": [
    "# Melakukan proses pengujian\n",
    "acc = accuracy_score(y_test, pred)\n",
    "cm = confusion_matrix(y_test, pred)\n",
    "print(\"Accuracy Score: \" + str(acc))\n",
    "print(\"Confusion Matrix: \"+ str(cm))\n",
    "print(\"Precision Score: \"+ str(precision_score(y_test,pred)))\n",
    "print(\"Recall Score: \"+ str(recall_score(y_test,pred)))\n",
    "print(\"F1 Score: \"+ str(f1_score(y_test,pred)))"
   ]
  },
  {
   "cell_type": "code",
   "execution_count": 15,
   "metadata": {
    "scrolled": true
   },
   "outputs": [],
   "source": [
    "from sklearn import model_selection\n",
    "from sklearn.model_selection import KFold, cross_val_score\n",
    "from sklearn.metrics import accuracy_score, roc_auc_score, roc_curve"
   ]
  },
  {
   "cell_type": "code",
   "execution_count": 16,
   "metadata": {},
   "outputs": [
    {
     "name": "stdout",
     "output_type": "stream",
     "text": [
      "(804,) (804,)\n"
     ]
    }
   ],
   "source": [
    "print(X.shape,y.shape)"
   ]
  },
  {
   "cell_type": "code",
   "execution_count": 17,
   "metadata": {},
   "outputs": [
    {
     "data": {
      "text/plain": [
       "0                                         tidak ada ulas\n",
       "1                                puas kecil tapi kencang\n",
       "2      barang yang datang bukan baracuda tiga lima tu...\n",
       "3      terima kasih barang sudah sampai hari langsung...\n",
       "4                barang bagus pengirman cepat mantap deh\n",
       "                             ...                        \n",
       "799      barang kondisi oke respon cepat dan sangat baik\n",
       "800    barang sampai tepat waktu sesuai target lazada...\n",
       "801    layan sangat bagus barang sesuai dengan yang p...\n",
       "802    barang sampai lebih cepat dan dalam kondisi sa...\n",
       "803                               bonus bohong tidak ada\n",
       "Name: review, Length: 804, dtype: object"
      ]
     },
     "execution_count": 17,
     "metadata": {},
     "output_type": "execute_result"
    }
   ],
   "source": [
    "X"
   ]
  },
  {
   "cell_type": "code",
   "execution_count": 18,
   "metadata": {},
   "outputs": [
    {
     "data": {
      "text/plain": [
       "0      1\n",
       "1      1\n",
       "2      0\n",
       "3      1\n",
       "4      1\n",
       "      ..\n",
       "799    1\n",
       "800    1\n",
       "801    1\n",
       "802    1\n",
       "803    0\n",
       "Name: sentiment, Length: 804, dtype: int64"
      ]
     },
     "execution_count": 18,
     "metadata": {},
     "output_type": "execute_result"
    }
   ],
   "source": [
    "y"
   ]
  },
  {
   "cell_type": "code",
   "execution_count": 29,
   "metadata": {},
   "outputs": [
    {
     "name": "stdout",
     "output_type": "stream",
     "text": [
      "Accuracy: 0.980 (0.016)\n"
     ]
    }
   ],
   "source": [
    "import numpy as np\n",
    "from numpy import mean\n",
    "from numpy import std\n",
    "from sklearn.model_selection import cross_val_score\n",
    "# clf = svm.SVC(kernel='linear', C=1)\n",
    "\n",
    "scores = cross_val_score(SVM, X, y, cv=5)\n",
    "print('Accuracy: %.3f (%.3f)' % (mean(scores), std(scores)))"
   ]
  },
  {
   "cell_type": "code",
   "execution_count": 15,
   "metadata": {},
   "outputs": [
    {
     "name": "stdout",
     "output_type": "stream",
     "text": [
      "   acer  acronis  activated  acuh  ada  adalah  adan  adapter  admin   ae  \\\n",
      "0   0.0      0.0        0.0   0.0  0.0     0.0   0.0      0.0    0.0  0.0   \n",
      "1   0.0      0.0        0.0   0.0  0.0     0.0   0.0      0.0    0.0  0.0   \n",
      "2   0.0      0.0        0.0   0.0  0.0     0.0   0.0      0.0    0.0  0.0   \n",
      "3   0.0      0.0        0.0   0.0  0.0     0.0   0.0      0.0    0.0  0.0   \n",
      "\n",
      "   ...  yakin  yalord  yang  yangbelum  yaotu  year   yk  ylima  youtube  \\\n",
      "0  ...    0.0     0.0   0.0        0.0    0.0   0.0  0.0    0.0      0.0   \n",
      "1  ...    0.0     0.0   0.0        0.0    0.0   0.0  0.0    0.0      0.0   \n",
      "2  ...    0.0     0.0   0.0        0.0    0.0   0.0  0.0    0.0      0.0   \n",
      "3  ...    0.0     0.0   0.0        0.0    0.0   0.0  0.0    0.0      0.0   \n",
      "\n",
      "   zesuai  \n",
      "0     0.0  \n",
      "1     0.0  \n",
      "2     0.0  \n",
      "3     0.0  \n",
      "\n",
      "[4 rows x 1495 columns]\n",
      "[1 0 1 0]\n"
     ]
    }
   ],
   "source": [
    "# Menguji model prediksi yang telah di buat\n",
    "# dengan data masukan yang baru\n",
    "tes = ['pengemasan rapi barang cepat sampai sesuai pesanan terima kasih',\n",
    "       'kecewa',\n",
    "       'bagus berfungsi dengan baik',\n",
    "       'bungkus tidak profesional seharus memakai gelembung gelembung']\n",
    "# tes_features = vectorizer.transform(tes).toarray()\n",
    "\n",
    "est = vectorizer.transform(tes)\n",
    "df = pd.DataFrame(est.toarray(), columns=vectorizer.get_feature_names())\n",
    "print(df)\n",
    "df.to_csv(\"fitur_tes.csv\")\n",
    "# print(tes_features)\n",
    "print(SVM.predict(df))"
   ]
  },
  {
   "cell_type": "code",
   "execution_count": 16,
   "metadata": {},
   "outputs": [],
   "source": [
    "# df = pd.DataFrame(X.toarray(), columns=tfidf2.get_feature_names())\n",
    "# print(df)"
   ]
  },
  {
   "cell_type": "code",
   "execution_count": 17,
   "metadata": {},
   "outputs": [],
   "source": [
    "# # ds = pd.read_csv(\"\")\n",
    "# print(tes)"
   ]
  },
  {
   "cell_type": "code",
   "execution_count": 18,
   "metadata": {},
   "outputs": [],
   "source": [
    "# from csv import DictReader\n",
    "\n",
    "# with open(\"data/data/test_2.csv\") as f:\n",
    "#     a1 = [row[\"review\"] for row in DictReader(f)]\n",
    "    \n",
    "# a1"
   ]
  },
  {
   "cell_type": "code",
   "execution_count": 19,
   "metadata": {},
   "outputs": [],
   "source": [
    "# coba = vectorizer.transform(a1).toarray()\n",
    "# print(SVM.predict(coba))"
   ]
  },
  {
   "cell_type": "code",
   "execution_count": null,
   "metadata": {},
   "outputs": [],
   "source": []
  },
  {
   "cell_type": "code",
   "execution_count": 20,
   "metadata": {},
   "outputs": [],
   "source": [
    "# y_test.value_counts()"
   ]
  },
  {
   "cell_type": "code",
   "execution_count": null,
   "metadata": {},
   "outputs": [],
   "source": []
  }
 ],
 "metadata": {
  "kernelspec": {
   "display_name": "Python 3",
   "language": "python",
   "name": "python3"
  },
  "language_info": {
   "codemirror_mode": {
    "name": "ipython",
    "version": 3
   },
   "file_extension": ".py",
   "mimetype": "text/x-python",
   "name": "python",
   "nbconvert_exporter": "python",
   "pygments_lexer": "ipython3",
   "version": "3.8.5"
  }
 },
 "nbformat": 4,
 "nbformat_minor": 4
}
