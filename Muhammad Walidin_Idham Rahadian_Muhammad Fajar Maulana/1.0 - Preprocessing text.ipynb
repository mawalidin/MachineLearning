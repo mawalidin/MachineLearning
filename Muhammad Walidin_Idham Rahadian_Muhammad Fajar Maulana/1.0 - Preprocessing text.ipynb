{
 "cells": [
  {
   "cell_type": "markdown",
   "metadata": {},
   "source": [
    "By: 10117094\tMuhammad Walidin\n",
    "    10116476\tIdham Rahadian\n",
    "    10116490\tMuhammad Fajar Maulana"
   ]
  },
  {
   "cell_type": "code",
   "execution_count": 1,
   "metadata": {},
   "outputs": [],
   "source": [
    "import pandas as pd\n",
    "import numpy as np\n",
    "import re\n",
    "import itertools\n",
    "import collections\n",
    "import string\n",
    "from collections import OrderedDict"
   ]
  },
  {
   "cell_type": "code",
   "execution_count": 2,
   "metadata": {},
   "outputs": [],
   "source": [
    "raw = pd.read_csv('data/data_raw_clean.csv')"
   ]
  },
  {
   "cell_type": "code",
   "execution_count": 3,
   "metadata": {},
   "outputs": [],
   "source": [
    "stop_words = np.array(pd.read_csv(\"data/external/stopwords_ID.txt\",\n",
    "                        sep=\"\\n\", header=None).values)\n",
    "neg_words = np.array(pd.read_csv(\"data/external/negative_keyword_ID.txt\",\n",
    "                        sep=\"\\n\", header=None).values)\n",
    "pos_words = np.array(pd.read_csv(\"data/external/positive_keyword_ID.txt\",\n",
    "                        sep=\"\\n\", header=None).values)\n",
    "slang_words = pd.read_csv(\"data/external/kbba_ID.txt\",\n",
    "                        sep=\"\\t\", header=None)\n",
    "root_words = np.array(pd.read_csv(\"data/external/rootword_ID.txt\",\n",
    "                        sep=\"\\n\", header=None).values)\n",
    "slang = pd.read_csv(\"data/external/slangword_ID.txt\",\n",
    "                        sep=\":\", header=None)\n",
    "emoticon = pd.read_csv(\"data/external/emoticon.txt\",\n",
    "                        sep=\"\\t\", header=None)\n",
    "booster_words = np.array(pd.read_csv(\"data/external/boosterword_ID.txt\",\n",
    "                        sep=\"\\n\", header=None).values)\n",
    "baku_words = pd.read_csv(\"data/external/katabaku_ID.txt\",\n",
    "                        sep=\"|\", header=None)\n",
    "baku_words.columns = [1,0]"
   ]
  },
  {
   "cell_type": "code",
   "execution_count": 4,
   "metadata": {},
   "outputs": [],
   "source": [
    "slang_words = pd.concat([slang_words, slang, baku_words])\n",
    "sentiment_words = np.concatenate((pos_words, neg_words, booster_words))\n",
    "slang_words.drop_duplicates(inplace=True)\n",
    "emoticon.drop_duplicates(inplace=True)\n",
    "emoticon = dict(zip(emoticon[0], emoticon[1]))\n",
    "slang_words = dict(zip(slang_words[0],slang_words[1]))\n",
    "neg_words = np.unique(neg_words)\n",
    "pos_words = np.unique(pos_words)\n",
    "stop_words = np.unique(stop_words)\n",
    "stop_words = [word for word in stop_words if word not in sentiment_words]"
   ]
  },
  {
   "cell_type": "code",
   "execution_count": 5,
   "metadata": {},
   "outputs": [
    {
     "name": "stdout",
     "output_type": "stream",
     "text": [
      "------Dictionary Info---------\n",
      "Slang words = 2398 entries\n",
      "Emoticon = 110 entries\n",
      "Root words = 27979 entries\n",
      "Sentiment words = 8449 entries\n"
     ]
    }
   ],
   "source": [
    "print(\"------Dictionary Info---------\")\n",
    "print(\"Slang words = \"  + str(len(slang_words)) + \" entries\")\n",
    "print(\"Emoticon = \"  + str(len(emoticon)) + \" entries\" )\n",
    "print(\"Root words = \"  + str(len(root_words)) + \" entries\")\n",
    "print(\"Sentiment words = \"  + str(len(sentiment_words)) + \" entries\")"
   ]
  },
  {
   "cell_type": "code",
   "execution_count": 6,
   "metadata": {},
   "outputs": [
    {
     "name": "stdout",
     "output_type": "stream",
     "text": [
      "<class 'pandas.core.frame.DataFrame'>\n",
      "RangeIndex: 1682 entries, 0 to 1681\n",
      "Data columns (total 2 columns):\n",
      " #   Column  Non-Null Count  Dtype \n",
      "---  ------  --------------  ----- \n",
      " 0   rating  1682 non-null   int64 \n",
      " 1   review  1682 non-null   object\n",
      "dtypes: int64(1), object(1)\n",
      "memory usage: 26.4+ KB\n",
      "None\n"
     ]
    }
   ],
   "source": [
    "print(raw.info())"
   ]
  },
  {
   "cell_type": "markdown",
   "metadata": {},
   "source": [
    "# Hapus data duplikasi"
   ]
  },
  {
   "cell_type": "code",
   "execution_count": 7,
   "metadata": {},
   "outputs": [],
   "source": [
    "raw = raw.dropna(subset=['review'],how='all')\n",
    "raw = raw.drop_duplicates(subset=['review'])"
   ]
  },
  {
   "cell_type": "code",
   "execution_count": 8,
   "metadata": {},
   "outputs": [
    {
     "name": "stdout",
     "output_type": "stream",
     "text": [
      "<class 'pandas.core.frame.DataFrame'>\n",
      "Int64Index: 807 entries, 0 to 1681\n",
      "Data columns (total 2 columns):\n",
      " #   Column  Non-Null Count  Dtype \n",
      "---  ------  --------------  ----- \n",
      " 0   rating  807 non-null    int64 \n",
      " 1   review  807 non-null    object\n",
      "dtypes: int64(1), object(1)\n",
      "memory usage: 18.9+ KB\n",
      "None\n"
     ]
    }
   ],
   "source": [
    "print(raw.info())"
   ]
  },
  {
   "cell_type": "markdown",
   "metadata": {},
   "source": [
    "# Siapkan helper untuk cleaning data"
   ]
  },
  {
   "cell_type": "code",
   "execution_count": 9,
   "metadata": {},
   "outputs": [],
   "source": [
    "satuan = ['', 'satu', 'dua', 'tiga', 'empat', 'lima', 'enam', 'tujuh',\n",
    "          'delapan', 'sembilan', 'sepuluh', 'sebelas']\n",
    "    \n",
    "def terbilang_(n):\n",
    "    if n >= 0 and n <= 11:\n",
    "        hasil = [satuan[n]]\n",
    "    elif n >= 12 and n <= 19:\n",
    "        hasil = terbilang_(n % 10) + ['belas']\n",
    "    elif n >= 20 and n <= 99:\n",
    "        hasil = terbilang_(n // 10) + ['puluh'] + terbilang_(n % 10)\n",
    "    elif n >= 100 and n <= 199:\n",
    "        hasil = ['seratus'] + terbilang_(n - 100)\n",
    "    elif n >= 200 and n <= 999:\n",
    "        hasil = terbilang_(n // 100) + ['ratus'] + terbilang_(n % 100)\n",
    "    elif n >= 1000 and n <= 1999:\n",
    "        hasil = ['seribu'] + terbilang_(n - 1000)\n",
    "    elif n >= 2000 and n <= 999999:\n",
    "        hasil = terbilang_(n // 1000) + ['ribu'] + terbilang_(n % 1000)\n",
    "    elif n >= 1000000 and n <= 999999999:\n",
    "        hasil = terbilang_(n // 1000000) + ['juta'] + terbilang_(n % 1000000)\n",
    "    else:\n",
    "        hasil = terbilang_(n // 1000000000) + ['milyar'] + terbilang_(n % 100000000)\n",
    "    return hasil\n",
    "\n",
    "def terbilang(n):\n",
    "    if n == 0:\n",
    "        return 'nol'\n",
    "    t = terbilang_(n)\n",
    "    while '' in t:\n",
    "        t.remove('')\n",
    "    return ' '.join(t)\n",
    "\n",
    "def translate_angka(review):\n",
    "    number = re.findall(\"[0-9]+\",review)\n",
    "    for digit in number:\n",
    "        review = re.sub(digit,terbilang(int(digit))+\" \",review)\n",
    "    return review"
   ]
  },
  {
   "cell_type": "code",
   "execution_count": 10,
   "metadata": {},
   "outputs": [],
   "source": [
    "def translate_repeating_words(review):\n",
    "    repeating_words = re.findall(r'\\w*(?:2|\")',review)\n",
    "    for word in repeating_words:\n",
    "        cleaned = word[:-1]\n",
    "        review = re.sub(word,cleaned + \" \" + cleaned, review)\n",
    "    return review"
   ]
  },
  {
   "cell_type": "code",
   "execution_count": 11,
   "metadata": {},
   "outputs": [],
   "source": [
    "def delete_suffix_nya(review):\n",
    "    return re.sub(\"(?:nya|ny)[$|\\s]\",\" \",review)"
   ]
  },
  {
   "cell_type": "code",
   "execution_count": 12,
   "metadata": {},
   "outputs": [],
   "source": [
    "def translate_emoticon(t):\n",
    "    for w, v in emoticon.items():\n",
    "        pattern = re.compile(re.escape(w))\n",
    "        match = re.search(pattern,t)\n",
    "        if match:\n",
    "            t = re.sub(pattern,v,t)\n",
    "    return t"
   ]
  },
  {
   "cell_type": "code",
   "execution_count": 13,
   "metadata": {},
   "outputs": [],
   "source": [
    "def translate_non_alpha_num(t):\n",
    "    non_alpha_num = {\n",
    "        '%' : 'persen',\n",
    "        '$' : 'dolar',\n",
    "        '@' : 'di',\n",
    "        '&' : 'dan',\n",
    "        '/' : 'atau',\n",
    "        '+' : 'plus'\n",
    "    }\n",
    "    for w, v in non_alpha_num.items():\n",
    "        pattern = re.compile(re.escape(w))\n",
    "        match = re.search(pattern,t)\n",
    "        if match:\n",
    "            t = re.sub(pattern,v + \" \",t)\n",
    "    return t"
   ]
  },
  {
   "cell_type": "code",
   "execution_count": 14,
   "metadata": {},
   "outputs": [],
   "source": [
    "def remove_non_alphanumeric(review):\n",
    "    return re.sub(\"[^a-zA-Z\\d]\",\" \", review)"
   ]
  },
  {
   "cell_type": "code",
   "execution_count": 15,
   "metadata": {},
   "outputs": [],
   "source": [
    "def normalizing_words(review):\n",
    "    return ''.join(''.join(s)[:1] for _, s in itertools.groupby(review))"
   ]
  },
  {
   "cell_type": "markdown",
   "metadata": {},
   "source": [
    "# Cleansing data dari Helper"
   ]
  },
  {
   "cell_type": "code",
   "execution_count": 16,
   "metadata": {},
   "outputs": [
    {
     "data": {
      "text/html": [
       "<div>\n",
       "<style scoped>\n",
       "    .dataframe tbody tr th:only-of-type {\n",
       "        vertical-align: middle;\n",
       "    }\n",
       "\n",
       "    .dataframe tbody tr th {\n",
       "        vertical-align: top;\n",
       "    }\n",
       "\n",
       "    .dataframe thead th {\n",
       "        text-align: right;\n",
       "    }\n",
       "</style>\n",
       "<table border=\"1\" class=\"dataframe\">\n",
       "  <thead>\n",
       "    <tr style=\"text-align: right;\">\n",
       "      <th></th>\n",
       "      <th>rating</th>\n",
       "      <th>review</th>\n",
       "    </tr>\n",
       "  </thead>\n",
       "  <tbody>\n",
       "    <tr>\n",
       "      <th>0</th>\n",
       "      <td>5</td>\n",
       "      <td>Tidak ada review</td>\n",
       "    </tr>\n",
       "    <tr>\n",
       "      <th>1</th>\n",
       "      <td>5</td>\n",
       "      <td>Puas, kecil tapi kencang.</td>\n",
       "    </tr>\n",
       "    <tr>\n",
       "      <th>3</th>\n",
       "      <td>1</td>\n",
       "      <td>Barang yang datang bukan baracuda 3.5 7 700rpm...</td>\n",
       "    </tr>\n",
       "    <tr>\n",
       "      <th>4</th>\n",
       "      <td>5</td>\n",
       "      <td>Thanks barang sudah sampai, sehari langsung sa...</td>\n",
       "    </tr>\n",
       "    <tr>\n",
       "      <th>12</th>\n",
       "      <td>5</td>\n",
       "      <td>Barang bagus pengirman cepat. mantab deh</td>\n",
       "    </tr>\n",
       "  </tbody>\n",
       "</table>\n",
       "</div>"
      ],
      "text/plain": [
       "    rating                                             review\n",
       "0        5                                   Tidak ada review\n",
       "1        5                          Puas, kecil tapi kencang.\n",
       "3        1  Barang yang datang bukan baracuda 3.5 7 700rpm...\n",
       "4        5  Thanks barang sudah sampai, sehari langsung sa...\n",
       "12       5           Barang bagus pengirman cepat. mantab deh"
      ]
     },
     "execution_count": 16,
     "metadata": {},
     "output_type": "execute_result"
    }
   ],
   "source": [
    "raw['review'] = raw['review'].apply(translate_repeating_words)\n",
    "raw.head()"
   ]
  },
  {
   "cell_type": "code",
   "execution_count": 17,
   "metadata": {},
   "outputs": [
    {
     "data": {
      "text/html": [
       "<div>\n",
       "<style scoped>\n",
       "    .dataframe tbody tr th:only-of-type {\n",
       "        vertical-align: middle;\n",
       "    }\n",
       "\n",
       "    .dataframe tbody tr th {\n",
       "        vertical-align: top;\n",
       "    }\n",
       "\n",
       "    .dataframe thead th {\n",
       "        text-align: right;\n",
       "    }\n",
       "</style>\n",
       "<table border=\"1\" class=\"dataframe\">\n",
       "  <thead>\n",
       "    <tr style=\"text-align: right;\">\n",
       "      <th></th>\n",
       "      <th>rating</th>\n",
       "      <th>review</th>\n",
       "    </tr>\n",
       "  </thead>\n",
       "  <tbody>\n",
       "    <tr>\n",
       "      <th>0</th>\n",
       "      <td>5</td>\n",
       "      <td>Tidak ada review</td>\n",
       "    </tr>\n",
       "    <tr>\n",
       "      <th>1</th>\n",
       "      <td>5</td>\n",
       "      <td>Puas, kecil tapi kencang.</td>\n",
       "    </tr>\n",
       "    <tr>\n",
       "      <th>3</th>\n",
       "      <td>1</td>\n",
       "      <td>Barang yang datang bukan baracuda 3.5 7 700rpm...</td>\n",
       "    </tr>\n",
       "    <tr>\n",
       "      <th>4</th>\n",
       "      <td>5</td>\n",
       "      <td>Thanks barang sudah sampai, sehari langsung sa...</td>\n",
       "    </tr>\n",
       "    <tr>\n",
       "      <th>12</th>\n",
       "      <td>5</td>\n",
       "      <td>Barang bagus pengirman cepat. mantab deh</td>\n",
       "    </tr>\n",
       "  </tbody>\n",
       "</table>\n",
       "</div>"
      ],
      "text/plain": [
       "    rating                                             review\n",
       "0        5                                   Tidak ada review\n",
       "1        5                          Puas, kecil tapi kencang.\n",
       "3        1  Barang yang datang bukan baracuda 3.5 7 700rpm...\n",
       "4        5  Thanks barang sudah sampai, sehari langsung sa...\n",
       "12       5           Barang bagus pengirman cepat. mantab deh"
      ]
     },
     "execution_count": 17,
     "metadata": {},
     "output_type": "execute_result"
    }
   ],
   "source": [
    "raw['review'] = raw['review'].apply(translate_emoticon)\n",
    "raw.head()"
   ]
  },
  {
   "cell_type": "code",
   "execution_count": 18,
   "metadata": {},
   "outputs": [
    {
     "data": {
      "text/html": [
       "<div>\n",
       "<style scoped>\n",
       "    .dataframe tbody tr th:only-of-type {\n",
       "        vertical-align: middle;\n",
       "    }\n",
       "\n",
       "    .dataframe tbody tr th {\n",
       "        vertical-align: top;\n",
       "    }\n",
       "\n",
       "    .dataframe thead th {\n",
       "        text-align: right;\n",
       "    }\n",
       "</style>\n",
       "<table border=\"1\" class=\"dataframe\">\n",
       "  <thead>\n",
       "    <tr style=\"text-align: right;\">\n",
       "      <th></th>\n",
       "      <th>rating</th>\n",
       "      <th>review</th>\n",
       "    </tr>\n",
       "  </thead>\n",
       "  <tbody>\n",
       "    <tr>\n",
       "      <th>0</th>\n",
       "      <td>5</td>\n",
       "      <td>tidak ada review</td>\n",
       "    </tr>\n",
       "    <tr>\n",
       "      <th>1</th>\n",
       "      <td>5</td>\n",
       "      <td>puas, kecil tapi kencang.</td>\n",
       "    </tr>\n",
       "    <tr>\n",
       "      <th>3</th>\n",
       "      <td>1</td>\n",
       "      <td>barang yang datang bukan baracuda 3.5 7 700rpm...</td>\n",
       "    </tr>\n",
       "    <tr>\n",
       "      <th>4</th>\n",
       "      <td>5</td>\n",
       "      <td>thanks barang sudah sampai, sehari langsung sa...</td>\n",
       "    </tr>\n",
       "    <tr>\n",
       "      <th>12</th>\n",
       "      <td>5</td>\n",
       "      <td>barang bagus pengirman cepat. mantab deh</td>\n",
       "    </tr>\n",
       "  </tbody>\n",
       "</table>\n",
       "</div>"
      ],
      "text/plain": [
       "    rating                                             review\n",
       "0        5                                   tidak ada review\n",
       "1        5                          puas, kecil tapi kencang.\n",
       "3        1  barang yang datang bukan baracuda 3.5 7 700rpm...\n",
       "4        5  thanks barang sudah sampai, sehari langsung sa...\n",
       "12       5           barang bagus pengirman cepat. mantab deh"
      ]
     },
     "execution_count": 18,
     "metadata": {},
     "output_type": "execute_result"
    }
   ],
   "source": [
    "raw['review'] = raw['review'].apply(lambda x: x.lower())\n",
    "raw.head()"
   ]
  },
  {
   "cell_type": "code",
   "execution_count": 19,
   "metadata": {},
   "outputs": [
    {
     "data": {
      "text/html": [
       "<div>\n",
       "<style scoped>\n",
       "    .dataframe tbody tr th:only-of-type {\n",
       "        vertical-align: middle;\n",
       "    }\n",
       "\n",
       "    .dataframe tbody tr th {\n",
       "        vertical-align: top;\n",
       "    }\n",
       "\n",
       "    .dataframe thead th {\n",
       "        text-align: right;\n",
       "    }\n",
       "</style>\n",
       "<table border=\"1\" class=\"dataframe\">\n",
       "  <thead>\n",
       "    <tr style=\"text-align: right;\">\n",
       "      <th></th>\n",
       "      <th>rating</th>\n",
       "      <th>review</th>\n",
       "    </tr>\n",
       "  </thead>\n",
       "  <tbody>\n",
       "    <tr>\n",
       "      <th>0</th>\n",
       "      <td>5</td>\n",
       "      <td>tidak ada review</td>\n",
       "    </tr>\n",
       "    <tr>\n",
       "      <th>1</th>\n",
       "      <td>5</td>\n",
       "      <td>puas, kecil tapi kencang.</td>\n",
       "    </tr>\n",
       "    <tr>\n",
       "      <th>3</th>\n",
       "      <td>1</td>\n",
       "      <td>barang yang datang bukan baracuda 3.5 7 700rpm...</td>\n",
       "    </tr>\n",
       "    <tr>\n",
       "      <th>4</th>\n",
       "      <td>5</td>\n",
       "      <td>thanks barang sudah sampai, sehari langsung sa...</td>\n",
       "    </tr>\n",
       "    <tr>\n",
       "      <th>12</th>\n",
       "      <td>5</td>\n",
       "      <td>barang bagus pengirman cepat. mantab deh</td>\n",
       "    </tr>\n",
       "  </tbody>\n",
       "</table>\n",
       "</div>"
      ],
      "text/plain": [
       "    rating                                             review\n",
       "0        5                                   tidak ada review\n",
       "1        5                          puas, kecil tapi kencang.\n",
       "3        1  barang yang datang bukan baracuda 3.5 7 700rpm...\n",
       "4        5  thanks barang sudah sampai, sehari langsung sa...\n",
       "12       5           barang bagus pengirman cepat. mantab deh"
      ]
     },
     "execution_count": 19,
     "metadata": {},
     "output_type": "execute_result"
    }
   ],
   "source": [
    "raw['review'] = raw['review'].apply(translate_non_alpha_num)\n",
    "raw.head()"
   ]
  },
  {
   "cell_type": "code",
   "execution_count": 20,
   "metadata": {},
   "outputs": [
    {
     "data": {
      "text/html": [
       "<div>\n",
       "<style scoped>\n",
       "    .dataframe tbody tr th:only-of-type {\n",
       "        vertical-align: middle;\n",
       "    }\n",
       "\n",
       "    .dataframe tbody tr th {\n",
       "        vertical-align: top;\n",
       "    }\n",
       "\n",
       "    .dataframe thead th {\n",
       "        text-align: right;\n",
       "    }\n",
       "</style>\n",
       "<table border=\"1\" class=\"dataframe\">\n",
       "  <thead>\n",
       "    <tr style=\"text-align: right;\">\n",
       "      <th></th>\n",
       "      <th>rating</th>\n",
       "      <th>review</th>\n",
       "    </tr>\n",
       "  </thead>\n",
       "  <tbody>\n",
       "    <tr>\n",
       "      <th>0</th>\n",
       "      <td>5</td>\n",
       "      <td>tidak ada review</td>\n",
       "    </tr>\n",
       "    <tr>\n",
       "      <th>1</th>\n",
       "      <td>5</td>\n",
       "      <td>puas  kecil tapi kencang</td>\n",
       "    </tr>\n",
       "    <tr>\n",
       "      <th>3</th>\n",
       "      <td>1</td>\n",
       "      <td>barang yang datang bukan baracuda 3 5 7 700rpm...</td>\n",
       "    </tr>\n",
       "    <tr>\n",
       "      <th>4</th>\n",
       "      <td>5</td>\n",
       "      <td>thanks barang sudah sampai  sehari langsung sa...</td>\n",
       "    </tr>\n",
       "    <tr>\n",
       "      <th>12</th>\n",
       "      <td>5</td>\n",
       "      <td>barang bagus pengirman cepat  mantab deh</td>\n",
       "    </tr>\n",
       "  </tbody>\n",
       "</table>\n",
       "</div>"
      ],
      "text/plain": [
       "    rating                                             review\n",
       "0        5                                   tidak ada review\n",
       "1        5                          puas  kecil tapi kencang \n",
       "3        1  barang yang datang bukan baracuda 3 5 7 700rpm...\n",
       "4        5  thanks barang sudah sampai  sehari langsung sa...\n",
       "12       5           barang bagus pengirman cepat  mantab deh"
      ]
     },
     "execution_count": 20,
     "metadata": {},
     "output_type": "execute_result"
    }
   ],
   "source": [
    "raw['review'] = raw['review'].apply(remove_non_alphanumeric)\n",
    "raw.head()"
   ]
  },
  {
   "cell_type": "code",
   "execution_count": 21,
   "metadata": {},
   "outputs": [
    {
     "data": {
      "text/plain": [
       "0                                        tidak ada review\n",
       "1                               puas  kecil tapi kencang \n",
       "3       barang yang datang bukan baracuda 3 5 7 700rpm...\n",
       "4       thanks barang sudah sampai  sehari langsung sa...\n",
       "12               barang bagus pengirman cepat  mantab deh\n",
       "                              ...                        \n",
       "1675    barang kondisi ok  respon cepat dan  sangat baik \n",
       "1677    barang sampai tepat waktu sesuai target lazada...\n",
       "1678    pelayanan sangat bagus  barang sesuai dengan y...\n",
       "1679    barang sampai lebih cepat dan dalam kondisi sa...\n",
       "1681                                bonus  bohong gak ada\n",
       "Name: review, Length: 807, dtype: object"
      ]
     },
     "execution_count": 21,
     "metadata": {},
     "output_type": "execute_result"
    }
   ],
   "source": [
    "raw['review'] = raw['review'].apply(delete_suffix_nya)\n",
    "raw['review']"
   ]
  },
  {
   "cell_type": "code",
   "execution_count": 22,
   "metadata": {},
   "outputs": [
    {
     "data": {
      "text/html": [
       "<div>\n",
       "<style scoped>\n",
       "    .dataframe tbody tr th:only-of-type {\n",
       "        vertical-align: middle;\n",
       "    }\n",
       "\n",
       "    .dataframe tbody tr th {\n",
       "        vertical-align: top;\n",
       "    }\n",
       "\n",
       "    .dataframe thead th {\n",
       "        text-align: right;\n",
       "    }\n",
       "</style>\n",
       "<table border=\"1\" class=\"dataframe\">\n",
       "  <thead>\n",
       "    <tr style=\"text-align: right;\">\n",
       "      <th></th>\n",
       "      <th>rating</th>\n",
       "      <th>review</th>\n",
       "    </tr>\n",
       "  </thead>\n",
       "  <tbody>\n",
       "    <tr>\n",
       "      <th>0</th>\n",
       "      <td>5</td>\n",
       "      <td>tidak ada review</td>\n",
       "    </tr>\n",
       "    <tr>\n",
       "      <th>1</th>\n",
       "      <td>5</td>\n",
       "      <td>puas  kecil tapi kencang</td>\n",
       "    </tr>\n",
       "    <tr>\n",
       "      <th>3</th>\n",
       "      <td>1</td>\n",
       "      <td>barang yang datang bukan baracuda tiga  lima  ...</td>\n",
       "    </tr>\n",
       "    <tr>\n",
       "      <th>4</th>\n",
       "      <td>5</td>\n",
       "      <td>thanks barang sudah sampai  sehari langsung sa...</td>\n",
       "    </tr>\n",
       "    <tr>\n",
       "      <th>12</th>\n",
       "      <td>5</td>\n",
       "      <td>barang bagus pengirman cepat  mantab deh</td>\n",
       "    </tr>\n",
       "  </tbody>\n",
       "</table>\n",
       "</div>"
      ],
      "text/plain": [
       "    rating                                             review\n",
       "0        5                                   tidak ada review\n",
       "1        5                          puas  kecil tapi kencang \n",
       "3        1  barang yang datang bukan baracuda tiga  lima  ...\n",
       "4        5  thanks barang sudah sampai  sehari langsung sa...\n",
       "12       5           barang bagus pengirman cepat  mantab deh"
      ]
     },
     "execution_count": 22,
     "metadata": {},
     "output_type": "execute_result"
    }
   ],
   "source": [
    "raw['review'] = raw['review'].apply(translate_angka)\n",
    "raw.head()"
   ]
  },
  {
   "cell_type": "code",
   "execution_count": 23,
   "metadata": {},
   "outputs": [
    {
     "data": {
      "text/html": [
       "<div>\n",
       "<style scoped>\n",
       "    .dataframe tbody tr th:only-of-type {\n",
       "        vertical-align: middle;\n",
       "    }\n",
       "\n",
       "    .dataframe tbody tr th {\n",
       "        vertical-align: top;\n",
       "    }\n",
       "\n",
       "    .dataframe thead th {\n",
       "        text-align: right;\n",
       "    }\n",
       "</style>\n",
       "<table border=\"1\" class=\"dataframe\">\n",
       "  <thead>\n",
       "    <tr style=\"text-align: right;\">\n",
       "      <th></th>\n",
       "      <th>rating</th>\n",
       "      <th>review</th>\n",
       "    </tr>\n",
       "  </thead>\n",
       "  <tbody>\n",
       "    <tr>\n",
       "      <th>0</th>\n",
       "      <td>5</td>\n",
       "      <td>tidak ada review</td>\n",
       "    </tr>\n",
       "    <tr>\n",
       "      <th>1</th>\n",
       "      <td>5</td>\n",
       "      <td>puas kecil tapi kencang</td>\n",
       "    </tr>\n",
       "    <tr>\n",
       "      <th>3</th>\n",
       "      <td>1</td>\n",
       "      <td>barang yang datang bukan baracuda tiga lima tu...</td>\n",
       "    </tr>\n",
       "    <tr>\n",
       "      <th>4</th>\n",
       "      <td>5</td>\n",
       "      <td>thanks barang sudah sampai sehari langsung sam...</td>\n",
       "    </tr>\n",
       "    <tr>\n",
       "      <th>12</th>\n",
       "      <td>5</td>\n",
       "      <td>barang bagus pengirman cepat mantab deh</td>\n",
       "    </tr>\n",
       "  </tbody>\n",
       "</table>\n",
       "</div>"
      ],
      "text/plain": [
       "    rating                                             review\n",
       "0        5                                   tidak ada review\n",
       "1        5                           puas kecil tapi kencang \n",
       "3        1  barang yang datang bukan baracuda tiga lima tu...\n",
       "4        5  thanks barang sudah sampai sehari langsung sam...\n",
       "12       5            barang bagus pengirman cepat mantab deh"
      ]
     },
     "execution_count": 23,
     "metadata": {},
     "output_type": "execute_result"
    }
   ],
   "source": [
    "raw['review'] = raw['review'].apply(normalizing_words)\n",
    "raw.head()"
   ]
  },
  {
   "cell_type": "code",
   "execution_count": 24,
   "metadata": {},
   "outputs": [
    {
     "data": {
      "text/html": [
       "<div>\n",
       "<style scoped>\n",
       "    .dataframe tbody tr th:only-of-type {\n",
       "        vertical-align: middle;\n",
       "    }\n",
       "\n",
       "    .dataframe tbody tr th {\n",
       "        vertical-align: top;\n",
       "    }\n",
       "\n",
       "    .dataframe thead th {\n",
       "        text-align: right;\n",
       "    }\n",
       "</style>\n",
       "<table border=\"1\" class=\"dataframe\">\n",
       "  <thead>\n",
       "    <tr style=\"text-align: right;\">\n",
       "      <th></th>\n",
       "      <th>rating</th>\n",
       "      <th>review</th>\n",
       "    </tr>\n",
       "  </thead>\n",
       "  <tbody>\n",
       "    <tr>\n",
       "      <th>0</th>\n",
       "      <td>5</td>\n",
       "      <td>[tidak, ada, ulasan]</td>\n",
       "    </tr>\n",
       "    <tr>\n",
       "      <th>1</th>\n",
       "      <td>5</td>\n",
       "      <td>[puas, kecil, tapi, kencang]</td>\n",
       "    </tr>\n",
       "    <tr>\n",
       "      <th>3</th>\n",
       "      <td>1</td>\n",
       "      <td>[barang, yang, datang, bukan, baracuda, tiga, ...</td>\n",
       "    </tr>\n",
       "    <tr>\n",
       "      <th>4</th>\n",
       "      <td>5</td>\n",
       "      <td>[terima kasih, barang, sudah, sampai, sehari, ...</td>\n",
       "    </tr>\n",
       "    <tr>\n",
       "      <th>12</th>\n",
       "      <td>5</td>\n",
       "      <td>[barang, bagus, pengirman, cepat, mantap, deh]</td>\n",
       "    </tr>\n",
       "  </tbody>\n",
       "</table>\n",
       "</div>"
      ],
      "text/plain": [
       "    rating                                             review\n",
       "0        5                               [tidak, ada, ulasan]\n",
       "1        5                       [puas, kecil, tapi, kencang]\n",
       "3        1  [barang, yang, datang, bukan, baracuda, tiga, ...\n",
       "4        5  [terima kasih, barang, sudah, sampai, sehari, ...\n",
       "12       5     [barang, bagus, pengirman, cepat, mantap, deh]"
      ]
     },
     "execution_count": 24,
     "metadata": {},
     "output_type": "execute_result"
    }
   ],
   "source": [
    "raw['review'] = raw['review'].apply(lambda x: x.split())\n",
    "raw['review'] = raw['review'].apply(lambda x: np.array(x))\n",
    "def mapping_slang_words(review):\n",
    "    return [slang_words[word] if word in slang_words else word for word in review]\n",
    "raw['review'] = raw['review'].apply(mapping_slang_words)\n",
    "raw.head()"
   ]
  },
  {
   "cell_type": "code",
   "execution_count": 28,
   "metadata": {},
   "outputs": [],
   "source": [
    "raw = raw.dropna(subset=['review'],how='all')\n",
    "raw = raw[raw['review'].map(len) > 0]\n",
    "def avg_word(words):\n",
    "  return (sum(len(word) for word in words)/len(words))\n",
    "\n",
    "raw['avg_word'] = raw['review'].apply(lambda x: avg_word(x))\n",
    "raw['word_count'] = raw['review'].map(len)"
   ]
  },
  {
   "cell_type": "code",
   "execution_count": 29,
   "metadata": {},
   "outputs": [
    {
     "data": {
      "text/html": [
       "<div>\n",
       "<style scoped>\n",
       "    .dataframe tbody tr th:only-of-type {\n",
       "        vertical-align: middle;\n",
       "    }\n",
       "\n",
       "    .dataframe tbody tr th {\n",
       "        vertical-align: top;\n",
       "    }\n",
       "\n",
       "    .dataframe thead th {\n",
       "        text-align: right;\n",
       "    }\n",
       "</style>\n",
       "<table border=\"1\" class=\"dataframe\">\n",
       "  <thead>\n",
       "    <tr style=\"text-align: right;\">\n",
       "      <th></th>\n",
       "      <th>rating</th>\n",
       "      <th>review</th>\n",
       "      <th>avg_word</th>\n",
       "      <th>word_count</th>\n",
       "    </tr>\n",
       "  </thead>\n",
       "  <tbody>\n",
       "    <tr>\n",
       "      <th>0</th>\n",
       "      <td>5</td>\n",
       "      <td>[tidak, ada, ulasan]</td>\n",
       "      <td>4.666667</td>\n",
       "      <td>3</td>\n",
       "    </tr>\n",
       "    <tr>\n",
       "      <th>1</th>\n",
       "      <td>5</td>\n",
       "      <td>[puas, kecil, tapi, kencang]</td>\n",
       "      <td>5.000000</td>\n",
       "      <td>4</td>\n",
       "    </tr>\n",
       "    <tr>\n",
       "      <th>3</th>\n",
       "      <td>1</td>\n",
       "      <td>[barang, yang, datang, bukan, baracuda, tiga, ...</td>\n",
       "      <td>5.000000</td>\n",
       "      <td>13</td>\n",
       "    </tr>\n",
       "    <tr>\n",
       "      <th>4</th>\n",
       "      <td>5</td>\n",
       "      <td>[terima kasih, barang, sudah, sampai, sehari, ...</td>\n",
       "      <td>6.176471</td>\n",
       "      <td>17</td>\n",
       "    </tr>\n",
       "    <tr>\n",
       "      <th>12</th>\n",
       "      <td>5</td>\n",
       "      <td>[barang, bagus, pengirman, cepat, mantap, deh]</td>\n",
       "      <td>5.666667</td>\n",
       "      <td>6</td>\n",
       "    </tr>\n",
       "    <tr>\n",
       "      <th>...</th>\n",
       "      <td>...</td>\n",
       "      <td>...</td>\n",
       "      <td>...</td>\n",
       "      <td>...</td>\n",
       "    </tr>\n",
       "    <tr>\n",
       "      <th>1675</th>\n",
       "      <td>5</td>\n",
       "      <td>[barang, kondisi, oke, respon, cepat, dan, san...</td>\n",
       "      <td>5.000000</td>\n",
       "      <td>8</td>\n",
       "    </tr>\n",
       "    <tr>\n",
       "      <th>1677</th>\n",
       "      <td>5</td>\n",
       "      <td>[barang, sampai, tepat, waktu, sesuai, target,...</td>\n",
       "      <td>5.318182</td>\n",
       "      <td>22</td>\n",
       "    </tr>\n",
       "    <tr>\n",
       "      <th>1678</th>\n",
       "      <td>5</td>\n",
       "      <td>[pelayanan, sangat, bagus, barang, sesuai, den...</td>\n",
       "      <td>5.700000</td>\n",
       "      <td>20</td>\n",
       "    </tr>\n",
       "    <tr>\n",
       "      <th>1679</th>\n",
       "      <td>5</td>\n",
       "      <td>[barang, sampai, lebih, cepat, dan, dalam, kon...</td>\n",
       "      <td>4.888889</td>\n",
       "      <td>18</td>\n",
       "    </tr>\n",
       "    <tr>\n",
       "      <th>1681</th>\n",
       "      <td>3</td>\n",
       "      <td>[bonus, bohong, tidak, ada]</td>\n",
       "      <td>4.750000</td>\n",
       "      <td>4</td>\n",
       "    </tr>\n",
       "  </tbody>\n",
       "</table>\n",
       "<p>804 rows × 4 columns</p>\n",
       "</div>"
      ],
      "text/plain": [
       "      rating                                             review  avg_word  \\\n",
       "0          5                               [tidak, ada, ulasan]  4.666667   \n",
       "1          5                       [puas, kecil, tapi, kencang]  5.000000   \n",
       "3          1  [barang, yang, datang, bukan, baracuda, tiga, ...  5.000000   \n",
       "4          5  [terima kasih, barang, sudah, sampai, sehari, ...  6.176471   \n",
       "12         5     [barang, bagus, pengirman, cepat, mantap, deh]  5.666667   \n",
       "...      ...                                                ...       ...   \n",
       "1675       5  [barang, kondisi, oke, respon, cepat, dan, san...  5.000000   \n",
       "1677       5  [barang, sampai, tepat, waktu, sesuai, target,...  5.318182   \n",
       "1678       5  [pelayanan, sangat, bagus, barang, sesuai, den...  5.700000   \n",
       "1679       5  [barang, sampai, lebih, cepat, dan, dalam, kon...  4.888889   \n",
       "1681       3                        [bonus, bohong, tidak, ada]  4.750000   \n",
       "\n",
       "      word_count  \n",
       "0              3  \n",
       "1              4  \n",
       "3             13  \n",
       "4             17  \n",
       "12             6  \n",
       "...          ...  \n",
       "1675           8  \n",
       "1677          22  \n",
       "1678          20  \n",
       "1679          18  \n",
       "1681           4  \n",
       "\n",
       "[804 rows x 4 columns]"
      ]
     },
     "execution_count": 29,
     "metadata": {},
     "output_type": "execute_result"
    }
   ],
   "source": [
    "raw"
   ]
  },
  {
   "cell_type": "code",
   "execution_count": 30,
   "metadata": {},
   "outputs": [],
   "source": [
    "raw.to_csv(\"data/data/1.0_data_review_clean_without_stop_removal.csv\", index=False)"
   ]
  }
 ],
 "metadata": {
  "kernelspec": {
   "display_name": "Python 3",
   "language": "python",
   "name": "python3"
  },
  "language_info": {
   "codemirror_mode": {
    "name": "ipython",
    "version": 3
   },
   "file_extension": ".py",
   "mimetype": "text/x-python",
   "name": "python",
   "nbconvert_exporter": "python",
   "pygments_lexer": "ipython3",
   "version": "3.8.5"
  }
 },
 "nbformat": 4,
 "nbformat_minor": 4
}
