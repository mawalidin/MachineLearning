{
 "cells": [
  {
   "cell_type": "code",
   "execution_count": 1,
   "metadata": {},
   "outputs": [],
   "source": [
    "import pandas as pd\n",
    "import numpy as np\n",
    "import string\n",
    "import re\n",
    "from collections import Counter"
   ]
  },
  {
   "cell_type": "code",
   "execution_count": 2,
   "metadata": {},
   "outputs": [
    {
     "data": {
      "text/html": [
       "<div>\n",
       "<style scoped>\n",
       "    .dataframe tbody tr th:only-of-type {\n",
       "        vertical-align: middle;\n",
       "    }\n",
       "\n",
       "    .dataframe tbody tr th {\n",
       "        vertical-align: top;\n",
       "    }\n",
       "\n",
       "    .dataframe thead th {\n",
       "        text-align: right;\n",
       "    }\n",
       "</style>\n",
       "<table border=\"1\" class=\"dataframe\">\n",
       "  <thead>\n",
       "    <tr style=\"text-align: right;\">\n",
       "      <th></th>\n",
       "      <th>rating</th>\n",
       "      <th>review</th>\n",
       "      <th>aspect_category</th>\n",
       "      <th>polarity</th>\n",
       "      <th>word_count</th>\n",
       "      <th>avg_word</th>\n",
       "    </tr>\n",
       "  </thead>\n",
       "  <tbody>\n",
       "    <tr>\n",
       "      <th>0</th>\n",
       "      <td>3</td>\n",
       "      <td>'membantu','kondisi','pandemi','tolong','evalu...</td>\n",
       "      <td>pelayanan</td>\n",
       "      <td>negatif</td>\n",
       "      <td>44</td>\n",
       "      <td>7.782609</td>\n",
       "    </tr>\n",
       "    <tr>\n",
       "      <th>1</th>\n",
       "      <td>5</td>\n",
       "      <td>'konsultasi','dokter','bagus','durasi','cepat'...</td>\n",
       "      <td>pelayanan</td>\n",
       "      <td>negatif</td>\n",
       "      <td>10</td>\n",
       "      <td>8.400000</td>\n",
       "    </tr>\n",
       "    <tr>\n",
       "      <th>2</th>\n",
       "      <td>1</td>\n",
       "      <td>'astaga','obat','beli','obat','harga','masuk',...</td>\n",
       "      <td>harga</td>\n",
       "      <td>negatif</td>\n",
       "      <td>30</td>\n",
       "      <td>7.466667</td>\n",
       "    </tr>\n",
       "    <tr>\n",
       "      <th>3</th>\n",
       "      <td>5</td>\n",
       "      <td>'terima,kasih','pelayanan','baik','cepat','pen...</td>\n",
       "      <td>pelayanan</td>\n",
       "      <td>positif</td>\n",
       "      <td>13</td>\n",
       "      <td>8.500000</td>\n",
       "    </tr>\n",
       "    <tr>\n",
       "      <th>4</th>\n",
       "      <td>1</td>\n",
       "      <td>'menelepon','nomor','hadiah','konfirmasi','apl...</td>\n",
       "      <td>sistem</td>\n",
       "      <td>positif</td>\n",
       "      <td>10</td>\n",
       "      <td>8.909091</td>\n",
       "    </tr>\n",
       "  </tbody>\n",
       "</table>\n",
       "</div>"
      ],
      "text/plain": [
       "   rating                                             review aspect_category  \\\n",
       "0       3  'membantu','kondisi','pandemi','tolong','evalu...       pelayanan   \n",
       "1       5  'konsultasi','dokter','bagus','durasi','cepat'...       pelayanan   \n",
       "2       1  'astaga','obat','beli','obat','harga','masuk',...           harga   \n",
       "3       5  'terima,kasih','pelayanan','baik','cepat','pen...       pelayanan   \n",
       "4       1  'menelepon','nomor','hadiah','konfirmasi','apl...          sistem   \n",
       "\n",
       "  polarity  word_count  avg_word  \n",
       "0  negatif          44  7.782609  \n",
       "1  negatif          10  8.400000  \n",
       "2  negatif          30  7.466667  \n",
       "3  positif          13  8.500000  \n",
       "4  positif          10  8.909091  "
      ]
     },
     "execution_count": 2,
     "metadata": {},
     "output_type": "execute_result"
    }
   ],
   "source": [
    "raw = pd.read_csv(\"data/data/1.2_data_cleaner_pure.csv\")\n",
    "raw.head()"
   ]
  },
  {
   "cell_type": "code",
   "execution_count": 3,
   "metadata": {},
   "outputs": [
    {
     "data": {
      "text/html": [
       "<div>\n",
       "<style scoped>\n",
       "    .dataframe tbody tr th:only-of-type {\n",
       "        vertical-align: middle;\n",
       "    }\n",
       "\n",
       "    .dataframe tbody tr th {\n",
       "        vertical-align: top;\n",
       "    }\n",
       "\n",
       "    .dataframe thead th {\n",
       "        text-align: right;\n",
       "    }\n",
       "</style>\n",
       "<table border=\"1\" class=\"dataframe\">\n",
       "  <thead>\n",
       "    <tr style=\"text-align: right;\">\n",
       "      <th></th>\n",
       "      <th>rating</th>\n",
       "      <th>review</th>\n",
       "      <th>aspect_category</th>\n",
       "      <th>polarity</th>\n",
       "      <th>word_count</th>\n",
       "      <th>avg_word</th>\n",
       "    </tr>\n",
       "  </thead>\n",
       "  <tbody>\n",
       "    <tr>\n",
       "      <th>0</th>\n",
       "      <td>3</td>\n",
       "      <td>'membantu' 'kondisi' 'pandemi' 'tolong' 'evalu...</td>\n",
       "      <td>pelayanan</td>\n",
       "      <td>negatif</td>\n",
       "      <td>44</td>\n",
       "      <td>7.782609</td>\n",
       "    </tr>\n",
       "    <tr>\n",
       "      <th>1</th>\n",
       "      <td>5</td>\n",
       "      <td>'konsultasi' 'dokter' 'bagus' 'durasi' 'cepat'...</td>\n",
       "      <td>pelayanan</td>\n",
       "      <td>negatif</td>\n",
       "      <td>10</td>\n",
       "      <td>8.400000</td>\n",
       "    </tr>\n",
       "    <tr>\n",
       "      <th>2</th>\n",
       "      <td>1</td>\n",
       "      <td>'astaga' 'obat' 'beli' 'obat' 'harga' 'masuk' ...</td>\n",
       "      <td>harga</td>\n",
       "      <td>negatif</td>\n",
       "      <td>30</td>\n",
       "      <td>7.466667</td>\n",
       "    </tr>\n",
       "    <tr>\n",
       "      <th>3</th>\n",
       "      <td>5</td>\n",
       "      <td>'terima kasih' 'pelayanan' 'baik' 'cepat' 'pen...</td>\n",
       "      <td>pelayanan</td>\n",
       "      <td>positif</td>\n",
       "      <td>13</td>\n",
       "      <td>8.500000</td>\n",
       "    </tr>\n",
       "    <tr>\n",
       "      <th>4</th>\n",
       "      <td>1</td>\n",
       "      <td>'menelepon' 'nomor' 'hadiah' 'konfirmasi' 'apl...</td>\n",
       "      <td>sistem</td>\n",
       "      <td>positif</td>\n",
       "      <td>10</td>\n",
       "      <td>8.909091</td>\n",
       "    </tr>\n",
       "    <tr>\n",
       "      <th>...</th>\n",
       "      <td>...</td>\n",
       "      <td>...</td>\n",
       "      <td>...</td>\n",
       "      <td>...</td>\n",
       "      <td>...</td>\n",
       "      <td>...</td>\n",
       "    </tr>\n",
       "    <tr>\n",
       "      <th>795</th>\n",
       "      <td>5</td>\n",
       "      <td>'semudah' 'diklik' 'praktis' 'bantu'</td>\n",
       "      <td>anekdot/serbaneka</td>\n",
       "      <td>positif</td>\n",
       "      <td>4</td>\n",
       "      <td>8.250000</td>\n",
       "    </tr>\n",
       "    <tr>\n",
       "      <th>796</th>\n",
       "      <td>5</td>\n",
       "      <td>'pelayanan' 'ramah' 'paham' 'bidangnya'</td>\n",
       "      <td>anekdot/serbaneka</td>\n",
       "      <td>positif</td>\n",
       "      <td>4</td>\n",
       "      <td>9.000000</td>\n",
       "    </tr>\n",
       "    <tr>\n",
       "      <th>797</th>\n",
       "      <td>4</td>\n",
       "      <td>'bagus' 'aplikasi' 'dokter' 'pribadi' 'terima ...</td>\n",
       "      <td>anekdot/serbaneka</td>\n",
       "      <td>positif</td>\n",
       "      <td>5</td>\n",
       "      <td>7.833333</td>\n",
       "    </tr>\n",
       "    <tr>\n",
       "      <th>798</th>\n",
       "      <td>5</td>\n",
       "      <td>'memudahkan' 'konsultasi' 'rumah'</td>\n",
       "      <td>pelayanan</td>\n",
       "      <td>positif</td>\n",
       "      <td>3</td>\n",
       "      <td>10.333333</td>\n",
       "    </tr>\n",
       "    <tr>\n",
       "      <th>799</th>\n",
       "      <td>5</td>\n",
       "      <td>'membantu' 'pelayanan' 'dokter' 'memuaskan'</td>\n",
       "      <td>pelayanan</td>\n",
       "      <td>positif</td>\n",
       "      <td>4</td>\n",
       "      <td>10.000000</td>\n",
       "    </tr>\n",
       "  </tbody>\n",
       "</table>\n",
       "<p>800 rows × 6 columns</p>\n",
       "</div>"
      ],
      "text/plain": [
       "     rating                                             review  \\\n",
       "0         3  'membantu' 'kondisi' 'pandemi' 'tolong' 'evalu...   \n",
       "1         5  'konsultasi' 'dokter' 'bagus' 'durasi' 'cepat'...   \n",
       "2         1  'astaga' 'obat' 'beli' 'obat' 'harga' 'masuk' ...   \n",
       "3         5  'terima kasih' 'pelayanan' 'baik' 'cepat' 'pen...   \n",
       "4         1  'menelepon' 'nomor' 'hadiah' 'konfirmasi' 'apl...   \n",
       "..      ...                                                ...   \n",
       "795       5               'semudah' 'diklik' 'praktis' 'bantu'   \n",
       "796       5            'pelayanan' 'ramah' 'paham' 'bidangnya'   \n",
       "797       4  'bagus' 'aplikasi' 'dokter' 'pribadi' 'terima ...   \n",
       "798       5                  'memudahkan' 'konsultasi' 'rumah'   \n",
       "799       5        'membantu' 'pelayanan' 'dokter' 'memuaskan'   \n",
       "\n",
       "       aspect_category polarity  word_count   avg_word  \n",
       "0            pelayanan  negatif          44   7.782609  \n",
       "1            pelayanan  negatif          10   8.400000  \n",
       "2                harga  negatif          30   7.466667  \n",
       "3            pelayanan  positif          13   8.500000  \n",
       "4               sistem  positif          10   8.909091  \n",
       "..                 ...      ...         ...        ...  \n",
       "795  anekdot/serbaneka  positif           4   8.250000  \n",
       "796  anekdot/serbaneka  positif           4   9.000000  \n",
       "797  anekdot/serbaneka  positif           5   7.833333  \n",
       "798          pelayanan  positif           3  10.333333  \n",
       "799          pelayanan  positif           4  10.000000  \n",
       "\n",
       "[800 rows x 6 columns]"
      ]
     },
     "execution_count": 3,
     "metadata": {},
     "output_type": "execute_result"
    }
   ],
   "source": [
    "raw['review'] = raw['review'].apply(lambda x: x.replace(\",\",\" \"))\n",
    "raw"
   ]
  },
  {
   "cell_type": "code",
   "execution_count": 4,
   "metadata": {},
   "outputs": [
    {
     "data": {
      "text/html": [
       "<div>\n",
       "<style scoped>\n",
       "    .dataframe tbody tr th:only-of-type {\n",
       "        vertical-align: middle;\n",
       "    }\n",
       "\n",
       "    .dataframe tbody tr th {\n",
       "        vertical-align: top;\n",
       "    }\n",
       "\n",
       "    .dataframe thead th {\n",
       "        text-align: right;\n",
       "    }\n",
       "</style>\n",
       "<table border=\"1\" class=\"dataframe\">\n",
       "  <thead>\n",
       "    <tr style=\"text-align: right;\">\n",
       "      <th></th>\n",
       "      <th>rating</th>\n",
       "      <th>review</th>\n",
       "      <th>aspect_category</th>\n",
       "      <th>polarity</th>\n",
       "      <th>word_count</th>\n",
       "      <th>avg_word</th>\n",
       "    </tr>\n",
       "  </thead>\n",
       "  <tbody>\n",
       "    <tr>\n",
       "      <th>0</th>\n",
       "      <td>3</td>\n",
       "      <td>bantu,kondisi,pandemi,tolong,evaluasi,dian,oba...</td>\n",
       "      <td>pelayanan</td>\n",
       "      <td>negatif</td>\n",
       "      <td>44</td>\n",
       "      <td>7.782609</td>\n",
       "    </tr>\n",
       "    <tr>\n",
       "      <th>1</th>\n",
       "      <td>5</td>\n",
       "      <td>konsultasi,dokter,bagus,durasi,cepat,dokter,do...</td>\n",
       "      <td>pelayanan</td>\n",
       "      <td>negatif</td>\n",
       "      <td>10</td>\n",
       "      <td>8.400000</td>\n",
       "    </tr>\n",
       "    <tr>\n",
       "      <th>2</th>\n",
       "      <td>1</td>\n",
       "      <td>astaga,obat,beli,obat,harga,masuk,akal,lipat,u...</td>\n",
       "      <td>harga</td>\n",
       "      <td>negatif</td>\n",
       "      <td>30</td>\n",
       "      <td>7.466667</td>\n",
       "    </tr>\n",
       "    <tr>\n",
       "      <th>3</th>\n",
       "      <td>5</td>\n",
       "      <td>terima,kasih,layan,baik,cepat,kirim,bantu,tert...</td>\n",
       "      <td>pelayanan</td>\n",
       "      <td>positif</td>\n",
       "      <td>13</td>\n",
       "      <td>8.500000</td>\n",
       "    </tr>\n",
       "    <tr>\n",
       "      <th>4</th>\n",
       "      <td>1</td>\n",
       "      <td>telepon,nomor,hadiah,konfirmasi,aplikasi,ada,h...</td>\n",
       "      <td>sistem</td>\n",
       "      <td>positif</td>\n",
       "      <td>10</td>\n",
       "      <td>8.909091</td>\n",
       "    </tr>\n",
       "    <tr>\n",
       "      <th>...</th>\n",
       "      <td>...</td>\n",
       "      <td>...</td>\n",
       "      <td>...</td>\n",
       "      <td>...</td>\n",
       "      <td>...</td>\n",
       "      <td>...</td>\n",
       "    </tr>\n",
       "    <tr>\n",
       "      <th>795</th>\n",
       "      <td>5</td>\n",
       "      <td>mudah,klik,praktis,bantu</td>\n",
       "      <td>anekdot/serbaneka</td>\n",
       "      <td>positif</td>\n",
       "      <td>4</td>\n",
       "      <td>8.250000</td>\n",
       "    </tr>\n",
       "    <tr>\n",
       "      <th>796</th>\n",
       "      <td>5</td>\n",
       "      <td>layan,ramah,paham,bidang</td>\n",
       "      <td>anekdot/serbaneka</td>\n",
       "      <td>positif</td>\n",
       "      <td>4</td>\n",
       "      <td>9.000000</td>\n",
       "    </tr>\n",
       "    <tr>\n",
       "      <th>797</th>\n",
       "      <td>4</td>\n",
       "      <td>bagus,aplikasi,dokter,pribadi,terima,kasih</td>\n",
       "      <td>anekdot/serbaneka</td>\n",
       "      <td>positif</td>\n",
       "      <td>5</td>\n",
       "      <td>7.833333</td>\n",
       "    </tr>\n",
       "    <tr>\n",
       "      <th>798</th>\n",
       "      <td>5</td>\n",
       "      <td>mudah,konsultasi,rumah</td>\n",
       "      <td>pelayanan</td>\n",
       "      <td>positif</td>\n",
       "      <td>3</td>\n",
       "      <td>10.333333</td>\n",
       "    </tr>\n",
       "    <tr>\n",
       "      <th>799</th>\n",
       "      <td>5</td>\n",
       "      <td>bantu,layan,dokter,muas</td>\n",
       "      <td>pelayanan</td>\n",
       "      <td>positif</td>\n",
       "      <td>4</td>\n",
       "      <td>10.000000</td>\n",
       "    </tr>\n",
       "  </tbody>\n",
       "</table>\n",
       "<p>800 rows × 6 columns</p>\n",
       "</div>"
      ],
      "text/plain": [
       "     rating                                             review  \\\n",
       "0         3  bantu,kondisi,pandemi,tolong,evaluasi,dian,oba...   \n",
       "1         5  konsultasi,dokter,bagus,durasi,cepat,dokter,do...   \n",
       "2         1  astaga,obat,beli,obat,harga,masuk,akal,lipat,u...   \n",
       "3         5  terima,kasih,layan,baik,cepat,kirim,bantu,tert...   \n",
       "4         1  telepon,nomor,hadiah,konfirmasi,aplikasi,ada,h...   \n",
       "..      ...                                                ...   \n",
       "795       5                           mudah,klik,praktis,bantu   \n",
       "796       5                           layan,ramah,paham,bidang   \n",
       "797       4         bagus,aplikasi,dokter,pribadi,terima,kasih   \n",
       "798       5                             mudah,konsultasi,rumah   \n",
       "799       5                            bantu,layan,dokter,muas   \n",
       "\n",
       "       aspect_category polarity  word_count   avg_word  \n",
       "0            pelayanan  negatif          44   7.782609  \n",
       "1            pelayanan  negatif          10   8.400000  \n",
       "2                harga  negatif          30   7.466667  \n",
       "3            pelayanan  positif          13   8.500000  \n",
       "4               sistem  positif          10   8.909091  \n",
       "..                 ...      ...         ...        ...  \n",
       "795  anekdot/serbaneka  positif           4   8.250000  \n",
       "796  anekdot/serbaneka  positif           4   9.000000  \n",
       "797  anekdot/serbaneka  positif           5   7.833333  \n",
       "798          pelayanan  positif           3  10.333333  \n",
       "799          pelayanan  positif           4  10.000000  \n",
       "\n",
       "[800 rows x 6 columns]"
      ]
     },
     "execution_count": 4,
     "metadata": {},
     "output_type": "execute_result"
    }
   ],
   "source": [
    "from Sastrawi.Stemmer.StemmerFactory import StemmerFactory\n",
    "\n",
    "factory = StemmerFactory()\n",
    "stemmer = factory.create_stemmer()\n",
    "raw['review'] = raw['review'].apply(lambda x: stemmer.stem(x).replace(\" \",\",\"))\n",
    "raw"
   ]
  },
  {
   "cell_type": "code",
   "execution_count": 5,
   "metadata": {},
   "outputs": [
    {
     "data": {
      "text/html": [
       "<div>\n",
       "<style scoped>\n",
       "    .dataframe tbody tr th:only-of-type {\n",
       "        vertical-align: middle;\n",
       "    }\n",
       "\n",
       "    .dataframe tbody tr th {\n",
       "        vertical-align: top;\n",
       "    }\n",
       "\n",
       "    .dataframe thead th {\n",
       "        text-align: right;\n",
       "    }\n",
       "</style>\n",
       "<table border=\"1\" class=\"dataframe\">\n",
       "  <thead>\n",
       "    <tr style=\"text-align: right;\">\n",
       "      <th></th>\n",
       "      <th>rating</th>\n",
       "      <th>review</th>\n",
       "      <th>aspect_category</th>\n",
       "      <th>polarity</th>\n",
       "      <th>word_count</th>\n",
       "      <th>avg_word</th>\n",
       "    </tr>\n",
       "  </thead>\n",
       "  <tbody>\n",
       "    <tr>\n",
       "      <th>0</th>\n",
       "      <td>3</td>\n",
       "      <td>bantu,kondisi,pandemi,tolong,evaluasi,dian,oba...</td>\n",
       "      <td>pelayanan</td>\n",
       "      <td>negatif</td>\n",
       "      <td>44</td>\n",
       "      <td>7.782609</td>\n",
       "    </tr>\n",
       "    <tr>\n",
       "      <th>1</th>\n",
       "      <td>5</td>\n",
       "      <td>konsultasi,dokter,bagus,durasi,cepat,dokter,do...</td>\n",
       "      <td>pelayanan</td>\n",
       "      <td>negatif</td>\n",
       "      <td>10</td>\n",
       "      <td>8.400000</td>\n",
       "    </tr>\n",
       "    <tr>\n",
       "      <th>2</th>\n",
       "      <td>1</td>\n",
       "      <td>astaga,obat,beli,obat,harga,masuk,akal,lipat,u...</td>\n",
       "      <td>harga</td>\n",
       "      <td>negatif</td>\n",
       "      <td>30</td>\n",
       "      <td>7.466667</td>\n",
       "    </tr>\n",
       "    <tr>\n",
       "      <th>3</th>\n",
       "      <td>5</td>\n",
       "      <td>terima,kasih,layan,baik,cepat,kirim,bantu,tert...</td>\n",
       "      <td>pelayanan</td>\n",
       "      <td>positif</td>\n",
       "      <td>13</td>\n",
       "      <td>8.500000</td>\n",
       "    </tr>\n",
       "    <tr>\n",
       "      <th>4</th>\n",
       "      <td>1</td>\n",
       "      <td>telepon,nomor,hadiah,konfirmasi,aplikasi,ada,h...</td>\n",
       "      <td>sistem</td>\n",
       "      <td>positif</td>\n",
       "      <td>10</td>\n",
       "      <td>8.909091</td>\n",
       "    </tr>\n",
       "    <tr>\n",
       "      <th>...</th>\n",
       "      <td>...</td>\n",
       "      <td>...</td>\n",
       "      <td>...</td>\n",
       "      <td>...</td>\n",
       "      <td>...</td>\n",
       "      <td>...</td>\n",
       "    </tr>\n",
       "    <tr>\n",
       "      <th>795</th>\n",
       "      <td>5</td>\n",
       "      <td>mudah,klik,praktis,bantu</td>\n",
       "      <td>anekdot/serbaneka</td>\n",
       "      <td>positif</td>\n",
       "      <td>4</td>\n",
       "      <td>8.250000</td>\n",
       "    </tr>\n",
       "    <tr>\n",
       "      <th>796</th>\n",
       "      <td>5</td>\n",
       "      <td>layan,ramah,paham,bidang</td>\n",
       "      <td>anekdot/serbaneka</td>\n",
       "      <td>positif</td>\n",
       "      <td>4</td>\n",
       "      <td>9.000000</td>\n",
       "    </tr>\n",
       "    <tr>\n",
       "      <th>797</th>\n",
       "      <td>4</td>\n",
       "      <td>bagus,aplikasi,dokter,pribadi,terima,kasih</td>\n",
       "      <td>anekdot/serbaneka</td>\n",
       "      <td>positif</td>\n",
       "      <td>5</td>\n",
       "      <td>7.833333</td>\n",
       "    </tr>\n",
       "    <tr>\n",
       "      <th>798</th>\n",
       "      <td>5</td>\n",
       "      <td>mudah,konsultasi,rumah</td>\n",
       "      <td>pelayanan</td>\n",
       "      <td>positif</td>\n",
       "      <td>3</td>\n",
       "      <td>10.333333</td>\n",
       "    </tr>\n",
       "    <tr>\n",
       "      <th>799</th>\n",
       "      <td>5</td>\n",
       "      <td>bantu,layan,dokter,muas</td>\n",
       "      <td>pelayanan</td>\n",
       "      <td>positif</td>\n",
       "      <td>4</td>\n",
       "      <td>10.000000</td>\n",
       "    </tr>\n",
       "  </tbody>\n",
       "</table>\n",
       "<p>800 rows × 6 columns</p>\n",
       "</div>"
      ],
      "text/plain": [
       "     rating                                             review  \\\n",
       "0         3  bantu,kondisi,pandemi,tolong,evaluasi,dian,oba...   \n",
       "1         5  konsultasi,dokter,bagus,durasi,cepat,dokter,do...   \n",
       "2         1  astaga,obat,beli,obat,harga,masuk,akal,lipat,u...   \n",
       "3         5  terima,kasih,layan,baik,cepat,kirim,bantu,tert...   \n",
       "4         1  telepon,nomor,hadiah,konfirmasi,aplikasi,ada,h...   \n",
       "..      ...                                                ...   \n",
       "795       5                           mudah,klik,praktis,bantu   \n",
       "796       5                           layan,ramah,paham,bidang   \n",
       "797       4         bagus,aplikasi,dokter,pribadi,terima,kasih   \n",
       "798       5                             mudah,konsultasi,rumah   \n",
       "799       5                            bantu,layan,dokter,muas   \n",
       "\n",
       "       aspect_category polarity  word_count   avg_word  \n",
       "0            pelayanan  negatif          44   7.782609  \n",
       "1            pelayanan  negatif          10   8.400000  \n",
       "2                harga  negatif          30   7.466667  \n",
       "3            pelayanan  positif          13   8.500000  \n",
       "4               sistem  positif          10   8.909091  \n",
       "..                 ...      ...         ...        ...  \n",
       "795  anekdot/serbaneka  positif           4   8.250000  \n",
       "796  anekdot/serbaneka  positif           4   9.000000  \n",
       "797  anekdot/serbaneka  positif           5   7.833333  \n",
       "798          pelayanan  positif           3  10.333333  \n",
       "799          pelayanan  positif           4  10.000000  \n",
       "\n",
       "[800 rows x 6 columns]"
      ]
     },
     "execution_count": 5,
     "metadata": {},
     "output_type": "execute_result"
    }
   ],
   "source": [
    "raw['review'] = raw['review'].apply(lambda x: x.replace(\"'\",\"\"))\n",
    "raw"
   ]
  },
  {
   "cell_type": "code",
   "execution_count": 6,
   "metadata": {},
   "outputs": [
    {
     "data": {
      "text/html": [
       "<div>\n",
       "<style scoped>\n",
       "    .dataframe tbody tr th:only-of-type {\n",
       "        vertical-align: middle;\n",
       "    }\n",
       "\n",
       "    .dataframe tbody tr th {\n",
       "        vertical-align: top;\n",
       "    }\n",
       "\n",
       "    .dataframe thead th {\n",
       "        text-align: right;\n",
       "    }\n",
       "</style>\n",
       "<table border=\"1\" class=\"dataframe\">\n",
       "  <thead>\n",
       "    <tr style=\"text-align: right;\">\n",
       "      <th></th>\n",
       "      <th>rating</th>\n",
       "      <th>review</th>\n",
       "      <th>aspect_category</th>\n",
       "      <th>polarity</th>\n",
       "      <th>word_count</th>\n",
       "      <th>avg_word</th>\n",
       "    </tr>\n",
       "  </thead>\n",
       "  <tbody>\n",
       "    <tr>\n",
       "      <th>0</th>\n",
       "      <td>3</td>\n",
       "      <td>bantu kondisi pandemi tolong evaluasi dian oba...</td>\n",
       "      <td>pelayanan</td>\n",
       "      <td>negatif</td>\n",
       "      <td>44</td>\n",
       "      <td>7.782609</td>\n",
       "    </tr>\n",
       "    <tr>\n",
       "      <th>1</th>\n",
       "      <td>5</td>\n",
       "      <td>konsultasi dokter bagus durasi cepat dokter do...</td>\n",
       "      <td>pelayanan</td>\n",
       "      <td>negatif</td>\n",
       "      <td>10</td>\n",
       "      <td>8.400000</td>\n",
       "    </tr>\n",
       "    <tr>\n",
       "      <th>2</th>\n",
       "      <td>1</td>\n",
       "      <td>astaga obat beli obat harga masuk akal lipat u...</td>\n",
       "      <td>harga</td>\n",
       "      <td>negatif</td>\n",
       "      <td>30</td>\n",
       "      <td>7.466667</td>\n",
       "    </tr>\n",
       "    <tr>\n",
       "      <th>3</th>\n",
       "      <td>5</td>\n",
       "      <td>terima kasih layan baik cepat kirim bantu tert...</td>\n",
       "      <td>pelayanan</td>\n",
       "      <td>positif</td>\n",
       "      <td>13</td>\n",
       "      <td>8.500000</td>\n",
       "    </tr>\n",
       "    <tr>\n",
       "      <th>4</th>\n",
       "      <td>1</td>\n",
       "      <td>telepon nomor hadiah konfirmasi aplikasi ada h...</td>\n",
       "      <td>sistem</td>\n",
       "      <td>positif</td>\n",
       "      <td>10</td>\n",
       "      <td>8.909091</td>\n",
       "    </tr>\n",
       "    <tr>\n",
       "      <th>...</th>\n",
       "      <td>...</td>\n",
       "      <td>...</td>\n",
       "      <td>...</td>\n",
       "      <td>...</td>\n",
       "      <td>...</td>\n",
       "      <td>...</td>\n",
       "    </tr>\n",
       "    <tr>\n",
       "      <th>795</th>\n",
       "      <td>5</td>\n",
       "      <td>mudah klik praktis bantu</td>\n",
       "      <td>anekdot/serbaneka</td>\n",
       "      <td>positif</td>\n",
       "      <td>4</td>\n",
       "      <td>8.250000</td>\n",
       "    </tr>\n",
       "    <tr>\n",
       "      <th>796</th>\n",
       "      <td>5</td>\n",
       "      <td>layan ramah paham bidang</td>\n",
       "      <td>anekdot/serbaneka</td>\n",
       "      <td>positif</td>\n",
       "      <td>4</td>\n",
       "      <td>9.000000</td>\n",
       "    </tr>\n",
       "    <tr>\n",
       "      <th>797</th>\n",
       "      <td>4</td>\n",
       "      <td>bagus aplikasi dokter pribadi terima kasih</td>\n",
       "      <td>anekdot/serbaneka</td>\n",
       "      <td>positif</td>\n",
       "      <td>5</td>\n",
       "      <td>7.833333</td>\n",
       "    </tr>\n",
       "    <tr>\n",
       "      <th>798</th>\n",
       "      <td>5</td>\n",
       "      <td>mudah konsultasi rumah</td>\n",
       "      <td>pelayanan</td>\n",
       "      <td>positif</td>\n",
       "      <td>3</td>\n",
       "      <td>10.333333</td>\n",
       "    </tr>\n",
       "    <tr>\n",
       "      <th>799</th>\n",
       "      <td>5</td>\n",
       "      <td>bantu layan dokter muas</td>\n",
       "      <td>pelayanan</td>\n",
       "      <td>positif</td>\n",
       "      <td>4</td>\n",
       "      <td>10.000000</td>\n",
       "    </tr>\n",
       "  </tbody>\n",
       "</table>\n",
       "<p>800 rows × 6 columns</p>\n",
       "</div>"
      ],
      "text/plain": [
       "     rating                                             review  \\\n",
       "0         3  bantu kondisi pandemi tolong evaluasi dian oba...   \n",
       "1         5  konsultasi dokter bagus durasi cepat dokter do...   \n",
       "2         1  astaga obat beli obat harga masuk akal lipat u...   \n",
       "3         5  terima kasih layan baik cepat kirim bantu tert...   \n",
       "4         1  telepon nomor hadiah konfirmasi aplikasi ada h...   \n",
       "..      ...                                                ...   \n",
       "795       5                           mudah klik praktis bantu   \n",
       "796       5                           layan ramah paham bidang   \n",
       "797       4         bagus aplikasi dokter pribadi terima kasih   \n",
       "798       5                             mudah konsultasi rumah   \n",
       "799       5                            bantu layan dokter muas   \n",
       "\n",
       "       aspect_category polarity  word_count   avg_word  \n",
       "0            pelayanan  negatif          44   7.782609  \n",
       "1            pelayanan  negatif          10   8.400000  \n",
       "2                harga  negatif          30   7.466667  \n",
       "3            pelayanan  positif          13   8.500000  \n",
       "4               sistem  positif          10   8.909091  \n",
       "..                 ...      ...         ...        ...  \n",
       "795  anekdot/serbaneka  positif           4   8.250000  \n",
       "796  anekdot/serbaneka  positif           4   9.000000  \n",
       "797  anekdot/serbaneka  positif           5   7.833333  \n",
       "798          pelayanan  positif           3  10.333333  \n",
       "799          pelayanan  positif           4  10.000000  \n",
       "\n",
       "[800 rows x 6 columns]"
      ]
     },
     "execution_count": 6,
     "metadata": {},
     "output_type": "execute_result"
    }
   ],
   "source": [
    "raw['review'] = raw['review'].apply(lambda x: x.replace(\",\",\" \"))\n",
    "raw"
   ]
  },
  {
   "cell_type": "code",
   "execution_count": 7,
   "metadata": {},
   "outputs": [],
   "source": [
    "raw.to_csv('data/data/1.4_data_clean_stemmed.csv',index=False)"
   ]
  },
  {
   "cell_type": "code",
   "execution_count": 8,
   "metadata": {},
   "outputs": [
    {
     "data": {
      "text/plain": [
       "'bantu kondisi pandemi tolong evaluasi dian obat apotek rekan kota manado resep obat batuk apotek suka habis sia sia konsultasi dokter ujung ujung obat resep apotek rugi chat mahal biaya masuk baik pakai fitur chat us customer service customer service ubah produk obat saran konsultasi dokter'"
      ]
     },
     "execution_count": 8,
     "metadata": {},
     "output_type": "execute_result"
    }
   ],
   "source": [
    "raw['review'][0]"
   ]
  },
  {
   "cell_type": "code",
   "execution_count": 9,
   "metadata": {},
   "outputs": [
    {
     "data": {
      "text/plain": [
       "'baik bagus bantu pandemi suka'"
      ]
     },
     "execution_count": 9,
     "metadata": {},
     "output_type": "execute_result"
    }
   ],
   "source": [
    "raw['review'][784]"
   ]
  },
  {
   "cell_type": "code",
   "execution_count": 10,
   "metadata": {},
   "outputs": [
    {
     "data": {
      "text/plain": [
       "'terimakasih bagus panik keluh bantu'"
      ]
     },
     "execution_count": 10,
     "metadata": {},
     "output_type": "execute_result"
    }
   ],
   "source": [
    "raw['review'][101]"
   ]
  },
  {
   "cell_type": "code",
   "execution_count": 11,
   "metadata": {},
   "outputs": [
    {
     "data": {
      "text/plain": [
       "'guna bagus terima kasih nilai ubah bagus layan'"
      ]
     },
     "execution_count": 11,
     "metadata": {},
     "output_type": "execute_result"
    }
   ],
   "source": [
    "raw['review'][424]"
   ]
  },
  {
   "cell_type": "code",
   "execution_count": 12,
   "metadata": {},
   "outputs": [
    {
     "data": {
      "text/plain": [
       "'konsultasi moga baik'"
      ]
     },
     "execution_count": 12,
     "metadata": {},
     "output_type": "execute_result"
    }
   ],
   "source": [
    "raw['review'][662]"
   ]
  },
  {
   "cell_type": "code",
   "execution_count": 13,
   "metadata": {},
   "outputs": [
    {
     "data": {
      "text/plain": [
       "'dokter ramah ramah detail'"
      ]
     },
     "execution_count": 13,
     "metadata": {},
     "output_type": "execute_result"
    }
   ],
   "source": [
    "raw['review'][790]"
   ]
  },
  {
   "cell_type": "code",
   "execution_count": 14,
   "metadata": {},
   "outputs": [
    {
     "data": {
      "text/plain": [
       "'bicara bicara sedia kalender menstruasi'"
      ]
     },
     "execution_count": 14,
     "metadata": {},
     "output_type": "execute_result"
    }
   ],
   "source": [
    "raw['review'][686]"
   ]
  },
  {
   "cell_type": "code",
   "execution_count": 15,
   "metadata": {},
   "outputs": [
    {
     "data": {
      "text/plain": [
       "'cepat respon dokter ramah jelas detail'"
      ]
     },
     "execution_count": 15,
     "metadata": {},
     "output_type": "execute_result"
    }
   ],
   "source": [
    "raw['review'][624]"
   ]
  },
  {
   "cell_type": "code",
   "execution_count": 16,
   "metadata": {},
   "outputs": [
    {
     "data": {
      "text/plain": [
       "'bantu tenang informasi solusi'"
      ]
     },
     "execution_count": 16,
     "metadata": {},
     "output_type": "execute_result"
    }
   ],
   "source": [
    "raw['review'][621]"
   ]
  },
  {
   "cell_type": "code",
   "execution_count": 17,
   "metadata": {},
   "outputs": [
    {
     "data": {
      "text/plain": [
       "'dokter hebat hebat jelas fokus keluh derita terima kasih'"
      ]
     },
     "execution_count": 17,
     "metadata": {},
     "output_type": "execute_result"
    }
   ],
   "source": [
    "raw['review'][44]"
   ]
  },
  {
   "cell_type": "code",
   "execution_count": 18,
   "metadata": {},
   "outputs": [
    {
     "data": {
      "text/plain": [
       "'respon keluh team customer service respon ulas update respon team customer service cepat'"
      ]
     },
     "execution_count": 18,
     "metadata": {},
     "output_type": "execute_result"
    }
   ],
   "source": [
    "raw['review'][47]"
   ]
  },
  {
   "cell_type": "code",
   "execution_count": 19,
   "metadata": {},
   "outputs": [
    {
     "data": {
      "text/plain": [
       "'bantu darurat langsung tindak lanjut dokter ramah terima kasih'"
      ]
     },
     "execution_count": 19,
     "metadata": {},
     "output_type": "execute_result"
    }
   ],
   "source": [
    "raw['review'][56]"
   ]
  },
  {
   "cell_type": "code",
   "execution_count": 20,
   "metadata": {},
   "outputs": [
    {
     "data": {
      "text/plain": [
       "'bantu jam anak sakit konsultasi dokter terima kasih adi suryadinata bantu'"
      ]
     },
     "execution_count": 20,
     "metadata": {},
     "output_type": "execute_result"
    }
   ],
   "source": [
    "raw['review'][12]"
   ]
  },
  {
   "cell_type": "code",
   "execution_count": 21,
   "metadata": {},
   "outputs": [
    {
     "data": {
      "text/plain": [
       "'bantu mudah cari obat obat respon cepat pesan terima kasih'"
      ]
     },
     "execution_count": 21,
     "metadata": {},
     "output_type": "execute_result"
    }
   ],
   "source": [
    "raw['review'][13]"
   ]
  },
  {
   "cell_type": "code",
   "execution_count": 22,
   "metadata": {},
   "outputs": [
    {
     "data": {
      "text/plain": [
       "'bantu obat cari beberapa apotek kosong lengkap pakai mudah thanks'"
      ]
     },
     "execution_count": 22,
     "metadata": {},
     "output_type": "execute_result"
    }
   ],
   "source": [
    "raw['review'][19]"
   ]
  },
  {
   "cell_type": "code",
   "execution_count": 23,
   "metadata": {},
   "outputs": [
    {
     "data": {
      "text/plain": [
       "'bagus aplikasi ketemu di mana bagus respon dokter cepat bagus tahan bantu bagus'"
      ]
     },
     "execution_count": 23,
     "metadata": {},
     "output_type": "execute_result"
    }
   ],
   "source": [
    "raw['review'][23]"
   ]
  },
  {
   "cell_type": "code",
   "execution_count": 24,
   "metadata": {},
   "outputs": [
    {
     "data": {
      "text/plain": [
       "'jujur puas nasihat nasihat jelas dokter sayang konsultasi aplikasi menit otomatis henti'"
      ]
     },
     "execution_count": 24,
     "metadata": {},
     "output_type": "execute_result"
    }
   ],
   "source": [
    "raw['review'][18]"
   ]
  },
  {
   "cell_type": "code",
   "execution_count": 25,
   "metadata": {},
   "outputs": [
    {
     "data": {
      "text/plain": [
       "'bagus antre sakit chat langsung dibales obat antar terima kasih holodocbantu'"
      ]
     },
     "execution_count": 25,
     "metadata": {},
     "output_type": "execute_result"
    }
   ],
   "source": [
    "raw['review'][52]"
   ]
  },
  {
   "cell_type": "code",
   "execution_count": 26,
   "metadata": {},
   "outputs": [
    {
     "data": {
      "text/plain": [
       "'sumpah alternatif miris uang sakit rasa hemat pakai aplikasi bagus kerja cocok anak kosan'"
      ]
     },
     "execution_count": 26,
     "metadata": {},
     "output_type": "execute_result"
    }
   ],
   "source": [
    "raw['review'][5]"
   ]
  },
  {
   "cell_type": "code",
   "execution_count": 27,
   "metadata": {},
   "outputs": [
    {
     "data": {
      "text/plain": [
       "'respon keluh team customer service respon ulas update respon team customer service cepat'"
      ]
     },
     "execution_count": 27,
     "metadata": {},
     "output_type": "execute_result"
    }
   ],
   "source": [
    "raw['review'][47]"
   ]
  },
  {
   "cell_type": "code",
   "execution_count": 28,
   "metadata": {},
   "outputs": [],
   "source": [
    "stop_words = np.array(pd.read_csv(\"data/external/stopwords_ID.txt\",\n",
    "                        sep=\"\\n\", header=None).values)\n",
    "slang_words = pd.read_csv(\"data/external/kbba_ID.txt\",\n",
    "                        sep=\"\\t\", header=None)\n",
    "slang = pd.read_csv(\"data/external/slangword_ID.txt\",\n",
    "                        sep=\":\", header=None)\n",
    "baku_words = pd.read_csv(\"data/external/katabaku_ID.txt\",\n",
    "                        sep=\"|\", header=None)\n",
    "baku_words.columns = [1,0]\n",
    "root_words = np.array(pd.read_csv(\"data/external/rootword_ID.txt\",\n",
    "                        sep=\"\\n\", header=None).values)\n",
    "slang_words = pd.concat([slang_words, slang, baku_words])"
   ]
  },
  {
   "cell_type": "code",
   "execution_count": 29,
   "metadata": {},
   "outputs": [
    {
     "data": {
      "text/html": [
       "<div>\n",
       "<style scoped>\n",
       "    .dataframe tbody tr th:only-of-type {\n",
       "        vertical-align: middle;\n",
       "    }\n",
       "\n",
       "    .dataframe tbody tr th {\n",
       "        vertical-align: top;\n",
       "    }\n",
       "\n",
       "    .dataframe thead th {\n",
       "        text-align: right;\n",
       "    }\n",
       "</style>\n",
       "<table border=\"1\" class=\"dataframe\">\n",
       "  <thead>\n",
       "    <tr style=\"text-align: right;\">\n",
       "      <th></th>\n",
       "      <th>rating</th>\n",
       "      <th>review</th>\n",
       "      <th>aspect_category</th>\n",
       "      <th>polarity</th>\n",
       "      <th>word_count</th>\n",
       "      <th>avg_word</th>\n",
       "    </tr>\n",
       "  </thead>\n",
       "  <tbody>\n",
       "    <tr>\n",
       "      <th>0</th>\n",
       "      <td>3</td>\n",
       "      <td>bantu kondisi pandemi tolong evaluasi dian oba...</td>\n",
       "      <td>pelayanan</td>\n",
       "      <td>negatif</td>\n",
       "      <td>44</td>\n",
       "      <td>7.782609</td>\n",
       "    </tr>\n",
       "    <tr>\n",
       "      <th>1</th>\n",
       "      <td>5</td>\n",
       "      <td>konsultasi dokter bagus durasi cepat dokter do...</td>\n",
       "      <td>pelayanan</td>\n",
       "      <td>negatif</td>\n",
       "      <td>10</td>\n",
       "      <td>8.400000</td>\n",
       "    </tr>\n",
       "    <tr>\n",
       "      <th>2</th>\n",
       "      <td>1</td>\n",
       "      <td>astaga obat beli obat harga masuk akal lipat u...</td>\n",
       "      <td>harga</td>\n",
       "      <td>negatif</td>\n",
       "      <td>30</td>\n",
       "      <td>7.466667</td>\n",
       "    </tr>\n",
       "    <tr>\n",
       "      <th>3</th>\n",
       "      <td>5</td>\n",
       "      <td>terima kasih layan baik cepat kirim bantu tert...</td>\n",
       "      <td>pelayanan</td>\n",
       "      <td>positif</td>\n",
       "      <td>13</td>\n",
       "      <td>8.500000</td>\n",
       "    </tr>\n",
       "    <tr>\n",
       "      <th>4</th>\n",
       "      <td>1</td>\n",
       "      <td>telepon nomor hadiah konfirmasi aplikasi ada h...</td>\n",
       "      <td>sistem</td>\n",
       "      <td>positif</td>\n",
       "      <td>10</td>\n",
       "      <td>8.909091</td>\n",
       "    </tr>\n",
       "    <tr>\n",
       "      <th>...</th>\n",
       "      <td>...</td>\n",
       "      <td>...</td>\n",
       "      <td>...</td>\n",
       "      <td>...</td>\n",
       "      <td>...</td>\n",
       "      <td>...</td>\n",
       "    </tr>\n",
       "    <tr>\n",
       "      <th>795</th>\n",
       "      <td>5</td>\n",
       "      <td>mudah klik praktis bantu</td>\n",
       "      <td>anekdot/serbaneka</td>\n",
       "      <td>positif</td>\n",
       "      <td>4</td>\n",
       "      <td>8.250000</td>\n",
       "    </tr>\n",
       "    <tr>\n",
       "      <th>796</th>\n",
       "      <td>5</td>\n",
       "      <td>layan ramah paham bidang</td>\n",
       "      <td>anekdot/serbaneka</td>\n",
       "      <td>positif</td>\n",
       "      <td>4</td>\n",
       "      <td>9.000000</td>\n",
       "    </tr>\n",
       "    <tr>\n",
       "      <th>797</th>\n",
       "      <td>4</td>\n",
       "      <td>bagus aplikasi dokter pribadi terima kasih</td>\n",
       "      <td>anekdot/serbaneka</td>\n",
       "      <td>positif</td>\n",
       "      <td>5</td>\n",
       "      <td>7.833333</td>\n",
       "    </tr>\n",
       "    <tr>\n",
       "      <th>798</th>\n",
       "      <td>5</td>\n",
       "      <td>mudah konsultasi rumah</td>\n",
       "      <td>pelayanan</td>\n",
       "      <td>positif</td>\n",
       "      <td>3</td>\n",
       "      <td>10.333333</td>\n",
       "    </tr>\n",
       "    <tr>\n",
       "      <th>799</th>\n",
       "      <td>5</td>\n",
       "      <td>bantu layan dokter muas</td>\n",
       "      <td>pelayanan</td>\n",
       "      <td>positif</td>\n",
       "      <td>4</td>\n",
       "      <td>10.000000</td>\n",
       "    </tr>\n",
       "  </tbody>\n",
       "</table>\n",
       "<p>800 rows × 6 columns</p>\n",
       "</div>"
      ],
      "text/plain": [
       "     rating                                             review  \\\n",
       "0         3  bantu kondisi pandemi tolong evaluasi dian oba...   \n",
       "1         5  konsultasi dokter bagus durasi cepat dokter do...   \n",
       "2         1  astaga obat beli obat harga masuk akal lipat u...   \n",
       "3         5  terima kasih layan baik cepat kirim bantu tert...   \n",
       "4         1  telepon nomor hadiah konfirmasi aplikasi ada h...   \n",
       "..      ...                                                ...   \n",
       "795       5                           mudah klik praktis bantu   \n",
       "796       5                           layan ramah paham bidang   \n",
       "797       4         bagus aplikasi dokter pribadi terima kasih   \n",
       "798       5                             mudah konsultasi rumah   \n",
       "799       5                            bantu layan dokter muas   \n",
       "\n",
       "       aspect_category polarity  word_count   avg_word  \n",
       "0            pelayanan  negatif          44   7.782609  \n",
       "1            pelayanan  negatif          10   8.400000  \n",
       "2                harga  negatif          30   7.466667  \n",
       "3            pelayanan  positif          13   8.500000  \n",
       "4               sistem  positif          10   8.909091  \n",
       "..                 ...      ...         ...        ...  \n",
       "795  anekdot/serbaneka  positif           4   8.250000  \n",
       "796  anekdot/serbaneka  positif           4   9.000000  \n",
       "797  anekdot/serbaneka  positif           5   7.833333  \n",
       "798          pelayanan  positif           3  10.333333  \n",
       "799          pelayanan  positif           4  10.000000  \n",
       "\n",
       "[800 rows x 6 columns]"
      ]
     },
     "execution_count": 29,
     "metadata": {},
     "output_type": "execute_result"
    }
   ],
   "source": [
    "raw"
   ]
  },
  {
   "cell_type": "code",
   "execution_count": 30,
   "metadata": {},
   "outputs": [],
   "source": [
    "slang_words.drop_duplicates(inplace=True)\n",
    "slang_words = dict(zip(slang_words[0],slang_words[1]))"
   ]
  },
  {
   "cell_type": "code",
   "execution_count": 31,
   "metadata": {},
   "outputs": [
    {
     "data": {
      "text/html": [
       "<div>\n",
       "<style scoped>\n",
       "    .dataframe tbody tr th:only-of-type {\n",
       "        vertical-align: middle;\n",
       "    }\n",
       "\n",
       "    .dataframe tbody tr th {\n",
       "        vertical-align: top;\n",
       "    }\n",
       "\n",
       "    .dataframe thead th {\n",
       "        text-align: right;\n",
       "    }\n",
       "</style>\n",
       "<table border=\"1\" class=\"dataframe\">\n",
       "  <thead>\n",
       "    <tr style=\"text-align: right;\">\n",
       "      <th></th>\n",
       "      <th>rating</th>\n",
       "      <th>review</th>\n",
       "      <th>aspect_category</th>\n",
       "      <th>polarity</th>\n",
       "      <th>word_count</th>\n",
       "      <th>avg_word</th>\n",
       "    </tr>\n",
       "  </thead>\n",
       "  <tbody>\n",
       "    <tr>\n",
       "      <th>0</th>\n",
       "      <td>3</td>\n",
       "      <td>[bantu, kondisi, pandemi, tolong, evaluasi, di...</td>\n",
       "      <td>pelayanan</td>\n",
       "      <td>negatif</td>\n",
       "      <td>44</td>\n",
       "      <td>7.782609</td>\n",
       "    </tr>\n",
       "    <tr>\n",
       "      <th>1</th>\n",
       "      <td>5</td>\n",
       "      <td>[konsultasi, dokter, bagus, durasi, cepat, dok...</td>\n",
       "      <td>pelayanan</td>\n",
       "      <td>negatif</td>\n",
       "      <td>10</td>\n",
       "      <td>8.400000</td>\n",
       "    </tr>\n",
       "    <tr>\n",
       "      <th>2</th>\n",
       "      <td>1</td>\n",
       "      <td>[astaga, obat, beli, obat, harga, masuk, akal,...</td>\n",
       "      <td>harga</td>\n",
       "      <td>negatif</td>\n",
       "      <td>30</td>\n",
       "      <td>7.466667</td>\n",
       "    </tr>\n",
       "    <tr>\n",
       "      <th>3</th>\n",
       "      <td>5</td>\n",
       "      <td>[terima, kasih, layan, baik, cepat, kirim, ban...</td>\n",
       "      <td>pelayanan</td>\n",
       "      <td>positif</td>\n",
       "      <td>13</td>\n",
       "      <td>8.500000</td>\n",
       "    </tr>\n",
       "    <tr>\n",
       "      <th>4</th>\n",
       "      <td>1</td>\n",
       "      <td>[telepon, nomor, hadiah, konfirmasi, aplikasi,...</td>\n",
       "      <td>sistem</td>\n",
       "      <td>positif</td>\n",
       "      <td>10</td>\n",
       "      <td>8.909091</td>\n",
       "    </tr>\n",
       "    <tr>\n",
       "      <th>...</th>\n",
       "      <td>...</td>\n",
       "      <td>...</td>\n",
       "      <td>...</td>\n",
       "      <td>...</td>\n",
       "      <td>...</td>\n",
       "      <td>...</td>\n",
       "    </tr>\n",
       "    <tr>\n",
       "      <th>795</th>\n",
       "      <td>5</td>\n",
       "      <td>[mudah, klik, praktis, bantu]</td>\n",
       "      <td>anekdot/serbaneka</td>\n",
       "      <td>positif</td>\n",
       "      <td>4</td>\n",
       "      <td>8.250000</td>\n",
       "    </tr>\n",
       "    <tr>\n",
       "      <th>796</th>\n",
       "      <td>5</td>\n",
       "      <td>[layan, ramah, paham, bidang]</td>\n",
       "      <td>anekdot/serbaneka</td>\n",
       "      <td>positif</td>\n",
       "      <td>4</td>\n",
       "      <td>9.000000</td>\n",
       "    </tr>\n",
       "    <tr>\n",
       "      <th>797</th>\n",
       "      <td>4</td>\n",
       "      <td>[bagus, aplikasi, dokter, pribadi, terima, kasih]</td>\n",
       "      <td>anekdot/serbaneka</td>\n",
       "      <td>positif</td>\n",
       "      <td>5</td>\n",
       "      <td>7.833333</td>\n",
       "    </tr>\n",
       "    <tr>\n",
       "      <th>798</th>\n",
       "      <td>5</td>\n",
       "      <td>[mudah, konsultasi, rumah]</td>\n",
       "      <td>pelayanan</td>\n",
       "      <td>positif</td>\n",
       "      <td>3</td>\n",
       "      <td>10.333333</td>\n",
       "    </tr>\n",
       "    <tr>\n",
       "      <th>799</th>\n",
       "      <td>5</td>\n",
       "      <td>[bantu, layan, dokter, muas]</td>\n",
       "      <td>pelayanan</td>\n",
       "      <td>positif</td>\n",
       "      <td>4</td>\n",
       "      <td>10.000000</td>\n",
       "    </tr>\n",
       "  </tbody>\n",
       "</table>\n",
       "<p>800 rows × 6 columns</p>\n",
       "</div>"
      ],
      "text/plain": [
       "     rating                                             review  \\\n",
       "0         3  [bantu, kondisi, pandemi, tolong, evaluasi, di...   \n",
       "1         5  [konsultasi, dokter, bagus, durasi, cepat, dok...   \n",
       "2         1  [astaga, obat, beli, obat, harga, masuk, akal,...   \n",
       "3         5  [terima, kasih, layan, baik, cepat, kirim, ban...   \n",
       "4         1  [telepon, nomor, hadiah, konfirmasi, aplikasi,...   \n",
       "..      ...                                                ...   \n",
       "795       5                      [mudah, klik, praktis, bantu]   \n",
       "796       5                      [layan, ramah, paham, bidang]   \n",
       "797       4  [bagus, aplikasi, dokter, pribadi, terima, kasih]   \n",
       "798       5                         [mudah, konsultasi, rumah]   \n",
       "799       5                       [bantu, layan, dokter, muas]   \n",
       "\n",
       "       aspect_category polarity  word_count   avg_word  \n",
       "0            pelayanan  negatif          44   7.782609  \n",
       "1            pelayanan  negatif          10   8.400000  \n",
       "2                harga  negatif          30   7.466667  \n",
       "3            pelayanan  positif          13   8.500000  \n",
       "4               sistem  positif          10   8.909091  \n",
       "..                 ...      ...         ...        ...  \n",
       "795  anekdot/serbaneka  positif           4   8.250000  \n",
       "796  anekdot/serbaneka  positif           4   9.000000  \n",
       "797  anekdot/serbaneka  positif           5   7.833333  \n",
       "798          pelayanan  positif           3  10.333333  \n",
       "799          pelayanan  positif           4  10.000000  \n",
       "\n",
       "[800 rows x 6 columns]"
      ]
     },
     "execution_count": 31,
     "metadata": {},
     "output_type": "execute_result"
    }
   ],
   "source": [
    "raw['review'] = raw['review'].apply(lambda x: x.split())\n",
    "raw"
   ]
  },
  {
   "cell_type": "code",
   "execution_count": 32,
   "metadata": {},
   "outputs": [],
   "source": [
    "def mapping_slang_words(review):\n",
    "    return [slang_words[word] if word in slang_words else word for word in review]\n",
    "raw['review'] = raw['review'].apply(mapping_slang_words)"
   ]
  },
  {
   "cell_type": "code",
   "execution_count": 33,
   "metadata": {},
   "outputs": [],
   "source": [
    "stop_words = np.unique(stop_words)"
   ]
  },
  {
   "cell_type": "code",
   "execution_count": 34,
   "metadata": {},
   "outputs": [],
   "source": [
    "def remove_stop_words(word_list):\n",
    "    return [word for word in word_list if word not in stop_words]\n",
    "raw['review'] = raw['review'].apply(remove_stop_words)"
   ]
  },
  {
   "cell_type": "code",
   "execution_count": 35,
   "metadata": {},
   "outputs": [
    {
     "data": {
      "text/plain": [
       "['bantu',\n",
       " 'kondisi',\n",
       " 'pandemi',\n",
       " 'tolong',\n",
       " 'evaluasi',\n",
       " 'dian',\n",
       " 'obat',\n",
       " 'apotek',\n",
       " 'rekan',\n",
       " 'kota',\n",
       " 'manado',\n",
       " 'resep',\n",
       " 'obat',\n",
       " 'batuk',\n",
       " 'apotek',\n",
       " 'suka',\n",
       " 'habis',\n",
       " 'sia',\n",
       " 'sia',\n",
       " 'konsultasi',\n",
       " 'dokter',\n",
       " 'ujung',\n",
       " 'ujung',\n",
       " 'obat',\n",
       " 'resep',\n",
       " 'apotek',\n",
       " 'rugi',\n",
       " 'chat',\n",
       " 'mahal',\n",
       " 'biaya',\n",
       " 'masuk',\n",
       " 'baik',\n",
       " 'pakai',\n",
       " 'fitur',\n",
       " 'chat',\n",
       " 'us',\n",
       " 'customer',\n",
       " 'pelayanan',\n",
       " 'customer',\n",
       " 'pelayanan',\n",
       " 'ubah',\n",
       " 'produk',\n",
       " 'obat',\n",
       " 'saran',\n",
       " 'konsultasi',\n",
       " 'dokter']"
      ]
     },
     "execution_count": 35,
     "metadata": {},
     "output_type": "execute_result"
    }
   ],
   "source": [
    "raw['review'][0]"
   ]
  },
  {
   "cell_type": "code",
   "execution_count": 36,
   "metadata": {},
   "outputs": [
    {
     "data": {
      "text/plain": [
       "['baik', 'bagus', 'bantu', 'pandemi', 'suka']"
      ]
     },
     "execution_count": 36,
     "metadata": {},
     "output_type": "execute_result"
    }
   ],
   "source": [
    "raw['review'][784]"
   ]
  },
  {
   "cell_type": "code",
   "execution_count": 37,
   "metadata": {},
   "outputs": [
    {
     "data": {
      "text/plain": [
       "['terima kasih', 'bagus', 'panik', 'keluh', 'bantu']"
      ]
     },
     "execution_count": 37,
     "metadata": {},
     "output_type": "execute_result"
    }
   ],
   "source": [
    "raw['review'][101]"
   ]
  },
  {
   "cell_type": "code",
   "execution_count": 38,
   "metadata": {},
   "outputs": [
    {
     "data": {
      "text/plain": [
       "['bagus', 'terima', 'kasih', 'nilai', 'ubah', 'bagus', 'layan']"
      ]
     },
     "execution_count": 38,
     "metadata": {},
     "output_type": "execute_result"
    }
   ],
   "source": [
    "raw['review'][424]"
   ]
  },
  {
   "cell_type": "code",
   "execution_count": 39,
   "metadata": {},
   "outputs": [
    {
     "data": {
      "text/plain": [
       "['konsultasi', 'semoga', 'baik']"
      ]
     },
     "execution_count": 39,
     "metadata": {},
     "output_type": "execute_result"
    }
   ],
   "source": [
    "raw['review'][662]"
   ]
  },
  {
   "cell_type": "code",
   "execution_count": 40,
   "metadata": {},
   "outputs": [
    {
     "data": {
      "text/plain": [
       "['dokter', 'ramah', 'ramah', 'detail']"
      ]
     },
     "execution_count": 40,
     "metadata": {},
     "output_type": "execute_result"
    }
   ],
   "source": [
    "raw['review'][790]"
   ]
  },
  {
   "cell_type": "code",
   "execution_count": 41,
   "metadata": {},
   "outputs": [
    {
     "data": {
      "text/plain": [
       "['bicara', 'bicara', 'sedia', 'kalender', 'menstruasi']"
      ]
     },
     "execution_count": 41,
     "metadata": {},
     "output_type": "execute_result"
    }
   ],
   "source": [
    "raw['review'][686]"
   ]
  },
  {
   "cell_type": "code",
   "execution_count": 42,
   "metadata": {},
   "outputs": [
    {
     "data": {
      "text/plain": [
       "['cepat', 'respon', 'dokter', 'ramah', 'jelas', 'detail']"
      ]
     },
     "execution_count": 42,
     "metadata": {},
     "output_type": "execute_result"
    }
   ],
   "source": [
    "raw['review'][624]"
   ]
  },
  {
   "cell_type": "code",
   "execution_count": 43,
   "metadata": {},
   "outputs": [
    {
     "data": {
      "text/plain": [
       "['bantu', 'tenang', 'informasi', 'solusi']"
      ]
     },
     "execution_count": 43,
     "metadata": {},
     "output_type": "execute_result"
    }
   ],
   "source": [
    "raw['review'][621]"
   ]
  },
  {
   "cell_type": "code",
   "execution_count": 44,
   "metadata": {},
   "outputs": [
    {
     "data": {
      "text/plain": [
       "['dokter',\n",
       " 'hebat',\n",
       " 'hebat',\n",
       " 'jelas',\n",
       " 'fokus',\n",
       " 'keluh',\n",
       " 'derita',\n",
       " 'terima',\n",
       " 'kasih']"
      ]
     },
     "execution_count": 44,
     "metadata": {},
     "output_type": "execute_result"
    }
   ],
   "source": [
    "raw['review'][44]"
   ]
  },
  {
   "cell_type": "code",
   "execution_count": 45,
   "metadata": {},
   "outputs": [
    {
     "data": {
      "text/plain": [
       "['respon',\n",
       " 'keluh',\n",
       " 'team',\n",
       " 'customer',\n",
       " 'pelayanan',\n",
       " 'respon',\n",
       " 'ulas',\n",
       " 'update',\n",
       " 'respon',\n",
       " 'team',\n",
       " 'customer',\n",
       " 'pelayanan',\n",
       " 'cepat']"
      ]
     },
     "execution_count": 45,
     "metadata": {},
     "output_type": "execute_result"
    }
   ],
   "source": [
    "raw['review'][47]"
   ]
  },
  {
   "cell_type": "code",
   "execution_count": 46,
   "metadata": {},
   "outputs": [
    {
     "data": {
      "text/plain": [
       "['bantu',\n",
       " 'darurat',\n",
       " 'langsung',\n",
       " 'tindak',\n",
       " 'dokter',\n",
       " 'ramah',\n",
       " 'terima',\n",
       " 'kasih']"
      ]
     },
     "execution_count": 46,
     "metadata": {},
     "output_type": "execute_result"
    }
   ],
   "source": [
    "raw['review'][56]"
   ]
  },
  {
   "cell_type": "code",
   "execution_count": 47,
   "metadata": {},
   "outputs": [
    {
     "data": {
      "text/plain": [
       "['bantu',\n",
       " 'jam',\n",
       " 'anak',\n",
       " 'sakit',\n",
       " 'konsultasi',\n",
       " 'dokter',\n",
       " 'terima',\n",
       " 'kasih',\n",
       " 'adi',\n",
       " 'suryadinata',\n",
       " 'bantu']"
      ]
     },
     "execution_count": 47,
     "metadata": {},
     "output_type": "execute_result"
    }
   ],
   "source": [
    "raw['review'][12]"
   ]
  },
  {
   "cell_type": "code",
   "execution_count": 48,
   "metadata": {},
   "outputs": [
    {
     "data": {
      "text/plain": [
       "['bantu',\n",
       " 'mudah',\n",
       " 'cari',\n",
       " 'obat',\n",
       " 'obat',\n",
       " 'respon',\n",
       " 'cepat',\n",
       " 'pesan',\n",
       " 'terima',\n",
       " 'kasih']"
      ]
     },
     "execution_count": 48,
     "metadata": {},
     "output_type": "execute_result"
    }
   ],
   "source": [
    "raw['review'][13]"
   ]
  },
  {
   "cell_type": "code",
   "execution_count": 49,
   "metadata": {},
   "outputs": [
    {
     "data": {
      "text/plain": [
       "['bantu',\n",
       " 'obat',\n",
       " 'cari',\n",
       " 'apotek',\n",
       " 'kosong',\n",
       " 'lengkap',\n",
       " 'pakai',\n",
       " 'mudah',\n",
       " 'terimakasih']"
      ]
     },
     "execution_count": 49,
     "metadata": {},
     "output_type": "execute_result"
    }
   ],
   "source": [
    "raw['review'][19]"
   ]
  },
  {
   "cell_type": "code",
   "execution_count": 50,
   "metadata": {},
   "outputs": [
    {
     "data": {
      "text/plain": [
       "['bagus',\n",
       " 'aplikasi',\n",
       " 'ketemu',\n",
       " 'bagus',\n",
       " 'respon',\n",
       " 'dokter',\n",
       " 'cepat',\n",
       " 'bagus',\n",
       " 'tahan',\n",
       " 'bantu',\n",
       " 'bagus']"
      ]
     },
     "execution_count": 50,
     "metadata": {},
     "output_type": "execute_result"
    }
   ],
   "source": [
    "raw['review'][23]"
   ]
  },
  {
   "cell_type": "code",
   "execution_count": 51,
   "metadata": {},
   "outputs": [
    {
     "data": {
      "text/plain": [
       "['jujur',\n",
       " 'puas',\n",
       " 'nasihat',\n",
       " 'nasihat',\n",
       " 'jelas',\n",
       " 'dokter',\n",
       " 'sayang',\n",
       " 'konsultasi',\n",
       " 'aplikasi',\n",
       " 'menit',\n",
       " 'otomatis',\n",
       " 'henti']"
      ]
     },
     "execution_count": 51,
     "metadata": {},
     "output_type": "execute_result"
    }
   ],
   "source": [
    "raw['review'][18]"
   ]
  },
  {
   "cell_type": "code",
   "execution_count": 52,
   "metadata": {},
   "outputs": [
    {
     "data": {
      "text/plain": [
       "['bagus',\n",
       " 'antre',\n",
       " 'sakit',\n",
       " 'chat',\n",
       " 'langsung',\n",
       " 'bales',\n",
       " 'obat',\n",
       " 'terima',\n",
       " 'kasih',\n",
       " 'holodocbantu']"
      ]
     },
     "execution_count": 52,
     "metadata": {},
     "output_type": "execute_result"
    }
   ],
   "source": [
    "raw['review'][52]"
   ]
  },
  {
   "cell_type": "code",
   "execution_count": 53,
   "metadata": {},
   "outputs": [
    {
     "data": {
      "text/plain": [
       "['sumpah',\n",
       " 'alternatif',\n",
       " 'miris',\n",
       " 'uang',\n",
       " 'sakit',\n",
       " 'hemat',\n",
       " 'pakai',\n",
       " 'aplikasi',\n",
       " 'bagus',\n",
       " 'kerja',\n",
       " 'cocok',\n",
       " 'anak',\n",
       " 'kosan']"
      ]
     },
     "execution_count": 53,
     "metadata": {},
     "output_type": "execute_result"
    }
   ],
   "source": [
    "raw['review'][5]"
   ]
  },
  {
   "cell_type": "code",
   "execution_count": 54,
   "metadata": {},
   "outputs": [
    {
     "data": {
      "text/plain": [
       "['respon',\n",
       " 'keluh',\n",
       " 'team',\n",
       " 'customer',\n",
       " 'pelayanan',\n",
       " 'respon',\n",
       " 'ulas',\n",
       " 'update',\n",
       " 'respon',\n",
       " 'team',\n",
       " 'customer',\n",
       " 'pelayanan',\n",
       " 'cepat']"
      ]
     },
     "execution_count": 54,
     "metadata": {},
     "output_type": "execute_result"
    }
   ],
   "source": [
    "raw['review'][47]"
   ]
  },
  {
   "cell_type": "code",
   "execution_count": 55,
   "metadata": {},
   "outputs": [
    {
     "data": {
      "text/plain": [
       "['efesien',\n",
       " 'pesan',\n",
       " 'obat',\n",
       " 'cari',\n",
       " 'apotek',\n",
       " 'sedia',\n",
       " 'obat',\n",
       " 'suka',\n",
       " 'suka',\n",
       " 'kembang']"
      ]
     },
     "execution_count": 55,
     "metadata": {},
     "output_type": "execute_result"
    }
   ],
   "source": [
    "raw['review'][208]"
   ]
  },
  {
   "cell_type": "code",
   "execution_count": 56,
   "metadata": {},
   "outputs": [
    {
     "data": {
      "text/html": [
       "<div>\n",
       "<style scoped>\n",
       "    .dataframe tbody tr th:only-of-type {\n",
       "        vertical-align: middle;\n",
       "    }\n",
       "\n",
       "    .dataframe tbody tr th {\n",
       "        vertical-align: top;\n",
       "    }\n",
       "\n",
       "    .dataframe thead th {\n",
       "        text-align: right;\n",
       "    }\n",
       "</style>\n",
       "<table border=\"1\" class=\"dataframe\">\n",
       "  <thead>\n",
       "    <tr style=\"text-align: right;\">\n",
       "      <th></th>\n",
       "      <th>rating</th>\n",
       "      <th>review</th>\n",
       "      <th>aspect_category</th>\n",
       "      <th>polarity</th>\n",
       "      <th>word_count</th>\n",
       "      <th>avg_word</th>\n",
       "    </tr>\n",
       "  </thead>\n",
       "  <tbody>\n",
       "    <tr>\n",
       "      <th>0</th>\n",
       "      <td>3</td>\n",
       "      <td>[bantu, kondisi, pandemi, tolong, evaluasi, di...</td>\n",
       "      <td>pelayanan</td>\n",
       "      <td>negatif</td>\n",
       "      <td>44</td>\n",
       "      <td>7.782609</td>\n",
       "    </tr>\n",
       "    <tr>\n",
       "      <th>1</th>\n",
       "      <td>5</td>\n",
       "      <td>[konsultasi, dokter, bagus, durasi, cepat, dok...</td>\n",
       "      <td>pelayanan</td>\n",
       "      <td>negatif</td>\n",
       "      <td>10</td>\n",
       "      <td>8.400000</td>\n",
       "    </tr>\n",
       "    <tr>\n",
       "      <th>2</th>\n",
       "      <td>1</td>\n",
       "      <td>[astaga, obat, beli, obat, harga, masuk, akal,...</td>\n",
       "      <td>harga</td>\n",
       "      <td>negatif</td>\n",
       "      <td>30</td>\n",
       "      <td>7.466667</td>\n",
       "    </tr>\n",
       "    <tr>\n",
       "      <th>3</th>\n",
       "      <td>5</td>\n",
       "      <td>[terima, kasih, layan, baik, cepat, kirim, ban...</td>\n",
       "      <td>pelayanan</td>\n",
       "      <td>positif</td>\n",
       "      <td>13</td>\n",
       "      <td>8.500000</td>\n",
       "    </tr>\n",
       "    <tr>\n",
       "      <th>4</th>\n",
       "      <td>1</td>\n",
       "      <td>[telepon, nomor, hadiah, konfirmasi, aplikasi,...</td>\n",
       "      <td>sistem</td>\n",
       "      <td>positif</td>\n",
       "      <td>10</td>\n",
       "      <td>8.909091</td>\n",
       "    </tr>\n",
       "    <tr>\n",
       "      <th>...</th>\n",
       "      <td>...</td>\n",
       "      <td>...</td>\n",
       "      <td>...</td>\n",
       "      <td>...</td>\n",
       "      <td>...</td>\n",
       "      <td>...</td>\n",
       "    </tr>\n",
       "    <tr>\n",
       "      <th>795</th>\n",
       "      <td>5</td>\n",
       "      <td>[mudah, klik, praktis, bantu]</td>\n",
       "      <td>anekdot/serbaneka</td>\n",
       "      <td>positif</td>\n",
       "      <td>4</td>\n",
       "      <td>8.250000</td>\n",
       "    </tr>\n",
       "    <tr>\n",
       "      <th>796</th>\n",
       "      <td>5</td>\n",
       "      <td>[layan, ramah, paham, bidang]</td>\n",
       "      <td>anekdot/serbaneka</td>\n",
       "      <td>positif</td>\n",
       "      <td>4</td>\n",
       "      <td>9.000000</td>\n",
       "    </tr>\n",
       "    <tr>\n",
       "      <th>797</th>\n",
       "      <td>4</td>\n",
       "      <td>[bagus, aplikasi, dokter, pribadi, terima, kasih]</td>\n",
       "      <td>anekdot/serbaneka</td>\n",
       "      <td>positif</td>\n",
       "      <td>5</td>\n",
       "      <td>7.833333</td>\n",
       "    </tr>\n",
       "    <tr>\n",
       "      <th>798</th>\n",
       "      <td>5</td>\n",
       "      <td>[mudah, konsultasi, rumah]</td>\n",
       "      <td>pelayanan</td>\n",
       "      <td>positif</td>\n",
       "      <td>3</td>\n",
       "      <td>10.333333</td>\n",
       "    </tr>\n",
       "    <tr>\n",
       "      <th>799</th>\n",
       "      <td>5</td>\n",
       "      <td>[bantu, layan, dokter, muas]</td>\n",
       "      <td>pelayanan</td>\n",
       "      <td>positif</td>\n",
       "      <td>4</td>\n",
       "      <td>10.000000</td>\n",
       "    </tr>\n",
       "  </tbody>\n",
       "</table>\n",
       "<p>800 rows × 6 columns</p>\n",
       "</div>"
      ],
      "text/plain": [
       "     rating                                             review  \\\n",
       "0         3  [bantu, kondisi, pandemi, tolong, evaluasi, di...   \n",
       "1         5  [konsultasi, dokter, bagus, durasi, cepat, dok...   \n",
       "2         1  [astaga, obat, beli, obat, harga, masuk, akal,...   \n",
       "3         5  [terima, kasih, layan, baik, cepat, kirim, ban...   \n",
       "4         1  [telepon, nomor, hadiah, konfirmasi, aplikasi,...   \n",
       "..      ...                                                ...   \n",
       "795       5                      [mudah, klik, praktis, bantu]   \n",
       "796       5                      [layan, ramah, paham, bidang]   \n",
       "797       4  [bagus, aplikasi, dokter, pribadi, terima, kasih]   \n",
       "798       5                         [mudah, konsultasi, rumah]   \n",
       "799       5                       [bantu, layan, dokter, muas]   \n",
       "\n",
       "       aspect_category polarity  word_count   avg_word  \n",
       "0            pelayanan  negatif          44   7.782609  \n",
       "1            pelayanan  negatif          10   8.400000  \n",
       "2                harga  negatif          30   7.466667  \n",
       "3            pelayanan  positif          13   8.500000  \n",
       "4               sistem  positif          10   8.909091  \n",
       "..                 ...      ...         ...        ...  \n",
       "795  anekdot/serbaneka  positif           4   8.250000  \n",
       "796  anekdot/serbaneka  positif           4   9.000000  \n",
       "797  anekdot/serbaneka  positif           5   7.833333  \n",
       "798          pelayanan  positif           3  10.333333  \n",
       "799          pelayanan  positif           4  10.000000  \n",
       "\n",
       "[800 rows x 6 columns]"
      ]
     },
     "execution_count": 56,
     "metadata": {},
     "output_type": "execute_result"
    }
   ],
   "source": [
    "raw"
   ]
  },
  {
   "cell_type": "code",
   "execution_count": 57,
   "metadata": {},
   "outputs": [],
   "source": [
    "def convert_list_to_string(word_list):\n",
    "    return \",\".join(word_list)\n",
    "raw['review'] = raw['review'].apply(convert_list_to_string)"
   ]
  },
  {
   "cell_type": "code",
   "execution_count": 58,
   "metadata": {},
   "outputs": [
    {
     "data": {
      "text/html": [
       "<div>\n",
       "<style scoped>\n",
       "    .dataframe tbody tr th:only-of-type {\n",
       "        vertical-align: middle;\n",
       "    }\n",
       "\n",
       "    .dataframe tbody tr th {\n",
       "        vertical-align: top;\n",
       "    }\n",
       "\n",
       "    .dataframe thead th {\n",
       "        text-align: right;\n",
       "    }\n",
       "</style>\n",
       "<table border=\"1\" class=\"dataframe\">\n",
       "  <thead>\n",
       "    <tr style=\"text-align: right;\">\n",
       "      <th></th>\n",
       "      <th>rating</th>\n",
       "      <th>review</th>\n",
       "      <th>aspect_category</th>\n",
       "      <th>polarity</th>\n",
       "      <th>word_count</th>\n",
       "      <th>avg_word</th>\n",
       "    </tr>\n",
       "  </thead>\n",
       "  <tbody>\n",
       "    <tr>\n",
       "      <th>0</th>\n",
       "      <td>3</td>\n",
       "      <td>bantu,kondisi,pandemi,tolong,evaluasi,dian,oba...</td>\n",
       "      <td>pelayanan</td>\n",
       "      <td>negatif</td>\n",
       "      <td>44</td>\n",
       "      <td>7.782609</td>\n",
       "    </tr>\n",
       "    <tr>\n",
       "      <th>1</th>\n",
       "      <td>5</td>\n",
       "      <td>konsultasi,dokter,bagus,durasi,cepat,dokter,do...</td>\n",
       "      <td>pelayanan</td>\n",
       "      <td>negatif</td>\n",
       "      <td>10</td>\n",
       "      <td>8.400000</td>\n",
       "    </tr>\n",
       "    <tr>\n",
       "      <th>2</th>\n",
       "      <td>1</td>\n",
       "      <td>astaga,obat,beli,obat,harga,masuk,akal,lipat,u...</td>\n",
       "      <td>harga</td>\n",
       "      <td>negatif</td>\n",
       "      <td>30</td>\n",
       "      <td>7.466667</td>\n",
       "    </tr>\n",
       "    <tr>\n",
       "      <th>3</th>\n",
       "      <td>5</td>\n",
       "      <td>terima,kasih,layan,baik,cepat,kirim,bantu,jele...</td>\n",
       "      <td>pelayanan</td>\n",
       "      <td>positif</td>\n",
       "      <td>13</td>\n",
       "      <td>8.500000</td>\n",
       "    </tr>\n",
       "    <tr>\n",
       "      <th>4</th>\n",
       "      <td>1</td>\n",
       "      <td>telepon,nomor,hadiah,konfirmasi,aplikasi,hadia...</td>\n",
       "      <td>sistem</td>\n",
       "      <td>positif</td>\n",
       "      <td>10</td>\n",
       "      <td>8.909091</td>\n",
       "    </tr>\n",
       "    <tr>\n",
       "      <th>...</th>\n",
       "      <td>...</td>\n",
       "      <td>...</td>\n",
       "      <td>...</td>\n",
       "      <td>...</td>\n",
       "      <td>...</td>\n",
       "      <td>...</td>\n",
       "    </tr>\n",
       "    <tr>\n",
       "      <th>795</th>\n",
       "      <td>5</td>\n",
       "      <td>mudah,klik,praktis,bantu</td>\n",
       "      <td>anekdot/serbaneka</td>\n",
       "      <td>positif</td>\n",
       "      <td>4</td>\n",
       "      <td>8.250000</td>\n",
       "    </tr>\n",
       "    <tr>\n",
       "      <th>796</th>\n",
       "      <td>5</td>\n",
       "      <td>layan,ramah,paham,bidang</td>\n",
       "      <td>anekdot/serbaneka</td>\n",
       "      <td>positif</td>\n",
       "      <td>4</td>\n",
       "      <td>9.000000</td>\n",
       "    </tr>\n",
       "    <tr>\n",
       "      <th>797</th>\n",
       "      <td>4</td>\n",
       "      <td>bagus,aplikasi,dokter,pribadi,terima,kasih</td>\n",
       "      <td>anekdot/serbaneka</td>\n",
       "      <td>positif</td>\n",
       "      <td>5</td>\n",
       "      <td>7.833333</td>\n",
       "    </tr>\n",
       "    <tr>\n",
       "      <th>798</th>\n",
       "      <td>5</td>\n",
       "      <td>mudah,konsultasi,rumah</td>\n",
       "      <td>pelayanan</td>\n",
       "      <td>positif</td>\n",
       "      <td>3</td>\n",
       "      <td>10.333333</td>\n",
       "    </tr>\n",
       "    <tr>\n",
       "      <th>799</th>\n",
       "      <td>5</td>\n",
       "      <td>bantu,layan,dokter,muas</td>\n",
       "      <td>pelayanan</td>\n",
       "      <td>positif</td>\n",
       "      <td>4</td>\n",
       "      <td>10.000000</td>\n",
       "    </tr>\n",
       "  </tbody>\n",
       "</table>\n",
       "<p>800 rows × 6 columns</p>\n",
       "</div>"
      ],
      "text/plain": [
       "     rating                                             review  \\\n",
       "0         3  bantu,kondisi,pandemi,tolong,evaluasi,dian,oba...   \n",
       "1         5  konsultasi,dokter,bagus,durasi,cepat,dokter,do...   \n",
       "2         1  astaga,obat,beli,obat,harga,masuk,akal,lipat,u...   \n",
       "3         5  terima,kasih,layan,baik,cepat,kirim,bantu,jele...   \n",
       "4         1  telepon,nomor,hadiah,konfirmasi,aplikasi,hadia...   \n",
       "..      ...                                                ...   \n",
       "795       5                           mudah,klik,praktis,bantu   \n",
       "796       5                           layan,ramah,paham,bidang   \n",
       "797       4         bagus,aplikasi,dokter,pribadi,terima,kasih   \n",
       "798       5                             mudah,konsultasi,rumah   \n",
       "799       5                            bantu,layan,dokter,muas   \n",
       "\n",
       "       aspect_category polarity  word_count   avg_word  \n",
       "0            pelayanan  negatif          44   7.782609  \n",
       "1            pelayanan  negatif          10   8.400000  \n",
       "2                harga  negatif          30   7.466667  \n",
       "3            pelayanan  positif          13   8.500000  \n",
       "4               sistem  positif          10   8.909091  \n",
       "..                 ...      ...         ...        ...  \n",
       "795  anekdot/serbaneka  positif           4   8.250000  \n",
       "796  anekdot/serbaneka  positif           4   9.000000  \n",
       "797  anekdot/serbaneka  positif           5   7.833333  \n",
       "798          pelayanan  positif           3  10.333333  \n",
       "799          pelayanan  positif           4  10.000000  \n",
       "\n",
       "[800 rows x 6 columns]"
      ]
     },
     "execution_count": 58,
     "metadata": {},
     "output_type": "execute_result"
    }
   ],
   "source": [
    "raw"
   ]
  },
  {
   "cell_type": "code",
   "execution_count": 59,
   "metadata": {},
   "outputs": [
    {
     "data": {
      "text/html": [
       "<div>\n",
       "<style scoped>\n",
       "    .dataframe tbody tr th:only-of-type {\n",
       "        vertical-align: middle;\n",
       "    }\n",
       "\n",
       "    .dataframe tbody tr th {\n",
       "        vertical-align: top;\n",
       "    }\n",
       "\n",
       "    .dataframe thead th {\n",
       "        text-align: right;\n",
       "    }\n",
       "</style>\n",
       "<table border=\"1\" class=\"dataframe\">\n",
       "  <thead>\n",
       "    <tr style=\"text-align: right;\">\n",
       "      <th></th>\n",
       "      <th>rating</th>\n",
       "      <th>review</th>\n",
       "      <th>aspect_category</th>\n",
       "      <th>polarity</th>\n",
       "      <th>word_count</th>\n",
       "      <th>avg_word</th>\n",
       "    </tr>\n",
       "  </thead>\n",
       "  <tbody>\n",
       "    <tr>\n",
       "      <th>0</th>\n",
       "      <td>3</td>\n",
       "      <td>bantu,kondisi,pandemi,tolong,evaluasi,dian,oba...</td>\n",
       "      <td>pelayanan</td>\n",
       "      <td>negatif</td>\n",
       "      <td>44</td>\n",
       "      <td>7.782609</td>\n",
       "    </tr>\n",
       "    <tr>\n",
       "      <th>1</th>\n",
       "      <td>5</td>\n",
       "      <td>konsultasi,dokter,bagus,durasi,cepat,dokter,do...</td>\n",
       "      <td>pelayanan</td>\n",
       "      <td>negatif</td>\n",
       "      <td>10</td>\n",
       "      <td>8.400000</td>\n",
       "    </tr>\n",
       "    <tr>\n",
       "      <th>2</th>\n",
       "      <td>1</td>\n",
       "      <td>astaga,obat,beli,obat,harga,masuk,akal,lipat,u...</td>\n",
       "      <td>harga</td>\n",
       "      <td>negatif</td>\n",
       "      <td>30</td>\n",
       "      <td>7.466667</td>\n",
       "    </tr>\n",
       "    <tr>\n",
       "      <th>3</th>\n",
       "      <td>5</td>\n",
       "      <td>terima,kasih,layan,baik,cepat,kirim,bantu,jele...</td>\n",
       "      <td>pelayanan</td>\n",
       "      <td>positif</td>\n",
       "      <td>13</td>\n",
       "      <td>8.500000</td>\n",
       "    </tr>\n",
       "    <tr>\n",
       "      <th>4</th>\n",
       "      <td>1</td>\n",
       "      <td>telepon,nomor,hadiah,konfirmasi,aplikasi,hadia...</td>\n",
       "      <td>sistem</td>\n",
       "      <td>positif</td>\n",
       "      <td>10</td>\n",
       "      <td>8.909091</td>\n",
       "    </tr>\n",
       "    <tr>\n",
       "      <th>...</th>\n",
       "      <td>...</td>\n",
       "      <td>...</td>\n",
       "      <td>...</td>\n",
       "      <td>...</td>\n",
       "      <td>...</td>\n",
       "      <td>...</td>\n",
       "    </tr>\n",
       "    <tr>\n",
       "      <th>795</th>\n",
       "      <td>5</td>\n",
       "      <td>mudah,klik,praktis,bantu</td>\n",
       "      <td>anekdot/serbaneka</td>\n",
       "      <td>positif</td>\n",
       "      <td>4</td>\n",
       "      <td>8.250000</td>\n",
       "    </tr>\n",
       "    <tr>\n",
       "      <th>796</th>\n",
       "      <td>5</td>\n",
       "      <td>layan,ramah,paham,bidang</td>\n",
       "      <td>anekdot/serbaneka</td>\n",
       "      <td>positif</td>\n",
       "      <td>4</td>\n",
       "      <td>9.000000</td>\n",
       "    </tr>\n",
       "    <tr>\n",
       "      <th>797</th>\n",
       "      <td>4</td>\n",
       "      <td>bagus,aplikasi,dokter,pribadi,terima,kasih</td>\n",
       "      <td>anekdot/serbaneka</td>\n",
       "      <td>positif</td>\n",
       "      <td>5</td>\n",
       "      <td>7.833333</td>\n",
       "    </tr>\n",
       "    <tr>\n",
       "      <th>798</th>\n",
       "      <td>5</td>\n",
       "      <td>mudah,konsultasi,rumah</td>\n",
       "      <td>pelayanan</td>\n",
       "      <td>positif</td>\n",
       "      <td>3</td>\n",
       "      <td>10.333333</td>\n",
       "    </tr>\n",
       "    <tr>\n",
       "      <th>799</th>\n",
       "      <td>5</td>\n",
       "      <td>bantu,layan,dokter,muas</td>\n",
       "      <td>pelayanan</td>\n",
       "      <td>positif</td>\n",
       "      <td>4</td>\n",
       "      <td>10.000000</td>\n",
       "    </tr>\n",
       "  </tbody>\n",
       "</table>\n",
       "<p>800 rows × 6 columns</p>\n",
       "</div>"
      ],
      "text/plain": [
       "     rating                                             review  \\\n",
       "0         3  bantu,kondisi,pandemi,tolong,evaluasi,dian,oba...   \n",
       "1         5  konsultasi,dokter,bagus,durasi,cepat,dokter,do...   \n",
       "2         1  astaga,obat,beli,obat,harga,masuk,akal,lipat,u...   \n",
       "3         5  terima,kasih,layan,baik,cepat,kirim,bantu,jele...   \n",
       "4         1  telepon,nomor,hadiah,konfirmasi,aplikasi,hadia...   \n",
       "..      ...                                                ...   \n",
       "795       5                           mudah,klik,praktis,bantu   \n",
       "796       5                           layan,ramah,paham,bidang   \n",
       "797       4         bagus,aplikasi,dokter,pribadi,terima,kasih   \n",
       "798       5                             mudah,konsultasi,rumah   \n",
       "799       5                            bantu,layan,dokter,muas   \n",
       "\n",
       "       aspect_category polarity  word_count   avg_word  \n",
       "0            pelayanan  negatif          44   7.782609  \n",
       "1            pelayanan  negatif          10   8.400000  \n",
       "2                harga  negatif          30   7.466667  \n",
       "3            pelayanan  positif          13   8.500000  \n",
       "4               sistem  positif          10   8.909091  \n",
       "..                 ...      ...         ...        ...  \n",
       "795  anekdot/serbaneka  positif           4   8.250000  \n",
       "796  anekdot/serbaneka  positif           4   9.000000  \n",
       "797  anekdot/serbaneka  positif           5   7.833333  \n",
       "798          pelayanan  positif           3  10.333333  \n",
       "799          pelayanan  positif           4  10.000000  \n",
       "\n",
       "[800 rows x 6 columns]"
      ]
     },
     "execution_count": 59,
     "metadata": {},
     "output_type": "execute_result"
    }
   ],
   "source": [
    "raw['review'] = raw['review'].apply(lambda x: x.replace(\"'\",\"\"))\n",
    "raw"
   ]
  },
  {
   "cell_type": "code",
   "execution_count": 60,
   "metadata": {},
   "outputs": [
    {
     "data": {
      "text/html": [
       "<div>\n",
       "<style scoped>\n",
       "    .dataframe tbody tr th:only-of-type {\n",
       "        vertical-align: middle;\n",
       "    }\n",
       "\n",
       "    .dataframe tbody tr th {\n",
       "        vertical-align: top;\n",
       "    }\n",
       "\n",
       "    .dataframe thead th {\n",
       "        text-align: right;\n",
       "    }\n",
       "</style>\n",
       "<table border=\"1\" class=\"dataframe\">\n",
       "  <thead>\n",
       "    <tr style=\"text-align: right;\">\n",
       "      <th></th>\n",
       "      <th>rating</th>\n",
       "      <th>review</th>\n",
       "      <th>aspect_category</th>\n",
       "      <th>polarity</th>\n",
       "      <th>word_count</th>\n",
       "      <th>avg_word</th>\n",
       "    </tr>\n",
       "  </thead>\n",
       "  <tbody>\n",
       "    <tr>\n",
       "      <th>0</th>\n",
       "      <td>3</td>\n",
       "      <td>bantu kondisi pandemi tolong evaluasi dian oba...</td>\n",
       "      <td>pelayanan</td>\n",
       "      <td>negatif</td>\n",
       "      <td>44</td>\n",
       "      <td>7.782609</td>\n",
       "    </tr>\n",
       "    <tr>\n",
       "      <th>1</th>\n",
       "      <td>5</td>\n",
       "      <td>konsultasi dokter bagus durasi cepat dokter do...</td>\n",
       "      <td>pelayanan</td>\n",
       "      <td>negatif</td>\n",
       "      <td>10</td>\n",
       "      <td>8.400000</td>\n",
       "    </tr>\n",
       "    <tr>\n",
       "      <th>2</th>\n",
       "      <td>1</td>\n",
       "      <td>astaga obat beli obat harga masuk akal lipat u...</td>\n",
       "      <td>harga</td>\n",
       "      <td>negatif</td>\n",
       "      <td>30</td>\n",
       "      <td>7.466667</td>\n",
       "    </tr>\n",
       "    <tr>\n",
       "      <th>3</th>\n",
       "      <td>5</td>\n",
       "      <td>terima kasih layan baik cepat kirim bantu jele...</td>\n",
       "      <td>pelayanan</td>\n",
       "      <td>positif</td>\n",
       "      <td>13</td>\n",
       "      <td>8.500000</td>\n",
       "    </tr>\n",
       "    <tr>\n",
       "      <th>4</th>\n",
       "      <td>1</td>\n",
       "      <td>telepon nomor hadiah konfirmasi aplikasi hadia...</td>\n",
       "      <td>sistem</td>\n",
       "      <td>positif</td>\n",
       "      <td>10</td>\n",
       "      <td>8.909091</td>\n",
       "    </tr>\n",
       "    <tr>\n",
       "      <th>...</th>\n",
       "      <td>...</td>\n",
       "      <td>...</td>\n",
       "      <td>...</td>\n",
       "      <td>...</td>\n",
       "      <td>...</td>\n",
       "      <td>...</td>\n",
       "    </tr>\n",
       "    <tr>\n",
       "      <th>795</th>\n",
       "      <td>5</td>\n",
       "      <td>mudah klik praktis bantu</td>\n",
       "      <td>anekdot/serbaneka</td>\n",
       "      <td>positif</td>\n",
       "      <td>4</td>\n",
       "      <td>8.250000</td>\n",
       "    </tr>\n",
       "    <tr>\n",
       "      <th>796</th>\n",
       "      <td>5</td>\n",
       "      <td>layan ramah paham bidang</td>\n",
       "      <td>anekdot/serbaneka</td>\n",
       "      <td>positif</td>\n",
       "      <td>4</td>\n",
       "      <td>9.000000</td>\n",
       "    </tr>\n",
       "    <tr>\n",
       "      <th>797</th>\n",
       "      <td>4</td>\n",
       "      <td>bagus aplikasi dokter pribadi terima kasih</td>\n",
       "      <td>anekdot/serbaneka</td>\n",
       "      <td>positif</td>\n",
       "      <td>5</td>\n",
       "      <td>7.833333</td>\n",
       "    </tr>\n",
       "    <tr>\n",
       "      <th>798</th>\n",
       "      <td>5</td>\n",
       "      <td>mudah konsultasi rumah</td>\n",
       "      <td>pelayanan</td>\n",
       "      <td>positif</td>\n",
       "      <td>3</td>\n",
       "      <td>10.333333</td>\n",
       "    </tr>\n",
       "    <tr>\n",
       "      <th>799</th>\n",
       "      <td>5</td>\n",
       "      <td>bantu layan dokter muas</td>\n",
       "      <td>pelayanan</td>\n",
       "      <td>positif</td>\n",
       "      <td>4</td>\n",
       "      <td>10.000000</td>\n",
       "    </tr>\n",
       "  </tbody>\n",
       "</table>\n",
       "<p>800 rows × 6 columns</p>\n",
       "</div>"
      ],
      "text/plain": [
       "     rating                                             review  \\\n",
       "0         3  bantu kondisi pandemi tolong evaluasi dian oba...   \n",
       "1         5  konsultasi dokter bagus durasi cepat dokter do...   \n",
       "2         1  astaga obat beli obat harga masuk akal lipat u...   \n",
       "3         5  terima kasih layan baik cepat kirim bantu jele...   \n",
       "4         1  telepon nomor hadiah konfirmasi aplikasi hadia...   \n",
       "..      ...                                                ...   \n",
       "795       5                           mudah klik praktis bantu   \n",
       "796       5                           layan ramah paham bidang   \n",
       "797       4         bagus aplikasi dokter pribadi terima kasih   \n",
       "798       5                             mudah konsultasi rumah   \n",
       "799       5                            bantu layan dokter muas   \n",
       "\n",
       "       aspect_category polarity  word_count   avg_word  \n",
       "0            pelayanan  negatif          44   7.782609  \n",
       "1            pelayanan  negatif          10   8.400000  \n",
       "2                harga  negatif          30   7.466667  \n",
       "3            pelayanan  positif          13   8.500000  \n",
       "4               sistem  positif          10   8.909091  \n",
       "..                 ...      ...         ...        ...  \n",
       "795  anekdot/serbaneka  positif           4   8.250000  \n",
       "796  anekdot/serbaneka  positif           4   9.000000  \n",
       "797  anekdot/serbaneka  positif           5   7.833333  \n",
       "798          pelayanan  positif           3  10.333333  \n",
       "799          pelayanan  positif           4  10.000000  \n",
       "\n",
       "[800 rows x 6 columns]"
      ]
     },
     "execution_count": 60,
     "metadata": {},
     "output_type": "execute_result"
    }
   ],
   "source": [
    "raw['review'] = raw['review'].apply(lambda x: x.replace(\",\",\" \"))\n",
    "raw"
   ]
  },
  {
   "cell_type": "code",
   "execution_count": 61,
   "metadata": {},
   "outputs": [],
   "source": [
    "raw.to_csv('data/data/1.4_data_clean_stemmed_2.csv',index=False)"
   ]
  },
  {
   "cell_type": "code",
   "execution_count": 62,
   "metadata": {},
   "outputs": [],
   "source": [
    "raw.to_excel('data/data/1.4_data_clean_stemmed_2_excel.xlsx',index=False)"
   ]
  },
  {
   "cell_type": "code",
   "execution_count": null,
   "metadata": {},
   "outputs": [],
   "source": []
  }
 ],
 "metadata": {
  "kernelspec": {
   "display_name": "Python 3",
   "language": "python",
   "name": "python3"
  },
  "language_info": {
   "codemirror_mode": {
    "name": "ipython",
    "version": 3
   },
   "file_extension": ".py",
   "mimetype": "text/x-python",
   "name": "python",
   "nbconvert_exporter": "python",
   "pygments_lexer": "ipython3",
   "version": "3.8.5"
  }
 },
 "nbformat": 4,
 "nbformat_minor": 4
}
