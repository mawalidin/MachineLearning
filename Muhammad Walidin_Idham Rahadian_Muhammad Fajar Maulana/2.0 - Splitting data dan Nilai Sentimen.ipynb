{
 "cells": [
  {
   "cell_type": "markdown",
   "metadata": {},
   "source": [
    "By: 10117094\tMuhammad Walidin\n",
    "    10116476\tIdham Rahadian\n",
    "    10116490\tMuhammad Fajar Maulana"
   ]
  },
  {
   "cell_type": "code",
   "execution_count": 1,
   "metadata": {},
   "outputs": [],
   "source": [
    "import pandas as pd\n",
    "import numpy as np"
   ]
  },
  {
   "cell_type": "code",
   "execution_count": 2,
   "metadata": {},
   "outputs": [
    {
     "data": {
      "text/html": [
       "<div>\n",
       "<style scoped>\n",
       "    .dataframe tbody tr th:only-of-type {\n",
       "        vertical-align: middle;\n",
       "    }\n",
       "\n",
       "    .dataframe tbody tr th {\n",
       "        vertical-align: top;\n",
       "    }\n",
       "\n",
       "    .dataframe thead th {\n",
       "        text-align: right;\n",
       "    }\n",
       "</style>\n",
       "<table border=\"1\" class=\"dataframe\">\n",
       "  <thead>\n",
       "    <tr style=\"text-align: right;\">\n",
       "      <th></th>\n",
       "      <th>rating</th>\n",
       "      <th>review</th>\n",
       "      <th>avg_word</th>\n",
       "      <th>word_count</th>\n",
       "    </tr>\n",
       "  </thead>\n",
       "  <tbody>\n",
       "    <tr>\n",
       "      <th>0</th>\n",
       "      <td>5</td>\n",
       "      <td>'tidak','ada','ulasan'</td>\n",
       "      <td>6.666667</td>\n",
       "      <td>3</td>\n",
       "    </tr>\n",
       "    <tr>\n",
       "      <th>1</th>\n",
       "      <td>5</td>\n",
       "      <td>'puas','kecil','tapi','kencang'</td>\n",
       "      <td>7.000000</td>\n",
       "      <td>4</td>\n",
       "    </tr>\n",
       "    <tr>\n",
       "      <th>2</th>\n",
       "      <td>1</td>\n",
       "      <td>'barang','yang','datang','bukan','baracuda','t...</td>\n",
       "      <td>6.428571</td>\n",
       "      <td>13</td>\n",
       "    </tr>\n",
       "    <tr>\n",
       "      <th>3</th>\n",
       "      <td>5</td>\n",
       "      <td>'terima,kasih','barang','sudah','sampai','seha...</td>\n",
       "      <td>7.666667</td>\n",
       "      <td>17</td>\n",
       "    </tr>\n",
       "    <tr>\n",
       "      <th>4</th>\n",
       "      <td>5</td>\n",
       "      <td>'barang','bagus','pengirman','cepat','mantap',...</td>\n",
       "      <td>7.666667</td>\n",
       "      <td>6</td>\n",
       "    </tr>\n",
       "  </tbody>\n",
       "</table>\n",
       "</div>"
      ],
      "text/plain": [
       "   rating                                             review  avg_word  \\\n",
       "0       5                             'tidak','ada','ulasan'  6.666667   \n",
       "1       5                    'puas','kecil','tapi','kencang'  7.000000   \n",
       "2       1  'barang','yang','datang','bukan','baracuda','t...  6.428571   \n",
       "3       5  'terima,kasih','barang','sudah','sampai','seha...  7.666667   \n",
       "4       5  'barang','bagus','pengirman','cepat','mantap',...  7.666667   \n",
       "\n",
       "   word_count  \n",
       "0           3  \n",
       "1           4  \n",
       "2          13  \n",
       "3          17  \n",
       "4           6  "
      ]
     },
     "execution_count": 2,
     "metadata": {},
     "output_type": "execute_result"
    }
   ],
   "source": [
    "raw = pd.read_csv( \"data/data/1.2_data_review_cleaner_pure.csv\")\n",
    "raw.head()"
   ]
  },
  {
   "cell_type": "code",
   "execution_count": 2,
   "metadata": {},
   "outputs": [
    {
     "name": "stdout",
     "output_type": "stream",
     "text": [
      "All Processed Data\n",
      "Negative:  (226, 2)\n",
      "Positive:  (578, 2)\n"
     ]
    }
   ],
   "source": [
    "raw['review'] = raw['review'].apply(lambda x: x.replace(\",\",\" \"))\n",
    "sentences = raw.loc[:,['review','rating']]\n",
    "def rating_to_sentiment(rating):\n",
    "    if rating > 3:\n",
    "        return 1\n",
    "    else:\n",
    "        return 0\n",
    "    \n",
    "sentences['sentiment'] = sentences['rating'].apply(rating_to_sentiment)\n",
    "sentences.drop(['rating'],axis=1,inplace=True)\n",
    "neg = sentences[sentences['sentiment'] == 0]\n",
    "pos = sentences[sentences['sentiment'] == 1]\n",
    "print(\"All Processed Data\")\n",
    "print(\"Negative: \",neg.shape)\n",
    "print(\"Positive: \",pos.shape)"
   ]
  },
  {
   "cell_type": "code",
   "execution_count": 3,
   "metadata": {},
   "outputs": [],
   "source": [
    "from sklearn.model_selection import train_test_split\n",
    "train, validation = train_test_split(sentences, test_size=0.2, random_state=42)\n",
    "test = validation.loc[:,['review']]"
   ]
  },
  {
   "cell_type": "code",
   "execution_count": 4,
   "metadata": {},
   "outputs": [
    {
     "data": {
      "text/html": [
       "<div>\n",
       "<style scoped>\n",
       "    .dataframe tbody tr th:only-of-type {\n",
       "        vertical-align: middle;\n",
       "    }\n",
       "\n",
       "    .dataframe tbody tr th {\n",
       "        vertical-align: top;\n",
       "    }\n",
       "\n",
       "    .dataframe thead th {\n",
       "        text-align: right;\n",
       "    }\n",
       "</style>\n",
       "<table border=\"1\" class=\"dataframe\">\n",
       "  <thead>\n",
       "    <tr style=\"text-align: right;\">\n",
       "      <th></th>\n",
       "      <th>review</th>\n",
       "      <th>sentiment</th>\n",
       "    </tr>\n",
       "  </thead>\n",
       "  <tbody>\n",
       "    <tr>\n",
       "      <th>344</th>\n",
       "      <td>'pengemasan' 'rapi' 'barang' 'cepat' 'sampai' ...</td>\n",
       "      <td>1</td>\n",
       "    </tr>\n",
       "    <tr>\n",
       "      <th>350</th>\n",
       "      <td>'bungkus' 'tidak' 'profesional' 'seharus' 'mem...</td>\n",
       "      <td>0</td>\n",
       "    </tr>\n",
       "    <tr>\n",
       "      <th>443</th>\n",
       "      <td>'bagus' 'berfungsi' 'dengan' 'baik'</td>\n",
       "      <td>1</td>\n",
       "    </tr>\n",
       "    <tr>\n",
       "      <th>331</th>\n",
       "      <td>'pengemasan' 'aman' 'barang' 'sesuai'</td>\n",
       "      <td>1</td>\n",
       "    </tr>\n",
       "    <tr>\n",
       "      <th>290</th>\n",
       "      <td>'tenaga' 'bank' 'tidak' 'dapat' 'digunakan'</td>\n",
       "      <td>0</td>\n",
       "    </tr>\n",
       "  </tbody>\n",
       "</table>\n",
       "</div>"
      ],
      "text/plain": [
       "                                                review  sentiment\n",
       "344  'pengemasan' 'rapi' 'barang' 'cepat' 'sampai' ...          1\n",
       "350  'bungkus' 'tidak' 'profesional' 'seharus' 'mem...          0\n",
       "443                'bagus' 'berfungsi' 'dengan' 'baik'          1\n",
       "331              'pengemasan' 'aman' 'barang' 'sesuai'          1\n",
       "290        'tenaga' 'bank' 'tidak' 'dapat' 'digunakan'          0"
      ]
     },
     "execution_count": 4,
     "metadata": {},
     "output_type": "execute_result"
    }
   ],
   "source": [
    "train.head()"
   ]
  },
  {
   "cell_type": "code",
   "execution_count": 5,
   "metadata": {},
   "outputs": [
    {
     "name": "stdout",
     "output_type": "stream",
     "text": [
      "(643, 2)\n"
     ]
    }
   ],
   "source": [
    "print(train.shape)"
   ]
  },
  {
   "cell_type": "code",
   "execution_count": 6,
   "metadata": {},
   "outputs": [],
   "source": [
    "train.to_csv(\"data/data/train_1.csv\", index=False, quoting=3)"
   ]
  },
  {
   "cell_type": "code",
   "execution_count": 7,
   "metadata": {},
   "outputs": [
    {
     "data": {
      "text/html": [
       "<div>\n",
       "<style scoped>\n",
       "    .dataframe tbody tr th:only-of-type {\n",
       "        vertical-align: middle;\n",
       "    }\n",
       "\n",
       "    .dataframe tbody tr th {\n",
       "        vertical-align: top;\n",
       "    }\n",
       "\n",
       "    .dataframe thead th {\n",
       "        text-align: right;\n",
       "    }\n",
       "</style>\n",
       "<table border=\"1\" class=\"dataframe\">\n",
       "  <thead>\n",
       "    <tr style=\"text-align: right;\">\n",
       "      <th></th>\n",
       "      <th>review</th>\n",
       "    </tr>\n",
       "  </thead>\n",
       "  <tbody>\n",
       "    <tr>\n",
       "      <th>192</th>\n",
       "      <td>'pesan' 'tangal' 'sembilan' 'mei' 'tujuh' 'bel...</td>\n",
       "    </tr>\n",
       "    <tr>\n",
       "      <th>717</th>\n",
       "      <td>'sempat' 'ada' 'isue' 'dengan' 'laptop' 'tapi'...</td>\n",
       "    </tr>\n",
       "    <tr>\n",
       "      <th>168</th>\n",
       "      <td>'barang' 'cepat' 'diterima' 'dan' 'dalam' 'kea...</td>\n",
       "    </tr>\n",
       "    <tr>\n",
       "      <th>522</th>\n",
       "      <td>'kecewa' 'merek' 'yang' 'dipesan' 'mito' 'yang...</td>\n",
       "    </tr>\n",
       "    <tr>\n",
       "      <th>536</th>\n",
       "      <td>'suara' 'belum' 'teruji'</td>\n",
       "    </tr>\n",
       "  </tbody>\n",
       "</table>\n",
       "</div>"
      ],
      "text/plain": [
       "                                                review\n",
       "192  'pesan' 'tangal' 'sembilan' 'mei' 'tujuh' 'bel...\n",
       "717  'sempat' 'ada' 'isue' 'dengan' 'laptop' 'tapi'...\n",
       "168  'barang' 'cepat' 'diterima' 'dan' 'dalam' 'kea...\n",
       "522  'kecewa' 'merek' 'yang' 'dipesan' 'mito' 'yang...\n",
       "536                           'suara' 'belum' 'teruji'"
      ]
     },
     "execution_count": 7,
     "metadata": {},
     "output_type": "execute_result"
    }
   ],
   "source": [
    "test.head()"
   ]
  },
  {
   "cell_type": "code",
   "execution_count": 8,
   "metadata": {},
   "outputs": [
    {
     "name": "stdout",
     "output_type": "stream",
     "text": [
      "(161, 1)\n"
     ]
    }
   ],
   "source": [
    "print(test.shape)"
   ]
  },
  {
   "cell_type": "code",
   "execution_count": 9,
   "metadata": {},
   "outputs": [],
   "source": [
    "test.to_csv(\"data/data/test_1.csv\", index=False, quoting=3)"
   ]
  },
  {
   "cell_type": "code",
   "execution_count": 10,
   "metadata": {},
   "outputs": [],
   "source": [
    "validation.to_csv(\"data/data/validation_1.csv\", index=False, quoting=3)"
   ]
  },
  {
   "cell_type": "code",
   "execution_count": 11,
   "metadata": {},
   "outputs": [
    {
     "name": "stdout",
     "output_type": "stream",
     "text": [
      "                                                review  rating\n",
      "0                                       tidak ada ulas       5\n",
      "1                              puas kecil tapi kencang       5\n",
      "2    barang yang datang bukan baracuda tiga lima tu...       1\n",
      "3    terima kasih barang sudah sampai hari langsung...       5\n",
      "4              barang bagus pengirman cepat mantap deh       5\n",
      "..                                                 ...     ...\n",
      "799    barang kondisi oke respon cepat dan sangat baik       5\n",
      "800  barang sampai tepat waktu sesuai target lazada...       5\n",
      "801  layan sangat bagus barang sesuai dengan yang p...       5\n",
      "802  barang sampai lebih cepat dan dalam kondisi sa...       5\n",
      "803                             bonus bohong tidak ada       3\n",
      "\n",
      "[804 rows x 2 columns]\n",
      "All Processed Data\n",
      "Negative:  (226, 2)\n",
      "Positive:  (578, 2)\n"
     ]
    }
   ],
   "source": [
    "raw = pd.read_csv( \"data/data/1.3_data_review_stemmed.csv\")\n",
    "raw['review'] = raw['review'].apply(lambda x: x.replace(\",\",\" \"))\n",
    "sentences = raw.loc[:,['review','rating']]\n",
    "print(sentences)    \n",
    "sentences['sentiment'] = sentences['rating'].apply(rating_to_sentiment)\n",
    "sentences.drop(['rating'],axis=1,inplace=True)\n",
    "neg = sentences[sentences['sentiment'] == 0]\n",
    "pos = sentences[sentences['sentiment'] == 1]\n",
    "print(\"All Processed Data\")\n",
    "print(\"Negative: \",neg.shape)\n",
    "print(\"Positive: \",pos.shape)\n",
    "sentences.to_csv(\"data/data/data_latih.csv\", index=False, quoting=3)"
   ]
  },
  {
   "cell_type": "code",
   "execution_count": 12,
   "metadata": {},
   "outputs": [],
   "source": [
    "train, validation = train_test_split(sentences, test_size=0.3, random_state=42)\n",
    "test = validation.loc[:,['review']]"
   ]
  },
  {
   "cell_type": "code",
   "execution_count": 13,
   "metadata": {},
   "outputs": [
    {
     "data": {
      "text/html": [
       "<div>\n",
       "<style scoped>\n",
       "    .dataframe tbody tr th:only-of-type {\n",
       "        vertical-align: middle;\n",
       "    }\n",
       "\n",
       "    .dataframe tbody tr th {\n",
       "        vertical-align: top;\n",
       "    }\n",
       "\n",
       "    .dataframe thead th {\n",
       "        text-align: right;\n",
       "    }\n",
       "</style>\n",
       "<table border=\"1\" class=\"dataframe\">\n",
       "  <thead>\n",
       "    <tr style=\"text-align: right;\">\n",
       "      <th></th>\n",
       "      <th>review</th>\n",
       "      <th>sentiment</th>\n",
       "    </tr>\n",
       "  </thead>\n",
       "  <tbody>\n",
       "    <tr>\n",
       "      <th>319</th>\n",
       "      <td>barang tidak fungsi</td>\n",
       "      <td>0</td>\n",
       "    </tr>\n",
       "    <tr>\n",
       "      <th>132</th>\n",
       "      <td>fd kurang baik cash karena ada yang retak retak</td>\n",
       "      <td>0</td>\n",
       "    </tr>\n",
       "    <tr>\n",
       "      <th>377</th>\n",
       "      <td>barang sampai dengan slamat dan lengkap sesuai...</td>\n",
       "      <td>1</td>\n",
       "    </tr>\n",
       "    <tr>\n",
       "      <th>571</th>\n",
       "      <td>barang sampai dengan selamat emas lumayan dan ...</td>\n",
       "      <td>1</td>\n",
       "    </tr>\n",
       "    <tr>\n",
       "      <th>439</th>\n",
       "      <td>flashdisk error jual tidak brfungsi cuma jadi ...</td>\n",
       "      <td>0</td>\n",
       "    </tr>\n",
       "  </tbody>\n",
       "</table>\n",
       "</div>"
      ],
      "text/plain": [
       "                                                review  sentiment\n",
       "319                                barang tidak fungsi          0\n",
       "132    fd kurang baik cash karena ada yang retak retak          0\n",
       "377  barang sampai dengan slamat dan lengkap sesuai...          1\n",
       "571  barang sampai dengan selamat emas lumayan dan ...          1\n",
       "439  flashdisk error jual tidak brfungsi cuma jadi ...          0"
      ]
     },
     "execution_count": 13,
     "metadata": {},
     "output_type": "execute_result"
    }
   ],
   "source": [
    "train.head()"
   ]
  },
  {
   "cell_type": "code",
   "execution_count": 14,
   "metadata": {},
   "outputs": [
    {
     "name": "stdout",
     "output_type": "stream",
     "text": [
      "(562, 2)\n"
     ]
    }
   ],
   "source": [
    "print(train.shape)"
   ]
  },
  {
   "cell_type": "code",
   "execution_count": 15,
   "metadata": {},
   "outputs": [],
   "source": [
    "train.to_csv(\"data/data/train_2.csv\", index=False, quoting=3)"
   ]
  },
  {
   "cell_type": "code",
   "execution_count": 16,
   "metadata": {},
   "outputs": [
    {
     "data": {
      "text/html": [
       "<div>\n",
       "<style scoped>\n",
       "    .dataframe tbody tr th:only-of-type {\n",
       "        vertical-align: middle;\n",
       "    }\n",
       "\n",
       "    .dataframe tbody tr th {\n",
       "        vertical-align: top;\n",
       "    }\n",
       "\n",
       "    .dataframe thead th {\n",
       "        text-align: right;\n",
       "    }\n",
       "</style>\n",
       "<table border=\"1\" class=\"dataframe\">\n",
       "  <thead>\n",
       "    <tr style=\"text-align: right;\">\n",
       "      <th></th>\n",
       "      <th>review</th>\n",
       "    </tr>\n",
       "  </thead>\n",
       "  <tbody>\n",
       "    <tr>\n",
       "      <th>192</th>\n",
       "      <td>pesan tangal sembilan mei tujuh belas maksimal...</td>\n",
       "    </tr>\n",
       "    <tr>\n",
       "      <th>717</th>\n",
       "      <td>sempat ada isue dengan laptop tapi suport dari...</td>\n",
       "    </tr>\n",
       "    <tr>\n",
       "      <th>168</th>\n",
       "      <td>barang cepat terima dan dalam adan baik rekome...</td>\n",
       "    </tr>\n",
       "    <tr>\n",
       "      <th>522</th>\n",
       "      <td>kecewa merek yang pes mito yang datangatau kir...</td>\n",
       "    </tr>\n",
       "    <tr>\n",
       "      <th>536</th>\n",
       "      <td>suara belum uji</td>\n",
       "    </tr>\n",
       "  </tbody>\n",
       "</table>\n",
       "</div>"
      ],
      "text/plain": [
       "                                                review\n",
       "192  pesan tangal sembilan mei tujuh belas maksimal...\n",
       "717  sempat ada isue dengan laptop tapi suport dari...\n",
       "168  barang cepat terima dan dalam adan baik rekome...\n",
       "522  kecewa merek yang pes mito yang datangatau kir...\n",
       "536                                    suara belum uji"
      ]
     },
     "execution_count": 16,
     "metadata": {},
     "output_type": "execute_result"
    }
   ],
   "source": [
    "test.head()"
   ]
  },
  {
   "cell_type": "code",
   "execution_count": 17,
   "metadata": {},
   "outputs": [
    {
     "name": "stdout",
     "output_type": "stream",
     "text": [
      "(242, 1)\n"
     ]
    }
   ],
   "source": [
    "print(test.shape)"
   ]
  },
  {
   "cell_type": "code",
   "execution_count": 18,
   "metadata": {},
   "outputs": [],
   "source": [
    "test.to_csv(\"data/data/test_2.csv\", index=False, quoting=3)"
   ]
  },
  {
   "cell_type": "code",
   "execution_count": 19,
   "metadata": {},
   "outputs": [],
   "source": [
    "validation.to_csv(\"data/data/validation_2.csv\", index=False, quoting=3)"
   ]
  },
  {
   "cell_type": "code",
   "execution_count": null,
   "metadata": {},
   "outputs": [],
   "source": []
  }
 ],
 "metadata": {
  "kernelspec": {
   "display_name": "Python 3",
   "language": "python",
   "name": "python3"
  },
  "language_info": {
   "codemirror_mode": {
    "name": "ipython",
    "version": 3
   },
   "file_extension": ".py",
   "mimetype": "text/x-python",
   "name": "python",
   "nbconvert_exporter": "python",
   "pygments_lexer": "ipython3",
   "version": "3.8.5"
  }
 },
 "nbformat": 4,
 "nbformat_minor": 4
}
