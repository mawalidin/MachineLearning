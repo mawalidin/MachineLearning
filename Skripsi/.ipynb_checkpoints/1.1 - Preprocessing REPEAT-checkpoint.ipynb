{
 "cells": [
  {
   "cell_type": "code",
   "execution_count": 1,
   "metadata": {},
   "outputs": [],
   "source": [
    "import pandas as pd\n",
    "import numpy as np\n",
    "import string\n",
    "import itertools\n",
    "import re\n",
    "from collections import Counter"
   ]
  },
  {
   "cell_type": "code",
   "execution_count": 2,
   "metadata": {},
   "outputs": [],
   "source": [
    "raw = pd.read_csv( \"data/data/data_clean.csv\")\n",
    "slang_words = pd.read_csv(\"data/external/kbba_ID.txt\",\n",
    "                        sep=\"\\t\", header=None)\n",
    "slang = pd.read_csv(\"data/external/slangword_ID.txt\",\n",
    "                        sep=\":\", header=None)\n",
    "baku_words = pd.read_csv(\"data/external/katabaku_ID.txt\",\n",
    "                        sep=\"|\", header=None)\n",
    "baku_words.columns = [1,0]\n",
    "slang_words = pd.concat([slang_words, slang, baku_words])"
   ]
  },
  {
   "cell_type": "code",
   "execution_count": 3,
   "metadata": {},
   "outputs": [],
   "source": [
    "slang_words.drop_duplicates(inplace=True)\n",
    "slang_words = dict(zip(slang_words[0],slang_words[1]))"
   ]
  },
  {
   "cell_type": "code",
   "execution_count": 4,
   "metadata": {},
   "outputs": [
    {
     "name": "stdout",
     "output_type": "stream",
     "text": [
      "<class 'pandas.core.frame.DataFrame'>\n",
      "RangeIndex: 800 entries, 0 to 799\n",
      "Data columns (total 4 columns):\n",
      " #   Column           Non-Null Count  Dtype \n",
      "---  ------           --------------  ----- \n",
      " 0   rating           800 non-null    int64 \n",
      " 1   review           800 non-null    object\n",
      " 2   aspect_category  800 non-null    object\n",
      " 3   polarity         800 non-null    object\n",
      "dtypes: int64(1), object(3)\n",
      "memory usage: 25.1+ KB\n",
      "None\n"
     ]
    }
   ],
   "source": [
    "print(raw.info())"
   ]
  },
  {
   "cell_type": "code",
   "execution_count": 5,
   "metadata": {},
   "outputs": [
    {
     "data": {
      "text/html": [
       "<div>\n",
       "<style scoped>\n",
       "    .dataframe tbody tr th:only-of-type {\n",
       "        vertical-align: middle;\n",
       "    }\n",
       "\n",
       "    .dataframe tbody tr th {\n",
       "        vertical-align: top;\n",
       "    }\n",
       "\n",
       "    .dataframe thead th {\n",
       "        text-align: right;\n",
       "    }\n",
       "</style>\n",
       "<table border=\"1\" class=\"dataframe\">\n",
       "  <thead>\n",
       "    <tr style=\"text-align: right;\">\n",
       "      <th></th>\n",
       "      <th>rating</th>\n",
       "      <th>review</th>\n",
       "      <th>aspect_category</th>\n",
       "      <th>polarity</th>\n",
       "    </tr>\n",
       "  </thead>\n",
       "  <tbody>\n",
       "    <tr>\n",
       "      <th>0</th>\n",
       "      <td>3</td>\n",
       "      <td>['membantu', 'kondisi', 'pandemi', 'tolong', '...</td>\n",
       "      <td>Pelayanan</td>\n",
       "      <td>negatif</td>\n",
       "    </tr>\n",
       "    <tr>\n",
       "      <th>1</th>\n",
       "      <td>5</td>\n",
       "      <td>['konsultasi', 'dokter', 'bagus', 'durasi', 'c...</td>\n",
       "      <td>Pelayanan</td>\n",
       "      <td>negatif</td>\n",
       "    </tr>\n",
       "    <tr>\n",
       "      <th>2</th>\n",
       "      <td>1</td>\n",
       "      <td>['astaga', 'obat', 'beli', 'obat', 'harga', 'm...</td>\n",
       "      <td>Harga</td>\n",
       "      <td>negatif</td>\n",
       "    </tr>\n",
       "    <tr>\n",
       "      <th>3</th>\n",
       "      <td>5</td>\n",
       "      <td>['terima kasih', 'pelayanan', 'baik', 'cepat',...</td>\n",
       "      <td>Pelayanan</td>\n",
       "      <td>positif</td>\n",
       "    </tr>\n",
       "    <tr>\n",
       "      <th>4</th>\n",
       "      <td>1</td>\n",
       "      <td>['menelepon', 'nomor', 'hadiah', 'konfirmasi',...</td>\n",
       "      <td>Sistem</td>\n",
       "      <td>positif</td>\n",
       "    </tr>\n",
       "  </tbody>\n",
       "</table>\n",
       "</div>"
      ],
      "text/plain": [
       "   rating                                             review aspect_category  \\\n",
       "0       3  ['membantu', 'kondisi', 'pandemi', 'tolong', '...       Pelayanan   \n",
       "1       5  ['konsultasi', 'dokter', 'bagus', 'durasi', 'c...       Pelayanan   \n",
       "2       1  ['astaga', 'obat', 'beli', 'obat', 'harga', 'm...           Harga   \n",
       "3       5  ['terima kasih', 'pelayanan', 'baik', 'cepat',...       Pelayanan   \n",
       "4       1  ['menelepon', 'nomor', 'hadiah', 'konfirmasi',...          Sistem   \n",
       "\n",
       "  polarity  \n",
       "0  negatif  \n",
       "1  negatif  \n",
       "2  negatif  \n",
       "3  positif  \n",
       "4  positif  "
      ]
     },
     "execution_count": 5,
     "metadata": {},
     "output_type": "execute_result"
    }
   ],
   "source": [
    "raw.head()"
   ]
  },
  {
   "cell_type": "code",
   "execution_count": 6,
   "metadata": {},
   "outputs": [
    {
     "data": {
      "text/plain": [
       "\"['terbaik', 'bagus', 'membantu', 'pandemi', 'suka']\""
      ]
     },
     "execution_count": 6,
     "metadata": {},
     "output_type": "execute_result"
    }
   ],
   "source": [
    "raw['review'][784]"
   ]
  },
  {
   "cell_type": "code",
   "execution_count": 7,
   "metadata": {},
   "outputs": [
    {
     "data": {
      "text/plain": [
       "\"['astaga', 'obat', 'beli', 'obat', 'harga', 'masuk', 'akal', 'lipat', 'ulang', 'chat', 'bantuan', 'coba', 'pembayaran', 'resep', 'bank', 'berbeda', 'obat', 'gagal', 'solusi', 'penyelesain', 'berulang', 'gagal', 'harga', 'obat', 'masuk', 'akal', 'semoga', 'baik', 'banding', 'pesaing']\""
      ]
     },
     "execution_count": 7,
     "metadata": {},
     "output_type": "execute_result"
    }
   ],
   "source": [
    "raw['review'][2]"
   ]
  },
  {
   "cell_type": "code",
   "execution_count": 8,
   "metadata": {},
   "outputs": [],
   "source": [
    "def remove_numeric(review):\n",
    "    return re.sub(\"\\d\",\" \", review)\n",
    "\n",
    "raw['review'] = raw['review'].apply(remove_numeric)"
   ]
  },
  {
   "cell_type": "code",
   "execution_count": 9,
   "metadata": {},
   "outputs": [
    {
     "data": {
      "text/html": [
       "<div>\n",
       "<style scoped>\n",
       "    .dataframe tbody tr th:only-of-type {\n",
       "        vertical-align: middle;\n",
       "    }\n",
       "\n",
       "    .dataframe tbody tr th {\n",
       "        vertical-align: top;\n",
       "    }\n",
       "\n",
       "    .dataframe thead th {\n",
       "        text-align: right;\n",
       "    }\n",
       "</style>\n",
       "<table border=\"1\" class=\"dataframe\">\n",
       "  <thead>\n",
       "    <tr style=\"text-align: right;\">\n",
       "      <th></th>\n",
       "      <th>rating</th>\n",
       "      <th>review</th>\n",
       "      <th>aspect_category</th>\n",
       "      <th>polarity</th>\n",
       "    </tr>\n",
       "  </thead>\n",
       "  <tbody>\n",
       "    <tr>\n",
       "      <th>0</th>\n",
       "      <td>3</td>\n",
       "      <td>['membantu', 'kondisi', 'pandemi', 'tolong', '...</td>\n",
       "      <td>Pelayanan</td>\n",
       "      <td>negatif</td>\n",
       "    </tr>\n",
       "    <tr>\n",
       "      <th>1</th>\n",
       "      <td>5</td>\n",
       "      <td>['konsultasi', 'dokter', 'bagus', 'durasi', 'c...</td>\n",
       "      <td>Pelayanan</td>\n",
       "      <td>negatif</td>\n",
       "    </tr>\n",
       "    <tr>\n",
       "      <th>2</th>\n",
       "      <td>1</td>\n",
       "      <td>['astaga', 'obat', 'beli', 'obat', 'harga', 'm...</td>\n",
       "      <td>Harga</td>\n",
       "      <td>negatif</td>\n",
       "    </tr>\n",
       "    <tr>\n",
       "      <th>3</th>\n",
       "      <td>5</td>\n",
       "      <td>['terima kasih', 'pelayanan', 'baik', 'cepat',...</td>\n",
       "      <td>Pelayanan</td>\n",
       "      <td>positif</td>\n",
       "    </tr>\n",
       "    <tr>\n",
       "      <th>4</th>\n",
       "      <td>1</td>\n",
       "      <td>['menelepon', 'nomor', 'hadiah', 'konfirmasi',...</td>\n",
       "      <td>Sistem</td>\n",
       "      <td>positif</td>\n",
       "    </tr>\n",
       "  </tbody>\n",
       "</table>\n",
       "</div>"
      ],
      "text/plain": [
       "   rating                                             review aspect_category  \\\n",
       "0       3  ['membantu', 'kondisi', 'pandemi', 'tolong', '...       Pelayanan   \n",
       "1       5  ['konsultasi', 'dokter', 'bagus', 'durasi', 'c...       Pelayanan   \n",
       "2       1  ['astaga', 'obat', 'beli', 'obat', 'harga', 'm...           Harga   \n",
       "3       5  ['terima kasih', 'pelayanan', 'baik', 'cepat',...       Pelayanan   \n",
       "4       1  ['menelepon', 'nomor', 'hadiah', 'konfirmasi',...          Sistem   \n",
       "\n",
       "  polarity  \n",
       "0  negatif  \n",
       "1  negatif  \n",
       "2  negatif  \n",
       "3  positif  \n",
       "4  positif  "
      ]
     },
     "execution_count": 9,
     "metadata": {},
     "output_type": "execute_result"
    }
   ],
   "source": [
    "raw.head()"
   ]
  },
  {
   "cell_type": "code",
   "execution_count": 10,
   "metadata": {},
   "outputs": [],
   "source": [
    "def csv_string_to_list(csv_string):\n",
    "    return csv_string[1:-1].split(\",\")\n",
    "\n",
    "def string_without_quotes(word_list):\n",
    "    new  = []\n",
    "    for word in word_list:\n",
    "        new.append(word.replace(\"'\",\"\"))\n",
    "    return new\n",
    "\n",
    "def delete_suffix_nya(review):\n",
    "    return re.sub(\"(?:nya|ny)[$|\\s]\",\"\",review)"
   ]
  },
  {
   "cell_type": "code",
   "execution_count": 11,
   "metadata": {},
   "outputs": [
    {
     "data": {
      "text/plain": [
       "0      ['membantu', 'kondisi', 'pandemi', 'tolong', '...\n",
       "1      ['konsultasi', 'dokter', 'bagus', 'durasi', 'c...\n",
       "2      ['astaga', 'obat', 'beli', 'obat', 'harga', 'm...\n",
       "3      ['terima kasih', 'pelayanan', 'baik', 'cepat',...\n",
       "4      ['menelepon', 'nomor', 'hadiah', 'konfirmasi',...\n",
       "                             ...                        \n",
       "795            ['semudah', 'diklik', 'praktis', 'bantu']\n",
       "796         ['pelayanan', 'ramah', 'paham', 'bidangnya']\n",
       "797    ['bagus', 'aplikasi', 'dokter', 'pribadi', 'te...\n",
       "798                ['memudahkan', 'konsultasi', 'rumah']\n",
       "799     ['membantu', 'pelayanan', 'dokter', 'memuaskan']\n",
       "Name: review, Length: 800, dtype: object"
      ]
     },
     "execution_count": 11,
     "metadata": {},
     "output_type": "execute_result"
    }
   ],
   "source": [
    "raw['review'] = raw['review'].apply(delete_suffix_nya)\n",
    "raw['review']"
   ]
  },
  {
   "cell_type": "code",
   "execution_count": 12,
   "metadata": {},
   "outputs": [
    {
     "data": {
      "text/plain": [
       "0      ['membantu',  'kondisi',  'pandemi',  'tolong'...\n",
       "1      ['konsultasi',  'dokter',  'bagus',  'durasi',...\n",
       "2      ['astaga',  'obat',  'beli',  'obat',  'harga'...\n",
       "3      ['terima kasih',  'pelayanan',  'baik',  'cepa...\n",
       "4      ['menelepon',  'nomor',  'hadiah',  'konfirmas...\n",
       "                             ...                        \n",
       "795         ['semudah',  'diklik',  'praktis',  'bantu']\n",
       "796      ['pelayanan',  'ramah',  'paham',  'bidangnya']\n",
       "797    ['bagus',  'aplikasi',  'dokter',  'pribadi', ...\n",
       "798              ['memudahkan',  'konsultasi',  'rumah']\n",
       "799    ['membantu',  'pelayanan',  'dokter',  'memuas...\n",
       "Name: review, Length: 800, dtype: object"
      ]
     },
     "execution_count": 12,
     "metadata": {},
     "output_type": "execute_result"
    }
   ],
   "source": [
    "raw['review'] = raw['review'].apply(csv_string_to_list)\n",
    "raw['review']"
   ]
  },
  {
   "cell_type": "code",
   "execution_count": 13,
   "metadata": {},
   "outputs": [],
   "source": [
    "def mapping_slang_words(review):\n",
    "    return [slang_words[word] if word in slang_words else word for word in review]\n",
    "raw['review'] = raw['review'].apply(mapping_slang_words)"
   ]
  },
  {
   "cell_type": "code",
   "execution_count": 14,
   "metadata": {},
   "outputs": [
    {
     "data": {
      "text/plain": [
       "0      ['membantu',  'kondisi',  'pandemi',  'tolong'...\n",
       "1      ['konsultasi',  'dokter',  'bagus',  'durasi',...\n",
       "2      ['astaga',  'obat',  'beli',  'obat',  'harga'...\n",
       "3      ['terima kasih',  'pelayanan',  'baik',  'cepa...\n",
       "4      ['menelepon',  'nomor',  'hadiah',  'konfirmas...\n",
       "                             ...                        \n",
       "795         ['semudah',  'diklik',  'praktis',  'bantu']\n",
       "796      ['pelayanan',  'ramah',  'paham',  'bidangnya']\n",
       "797    ['bagus',  'aplikasi',  'dokter',  'pribadi', ...\n",
       "798              ['memudahkan',  'konsultasi',  'rumah']\n",
       "799    ['membantu',  'pelayanan',  'dokter',  'memuas...\n",
       "Name: review, Length: 800, dtype: object"
      ]
     },
     "execution_count": 14,
     "metadata": {},
     "output_type": "execute_result"
    }
   ],
   "source": [
    "raw['review']"
   ]
  },
  {
   "cell_type": "code",
   "execution_count": 15,
   "metadata": {},
   "outputs": [],
   "source": [
    "def remove_single_alphabet_only(review):\n",
    "    return [word for word in review if word not in string.ascii_lowercase]\n",
    "\n",
    "def remove_too_short_words(review):\n",
    "    return [word for word in review if len(word) > 2]"
   ]
  },
  {
   "cell_type": "code",
   "execution_count": 16,
   "metadata": {},
   "outputs": [],
   "source": [
    "raw['review'] = raw['review'].apply(remove_single_alphabet_only)\n",
    "raw['review'] = raw['review'].apply(remove_too_short_words)"
   ]
  },
  {
   "cell_type": "code",
   "execution_count": 17,
   "metadata": {},
   "outputs": [],
   "source": [
    "raw = raw.dropna(subset=['review'],how='all')\n",
    "raw = raw[raw['review'].map(len) > 0]\n",
    "raw['word_count'] = raw['review'].map(len)\n",
    "def convert_list_to_string(word_list):\n",
    "    return \",\".join(word_list)\n",
    "raw['review'] = raw['review'].apply(convert_list_to_string)\n",
    "raw = raw.dropna(subset=['review'],how='all')\n",
    "raw = raw[raw['review'].map(len) > 0]"
   ]
  },
  {
   "cell_type": "code",
   "execution_count": 18,
   "metadata": {},
   "outputs": [
    {
     "data": {
      "text/plain": [
       " 'dokter'        214\n",
       " 'obat'          139\n",
       " 'konsultasi'    134\n",
       " 'aplikasi'      117\n",
       " 'cepat'          98\n",
       " 'membantu'       94\n",
       " 'bagus'          81\n",
       " 'terima'         65\n",
       " 'ramah'          56\n",
       " 'respon'         56\n",
       "dtype: int64"
      ]
     },
     "execution_count": 18,
     "metadata": {},
     "output_type": "execute_result"
    }
   ],
   "source": [
    "most_common = pd.Series(''.join(raw['review']).split(\",\")).value_counts()[:10]\n",
    "most_common"
   ]
  },
  {
   "cell_type": "code",
   "execution_count": 19,
   "metadata": {},
   "outputs": [
    {
     "data": {
      "text/html": [
       "<div>\n",
       "<style scoped>\n",
       "    .dataframe tbody tr th:only-of-type {\n",
       "        vertical-align: middle;\n",
       "    }\n",
       "\n",
       "    .dataframe tbody tr th {\n",
       "        vertical-align: top;\n",
       "    }\n",
       "\n",
       "    .dataframe thead th {\n",
       "        text-align: right;\n",
       "    }\n",
       "</style>\n",
       "<table border=\"1\" class=\"dataframe\">\n",
       "  <thead>\n",
       "    <tr style=\"text-align: right;\">\n",
       "      <th></th>\n",
       "      <th>rating</th>\n",
       "      <th>review</th>\n",
       "      <th>aspect_category</th>\n",
       "      <th>polarity</th>\n",
       "      <th>word_count</th>\n",
       "    </tr>\n",
       "  </thead>\n",
       "  <tbody>\n",
       "    <tr>\n",
       "      <th>0</th>\n",
       "      <td>3</td>\n",
       "      <td>'membantu', 'kondisi', 'pandemi', 'tolong', 'e...</td>\n",
       "      <td>Pelayanan</td>\n",
       "      <td>negatif</td>\n",
       "      <td>44</td>\n",
       "    </tr>\n",
       "    <tr>\n",
       "      <th>1</th>\n",
       "      <td>5</td>\n",
       "      <td>'konsultasi', 'dokter', 'bagus', 'durasi', 'ce...</td>\n",
       "      <td>Pelayanan</td>\n",
       "      <td>negatif</td>\n",
       "      <td>10</td>\n",
       "    </tr>\n",
       "    <tr>\n",
       "      <th>2</th>\n",
       "      <td>1</td>\n",
       "      <td>'astaga', 'obat', 'beli', 'obat', 'harga', 'ma...</td>\n",
       "      <td>Harga</td>\n",
       "      <td>negatif</td>\n",
       "      <td>30</td>\n",
       "    </tr>\n",
       "    <tr>\n",
       "      <th>3</th>\n",
       "      <td>5</td>\n",
       "      <td>'terima kasih', 'pelayanan', 'baik', 'cepat', ...</td>\n",
       "      <td>Pelayanan</td>\n",
       "      <td>positif</td>\n",
       "      <td>13</td>\n",
       "    </tr>\n",
       "    <tr>\n",
       "      <th>4</th>\n",
       "      <td>1</td>\n",
       "      <td>'menelepon', 'nomor', 'hadiah', 'konfirmasi', ...</td>\n",
       "      <td>Sistem</td>\n",
       "      <td>positif</td>\n",
       "      <td>10</td>\n",
       "    </tr>\n",
       "    <tr>\n",
       "      <th>...</th>\n",
       "      <td>...</td>\n",
       "      <td>...</td>\n",
       "      <td>...</td>\n",
       "      <td>...</td>\n",
       "      <td>...</td>\n",
       "    </tr>\n",
       "    <tr>\n",
       "      <th>795</th>\n",
       "      <td>5</td>\n",
       "      <td>'semudah', 'diklik', 'praktis', 'bantu'</td>\n",
       "      <td>Anekdot/Serbaneka</td>\n",
       "      <td>positif</td>\n",
       "      <td>4</td>\n",
       "    </tr>\n",
       "    <tr>\n",
       "      <th>796</th>\n",
       "      <td>5</td>\n",
       "      <td>'pelayanan', 'ramah', 'paham', 'bidangnya'</td>\n",
       "      <td>Anekdot/Serbaneka</td>\n",
       "      <td>positif</td>\n",
       "      <td>4</td>\n",
       "    </tr>\n",
       "    <tr>\n",
       "      <th>797</th>\n",
       "      <td>4</td>\n",
       "      <td>'bagus', 'aplikasi', 'dokter', 'pribadi', 'ter...</td>\n",
       "      <td>Anekdot/Serbaneka</td>\n",
       "      <td>positif</td>\n",
       "      <td>5</td>\n",
       "    </tr>\n",
       "    <tr>\n",
       "      <th>798</th>\n",
       "      <td>5</td>\n",
       "      <td>'memudahkan', 'konsultasi', 'rumah'</td>\n",
       "      <td>Pelayanan</td>\n",
       "      <td>positif</td>\n",
       "      <td>3</td>\n",
       "    </tr>\n",
       "    <tr>\n",
       "      <th>799</th>\n",
       "      <td>5</td>\n",
       "      <td>'membantu', 'pelayanan', 'dokter', 'memuaskan'</td>\n",
       "      <td>Pelayanan</td>\n",
       "      <td>positif</td>\n",
       "      <td>4</td>\n",
       "    </tr>\n",
       "  </tbody>\n",
       "</table>\n",
       "<p>800 rows × 5 columns</p>\n",
       "</div>"
      ],
      "text/plain": [
       "     rating                                             review  \\\n",
       "0         3  'membantu', 'kondisi', 'pandemi', 'tolong', 'e...   \n",
       "1         5  'konsultasi', 'dokter', 'bagus', 'durasi', 'ce...   \n",
       "2         1  'astaga', 'obat', 'beli', 'obat', 'harga', 'ma...   \n",
       "3         5  'terima kasih', 'pelayanan', 'baik', 'cepat', ...   \n",
       "4         1  'menelepon', 'nomor', 'hadiah', 'konfirmasi', ...   \n",
       "..      ...                                                ...   \n",
       "795       5            'semudah', 'diklik', 'praktis', 'bantu'   \n",
       "796       5         'pelayanan', 'ramah', 'paham', 'bidangnya'   \n",
       "797       4  'bagus', 'aplikasi', 'dokter', 'pribadi', 'ter...   \n",
       "798       5                'memudahkan', 'konsultasi', 'rumah'   \n",
       "799       5     'membantu', 'pelayanan', 'dokter', 'memuaskan'   \n",
       "\n",
       "       aspect_category polarity  word_count  \n",
       "0            Pelayanan  negatif          44  \n",
       "1            Pelayanan  negatif          10  \n",
       "2                Harga  negatif          30  \n",
       "3            Pelayanan  positif          13  \n",
       "4               Sistem  positif          10  \n",
       "..                 ...      ...         ...  \n",
       "795  Anekdot/Serbaneka  positif           4  \n",
       "796  Anekdot/Serbaneka  positif           4  \n",
       "797  Anekdot/Serbaneka  positif           5  \n",
       "798          Pelayanan  positif           3  \n",
       "799          Pelayanan  positif           4  \n",
       "\n",
       "[800 rows x 5 columns]"
      ]
     },
     "execution_count": 19,
     "metadata": {},
     "output_type": "execute_result"
    }
   ],
   "source": [
    "raw"
   ]
  },
  {
   "cell_type": "code",
   "execution_count": 20,
   "metadata": {},
   "outputs": [],
   "source": [
    "def avg_word(words):\n",
    "  return (sum(len(word) for word in words)/len(words))\n",
    "\n",
    "raw['avg_word'] = raw['review'].apply(lambda x: avg_word(x.split(\",\")))"
   ]
  },
  {
   "cell_type": "code",
   "execution_count": 21,
   "metadata": {},
   "outputs": [],
   "source": [
    "raw.to_csv(\"data/data/data_clean_clean.csv\", index=False)"
   ]
  },
  {
   "cell_type": "code",
   "execution_count": null,
   "metadata": {},
   "outputs": [],
   "source": []
  },
  {
   "cell_type": "code",
   "execution_count": null,
   "metadata": {},
   "outputs": [],
   "source": []
  },
  {
   "cell_type": "code",
   "execution_count": null,
   "metadata": {},
   "outputs": [],
   "source": []
  }
 ],
 "metadata": {
  "kernelspec": {
   "display_name": "Python 3",
   "language": "python",
   "name": "python3"
  },
  "language_info": {
   "codemirror_mode": {
    "name": "ipython",
    "version": 3
   },
   "file_extension": ".py",
   "mimetype": "text/x-python",
   "name": "python",
   "nbconvert_exporter": "python",
   "pygments_lexer": "ipython3",
   "version": "3.8.5"
  }
 },
 "nbformat": 4,
 "nbformat_minor": 4
}
