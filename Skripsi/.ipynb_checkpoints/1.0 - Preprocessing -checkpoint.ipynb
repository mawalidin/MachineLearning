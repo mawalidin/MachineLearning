{
 "cells": [
  {
   "cell_type": "markdown",
   "metadata": {},
   "source": [
    "\n",
    "# Objective\n",
    "- Unstructured text data --> normalized word list\n",
    "- Extract feature from text data"
   ]
  },
  {
   "cell_type": "markdown",
   "metadata": {},
   "source": [
    "# Method\n",
    "- Number to Words Translation\n",
    "- Case to Lower\n",
    "- Emoticon to Words Translation\n",
    "- Symbol to Words Translation\n",
    "- Translate Reduplication\n",
    "- Non-Alphanumeric removal\n",
    "- Slang and Abbrv Lookup\n",
    "- Word Standardization\n",
    "- Tokenization"
   ]
  },
  {
   "cell_type": "code",
   "execution_count": 1,
   "metadata": {},
   "outputs": [],
   "source": [
    "import pandas as pd\n",
    "import numpy as np\n",
    "import re\n",
    "import string\n",
    "import itertools\n",
    "import collections\n",
    "from collections import OrderedDict, Counter"
   ]
  },
  {
   "cell_type": "code",
   "execution_count": 2,
   "metadata": {},
   "outputs": [
    {
     "data": {
      "text/html": [
       "<div>\n",
       "<style scoped>\n",
       "    .dataframe tbody tr th:only-of-type {\n",
       "        vertical-align: middle;\n",
       "    }\n",
       "\n",
       "    .dataframe tbody tr th {\n",
       "        vertical-align: top;\n",
       "    }\n",
       "\n",
       "    .dataframe thead th {\n",
       "        text-align: right;\n",
       "    }\n",
       "</style>\n",
       "<table border=\"1\" class=\"dataframe\">\n",
       "  <thead>\n",
       "    <tr style=\"text-align: right;\">\n",
       "      <th></th>\n",
       "      <th>rating</th>\n",
       "      <th>review</th>\n",
       "      <th>aspect_category</th>\n",
       "      <th>polarity</th>\n",
       "    </tr>\n",
       "  </thead>\n",
       "  <tbody>\n",
       "    <tr>\n",
       "      <th>0</th>\n",
       "      <td>3</td>\n",
       "      <td>Sangat Membantu. Terutama di kondisi Pandemi. ...</td>\n",
       "      <td>Pelayanan</td>\n",
       "      <td>Negatif</td>\n",
       "    </tr>\n",
       "    <tr>\n",
       "      <th>1</th>\n",
       "      <td>5</td>\n",
       "      <td>Baru pertama konsultasi dokter lewat halo doc ...</td>\n",
       "      <td>Pelayanan</td>\n",
       "      <td>Negatif</td>\n",
       "    </tr>\n",
       "    <tr>\n",
       "      <th>2</th>\n",
       "      <td>1</td>\n",
       "      <td>astaga obatnya semakin lama beli obat di halo ...</td>\n",
       "      <td>Harga</td>\n",
       "      <td>Negatif</td>\n",
       "    </tr>\n",
       "    <tr>\n",
       "      <th>3</th>\n",
       "      <td>5</td>\n",
       "      <td>Terimakasih Halodoc atas pelayanannya sangat b...</td>\n",
       "      <td>Pelayanan</td>\n",
       "      <td>Positif</td>\n",
       "    </tr>\n",
       "    <tr>\n",
       "      <th>4</th>\n",
       "      <td>1</td>\n",
       "      <td>Ada yang nelpon ke no saya katanya dari halodo...</td>\n",
       "      <td>Sistem</td>\n",
       "      <td>Positif</td>\n",
       "    </tr>\n",
       "    <tr>\n",
       "      <th>...</th>\n",
       "      <td>...</td>\n",
       "      <td>...</td>\n",
       "      <td>...</td>\n",
       "      <td>...</td>\n",
       "    </tr>\n",
       "    <tr>\n",
       "      <th>795</th>\n",
       "      <td>5</td>\n",
       "      <td>Semudah diklik, praktis dan sangat membantu👌</td>\n",
       "      <td>Anekdot/Serbaneka</td>\n",
       "      <td>Positif</td>\n",
       "    </tr>\n",
       "    <tr>\n",
       "      <th>796</th>\n",
       "      <td>5</td>\n",
       "      <td>Pelayanannya ramah . Paham dengan bidangnya</td>\n",
       "      <td>Anekdot/Serbaneka</td>\n",
       "      <td>Positif</td>\n",
       "    </tr>\n",
       "    <tr>\n",
       "      <th>797</th>\n",
       "      <td>4</td>\n",
       "      <td>bagus aplikasi nya terasa punya dokter pribadi...</td>\n",
       "      <td>Anekdot/Serbaneka</td>\n",
       "      <td>Positif</td>\n",
       "    </tr>\n",
       "    <tr>\n",
       "      <th>798</th>\n",
       "      <td>5</td>\n",
       "      <td>sangat memudahkan konsultasi tanpa keluar rumah</td>\n",
       "      <td>Pelayanan</td>\n",
       "      <td>Positif</td>\n",
       "    </tr>\n",
       "    <tr>\n",
       "      <th>799</th>\n",
       "      <td>5</td>\n",
       "      <td>Sangat membantu dan pelayanan dokter memuaskan</td>\n",
       "      <td>Pelayanan</td>\n",
       "      <td>Positif</td>\n",
       "    </tr>\n",
       "  </tbody>\n",
       "</table>\n",
       "<p>800 rows × 4 columns</p>\n",
       "</div>"
      ],
      "text/plain": [
       "     rating                                             review  \\\n",
       "0         3  Sangat Membantu. Terutama di kondisi Pandemi. ...   \n",
       "1         5  Baru pertama konsultasi dokter lewat halo doc ...   \n",
       "2         1  astaga obatnya semakin lama beli obat di halo ...   \n",
       "3         5  Terimakasih Halodoc atas pelayanannya sangat b...   \n",
       "4         1  Ada yang nelpon ke no saya katanya dari halodo...   \n",
       "..      ...                                                ...   \n",
       "795       5       Semudah diklik, praktis dan sangat membantu👌   \n",
       "796       5        Pelayanannya ramah . Paham dengan bidangnya   \n",
       "797       4  bagus aplikasi nya terasa punya dokter pribadi...   \n",
       "798       5    sangat memudahkan konsultasi tanpa keluar rumah   \n",
       "799       5     Sangat membantu dan pelayanan dokter memuaskan   \n",
       "\n",
       "       aspect_category polarity  \n",
       "0            Pelayanan  Negatif  \n",
       "1            Pelayanan  Negatif  \n",
       "2                Harga  Negatif  \n",
       "3            Pelayanan  Positif  \n",
       "4               Sistem  Positif  \n",
       "..                 ...      ...  \n",
       "795  Anekdot/Serbaneka  Positif  \n",
       "796  Anekdot/Serbaneka  Positif  \n",
       "797  Anekdot/Serbaneka  Positif  \n",
       "798          Pelayanan  Positif  \n",
       "799          Pelayanan  Positif  \n",
       "\n",
       "[800 rows x 4 columns]"
      ]
     },
     "execution_count": 2,
     "metadata": {},
     "output_type": "execute_result"
    }
   ],
   "source": [
    "raw = pd.read_csv('data/data/data_raw.csv')\n",
    "raw"
   ]
  },
  {
   "cell_type": "markdown",
   "metadata": {},
   "source": [
    "# Contoh Data untuk Cleaning"
   ]
  },
  {
   "cell_type": "code",
   "execution_count": 3,
   "metadata": {},
   "outputs": [
    {
     "data": {
      "text/plain": [
       "'Sangat Membantu. Terutama di kondisi Pandemi. Tapi tolong diEvaluasi Ketersediaan Obat di Apotik rekanan HALODOC di Kota MANADO. Untuk resep obat batuk biasa saja Apotik suka habis. Jadi sia2 konsultasi dgn dokter ujung2nya obat yg diresepkan ga ada di Apotik. Jadi rugi dong saya harus chat kembali dobel biaya. Ini Masukan agar HALODOC lebih baik lagi. Sudah pakai fitur chat with us tapi jawaban CS HALODOC sbb: CS Tidak bisa merubah produk obat & menyarankan konsultasi lagi dgn dokter😞'"
      ]
     },
     "execution_count": 3,
     "metadata": {},
     "output_type": "execute_result"
    }
   ],
   "source": [
    "raw['review'][0]"
   ]
  },
  {
   "cell_type": "markdown",
   "metadata": {},
   "source": [
    "Contoh emoticon"
   ]
  },
  {
   "cell_type": "code",
   "execution_count": 4,
   "metadata": {},
   "outputs": [
    {
     "data": {
      "text/plain": [
       "'The best 👍👍👍 membantu sekali di mada pandemi seperti ini 😍'"
      ]
     },
     "execution_count": 4,
     "metadata": {},
     "output_type": "execute_result"
    }
   ],
   "source": [
    "raw['review'][784]"
   ]
  },
  {
   "cell_type": "code",
   "execution_count": 5,
   "metadata": {},
   "outputs": [
    {
     "data": {
      "text/plain": [
       "'Thankyou banget halodoc🤗membantu banget buat aku yg selalu panik kalo ada keluhan apa2😊🙏'"
      ]
     },
     "execution_count": 5,
     "metadata": {},
     "output_type": "execute_result"
    }
   ],
   "source": [
    "raw['review'][101]"
   ]
  },
  {
   "cell_type": "markdown",
   "metadata": {},
   "source": [
    "Contoh angka"
   ]
  },
  {
   "cell_type": "code",
   "execution_count": 6,
   "metadata": {},
   "outputs": [
    {
     "data": {
      "text/plain": [
       "'Saya pengguna baru ehh 3x ada masalah tp pas ke 4x nya sudah bagus terimakasih, ini penilaian bisa saja berubah kalau makin ke sini nya bagus pelayanan nya'"
      ]
     },
     "execution_count": 6,
     "metadata": {},
     "output_type": "execute_result"
    }
   ],
   "source": [
    "raw['review'][424]"
   ]
  },
  {
   "cell_type": "code",
   "execution_count": 7,
   "metadata": {},
   "outputs": [
    {
     "data": {
      "text/plain": [
       "'Udah 2x konsultasi disini, semoga selalu menjadi baik'"
      ]
     },
     "execution_count": 7,
     "metadata": {},
     "output_type": "execute_result"
    }
   ],
   "source": [
    "raw['review'][662]"
   ]
  },
  {
   "cell_type": "markdown",
   "metadata": {},
   "source": [
    "Contoh kata mengulang"
   ]
  },
  {
   "cell_type": "code",
   "execution_count": 8,
   "metadata": {},
   "outputs": [
    {
     "data": {
      "text/plain": [
       "'Dokternya ramah2 dan sangat menjelaskan secara detail'"
      ]
     },
     "execution_count": 8,
     "metadata": {},
     "output_type": "execute_result"
    }
   ],
   "source": [
    "raw['review'][790]"
   ]
  },
  {
   "cell_type": "code",
   "execution_count": 9,
   "metadata": {},
   "outputs": [
    {
     "data": {
      "text/plain": [
       "'Ngomong2 Halodoc tidak menyediakan Kelender Menstruasi lagi ya?'"
      ]
     },
     "execution_count": 9,
     "metadata": {},
     "output_type": "execute_result"
    }
   ],
   "source": [
    "raw['review'][686]"
   ]
  },
  {
   "cell_type": "markdown",
   "metadata": {},
   "source": [
    "Contoh translasi non alfanumerik"
   ]
  },
  {
   "cell_type": "code",
   "execution_count": 10,
   "metadata": {},
   "outputs": [
    {
     "data": {
      "text/plain": [
       "'FAST RESPON,Dokter nya juga ramah & ngejelasin secara detail'"
      ]
     },
     "execution_count": 10,
     "metadata": {},
     "output_type": "execute_result"
    }
   ],
   "source": [
    "raw['review'][624]"
   ]
  },
  {
   "cell_type": "code",
   "execution_count": 11,
   "metadata": {},
   "outputs": [
    {
     "data": {
      "text/plain": [
       "'Sangat2 membantu & membuat saya tenang dengan informasi & solusinya'"
      ]
     },
     "execution_count": 11,
     "metadata": {},
     "output_type": "execute_result"
    }
   ],
   "source": [
    "raw['review'][621]"
   ]
  },
  {
   "cell_type": "markdown",
   "metadata": {},
   "source": [
    "Contoh kata memiliki 'nya'"
   ]
  },
  {
   "cell_type": "code",
   "execution_count": 12,
   "metadata": {},
   "outputs": [
    {
     "data": {
      "text/plain": [
       "'Dokternya hebat2...Jelas dan fokus kepada keluhan yang saya derita. Terima kasih Halodoc'"
      ]
     },
     "execution_count": 12,
     "metadata": {},
     "output_type": "execute_result"
    }
   ],
   "source": [
    "raw['review'][44]"
   ]
  },
  {
   "cell_type": "code",
   "execution_count": 13,
   "metadata": {},
   "outputs": [
    {
     "data": {
      "text/plain": [
       "'Belum ada respon utk keluhan saya di team CS, saat sudah ada respon saya lanjut 🌟 5 -update, respon team CS nya cepat'"
      ]
     },
     "execution_count": 13,
     "metadata": {},
     "output_type": "execute_result"
    }
   ],
   "source": [
    "raw['review'][47]"
   ]
  },
  {
   "cell_type": "code",
   "execution_count": 14,
   "metadata": {},
   "outputs": [
    {
     "data": {
      "text/plain": [
       "'Sangat membantu pada saat urgent, jadi langsung tau apa tindakan selanjutnya Dokternya ramah Trimakasih halodoc'"
      ]
     },
     "execution_count": 14,
     "metadata": {},
     "output_type": "execute_result"
    }
   ],
   "source": [
    "raw['review'][56]"
   ]
  },
  {
   "cell_type": "markdown",
   "metadata": {},
   "source": [
    "Contoh normalisasi kalimat"
   ]
  },
  {
   "cell_type": "code",
   "execution_count": 15,
   "metadata": {},
   "outputs": [
    {
     "data": {
      "text/plain": [
       "'Sangat membantu di jam 23:53. Anak sakit dan harus segera konsultasi ke dokter. Terima kasih Halodoc & dr. Adi Suryadinata Sp. A. Sangat membantu sekali'"
      ]
     },
     "execution_count": 15,
     "metadata": {},
     "output_type": "execute_result"
    }
   ],
   "source": [
    "raw['review'][12]"
   ]
  },
  {
   "cell_type": "code",
   "execution_count": 16,
   "metadata": {},
   "outputs": [
    {
     "data": {
      "text/plain": [
       "'sangat membantu, mempermudah mencari obat\"an ... respon sangat cepat pesan gk sampe 30mnt sudah sampai .. terimakasih'"
      ]
     },
     "execution_count": 16,
     "metadata": {},
     "output_type": "execute_result"
    }
   ],
   "source": [
    "raw['review'][13]"
   ]
  },
  {
   "cell_type": "code",
   "execution_count": 17,
   "metadata": {},
   "outputs": [
    {
     "data": {
      "text/plain": [
       "'Membantu sekali ketika obat yg dicari dibeberapa apotek sedang kosong di app ini lengkap. Pemakaian app juga gampang.tks'"
      ]
     },
     "execution_count": 17,
     "metadata": {},
     "output_type": "execute_result"
    }
   ],
   "source": [
    "raw['review'][19]"
   ]
  },
  {
   "cell_type": "markdown",
   "metadata": {},
   "source": [
    "contoh slang"
   ]
  },
  {
   "cell_type": "code",
   "execution_count": 18,
   "metadata": {},
   "outputs": [
    {
     "data": {
      "text/plain": [
       "'Oke banget apk nya sejauh ini. Belum ketemu kurangnya dimana 👍. Respon dokternya juga cepet. Apik lah semuanya. Pertahankan, sangat membantu 👍'"
      ]
     },
     "execution_count": 18,
     "metadata": {},
     "output_type": "execute_result"
    }
   ],
   "source": [
    "raw['review'][23]"
   ]
  },
  {
   "cell_type": "code",
   "execution_count": 19,
   "metadata": {},
   "outputs": [
    {
     "data": {
      "text/plain": [
       "'Jujur sy puas dengan nasihat2 dan penjelasan dokternya,nmun sgt disayangkan sekali konsul dr apk nya 30 menit saja dan otomatis berhenti, padahal saya msh ingin bertanya lgi.'"
      ]
     },
     "execution_count": 19,
     "metadata": {},
     "output_type": "execute_result"
    }
   ],
   "source": [
    "raw['review'][18]"
   ]
  },
  {
   "cell_type": "code",
   "execution_count": 20,
   "metadata": {},
   "outputs": [
    {
     "data": {
      "text/plain": [
       "'Jadi lebih enak ga perlu antri disaat sakit,,chat lgsung dibls,,obat jg diantar,,terima kasih holodoc🙏'"
      ]
     },
     "execution_count": 20,
     "metadata": {},
     "output_type": "execute_result"
    }
   ],
   "source": [
    "raw['review'][52]"
   ]
  },
  {
   "cell_type": "code",
   "execution_count": 21,
   "metadata": {},
   "outputs": [
    {
     "data": {
      "text/plain": [
       "'Sumpah ini alternatif banget bagi kalian yg lagi miris keuangannya. Menurut aku kalo kalian tau sedikit ttg sakit yg dirasa, kalian bisa hemat banget pake apk ini. Good job halodoc, cocok buat saya yang anak kosan😊'"
      ]
     },
     "execution_count": 21,
     "metadata": {},
     "output_type": "execute_result"
    }
   ],
   "source": [
    "raw['review'][5]"
   ]
  },
  {
   "cell_type": "code",
   "execution_count": 22,
   "metadata": {},
   "outputs": [
    {
     "data": {
      "text/plain": [
       "'Belum ada respon utk keluhan saya di team CS, saat sudah ada respon saya lanjut 🌟 5 -update, respon team CS nya cepat'"
      ]
     },
     "execution_count": 22,
     "metadata": {},
     "output_type": "execute_result"
    }
   ],
   "source": [
    "raw['review'][47]"
   ]
  },
  {
   "cell_type": "markdown",
   "metadata": {},
   "source": [
    "# Import Library untuk Filtering"
   ]
  },
  {
   "cell_type": "code",
   "execution_count": 23,
   "metadata": {},
   "outputs": [],
   "source": [
    "stop_words = np.array(pd.read_csv(\"data/external/stopwords_ID.txt\",\n",
    "                        sep=\"\\n\", header=None).values)\n",
    "neg_words = np.array(pd.read_csv(\"data/external/negative_keyword_ID.txt\",\n",
    "                        sep=\"\\n\", header=None).values)\n",
    "pos_words = np.array(pd.read_csv(\"data/external/positive_keyword_ID.txt\",\n",
    "                        sep=\"\\n\", header=None).values)\n",
    "slang_words = pd.read_csv(\"data/external/kbba_ID.txt\",\n",
    "                        sep=\"\\t\", header=None)\n",
    "root_words = np.array(pd.read_csv(\"data/external/rootword_ID.txt\",\n",
    "                        sep=\"\\n\", header=None).values)\n",
    "slang = pd.read_csv(\"data/external/slangword_ID.txt\",\n",
    "                        sep=\":\", header=None)\n",
    "emoticon = pd.read_csv(\"data/external/emoticon.txt\",\n",
    "                        sep=\"\\t\", header=None)\n",
    "booster_words = np.array(pd.read_csv(\"data/external/boosterword_ID.txt\",\n",
    "                        sep=\"\\n\", header=None).values)\n",
    "baku_words = pd.read_csv(\"data/external/katabaku_ID.txt\",\n",
    "                        sep=\"|\", header=None)\n",
    "baku_words.columns = [1,0]"
   ]
  },
  {
   "cell_type": "code",
   "execution_count": 24,
   "metadata": {},
   "outputs": [],
   "source": [
    "slang_words = pd.concat([slang_words, slang, baku_words])\n",
    "sentiment_words = np.concatenate((pos_words, neg_words, booster_words))\n",
    "slang_words.drop_duplicates(inplace=True)\n",
    "emoticon.drop_duplicates(inplace=True)\n",
    "emoticon = dict(zip(emoticon[0], emoticon[1]))\n",
    "slang_words = dict(zip(slang_words[0],slang_words[1]))\n",
    "neg_words = np.unique(neg_words)\n",
    "pos_words = np.unique(pos_words)\n",
    "stop_words = np.unique(stop_words)\n",
    "stop_words = [word for word in stop_words if word not in sentiment_words]"
   ]
  },
  {
   "cell_type": "code",
   "execution_count": 25,
   "metadata": {},
   "outputs": [
    {
     "name": "stdout",
     "output_type": "stream",
     "text": [
      "------Dictionary Info---------\n",
      "Slang words = 2727 entries\n",
      "Emoticon = 172 entries\n",
      "Root words = 27979 entries\n",
      "Sentiment words = 8449 entries\n"
     ]
    }
   ],
   "source": [
    "print(\"------Dictionary Info---------\")\n",
    "print(\"Slang words = \"  + str(len(slang_words)) + \" entries\")\n",
    "print(\"Emoticon = \"  + str(len(emoticon)) + \" entries\" )\n",
    "print(\"Root words = \"  + str(len(root_words)) + \" entries\")\n",
    "print(\"Sentiment words = \"  + str(len(sentiment_words)) + \" entries\")"
   ]
  },
  {
   "cell_type": "code",
   "execution_count": 26,
   "metadata": {},
   "outputs": [],
   "source": [
    "satuan = ['', 'satu', 'dua', 'tiga', 'empat', 'lima', 'enam', 'tujuh',\n",
    "          'delapan', 'sembilan', 'sepuluh', 'sebelas']\n",
    "    \n",
    "def terbilang_(n):\n",
    "    if n >= 0 and n <= 11:\n",
    "        hasil = [satuan[n]]\n",
    "    elif n >= 12 and n <= 19:\n",
    "        hasil = terbilang_(n % 10) + ['belas']\n",
    "    elif n >= 20 and n <= 99:\n",
    "        hasil = terbilang_(n // 10) + ['puluh'] + terbilang_(n % 10)\n",
    "    elif n >= 100 and n <= 199:\n",
    "        hasil = ['seratus'] + terbilang_(n - 100)\n",
    "    elif n >= 200 and n <= 999:\n",
    "        hasil = terbilang_(n // 100) + ['ratus'] + terbilang_(n % 100)\n",
    "    elif n >= 1000 and n <= 1999:\n",
    "        hasil = ['seribu'] + terbilang_(n - 1000)\n",
    "    elif n >= 2000 and n <= 999999:\n",
    "        hasil = terbilang_(n // 1000) + ['ribu'] + terbilang_(n % 1000)\n",
    "    elif n >= 1000000 and n <= 999999999:\n",
    "        hasil = terbilang_(n // 1000000) + ['juta'] + terbilang_(n % 1000000)\n",
    "    else:\n",
    "        hasil = terbilang_(n // 1000000000) + ['milyar'] + terbilang_(n % 100000000)\n",
    "    return hasil\n",
    "\n",
    "def terbilang(n):\n",
    "    if n == 0:\n",
    "        return 'nol'\n",
    "    t = terbilang_(n)\n",
    "    while '' in t:\n",
    "        t.remove('')\n",
    "    return ' '.join(t)\n",
    "\n",
    "def translate_angka(review):\n",
    "    number = re.findall(\"[0-9]+\",review)\n",
    "    for digit in number:\n",
    "        review = re.sub(digit,terbilang(int(digit))+\" \",review)\n",
    "    return review\n",
    "\n",
    "def translate_repeating_words(review):\n",
    "    repeating_words = re.findall(r'\\w*(?:2|\")',review)\n",
    "    for word in repeating_words:\n",
    "        cleaned = word[:-1]\n",
    "        review = re.sub(word,cleaned + \" \" + cleaned, review)\n",
    "    return review\n",
    "\n",
    "def delete_suffix_nya(review):\n",
    "    return re.sub(\"(?:nya|ny)[$|\\s]\",\" \",review)\n",
    "\n",
    "def translate_emoticon(t):\n",
    "    for w, v in emoticon.items():\n",
    "        pattern = re.compile(re.escape(w))\n",
    "        match = re.search(pattern,t)\n",
    "        if match:\n",
    "            t = re.sub(pattern,v,t)\n",
    "    return t\n",
    "\n",
    "def translate_non_alpha_num(t):\n",
    "    non_alpha_num = {\n",
    "        '%' : 'persen',\n",
    "        '$' : 'dolar',\n",
    "        '@' : 'di',\n",
    "        '&' : 'dan',\n",
    "        '/' : 'atau',\n",
    "        '+' : 'plus'\n",
    "    }\n",
    "    for w, v in non_alpha_num.items():\n",
    "        pattern = re.compile(re.escape(w))\n",
    "        match = re.search(pattern,t)\n",
    "        if match:\n",
    "            t = re.sub(pattern,v + \" \",t)\n",
    "    return t\n",
    "\n",
    "def remove_non_alphanumeric(review):\n",
    "    return re.sub(\"[^a-zA-Z\\d]\",\" \", review)\n",
    "\n",
    "def normalizing_words(review):\n",
    "    return ''.join(''.join(s)[:1] for _, s in itertools.groupby(review))"
   ]
  },
  {
   "cell_type": "code",
   "execution_count": 27,
   "metadata": {},
   "outputs": [],
   "source": [
    "raw_clean = raw"
   ]
  },
  {
   "cell_type": "markdown",
   "metadata": {},
   "source": [
    "# Filtering "
   ]
  },
  {
   "cell_type": "code",
   "execution_count": 28,
   "metadata": {},
   "outputs": [
    {
     "data": {
      "text/html": [
       "<div>\n",
       "<style scoped>\n",
       "    .dataframe tbody tr th:only-of-type {\n",
       "        vertical-align: middle;\n",
       "    }\n",
       "\n",
       "    .dataframe tbody tr th {\n",
       "        vertical-align: top;\n",
       "    }\n",
       "\n",
       "    .dataframe thead th {\n",
       "        text-align: right;\n",
       "    }\n",
       "</style>\n",
       "<table border=\"1\" class=\"dataframe\">\n",
       "  <thead>\n",
       "    <tr style=\"text-align: right;\">\n",
       "      <th></th>\n",
       "      <th>rating</th>\n",
       "      <th>review</th>\n",
       "      <th>aspect_category</th>\n",
       "      <th>polarity</th>\n",
       "    </tr>\n",
       "  </thead>\n",
       "  <tbody>\n",
       "    <tr>\n",
       "      <th>0</th>\n",
       "      <td>3</td>\n",
       "      <td>Sangat Membantu. Terutama di kondisi Pandemi. ...</td>\n",
       "      <td>Pelayanan</td>\n",
       "      <td>Negatif</td>\n",
       "    </tr>\n",
       "    <tr>\n",
       "      <th>1</th>\n",
       "      <td>5</td>\n",
       "      <td>Baru pertama konsultasi dokter lewat halo doc ...</td>\n",
       "      <td>Pelayanan</td>\n",
       "      <td>Negatif</td>\n",
       "    </tr>\n",
       "    <tr>\n",
       "      <th>2</th>\n",
       "      <td>1</td>\n",
       "      <td>astaga obatnya semakin lama beli obat di halo ...</td>\n",
       "      <td>Harga</td>\n",
       "      <td>Negatif</td>\n",
       "    </tr>\n",
       "    <tr>\n",
       "      <th>3</th>\n",
       "      <td>5</td>\n",
       "      <td>Terimakasih Halodoc atas pelayanannya sangat b...</td>\n",
       "      <td>Pelayanan</td>\n",
       "      <td>Positif</td>\n",
       "    </tr>\n",
       "    <tr>\n",
       "      <th>4</th>\n",
       "      <td>1</td>\n",
       "      <td>Ada yang nelpon ke no saya katanya dari halodo...</td>\n",
       "      <td>Sistem</td>\n",
       "      <td>Positif</td>\n",
       "    </tr>\n",
       "  </tbody>\n",
       "</table>\n",
       "</div>"
      ],
      "text/plain": [
       "   rating                                             review aspect_category  \\\n",
       "0       3  Sangat Membantu. Terutama di kondisi Pandemi. ...       Pelayanan   \n",
       "1       5  Baru pertama konsultasi dokter lewat halo doc ...       Pelayanan   \n",
       "2       1  astaga obatnya semakin lama beli obat di halo ...           Harga   \n",
       "3       5  Terimakasih Halodoc atas pelayanannya sangat b...       Pelayanan   \n",
       "4       1  Ada yang nelpon ke no saya katanya dari halodo...          Sistem   \n",
       "\n",
       "  polarity  \n",
       "0  Negatif  \n",
       "1  Negatif  \n",
       "2  Negatif  \n",
       "3  Positif  \n",
       "4  Positif  "
      ]
     },
     "execution_count": 28,
     "metadata": {},
     "output_type": "execute_result"
    }
   ],
   "source": [
    "raw_clean['review'] = raw_clean['review'].apply(translate_repeating_words)\n",
    "raw_clean.head()"
   ]
  },
  {
   "cell_type": "code",
   "execution_count": 29,
   "metadata": {},
   "outputs": [
    {
     "data": {
      "text/plain": [
       "'Udah  x konsultasi disini, semoga selalu menjadi baik'"
      ]
     },
     "execution_count": 29,
     "metadata": {},
     "output_type": "execute_result"
    }
   ],
   "source": [
    "raw_clean['review'][662]"
   ]
  },
  {
   "cell_type": "code",
   "execution_count": 30,
   "metadata": {},
   "outputs": [
    {
     "data": {
      "text/html": [
       "<div>\n",
       "<style scoped>\n",
       "    .dataframe tbody tr th:only-of-type {\n",
       "        vertical-align: middle;\n",
       "    }\n",
       "\n",
       "    .dataframe tbody tr th {\n",
       "        vertical-align: top;\n",
       "    }\n",
       "\n",
       "    .dataframe thead th {\n",
       "        text-align: right;\n",
       "    }\n",
       "</style>\n",
       "<table border=\"1\" class=\"dataframe\">\n",
       "  <thead>\n",
       "    <tr style=\"text-align: right;\">\n",
       "      <th></th>\n",
       "      <th>rating</th>\n",
       "      <th>review</th>\n",
       "      <th>aspect_category</th>\n",
       "      <th>polarity</th>\n",
       "    </tr>\n",
       "  </thead>\n",
       "  <tbody>\n",
       "    <tr>\n",
       "      <th>0</th>\n",
       "      <td>3</td>\n",
       "      <td>Sangat Membantu. Terutama di kondisi Pandemi. ...</td>\n",
       "      <td>Pelayanan</td>\n",
       "      <td>Negatif</td>\n",
       "    </tr>\n",
       "    <tr>\n",
       "      <th>1</th>\n",
       "      <td>5</td>\n",
       "      <td>Baru pertama konsultasi dokter lewat halo doc ...</td>\n",
       "      <td>Pelayanan</td>\n",
       "      <td>Negatif</td>\n",
       "    </tr>\n",
       "    <tr>\n",
       "      <th>2</th>\n",
       "      <td>1</td>\n",
       "      <td>astaga obatnya semakin lama beli obat di halo ...</td>\n",
       "      <td>Harga</td>\n",
       "      <td>Negatif</td>\n",
       "    </tr>\n",
       "    <tr>\n",
       "      <th>3</th>\n",
       "      <td>5</td>\n",
       "      <td>Terimakasih Halodoc atas pelayanannya sangat b...</td>\n",
       "      <td>Pelayanan</td>\n",
       "      <td>Positif</td>\n",
       "    </tr>\n",
       "    <tr>\n",
       "      <th>4</th>\n",
       "      <td>1</td>\n",
       "      <td>Ada yang nelpon ke no saya katanya dari halodo...</td>\n",
       "      <td>Sistem</td>\n",
       "      <td>Positif</td>\n",
       "    </tr>\n",
       "  </tbody>\n",
       "</table>\n",
       "</div>"
      ],
      "text/plain": [
       "   rating                                             review aspect_category  \\\n",
       "0       3  Sangat Membantu. Terutama di kondisi Pandemi. ...       Pelayanan   \n",
       "1       5  Baru pertama konsultasi dokter lewat halo doc ...       Pelayanan   \n",
       "2       1  astaga obatnya semakin lama beli obat di halo ...           Harga   \n",
       "3       5  Terimakasih Halodoc atas pelayanannya sangat b...       Pelayanan   \n",
       "4       1  Ada yang nelpon ke no saya katanya dari halodo...          Sistem   \n",
       "\n",
       "  polarity  \n",
       "0  Negatif  \n",
       "1  Negatif  \n",
       "2  Negatif  \n",
       "3  Positif  \n",
       "4  Positif  "
      ]
     },
     "execution_count": 30,
     "metadata": {},
     "output_type": "execute_result"
    }
   ],
   "source": [
    "raw_clean['review'] = raw_clean['review'].apply(translate_emoticon)\n",
    "raw_clean.head()"
   ]
  },
  {
   "cell_type": "markdown",
   "metadata": {},
   "source": [
    "# CaseFolding"
   ]
  },
  {
   "cell_type": "code",
   "execution_count": 31,
   "metadata": {},
   "outputs": [
    {
     "data": {
      "text/html": [
       "<div>\n",
       "<style scoped>\n",
       "    .dataframe tbody tr th:only-of-type {\n",
       "        vertical-align: middle;\n",
       "    }\n",
       "\n",
       "    .dataframe tbody tr th {\n",
       "        vertical-align: top;\n",
       "    }\n",
       "\n",
       "    .dataframe thead th {\n",
       "        text-align: right;\n",
       "    }\n",
       "</style>\n",
       "<table border=\"1\" class=\"dataframe\">\n",
       "  <thead>\n",
       "    <tr style=\"text-align: right;\">\n",
       "      <th></th>\n",
       "      <th>rating</th>\n",
       "      <th>review</th>\n",
       "      <th>aspect_category</th>\n",
       "      <th>polarity</th>\n",
       "    </tr>\n",
       "  </thead>\n",
       "  <tbody>\n",
       "    <tr>\n",
       "      <th>0</th>\n",
       "      <td>3</td>\n",
       "      <td>sangat membantu. terutama di kondisi pandemi. ...</td>\n",
       "      <td>Pelayanan</td>\n",
       "      <td>Negatif</td>\n",
       "    </tr>\n",
       "    <tr>\n",
       "      <th>1</th>\n",
       "      <td>5</td>\n",
       "      <td>baru pertama konsultasi dokter lewat halo doc ...</td>\n",
       "      <td>Pelayanan</td>\n",
       "      <td>Negatif</td>\n",
       "    </tr>\n",
       "    <tr>\n",
       "      <th>2</th>\n",
       "      <td>1</td>\n",
       "      <td>astaga obatnya semakin lama beli obat di halo ...</td>\n",
       "      <td>Harga</td>\n",
       "      <td>Negatif</td>\n",
       "    </tr>\n",
       "    <tr>\n",
       "      <th>3</th>\n",
       "      <td>5</td>\n",
       "      <td>terimakasih halodoc atas pelayanannya sangat b...</td>\n",
       "      <td>Pelayanan</td>\n",
       "      <td>Positif</td>\n",
       "    </tr>\n",
       "    <tr>\n",
       "      <th>4</th>\n",
       "      <td>1</td>\n",
       "      <td>ada yang nelpon ke no saya katanya dari halodo...</td>\n",
       "      <td>Sistem</td>\n",
       "      <td>Positif</td>\n",
       "    </tr>\n",
       "    <tr>\n",
       "      <th>...</th>\n",
       "      <td>...</td>\n",
       "      <td>...</td>\n",
       "      <td>...</td>\n",
       "      <td>...</td>\n",
       "    </tr>\n",
       "    <tr>\n",
       "      <th>95</th>\n",
       "      <td>5</td>\n",
       "      <td>aplikasi ini membuat dokter spt keluarga, saha...</td>\n",
       "      <td>Anekdot/Serbaneka</td>\n",
       "      <td>Positif</td>\n",
       "    </tr>\n",
       "    <tr>\n",
       "      <th>96</th>\n",
       "      <td>1</td>\n",
       "      <td>gimana sih ini. masa dokter nya yg ngelewatin ...</td>\n",
       "      <td>Pelayanan</td>\n",
       "      <td>Negatif</td>\n",
       "    </tr>\n",
       "    <tr>\n",
       "      <th>97</th>\n",
       "      <td>2</td>\n",
       "      <td>kemaren tepatnya hari kamis tgl 04-maret-20 20...</td>\n",
       "      <td>Anekdot/Serbaneka</td>\n",
       "      <td>Negatif</td>\n",
       "    </tr>\n",
       "    <tr>\n",
       "      <th>98</th>\n",
       "      <td>5</td>\n",
       "      <td>sangat membant untuk konsultasi dari rumah saj...</td>\n",
       "      <td>Pelayanan</td>\n",
       "      <td>Positif</td>\n",
       "    </tr>\n",
       "    <tr>\n",
       "      <th>99</th>\n",
       "      <td>1</td>\n",
       "      <td>parah vaksin lansia dosis ke   disini, parah b...</td>\n",
       "      <td>Pelayanan</td>\n",
       "      <td>Positif</td>\n",
       "    </tr>\n",
       "  </tbody>\n",
       "</table>\n",
       "<p>100 rows × 4 columns</p>\n",
       "</div>"
      ],
      "text/plain": [
       "    rating                                             review  \\\n",
       "0        3  sangat membantu. terutama di kondisi pandemi. ...   \n",
       "1        5  baru pertama konsultasi dokter lewat halo doc ...   \n",
       "2        1  astaga obatnya semakin lama beli obat di halo ...   \n",
       "3        5  terimakasih halodoc atas pelayanannya sangat b...   \n",
       "4        1  ada yang nelpon ke no saya katanya dari halodo...   \n",
       "..     ...                                                ...   \n",
       "95       5  aplikasi ini membuat dokter spt keluarga, saha...   \n",
       "96       1  gimana sih ini. masa dokter nya yg ngelewatin ...   \n",
       "97       2  kemaren tepatnya hari kamis tgl 04-maret-20 20...   \n",
       "98       5  sangat membant untuk konsultasi dari rumah saj...   \n",
       "99       1  parah vaksin lansia dosis ke   disini, parah b...   \n",
       "\n",
       "      aspect_category polarity  \n",
       "0           Pelayanan  Negatif  \n",
       "1           Pelayanan  Negatif  \n",
       "2               Harga  Negatif  \n",
       "3           Pelayanan  Positif  \n",
       "4              Sistem  Positif  \n",
       "..                ...      ...  \n",
       "95  Anekdot/Serbaneka  Positif  \n",
       "96          Pelayanan  Negatif  \n",
       "97  Anekdot/Serbaneka  Negatif  \n",
       "98          Pelayanan  Positif  \n",
       "99          Pelayanan  Positif  \n",
       "\n",
       "[100 rows x 4 columns]"
      ]
     },
     "execution_count": 31,
     "metadata": {},
     "output_type": "execute_result"
    }
   ],
   "source": [
    "raw_clean['review'] = raw_clean['review'].apply(lambda x: x.lower())\n",
    "raw_clean.head(100)"
   ]
  },
  {
   "cell_type": "code",
   "execution_count": null,
   "metadata": {},
   "outputs": [],
   "source": []
  },
  {
   "cell_type": "markdown",
   "metadata": {},
   "source": [
    "# Filtering "
   ]
  },
  {
   "cell_type": "code",
   "execution_count": 32,
   "metadata": {},
   "outputs": [
    {
     "data": {
      "text/html": [
       "<div>\n",
       "<style scoped>\n",
       "    .dataframe tbody tr th:only-of-type {\n",
       "        vertical-align: middle;\n",
       "    }\n",
       "\n",
       "    .dataframe tbody tr th {\n",
       "        vertical-align: top;\n",
       "    }\n",
       "\n",
       "    .dataframe thead th {\n",
       "        text-align: right;\n",
       "    }\n",
       "</style>\n",
       "<table border=\"1\" class=\"dataframe\">\n",
       "  <thead>\n",
       "    <tr style=\"text-align: right;\">\n",
       "      <th></th>\n",
       "      <th>rating</th>\n",
       "      <th>review</th>\n",
       "      <th>aspect_category</th>\n",
       "      <th>polarity</th>\n",
       "    </tr>\n",
       "  </thead>\n",
       "  <tbody>\n",
       "    <tr>\n",
       "      <th>0</th>\n",
       "      <td>3</td>\n",
       "      <td>sangat membantu. terutama di kondisi pandemi. ...</td>\n",
       "      <td>Pelayanan</td>\n",
       "      <td>Negatif</td>\n",
       "    </tr>\n",
       "    <tr>\n",
       "      <th>1</th>\n",
       "      <td>5</td>\n",
       "      <td>baru pertama konsultasi dokter lewat halo doc ...</td>\n",
       "      <td>Pelayanan</td>\n",
       "      <td>Negatif</td>\n",
       "    </tr>\n",
       "    <tr>\n",
       "      <th>2</th>\n",
       "      <td>1</td>\n",
       "      <td>astaga obatnya semakin lama beli obat di halo ...</td>\n",
       "      <td>Harga</td>\n",
       "      <td>Negatif</td>\n",
       "    </tr>\n",
       "    <tr>\n",
       "      <th>3</th>\n",
       "      <td>5</td>\n",
       "      <td>terimakasih halodoc atas pelayanannya sangat b...</td>\n",
       "      <td>Pelayanan</td>\n",
       "      <td>Positif</td>\n",
       "    </tr>\n",
       "    <tr>\n",
       "      <th>4</th>\n",
       "      <td>1</td>\n",
       "      <td>ada yang nelpon ke no saya katanya dari halodo...</td>\n",
       "      <td>Sistem</td>\n",
       "      <td>Positif</td>\n",
       "    </tr>\n",
       "  </tbody>\n",
       "</table>\n",
       "</div>"
      ],
      "text/plain": [
       "   rating                                             review aspect_category  \\\n",
       "0       3  sangat membantu. terutama di kondisi pandemi. ...       Pelayanan   \n",
       "1       5  baru pertama konsultasi dokter lewat halo doc ...       Pelayanan   \n",
       "2       1  astaga obatnya semakin lama beli obat di halo ...           Harga   \n",
       "3       5  terimakasih halodoc atas pelayanannya sangat b...       Pelayanan   \n",
       "4       1  ada yang nelpon ke no saya katanya dari halodo...          Sistem   \n",
       "\n",
       "  polarity  \n",
       "0  Negatif  \n",
       "1  Negatif  \n",
       "2  Negatif  \n",
       "3  Positif  \n",
       "4  Positif  "
      ]
     },
     "execution_count": 32,
     "metadata": {},
     "output_type": "execute_result"
    }
   ],
   "source": [
    "raw_clean['review'] = raw_clean['review'].apply(translate_non_alpha_num)\n",
    "raw_clean.head()"
   ]
  },
  {
   "cell_type": "code",
   "execution_count": 33,
   "metadata": {},
   "outputs": [
    {
     "data": {
      "text/html": [
       "<div>\n",
       "<style scoped>\n",
       "    .dataframe tbody tr th:only-of-type {\n",
       "        vertical-align: middle;\n",
       "    }\n",
       "\n",
       "    .dataframe tbody tr th {\n",
       "        vertical-align: top;\n",
       "    }\n",
       "\n",
       "    .dataframe thead th {\n",
       "        text-align: right;\n",
       "    }\n",
       "</style>\n",
       "<table border=\"1\" class=\"dataframe\">\n",
       "  <thead>\n",
       "    <tr style=\"text-align: right;\">\n",
       "      <th></th>\n",
       "      <th>rating</th>\n",
       "      <th>review</th>\n",
       "      <th>aspect_category</th>\n",
       "      <th>polarity</th>\n",
       "    </tr>\n",
       "  </thead>\n",
       "  <tbody>\n",
       "    <tr>\n",
       "      <th>0</th>\n",
       "      <td>3</td>\n",
       "      <td>sangat membantu  terutama di kondisi pandemi  ...</td>\n",
       "      <td>Pelayanan</td>\n",
       "      <td>Negatif</td>\n",
       "    </tr>\n",
       "    <tr>\n",
       "      <th>1</th>\n",
       "      <td>5</td>\n",
       "      <td>baru pertama konsultasi dokter lewat halo doc ...</td>\n",
       "      <td>Pelayanan</td>\n",
       "      <td>Negatif</td>\n",
       "    </tr>\n",
       "    <tr>\n",
       "      <th>2</th>\n",
       "      <td>1</td>\n",
       "      <td>astaga obatnya semakin lama beli obat di halo ...</td>\n",
       "      <td>Harga</td>\n",
       "      <td>Negatif</td>\n",
       "    </tr>\n",
       "    <tr>\n",
       "      <th>3</th>\n",
       "      <td>5</td>\n",
       "      <td>terimakasih halodoc atas pelayanannya sangat b...</td>\n",
       "      <td>Pelayanan</td>\n",
       "      <td>Positif</td>\n",
       "    </tr>\n",
       "    <tr>\n",
       "      <th>4</th>\n",
       "      <td>1</td>\n",
       "      <td>ada yang nelpon ke no saya katanya dari halodo...</td>\n",
       "      <td>Sistem</td>\n",
       "      <td>Positif</td>\n",
       "    </tr>\n",
       "  </tbody>\n",
       "</table>\n",
       "</div>"
      ],
      "text/plain": [
       "   rating                                             review aspect_category  \\\n",
       "0       3  sangat membantu  terutama di kondisi pandemi  ...       Pelayanan   \n",
       "1       5  baru pertama konsultasi dokter lewat halo doc ...       Pelayanan   \n",
       "2       1  astaga obatnya semakin lama beli obat di halo ...           Harga   \n",
       "3       5  terimakasih halodoc atas pelayanannya sangat b...       Pelayanan   \n",
       "4       1  ada yang nelpon ke no saya katanya dari halodo...          Sistem   \n",
       "\n",
       "  polarity  \n",
       "0  Negatif  \n",
       "1  Negatif  \n",
       "2  Negatif  \n",
       "3  Positif  \n",
       "4  Positif  "
      ]
     },
     "execution_count": 33,
     "metadata": {},
     "output_type": "execute_result"
    }
   ],
   "source": [
    "raw_clean['review'] = raw_clean['review'].apply(remove_non_alphanumeric)\n",
    "raw_clean.head()"
   ]
  },
  {
   "cell_type": "code",
   "execution_count": 34,
   "metadata": {},
   "outputs": [
    {
     "data": {
      "text/html": [
       "<div>\n",
       "<style scoped>\n",
       "    .dataframe tbody tr th:only-of-type {\n",
       "        vertical-align: middle;\n",
       "    }\n",
       "\n",
       "    .dataframe tbody tr th {\n",
       "        vertical-align: top;\n",
       "    }\n",
       "\n",
       "    .dataframe thead th {\n",
       "        text-align: right;\n",
       "    }\n",
       "</style>\n",
       "<table border=\"1\" class=\"dataframe\">\n",
       "  <thead>\n",
       "    <tr style=\"text-align: right;\">\n",
       "      <th></th>\n",
       "      <th>rating</th>\n",
       "      <th>review</th>\n",
       "      <th>aspect_category</th>\n",
       "      <th>polarity</th>\n",
       "    </tr>\n",
       "  </thead>\n",
       "  <tbody>\n",
       "    <tr>\n",
       "      <th>0</th>\n",
       "      <td>3</td>\n",
       "      <td>sangat membantu  terutama di kondisi pandemi  ...</td>\n",
       "      <td>Pelayanan</td>\n",
       "      <td>Negatif</td>\n",
       "    </tr>\n",
       "    <tr>\n",
       "      <th>1</th>\n",
       "      <td>5</td>\n",
       "      <td>baru pertama konsultasi dokter lewat halo doc ...</td>\n",
       "      <td>Pelayanan</td>\n",
       "      <td>Negatif</td>\n",
       "    </tr>\n",
       "    <tr>\n",
       "      <th>2</th>\n",
       "      <td>1</td>\n",
       "      <td>astaga obat semakin lama beli obat di halo doc...</td>\n",
       "      <td>Harga</td>\n",
       "      <td>Negatif</td>\n",
       "    </tr>\n",
       "    <tr>\n",
       "      <th>3</th>\n",
       "      <td>5</td>\n",
       "      <td>terimakasih halodoc atas pelayanan sangat baik...</td>\n",
       "      <td>Pelayanan</td>\n",
       "      <td>Positif</td>\n",
       "    </tr>\n",
       "    <tr>\n",
       "      <th>4</th>\n",
       "      <td>1</td>\n",
       "      <td>ada yang nelpon ke no saya kata dari halodoc k...</td>\n",
       "      <td>Sistem</td>\n",
       "      <td>Positif</td>\n",
       "    </tr>\n",
       "  </tbody>\n",
       "</table>\n",
       "</div>"
      ],
      "text/plain": [
       "   rating                                             review aspect_category  \\\n",
       "0       3  sangat membantu  terutama di kondisi pandemi  ...       Pelayanan   \n",
       "1       5  baru pertama konsultasi dokter lewat halo doc ...       Pelayanan   \n",
       "2       1  astaga obat semakin lama beli obat di halo doc...           Harga   \n",
       "3       5  terimakasih halodoc atas pelayanan sangat baik...       Pelayanan   \n",
       "4       1  ada yang nelpon ke no saya kata dari halodoc k...          Sistem   \n",
       "\n",
       "  polarity  \n",
       "0  Negatif  \n",
       "1  Negatif  \n",
       "2  Negatif  \n",
       "3  Positif  \n",
       "4  Positif  "
      ]
     },
     "execution_count": 34,
     "metadata": {},
     "output_type": "execute_result"
    }
   ],
   "source": [
    "raw_clean['review'] = raw_clean['review'].apply(delete_suffix_nya)\n",
    "raw_clean.head()"
   ]
  },
  {
   "cell_type": "code",
   "execution_count": 35,
   "metadata": {
    "scrolled": true
   },
   "outputs": [
    {
     "data": {
      "text/html": [
       "<div>\n",
       "<style scoped>\n",
       "    .dataframe tbody tr th:only-of-type {\n",
       "        vertical-align: middle;\n",
       "    }\n",
       "\n",
       "    .dataframe tbody tr th {\n",
       "        vertical-align: top;\n",
       "    }\n",
       "\n",
       "    .dataframe thead th {\n",
       "        text-align: right;\n",
       "    }\n",
       "</style>\n",
       "<table border=\"1\" class=\"dataframe\">\n",
       "  <thead>\n",
       "    <tr style=\"text-align: right;\">\n",
       "      <th></th>\n",
       "      <th>rating</th>\n",
       "      <th>review</th>\n",
       "      <th>aspect_category</th>\n",
       "      <th>polarity</th>\n",
       "    </tr>\n",
       "  </thead>\n",
       "  <tbody>\n",
       "    <tr>\n",
       "      <th>0</th>\n",
       "      <td>3</td>\n",
       "      <td>sangat membantu terutama di kondisi pandemi ta...</td>\n",
       "      <td>Pelayanan</td>\n",
       "      <td>Negatif</td>\n",
       "    </tr>\n",
       "    <tr>\n",
       "      <th>1</th>\n",
       "      <td>5</td>\n",
       "      <td>baru pertama konsultasi dokter lewat halo doc ...</td>\n",
       "      <td>Pelayanan</td>\n",
       "      <td>Negatif</td>\n",
       "    </tr>\n",
       "    <tr>\n",
       "      <th>2</th>\n",
       "      <td>1</td>\n",
       "      <td>astaga obat semakin lama beli obat di halo doc...</td>\n",
       "      <td>Harga</td>\n",
       "      <td>Negatif</td>\n",
       "    </tr>\n",
       "    <tr>\n",
       "      <th>3</th>\n",
       "      <td>5</td>\n",
       "      <td>terimakasih halodoc atas pelayanan sangat baik...</td>\n",
       "      <td>Pelayanan</td>\n",
       "      <td>Positif</td>\n",
       "    </tr>\n",
       "    <tr>\n",
       "      <th>4</th>\n",
       "      <td>1</td>\n",
       "      <td>ada yang nelpon ke no saya kata dari halodoc k...</td>\n",
       "      <td>Sistem</td>\n",
       "      <td>Positif</td>\n",
       "    </tr>\n",
       "  </tbody>\n",
       "</table>\n",
       "</div>"
      ],
      "text/plain": [
       "   rating                                             review aspect_category  \\\n",
       "0       3  sangat membantu terutama di kondisi pandemi ta...       Pelayanan   \n",
       "1       5  baru pertama konsultasi dokter lewat halo doc ...       Pelayanan   \n",
       "2       1  astaga obat semakin lama beli obat di halo doc...           Harga   \n",
       "3       5  terimakasih halodoc atas pelayanan sangat baik...       Pelayanan   \n",
       "4       1  ada yang nelpon ke no saya kata dari halodoc k...          Sistem   \n",
       "\n",
       "  polarity  \n",
       "0  Negatif  \n",
       "1  Negatif  \n",
       "2  Negatif  \n",
       "3  Positif  \n",
       "4  Positif  "
      ]
     },
     "execution_count": 35,
     "metadata": {},
     "output_type": "execute_result"
    }
   ],
   "source": [
    "raw_clean['review'] = raw_clean['review'].apply(normalizing_words)\n",
    "raw_clean.head()"
   ]
  },
  {
   "cell_type": "code",
   "execution_count": 36,
   "metadata": {},
   "outputs": [],
   "source": [
    "def remove_numeric(review):\n",
    "    return re.sub(\"\\d\", \" \", review)\n",
    "\n",
    "raw_clean['review'] = raw_clean['review'].apply(remove_numeric)"
   ]
  },
  {
   "cell_type": "code",
   "execution_count": 37,
   "metadata": {},
   "outputs": [
    {
     "data": {
      "text/html": [
       "<div>\n",
       "<style scoped>\n",
       "    .dataframe tbody tr th:only-of-type {\n",
       "        vertical-align: middle;\n",
       "    }\n",
       "\n",
       "    .dataframe tbody tr th {\n",
       "        vertical-align: top;\n",
       "    }\n",
       "\n",
       "    .dataframe thead th {\n",
       "        text-align: right;\n",
       "    }\n",
       "</style>\n",
       "<table border=\"1\" class=\"dataframe\">\n",
       "  <thead>\n",
       "    <tr style=\"text-align: right;\">\n",
       "      <th></th>\n",
       "      <th>rating</th>\n",
       "      <th>review</th>\n",
       "      <th>aspect_category</th>\n",
       "      <th>polarity</th>\n",
       "    </tr>\n",
       "  </thead>\n",
       "  <tbody>\n",
       "    <tr>\n",
       "      <th>0</th>\n",
       "      <td>3</td>\n",
       "      <td>sangat membantu terutama di kondisi pandemi ta...</td>\n",
       "      <td>Pelayanan</td>\n",
       "      <td>Negatif</td>\n",
       "    </tr>\n",
       "    <tr>\n",
       "      <th>1</th>\n",
       "      <td>5</td>\n",
       "      <td>baru pertama konsultasi dokter lewat halo doc ...</td>\n",
       "      <td>Pelayanan</td>\n",
       "      <td>Negatif</td>\n",
       "    </tr>\n",
       "    <tr>\n",
       "      <th>2</th>\n",
       "      <td>1</td>\n",
       "      <td>astaga obat semakin lama beli obat di halo doc...</td>\n",
       "      <td>Harga</td>\n",
       "      <td>Negatif</td>\n",
       "    </tr>\n",
       "    <tr>\n",
       "      <th>3</th>\n",
       "      <td>5</td>\n",
       "      <td>terimakasih halodoc atas pelayanan sangat baik...</td>\n",
       "      <td>Pelayanan</td>\n",
       "      <td>Positif</td>\n",
       "    </tr>\n",
       "    <tr>\n",
       "      <th>4</th>\n",
       "      <td>1</td>\n",
       "      <td>ada yang nelpon ke no saya kata dari halodoc k...</td>\n",
       "      <td>Sistem</td>\n",
       "      <td>Positif</td>\n",
       "    </tr>\n",
       "  </tbody>\n",
       "</table>\n",
       "</div>"
      ],
      "text/plain": [
       "   rating                                             review aspect_category  \\\n",
       "0       3  sangat membantu terutama di kondisi pandemi ta...       Pelayanan   \n",
       "1       5  baru pertama konsultasi dokter lewat halo doc ...       Pelayanan   \n",
       "2       1  astaga obat semakin lama beli obat di halo doc...           Harga   \n",
       "3       5  terimakasih halodoc atas pelayanan sangat baik...       Pelayanan   \n",
       "4       1  ada yang nelpon ke no saya kata dari halodoc k...          Sistem   \n",
       "\n",
       "  polarity  \n",
       "0  Negatif  \n",
       "1  Negatif  \n",
       "2  Negatif  \n",
       "3  Positif  \n",
       "4  Positif  "
      ]
     },
     "execution_count": 37,
     "metadata": {},
     "output_type": "execute_result"
    }
   ],
   "source": [
    "raw_clean.head()"
   ]
  },
  {
   "cell_type": "markdown",
   "metadata": {},
   "source": [
    "# Tokenizing"
   ]
  },
  {
   "cell_type": "code",
   "execution_count": 38,
   "metadata": {
    "scrolled": true
   },
   "outputs": [
    {
     "data": {
      "text/html": [
       "<div>\n",
       "<style scoped>\n",
       "    .dataframe tbody tr th:only-of-type {\n",
       "        vertical-align: middle;\n",
       "    }\n",
       "\n",
       "    .dataframe tbody tr th {\n",
       "        vertical-align: top;\n",
       "    }\n",
       "\n",
       "    .dataframe thead th {\n",
       "        text-align: right;\n",
       "    }\n",
       "</style>\n",
       "<table border=\"1\" class=\"dataframe\">\n",
       "  <thead>\n",
       "    <tr style=\"text-align: right;\">\n",
       "      <th></th>\n",
       "      <th>rating</th>\n",
       "      <th>review</th>\n",
       "      <th>aspect_category</th>\n",
       "      <th>polarity</th>\n",
       "    </tr>\n",
       "  </thead>\n",
       "  <tbody>\n",
       "    <tr>\n",
       "      <th>0</th>\n",
       "      <td>3</td>\n",
       "      <td>[sangat, membantu, terutama, di, kondisi, pand...</td>\n",
       "      <td>Pelayanan</td>\n",
       "      <td>Negatif</td>\n",
       "    </tr>\n",
       "    <tr>\n",
       "      <th>1</th>\n",
       "      <td>5</td>\n",
       "      <td>[baru, pertama, konsultasi, dokter, lewat, hal...</td>\n",
       "      <td>Pelayanan</td>\n",
       "      <td>Negatif</td>\n",
       "    </tr>\n",
       "    <tr>\n",
       "      <th>2</th>\n",
       "      <td>1</td>\n",
       "      <td>[astaga, obat, semakin, lama, beli, obat, di, ...</td>\n",
       "      <td>Harga</td>\n",
       "      <td>Negatif</td>\n",
       "    </tr>\n",
       "    <tr>\n",
       "      <th>3</th>\n",
       "      <td>5</td>\n",
       "      <td>[terima kasih, halodoc, atas, pelayanan, sanga...</td>\n",
       "      <td>Pelayanan</td>\n",
       "      <td>Positif</td>\n",
       "    </tr>\n",
       "    <tr>\n",
       "      <th>4</th>\n",
       "      <td>1</td>\n",
       "      <td>[ada, yang, menelepon, ke, nomor, saya, kata, ...</td>\n",
       "      <td>Sistem</td>\n",
       "      <td>Positif</td>\n",
       "    </tr>\n",
       "    <tr>\n",
       "      <th>...</th>\n",
       "      <td>...</td>\n",
       "      <td>...</td>\n",
       "      <td>...</td>\n",
       "      <td>...</td>\n",
       "    </tr>\n",
       "    <tr>\n",
       "      <th>295</th>\n",
       "      <td>5</td>\n",
       "      <td>[dokter, selalu, tangap, dan, cepat, respon]</td>\n",
       "      <td>Pelayanan</td>\n",
       "      <td>Positif</td>\n",
       "    </tr>\n",
       "    <tr>\n",
       "      <th>296</th>\n",
       "      <td>2</td>\n",
       "      <td>[halo, doc, beberapa, waktu, lalu, call, servi...</td>\n",
       "      <td>Sistem</td>\n",
       "      <td>Negatif</td>\n",
       "    </tr>\n",
       "    <tr>\n",
       "      <th>297</th>\n",
       "      <td>5</td>\n",
       "      <td>[dokter, balas, cepat, dan, ramah]</td>\n",
       "      <td>Pelayanan</td>\n",
       "      <td>Positif</td>\n",
       "    </tr>\n",
       "    <tr>\n",
       "      <th>298</th>\n",
       "      <td>3</td>\n",
       "      <td>[halo, doc, saya, barusan, dapat, telepon, men...</td>\n",
       "      <td>Anekdot/Serbaneka</td>\n",
       "      <td>Negatif</td>\n",
       "    </tr>\n",
       "    <tr>\n",
       "      <th>299</th>\n",
       "      <td>5</td>\n",
       "      <td>[binggung, awal, ada, biaya, penanganan, tapi,...</td>\n",
       "      <td>Harga</td>\n",
       "      <td>Positif</td>\n",
       "    </tr>\n",
       "  </tbody>\n",
       "</table>\n",
       "<p>300 rows × 4 columns</p>\n",
       "</div>"
      ],
      "text/plain": [
       "     rating                                             review  \\\n",
       "0         3  [sangat, membantu, terutama, di, kondisi, pand...   \n",
       "1         5  [baru, pertama, konsultasi, dokter, lewat, hal...   \n",
       "2         1  [astaga, obat, semakin, lama, beli, obat, di, ...   \n",
       "3         5  [terima kasih, halodoc, atas, pelayanan, sanga...   \n",
       "4         1  [ada, yang, menelepon, ke, nomor, saya, kata, ...   \n",
       "..      ...                                                ...   \n",
       "295       5       [dokter, selalu, tangap, dan, cepat, respon]   \n",
       "296       2  [halo, doc, beberapa, waktu, lalu, call, servi...   \n",
       "297       5                 [dokter, balas, cepat, dan, ramah]   \n",
       "298       3  [halo, doc, saya, barusan, dapat, telepon, men...   \n",
       "299       5  [binggung, awal, ada, biaya, penanganan, tapi,...   \n",
       "\n",
       "       aspect_category polarity  \n",
       "0            Pelayanan  Negatif  \n",
       "1            Pelayanan  Negatif  \n",
       "2                Harga  Negatif  \n",
       "3            Pelayanan  Positif  \n",
       "4               Sistem  Positif  \n",
       "..                 ...      ...  \n",
       "295          Pelayanan  Positif  \n",
       "296             Sistem  Negatif  \n",
       "297          Pelayanan  Positif  \n",
       "298  Anekdot/Serbaneka  Negatif  \n",
       "299              Harga  Positif  \n",
       "\n",
       "[300 rows x 4 columns]"
      ]
     },
     "execution_count": 38,
     "metadata": {},
     "output_type": "execute_result"
    }
   ],
   "source": [
    "raw_clean['review'] = raw_clean['review'].apply(lambda x: x.split())\n",
    "raw_clean['review'] = raw_clean['review'].apply(lambda x: np.array(x))\n",
    "def mapping_slang_words(review):\n",
    "    return [slang_words[word] if word in slang_words else word for word in review]\n",
    "raw_clean['review'] = raw_clean['review'].apply(mapping_slang_words)\n",
    "raw_clean.head(300)"
   ]
  },
  {
   "cell_type": "markdown",
   "metadata": {},
   "source": [
    "# Remove Stopword"
   ]
  },
  {
   "cell_type": "code",
   "execution_count": 39,
   "metadata": {},
   "outputs": [],
   "source": [
    "stop_words = np.array(pd.read_csv(\"data/external/stopwords_ID.txt\",\n",
    "                        sep=\"\\n\", header=None).values)"
   ]
  },
  {
   "cell_type": "code",
   "execution_count": 40,
   "metadata": {},
   "outputs": [],
   "source": [
    "stop_words = np.unique(stop_words)"
   ]
  },
  {
   "cell_type": "code",
   "execution_count": 41,
   "metadata": {},
   "outputs": [
    {
     "data": {
      "text/html": [
       "<div>\n",
       "<style scoped>\n",
       "    .dataframe tbody tr th:only-of-type {\n",
       "        vertical-align: middle;\n",
       "    }\n",
       "\n",
       "    .dataframe tbody tr th {\n",
       "        vertical-align: top;\n",
       "    }\n",
       "\n",
       "    .dataframe thead th {\n",
       "        text-align: right;\n",
       "    }\n",
       "</style>\n",
       "<table border=\"1\" class=\"dataframe\">\n",
       "  <thead>\n",
       "    <tr style=\"text-align: right;\">\n",
       "      <th></th>\n",
       "      <th>rating</th>\n",
       "      <th>review</th>\n",
       "      <th>aspect_category</th>\n",
       "      <th>polarity</th>\n",
       "    </tr>\n",
       "  </thead>\n",
       "  <tbody>\n",
       "    <tr>\n",
       "      <th>0</th>\n",
       "      <td>3</td>\n",
       "      <td>[membantu, kondisi, pandemi, tolong, evaluasi,...</td>\n",
       "      <td>Pelayanan</td>\n",
       "      <td>Negatif</td>\n",
       "    </tr>\n",
       "    <tr>\n",
       "      <th>1</th>\n",
       "      <td>5</td>\n",
       "      <td>[konsultasi, dokter, bagus, durasi, cepat, dok...</td>\n",
       "      <td>Pelayanan</td>\n",
       "      <td>Negatif</td>\n",
       "    </tr>\n",
       "    <tr>\n",
       "      <th>2</th>\n",
       "      <td>1</td>\n",
       "      <td>[astaga, obat, beli, obat, harga, masuk, akal,...</td>\n",
       "      <td>Harga</td>\n",
       "      <td>Negatif</td>\n",
       "    </tr>\n",
       "    <tr>\n",
       "      <th>3</th>\n",
       "      <td>5</td>\n",
       "      <td>[terima kasih, pelayanan, baik, cepat, pengiri...</td>\n",
       "      <td>Pelayanan</td>\n",
       "      <td>Positif</td>\n",
       "    </tr>\n",
       "    <tr>\n",
       "      <th>4</th>\n",
       "      <td>1</td>\n",
       "      <td>[menelepon, nomor, hadiah, konfirmasi, aplikas...</td>\n",
       "      <td>Sistem</td>\n",
       "      <td>Positif</td>\n",
       "    </tr>\n",
       "  </tbody>\n",
       "</table>\n",
       "</div>"
      ],
      "text/plain": [
       "   rating                                             review aspect_category  \\\n",
       "0       3  [membantu, kondisi, pandemi, tolong, evaluasi,...       Pelayanan   \n",
       "1       5  [konsultasi, dokter, bagus, durasi, cepat, dok...       Pelayanan   \n",
       "2       1  [astaga, obat, beli, obat, harga, masuk, akal,...           Harga   \n",
       "3       5  [terima kasih, pelayanan, baik, cepat, pengiri...       Pelayanan   \n",
       "4       1  [menelepon, nomor, hadiah, konfirmasi, aplikas...          Sistem   \n",
       "\n",
       "  polarity  \n",
       "0  Negatif  \n",
       "1  Negatif  \n",
       "2  Negatif  \n",
       "3  Positif  \n",
       "4  Positif  "
      ]
     },
     "execution_count": 41,
     "metadata": {},
     "output_type": "execute_result"
    }
   ],
   "source": [
    "def remove_stop_words(word_list):\n",
    "    return [word for word in word_list if word not in stop_words]\n",
    "raw_clean['review'] = raw_clean['review'].apply(remove_stop_words)\n",
    "raw_clean.head()"
   ]
  },
  {
   "cell_type": "code",
   "execution_count": 42,
   "metadata": {},
   "outputs": [
    {
     "data": {
      "text/html": [
       "<div>\n",
       "<style scoped>\n",
       "    .dataframe tbody tr th:only-of-type {\n",
       "        vertical-align: middle;\n",
       "    }\n",
       "\n",
       "    .dataframe tbody tr th {\n",
       "        vertical-align: top;\n",
       "    }\n",
       "\n",
       "    .dataframe thead th {\n",
       "        text-align: right;\n",
       "    }\n",
       "</style>\n",
       "<table border=\"1\" class=\"dataframe\">\n",
       "  <thead>\n",
       "    <tr style=\"text-align: right;\">\n",
       "      <th></th>\n",
       "      <th>rating</th>\n",
       "      <th>review</th>\n",
       "      <th>aspect_category</th>\n",
       "      <th>polarity</th>\n",
       "    </tr>\n",
       "  </thead>\n",
       "  <tbody>\n",
       "    <tr>\n",
       "      <th>0</th>\n",
       "      <td>3</td>\n",
       "      <td>[membantu, kondisi, pandemi, tolong, evaluasi,...</td>\n",
       "      <td>Pelayanan</td>\n",
       "      <td>negatif</td>\n",
       "    </tr>\n",
       "    <tr>\n",
       "      <th>1</th>\n",
       "      <td>5</td>\n",
       "      <td>[konsultasi, dokter, bagus, durasi, cepat, dok...</td>\n",
       "      <td>Pelayanan</td>\n",
       "      <td>negatif</td>\n",
       "    </tr>\n",
       "    <tr>\n",
       "      <th>2</th>\n",
       "      <td>1</td>\n",
       "      <td>[astaga, obat, beli, obat, harga, masuk, akal,...</td>\n",
       "      <td>Harga</td>\n",
       "      <td>negatif</td>\n",
       "    </tr>\n",
       "    <tr>\n",
       "      <th>3</th>\n",
       "      <td>5</td>\n",
       "      <td>[terima kasih, pelayanan, baik, cepat, pengiri...</td>\n",
       "      <td>Pelayanan</td>\n",
       "      <td>positif</td>\n",
       "    </tr>\n",
       "    <tr>\n",
       "      <th>4</th>\n",
       "      <td>1</td>\n",
       "      <td>[menelepon, nomor, hadiah, konfirmasi, aplikas...</td>\n",
       "      <td>Sistem</td>\n",
       "      <td>positif</td>\n",
       "    </tr>\n",
       "  </tbody>\n",
       "</table>\n",
       "</div>"
      ],
      "text/plain": [
       "   rating                                             review aspect_category  \\\n",
       "0       3  [membantu, kondisi, pandemi, tolong, evaluasi,...       Pelayanan   \n",
       "1       5  [konsultasi, dokter, bagus, durasi, cepat, dok...       Pelayanan   \n",
       "2       1  [astaga, obat, beli, obat, harga, masuk, akal,...           Harga   \n",
       "3       5  [terima kasih, pelayanan, baik, cepat, pengiri...       Pelayanan   \n",
       "4       1  [menelepon, nomor, hadiah, konfirmasi, aplikas...          Sistem   \n",
       "\n",
       "  polarity  \n",
       "0  negatif  \n",
       "1  negatif  \n",
       "2  negatif  \n",
       "3  positif  \n",
       "4  positif  "
      ]
     },
     "execution_count": 42,
     "metadata": {},
     "output_type": "execute_result"
    }
   ],
   "source": [
    "raw_clean['polarity'] =raw_clean['polarity'].apply(lambda x: x.lower())\n",
    "raw_clean.head()"
   ]
  },
  {
   "cell_type": "markdown",
   "metadata": {},
   "source": [
    "# Save"
   ]
  },
  {
   "cell_type": "code",
   "execution_count": 43,
   "metadata": {},
   "outputs": [],
   "source": [
    "raw_clean.to_csv('data/data/data_clean.csv', index=False)\n",
    "raw_clean.to_excel('data/data/data_clean_excel.xlsx', index=False)"
   ]
  },
  {
   "cell_type": "code",
   "execution_count": 44,
   "metadata": {},
   "outputs": [
    {
     "data": {
      "text/plain": [
       "['membantu',\n",
       " 'kondisi',\n",
       " 'pandemi',\n",
       " 'tolong',\n",
       " 'evaluasi',\n",
       " 'ketersedian',\n",
       " 'obat',\n",
       " 'apotek',\n",
       " 'rekanan',\n",
       " 'kota',\n",
       " 'manado',\n",
       " 'resep',\n",
       " 'obat',\n",
       " 'batuk',\n",
       " 'apotek',\n",
       " 'suka',\n",
       " 'habis',\n",
       " 'sia',\n",
       " 'sia',\n",
       " 'konsultasi',\n",
       " 'dokter',\n",
       " 'ujung',\n",
       " 'ujung',\n",
       " 'obat',\n",
       " 'resep',\n",
       " 'apotek',\n",
       " 'rugi',\n",
       " 'chat',\n",
       " 'mahal',\n",
       " 'biaya',\n",
       " 'masukan',\n",
       " 'baik',\n",
       " 'pakai',\n",
       " 'fitur',\n",
       " 'chat',\n",
       " 'us',\n",
       " 'customer service',\n",
       " 'customer service',\n",
       " 'mengubah',\n",
       " 'produk',\n",
       " 'obat',\n",
       " 'menyarankan',\n",
       " 'konsultasi',\n",
       " 'dokter']"
      ]
     },
     "execution_count": 44,
     "metadata": {},
     "output_type": "execute_result"
    }
   ],
   "source": [
    "raw_clean['review'][0]"
   ]
  },
  {
   "cell_type": "code",
   "execution_count": 45,
   "metadata": {},
   "outputs": [
    {
     "data": {
      "text/plain": [
       "['terbaik', 'bagus', 'membantu', 'pandemi', 'suka']"
      ]
     },
     "execution_count": 45,
     "metadata": {},
     "output_type": "execute_result"
    }
   ],
   "source": [
    "raw_clean['review'][784]"
   ]
  },
  {
   "cell_type": "code",
   "execution_count": 46,
   "metadata": {},
   "outputs": [
    {
     "data": {
      "text/plain": [
       "['terimakasih', 'bagus', 'panik', 'keluhan', 'bantu']"
      ]
     },
     "execution_count": 46,
     "metadata": {},
     "output_type": "execute_result"
    }
   ],
   "source": [
    "raw_clean['review'][101]"
   ]
  },
  {
   "cell_type": "code",
   "execution_count": 47,
   "metadata": {},
   "outputs": [
    {
     "data": {
      "text/plain": [
       "['pengguna',\n",
       " 'bagus',\n",
       " 'terima kasih',\n",
       " 'penilaian',\n",
       " 'berubah',\n",
       " 'bagus',\n",
       " 'pelayanan']"
      ]
     },
     "execution_count": 47,
     "metadata": {},
     "output_type": "execute_result"
    }
   ],
   "source": [
    "raw_clean['review'][424]"
   ]
  },
  {
   "cell_type": "code",
   "execution_count": 48,
   "metadata": {},
   "outputs": [
    {
     "data": {
      "text/plain": [
       "['konsultasi', 'semoga', 'baik']"
      ]
     },
     "execution_count": 48,
     "metadata": {},
     "output_type": "execute_result"
    }
   ],
   "source": [
    "raw_clean['review'][662]"
   ]
  },
  {
   "cell_type": "code",
   "execution_count": 49,
   "metadata": {},
   "outputs": [
    {
     "data": {
      "text/plain": [
       "['dokter', 'ramah', 'ramah', 'detail']"
      ]
     },
     "execution_count": 49,
     "metadata": {},
     "output_type": "execute_result"
    }
   ],
   "source": [
    "raw_clean['review'][790]"
   ]
  },
  {
   "cell_type": "code",
   "execution_count": 50,
   "metadata": {},
   "outputs": [
    {
     "data": {
      "text/plain": [
       "['bicara', 'bicara', 'menyediakan', 'kalender', 'menstruasi']"
      ]
     },
     "execution_count": 50,
     "metadata": {},
     "output_type": "execute_result"
    }
   ],
   "source": [
    "raw_clean['review'][686]"
   ]
  },
  {
   "cell_type": "code",
   "execution_count": 51,
   "metadata": {},
   "outputs": [
    {
     "data": {
      "text/plain": [
       "['cepat', 'respon', 'dokter', 'ramah', 'penjelasan', 'detail']"
      ]
     },
     "execution_count": 51,
     "metadata": {},
     "output_type": "execute_result"
    }
   ],
   "source": [
    "raw_clean['review'][624]"
   ]
  },
  {
   "cell_type": "code",
   "execution_count": 52,
   "metadata": {},
   "outputs": [
    {
     "data": {
      "text/plain": [
       "['membantu', 'tenang', 'informasi', 'solusi']"
      ]
     },
     "execution_count": 52,
     "metadata": {},
     "output_type": "execute_result"
    }
   ],
   "source": [
    "raw_clean['review'][621]"
   ]
  },
  {
   "cell_type": "code",
   "execution_count": 53,
   "metadata": {},
   "outputs": [
    {
     "data": {
      "text/plain": [
       "['dokter',\n",
       " 'hebat',\n",
       " 'hebat',\n",
       " 'jelas',\n",
       " 'fokus',\n",
       " 'keluhan',\n",
       " 'derita',\n",
       " 'terima',\n",
       " 'kasih']"
      ]
     },
     "execution_count": 53,
     "metadata": {},
     "output_type": "execute_result"
    }
   ],
   "source": [
    "raw_clean['review'][44]"
   ]
  },
  {
   "cell_type": "code",
   "execution_count": 54,
   "metadata": {},
   "outputs": [
    {
     "data": {
      "text/plain": [
       "['respon',\n",
       " 'keluhan',\n",
       " 'team',\n",
       " 'customer service',\n",
       " 'respon',\n",
       " 'ulasan',\n",
       " 'update',\n",
       " 'respon',\n",
       " 'team',\n",
       " 'customer service',\n",
       " 'cepat']"
      ]
     },
     "execution_count": 54,
     "metadata": {},
     "output_type": "execute_result"
    }
   ],
   "source": [
    "raw_clean['review'][47]"
   ]
  },
  {
   "cell_type": "code",
   "execution_count": 55,
   "metadata": {},
   "outputs": [
    {
     "data": {
      "text/plain": [
       "['membantu',\n",
       " 'darurat',\n",
       " 'langsung',\n",
       " 'tindakan',\n",
       " 'selanjut',\n",
       " 'dokter',\n",
       " 'ramah',\n",
       " 'terima kasih']"
      ]
     },
     "execution_count": 55,
     "metadata": {},
     "output_type": "execute_result"
    }
   ],
   "source": [
    "raw_clean['review'][56]"
   ]
  },
  {
   "cell_type": "code",
   "execution_count": 56,
   "metadata": {},
   "outputs": [
    {
     "data": {
      "text/plain": [
       "['membantu',\n",
       " 'jam',\n",
       " 'anak',\n",
       " 'sakit',\n",
       " 'konsultasi',\n",
       " 'dokter',\n",
       " 'terima',\n",
       " 'kasih',\n",
       " 'adi',\n",
       " 'suryadinata',\n",
       " 'membantu']"
      ]
     },
     "execution_count": 56,
     "metadata": {},
     "output_type": "execute_result"
    }
   ],
   "source": [
    "raw_clean['review'][12]"
   ]
  },
  {
   "cell_type": "code",
   "execution_count": 57,
   "metadata": {},
   "outputs": [
    {
     "data": {
      "text/plain": [
       "['membantu',\n",
       " 'mempermudah',\n",
       " 'mencari',\n",
       " 'obat',\n",
       " 'obatan',\n",
       " 'respon',\n",
       " 'cepat',\n",
       " 'pesan',\n",
       " 'terima kasih']"
      ]
     },
     "execution_count": 57,
     "metadata": {},
     "output_type": "execute_result"
    }
   ],
   "source": [
    "raw_clean['review'][13]"
   ]
  },
  {
   "cell_type": "code",
   "execution_count": 58,
   "metadata": {},
   "outputs": [
    {
     "data": {
      "text/plain": [
       "['membantu',\n",
       " 'obat',\n",
       " 'dicari',\n",
       " 'dibeberapa',\n",
       " 'apotek',\n",
       " 'kosong',\n",
       " 'lengkap',\n",
       " 'pemakaian',\n",
       " 'mudah',\n",
       " 'thanks']"
      ]
     },
     "execution_count": 58,
     "metadata": {},
     "output_type": "execute_result"
    }
   ],
   "source": [
    "raw_clean['review'][19]"
   ]
  },
  {
   "cell_type": "code",
   "execution_count": 59,
   "metadata": {},
   "outputs": [
    {
     "data": {
      "text/plain": [
       "['bagus',\n",
       " 'aplikasi',\n",
       " 'ketemu',\n",
       " 'di mana',\n",
       " 'bagus',\n",
       " 'respon',\n",
       " 'dokter',\n",
       " 'cepat',\n",
       " 'bagus',\n",
       " 'pertahankan',\n",
       " 'membantu',\n",
       " 'bagus']"
      ]
     },
     "execution_count": 59,
     "metadata": {},
     "output_type": "execute_result"
    }
   ],
   "source": [
    "raw_clean['review'][23]"
   ]
  },
  {
   "cell_type": "code",
   "execution_count": 60,
   "metadata": {},
   "outputs": [
    {
     "data": {
      "text/plain": [
       "['jujur',\n",
       " 'puas',\n",
       " 'nasihat',\n",
       " 'nasihat',\n",
       " 'penjelasan',\n",
       " 'dokter',\n",
       " 'disayangkan',\n",
       " 'konsultasi',\n",
       " 'aplikasi',\n",
       " 'menit',\n",
       " 'otomatis',\n",
       " 'berhenti']"
      ]
     },
     "execution_count": 60,
     "metadata": {},
     "output_type": "execute_result"
    }
   ],
   "source": [
    "raw_clean['review'][18]"
   ]
  },
  {
   "cell_type": "code",
   "execution_count": 61,
   "metadata": {},
   "outputs": [
    {
     "data": {
      "text/plain": [
       "['bagus',\n",
       " 'antre',\n",
       " 'sakit',\n",
       " 'chat',\n",
       " 'langsung',\n",
       " 'dibales',\n",
       " 'obat',\n",
       " 'diantar',\n",
       " 'terima',\n",
       " 'kasih',\n",
       " 'holodocbantu']"
      ]
     },
     "execution_count": 61,
     "metadata": {},
     "output_type": "execute_result"
    }
   ],
   "source": [
    "raw_clean['review'][52]"
   ]
  },
  {
   "cell_type": "code",
   "execution_count": 62,
   "metadata": {},
   "outputs": [
    {
     "data": {
      "text/plain": [
       "['sumpah',\n",
       " 'alternatif',\n",
       " 'miris',\n",
       " 'keuangan',\n",
       " 'sakit',\n",
       " 'dirasa',\n",
       " 'hemat',\n",
       " 'pakai',\n",
       " 'aplikasi',\n",
       " 'bagus',\n",
       " 'pekerjaan',\n",
       " 'cocok',\n",
       " 'anak',\n",
       " 'kosan']"
      ]
     },
     "execution_count": 62,
     "metadata": {},
     "output_type": "execute_result"
    }
   ],
   "source": [
    "raw_clean['review'][5]"
   ]
  },
  {
   "cell_type": "code",
   "execution_count": 63,
   "metadata": {},
   "outputs": [
    {
     "data": {
      "text/plain": [
       "['respon',\n",
       " 'keluhan',\n",
       " 'team',\n",
       " 'customer service',\n",
       " 'respon',\n",
       " 'ulasan',\n",
       " 'update',\n",
       " 'respon',\n",
       " 'team',\n",
       " 'customer service',\n",
       " 'cepat']"
      ]
     },
     "execution_count": 63,
     "metadata": {},
     "output_type": "execute_result"
    }
   ],
   "source": [
    "raw_clean['review'][47]"
   ]
  },
  {
   "cell_type": "code",
   "execution_count": 64,
   "metadata": {},
   "outputs": [
    {
     "data": {
      "text/html": [
       "<div>\n",
       "<style scoped>\n",
       "    .dataframe tbody tr th:only-of-type {\n",
       "        vertical-align: middle;\n",
       "    }\n",
       "\n",
       "    .dataframe tbody tr th {\n",
       "        vertical-align: top;\n",
       "    }\n",
       "\n",
       "    .dataframe thead th {\n",
       "        text-align: right;\n",
       "    }\n",
       "</style>\n",
       "<table border=\"1\" class=\"dataframe\">\n",
       "  <thead>\n",
       "    <tr style=\"text-align: right;\">\n",
       "      <th></th>\n",
       "      <th>rating</th>\n",
       "      <th>review</th>\n",
       "      <th>aspect_category</th>\n",
       "      <th>polarity</th>\n",
       "    </tr>\n",
       "  </thead>\n",
       "  <tbody>\n",
       "    <tr>\n",
       "      <th>0</th>\n",
       "      <td>3</td>\n",
       "      <td>[membantu, kondisi, pandemi, tolong, evaluasi,...</td>\n",
       "      <td>Pelayanan</td>\n",
       "      <td>negatif</td>\n",
       "    </tr>\n",
       "    <tr>\n",
       "      <th>1</th>\n",
       "      <td>5</td>\n",
       "      <td>[konsultasi, dokter, bagus, durasi, cepat, dok...</td>\n",
       "      <td>Pelayanan</td>\n",
       "      <td>negatif</td>\n",
       "    </tr>\n",
       "    <tr>\n",
       "      <th>2</th>\n",
       "      <td>1</td>\n",
       "      <td>[astaga, obat, beli, obat, harga, masuk, akal,...</td>\n",
       "      <td>Harga</td>\n",
       "      <td>negatif</td>\n",
       "    </tr>\n",
       "    <tr>\n",
       "      <th>3</th>\n",
       "      <td>5</td>\n",
       "      <td>[terima kasih, pelayanan, baik, cepat, pengiri...</td>\n",
       "      <td>Pelayanan</td>\n",
       "      <td>positif</td>\n",
       "    </tr>\n",
       "    <tr>\n",
       "      <th>4</th>\n",
       "      <td>1</td>\n",
       "      <td>[menelepon, nomor, hadiah, konfirmasi, aplikas...</td>\n",
       "      <td>Sistem</td>\n",
       "      <td>positif</td>\n",
       "    </tr>\n",
       "  </tbody>\n",
       "</table>\n",
       "</div>"
      ],
      "text/plain": [
       "   rating                                             review aspect_category  \\\n",
       "0       3  [membantu, kondisi, pandemi, tolong, evaluasi,...       Pelayanan   \n",
       "1       5  [konsultasi, dokter, bagus, durasi, cepat, dok...       Pelayanan   \n",
       "2       1  [astaga, obat, beli, obat, harga, masuk, akal,...           Harga   \n",
       "3       5  [terima kasih, pelayanan, baik, cepat, pengiri...       Pelayanan   \n",
       "4       1  [menelepon, nomor, hadiah, konfirmasi, aplikas...          Sistem   \n",
       "\n",
       "  polarity  \n",
       "0  negatif  \n",
       "1  negatif  \n",
       "2  negatif  \n",
       "3  positif  \n",
       "4  positif  "
      ]
     },
     "execution_count": 64,
     "metadata": {},
     "output_type": "execute_result"
    }
   ],
   "source": [
    "def csv_string_to_list(csv_string):\n",
    "    return csv_string[1:-1].split()\n",
    "\n",
    "def string_without_quotes(word_list):\n",
    "    new = []\n",
    "    for word in word_list:\n",
    "        new.append(word.replace(\"'\",\"\"))\n",
    "    return new\n",
    "\n",
    "raw_clean['review'] = raw_clean['review'].apply(string_without_quotes)\n",
    "raw_clean.head()"
   ]
  },
  {
   "cell_type": "code",
   "execution_count": 65,
   "metadata": {},
   "outputs": [],
   "source": [
    "raw_clean.aspect_category=raw_clean.aspect_category.astype(str)\n"
   ]
  },
  {
   "cell_type": "code",
   "execution_count": 66,
   "metadata": {},
   "outputs": [
    {
     "data": {
      "text/html": [
       "<div>\n",
       "<style scoped>\n",
       "    .dataframe tbody tr th:only-of-type {\n",
       "        vertical-align: middle;\n",
       "    }\n",
       "\n",
       "    .dataframe tbody tr th {\n",
       "        vertical-align: top;\n",
       "    }\n",
       "\n",
       "    .dataframe thead th {\n",
       "        text-align: right;\n",
       "    }\n",
       "</style>\n",
       "<table border=\"1\" class=\"dataframe\">\n",
       "  <thead>\n",
       "    <tr style=\"text-align: right;\">\n",
       "      <th></th>\n",
       "      <th>rating</th>\n",
       "      <th>review</th>\n",
       "      <th>aspect_category</th>\n",
       "      <th>polarity</th>\n",
       "    </tr>\n",
       "  </thead>\n",
       "  <tbody>\n",
       "    <tr>\n",
       "      <th>0</th>\n",
       "      <td>3</td>\n",
       "      <td>[membantu, kondisi, pandemi, tolong, evaluasi,...</td>\n",
       "      <td>pelayanan</td>\n",
       "      <td>negatif</td>\n",
       "    </tr>\n",
       "    <tr>\n",
       "      <th>1</th>\n",
       "      <td>5</td>\n",
       "      <td>[konsultasi, dokter, bagus, durasi, cepat, dok...</td>\n",
       "      <td>pelayanan</td>\n",
       "      <td>negatif</td>\n",
       "    </tr>\n",
       "    <tr>\n",
       "      <th>2</th>\n",
       "      <td>1</td>\n",
       "      <td>[astaga, obat, beli, obat, harga, masuk, akal,...</td>\n",
       "      <td>harga</td>\n",
       "      <td>negatif</td>\n",
       "    </tr>\n",
       "    <tr>\n",
       "      <th>3</th>\n",
       "      <td>5</td>\n",
       "      <td>[terima kasih, pelayanan, baik, cepat, pengiri...</td>\n",
       "      <td>pelayanan</td>\n",
       "      <td>positif</td>\n",
       "    </tr>\n",
       "    <tr>\n",
       "      <th>4</th>\n",
       "      <td>1</td>\n",
       "      <td>[menelepon, nomor, hadiah, konfirmasi, aplikas...</td>\n",
       "      <td>sistem</td>\n",
       "      <td>positif</td>\n",
       "    </tr>\n",
       "  </tbody>\n",
       "</table>\n",
       "</div>"
      ],
      "text/plain": [
       "   rating                                             review aspect_category  \\\n",
       "0       3  [membantu, kondisi, pandemi, tolong, evaluasi,...       pelayanan   \n",
       "1       5  [konsultasi, dokter, bagus, durasi, cepat, dok...       pelayanan   \n",
       "2       1  [astaga, obat, beli, obat, harga, masuk, akal,...           harga   \n",
       "3       5  [terima kasih, pelayanan, baik, cepat, pengiri...       pelayanan   \n",
       "4       1  [menelepon, nomor, hadiah, konfirmasi, aplikas...          sistem   \n",
       "\n",
       "  polarity  \n",
       "0  negatif  \n",
       "1  negatif  \n",
       "2  negatif  \n",
       "3  positif  \n",
       "4  positif  "
      ]
     },
     "execution_count": 66,
     "metadata": {},
     "output_type": "execute_result"
    }
   ],
   "source": [
    "raw_clean['aspect_category'] = raw_clean['aspect_category'].apply(lambda x: x.lower())\n",
    "raw_clean.head()"
   ]
  },
  {
   "cell_type": "code",
   "execution_count": 67,
   "metadata": {},
   "outputs": [
    {
     "data": {
      "text/plain": [
       "aspect_category\n",
       "pelayanan            396\n",
       "anekdot/serbaneka    302\n",
       "sistem                83\n",
       "harga                 18\n",
       "harga                  1\n",
       "dtype: int64"
      ]
     },
     "execution_count": 67,
     "metadata": {},
     "output_type": "execute_result"
    }
   ],
   "source": [
    "raw_clean.groupby('aspect_category').size().sort_values(ascending=False)"
   ]
  },
  {
   "cell_type": "code",
   "execution_count": 68,
   "metadata": {},
   "outputs": [],
   "source": [
    "raw_clean['aspect_category'] = raw_clean['aspect_category'].apply(lambda x: x.strip())"
   ]
  },
  {
   "cell_type": "code",
   "execution_count": 69,
   "metadata": {},
   "outputs": [
    {
     "data": {
      "text/plain": [
       "aspect_category\n",
       "pelayanan            396\n",
       "anekdot/serbaneka    302\n",
       "sistem                83\n",
       "harga                 19\n",
       "dtype: int64"
      ]
     },
     "execution_count": 69,
     "metadata": {},
     "output_type": "execute_result"
    }
   ],
   "source": [
    "raw_clean.groupby('aspect_category').size().sort_values(ascending=False)"
   ]
  },
  {
   "cell_type": "code",
   "execution_count": 70,
   "metadata": {},
   "outputs": [],
   "source": [
    "def convert_list_to_string(word_list):\n",
    "    return \",\".join(word_list)\n",
    "\n",
    "raw_clean['review'] = raw_clean['review'].apply(convert_list_to_string)"
   ]
  },
  {
   "cell_type": "code",
   "execution_count": 71,
   "metadata": {},
   "outputs": [
    {
     "data": {
      "text/html": [
       "<div>\n",
       "<style scoped>\n",
       "    .dataframe tbody tr th:only-of-type {\n",
       "        vertical-align: middle;\n",
       "    }\n",
       "\n",
       "    .dataframe tbody tr th {\n",
       "        vertical-align: top;\n",
       "    }\n",
       "\n",
       "    .dataframe thead th {\n",
       "        text-align: right;\n",
       "    }\n",
       "</style>\n",
       "<table border=\"1\" class=\"dataframe\">\n",
       "  <thead>\n",
       "    <tr style=\"text-align: right;\">\n",
       "      <th></th>\n",
       "      <th>rating</th>\n",
       "      <th>review</th>\n",
       "      <th>aspect_category</th>\n",
       "      <th>polarity</th>\n",
       "    </tr>\n",
       "  </thead>\n",
       "  <tbody>\n",
       "    <tr>\n",
       "      <th>0</th>\n",
       "      <td>3</td>\n",
       "      <td>membantu,kondisi,pandemi,tolong,evaluasi,keter...</td>\n",
       "      <td>pelayanan</td>\n",
       "      <td>negatif</td>\n",
       "    </tr>\n",
       "    <tr>\n",
       "      <th>1</th>\n",
       "      <td>5</td>\n",
       "      <td>konsultasi,dokter,bagus,durasi,cepat,dokter,do...</td>\n",
       "      <td>pelayanan</td>\n",
       "      <td>negatif</td>\n",
       "    </tr>\n",
       "    <tr>\n",
       "      <th>2</th>\n",
       "      <td>1</td>\n",
       "      <td>astaga,obat,beli,obat,harga,masuk,akal,lipat,u...</td>\n",
       "      <td>harga</td>\n",
       "      <td>negatif</td>\n",
       "    </tr>\n",
       "    <tr>\n",
       "      <th>3</th>\n",
       "      <td>5</td>\n",
       "      <td>terima kasih,pelayanan,baik,cepat,pengiriman,b...</td>\n",
       "      <td>pelayanan</td>\n",
       "      <td>positif</td>\n",
       "    </tr>\n",
       "    <tr>\n",
       "      <th>4</th>\n",
       "      <td>1</td>\n",
       "      <td>menelepon,nomor,hadiah,konfirmasi,aplikasi,men...</td>\n",
       "      <td>sistem</td>\n",
       "      <td>positif</td>\n",
       "    </tr>\n",
       "  </tbody>\n",
       "</table>\n",
       "</div>"
      ],
      "text/plain": [
       "   rating                                             review aspect_category  \\\n",
       "0       3  membantu,kondisi,pandemi,tolong,evaluasi,keter...       pelayanan   \n",
       "1       5  konsultasi,dokter,bagus,durasi,cepat,dokter,do...       pelayanan   \n",
       "2       1  astaga,obat,beli,obat,harga,masuk,akal,lipat,u...           harga   \n",
       "3       5  terima kasih,pelayanan,baik,cepat,pengiriman,b...       pelayanan   \n",
       "4       1  menelepon,nomor,hadiah,konfirmasi,aplikasi,men...          sistem   \n",
       "\n",
       "  polarity  \n",
       "0  negatif  \n",
       "1  negatif  \n",
       "2  negatif  \n",
       "3  positif  \n",
       "4  positif  "
      ]
     },
     "execution_count": 71,
     "metadata": {},
     "output_type": "execute_result"
    }
   ],
   "source": [
    "raw_clean.head()"
   ]
  },
  {
   "cell_type": "code",
   "execution_count": 72,
   "metadata": {},
   "outputs": [
    {
     "data": {
      "text/html": [
       "<div>\n",
       "<style scoped>\n",
       "    .dataframe tbody tr th:only-of-type {\n",
       "        vertical-align: middle;\n",
       "    }\n",
       "\n",
       "    .dataframe tbody tr th {\n",
       "        vertical-align: top;\n",
       "    }\n",
       "\n",
       "    .dataframe thead th {\n",
       "        text-align: right;\n",
       "    }\n",
       "</style>\n",
       "<table border=\"1\" class=\"dataframe\">\n",
       "  <thead>\n",
       "    <tr style=\"text-align: right;\">\n",
       "      <th></th>\n",
       "      <th>rating</th>\n",
       "      <th>review</th>\n",
       "      <th>aspect_category</th>\n",
       "      <th>polarity</th>\n",
       "    </tr>\n",
       "  </thead>\n",
       "  <tbody>\n",
       "    <tr>\n",
       "      <th>0</th>\n",
       "      <td>3</td>\n",
       "      <td>membantu,kondisi,pandemi,tolong,evaluasi,keter...</td>\n",
       "      <td>pelayanan</td>\n",
       "      <td>negatif</td>\n",
       "    </tr>\n",
       "    <tr>\n",
       "      <th>1</th>\n",
       "      <td>5</td>\n",
       "      <td>konsultasi,dokter,bagus,durasi,cepat,dokter,do...</td>\n",
       "      <td>pelayanan</td>\n",
       "      <td>negatif</td>\n",
       "    </tr>\n",
       "    <tr>\n",
       "      <th>2</th>\n",
       "      <td>1</td>\n",
       "      <td>astaga,obat,beli,obat,harga,masuk,akal,lipat,u...</td>\n",
       "      <td>harga</td>\n",
       "      <td>negatif</td>\n",
       "    </tr>\n",
       "    <tr>\n",
       "      <th>3</th>\n",
       "      <td>5</td>\n",
       "      <td>terima kasih,pelayanan,baik,cepat,pengiriman,b...</td>\n",
       "      <td>pelayanan</td>\n",
       "      <td>positif</td>\n",
       "    </tr>\n",
       "    <tr>\n",
       "      <th>4</th>\n",
       "      <td>1</td>\n",
       "      <td>menelepon,nomor,hadiah,konfirmasi,aplikasi,men...</td>\n",
       "      <td>sistem</td>\n",
       "      <td>positif</td>\n",
       "    </tr>\n",
       "  </tbody>\n",
       "</table>\n",
       "</div>"
      ],
      "text/plain": [
       "   rating                                             review aspect_category  \\\n",
       "0       3  membantu,kondisi,pandemi,tolong,evaluasi,keter...       pelayanan   \n",
       "1       5  konsultasi,dokter,bagus,durasi,cepat,dokter,do...       pelayanan   \n",
       "2       1  astaga,obat,beli,obat,harga,masuk,akal,lipat,u...           harga   \n",
       "3       5  terima kasih,pelayanan,baik,cepat,pengiriman,b...       pelayanan   \n",
       "4       1  menelepon,nomor,hadiah,konfirmasi,aplikasi,men...          sistem   \n",
       "\n",
       "  polarity  \n",
       "0  negatif  \n",
       "1  negatif  \n",
       "2  negatif  \n",
       "3  positif  \n",
       "4  positif  "
      ]
     },
     "execution_count": 72,
     "metadata": {},
     "output_type": "execute_result"
    }
   ],
   "source": [
    "raw_clean['polarity'] = raw_clean['polarity'].apply(lambda x: x.lower())\n",
    "raw_clean.head()"
   ]
  },
  {
   "cell_type": "code",
   "execution_count": 73,
   "metadata": {},
   "outputs": [],
   "source": [
    "raw_clean.to_csv('data/data/data_clean_pure.csv', index=False)\n",
    "raw_clean.to_excel('data/data/data_clean_excel_pure.xlsx', index=False)"
   ]
  },
  {
   "cell_type": "code",
   "execution_count": 74,
   "metadata": {},
   "outputs": [
    {
     "data": {
      "text/plain": [
       "polarity\n",
       "positif    650\n",
       "negatif    150\n",
       "dtype: int64"
      ]
     },
     "execution_count": 74,
     "metadata": {},
     "output_type": "execute_result"
    }
   ],
   "source": [
    "raw_clean.groupby('polarity').size().sort_values(ascending=False)"
   ]
  },
  {
   "cell_type": "code",
   "execution_count": 75,
   "metadata": {},
   "outputs": [
    {
     "data": {
      "text/plain": [
       "'bagus,antre,sakit,chat,langsung,dibales,obat,diantar,terima,kasih,holodocbantu'"
      ]
     },
     "execution_count": 75,
     "metadata": {},
     "output_type": "execute_result"
    }
   ],
   "source": [
    "raw_clean['review'][52]"
   ]
  },
  {
   "cell_type": "code",
   "execution_count": 76,
   "metadata": {},
   "outputs": [
    {
     "data": {
      "text/plain": [
       "'konsultasi,semoga,baik'"
      ]
     },
     "execution_count": 76,
     "metadata": {},
     "output_type": "execute_result"
    }
   ],
   "source": [
    "raw_clean['review'][662]"
   ]
  },
  {
   "cell_type": "code",
   "execution_count": 77,
   "metadata": {},
   "outputs": [
    {
     "data": {
      "text/plain": [
       "'berguna,efesien,memesan,obat,dimanapun,cari,apotek,menyediakan,obat,suka,cinta,kembangkan'"
      ]
     },
     "execution_count": 77,
     "metadata": {},
     "output_type": "execute_result"
    }
   ],
   "source": [
    "raw_clean['review'][208]"
   ]
  },
  {
   "cell_type": "code",
   "execution_count": 78,
   "metadata": {},
   "outputs": [
    {
     "data": {
      "text/plain": [
       "'bagus,dapetin,obat,repot,apotek,terima kasih,bagus,konsultasi,dokter,lancar,cepat'"
      ]
     },
     "execution_count": 78,
     "metadata": {},
     "output_type": "execute_result"
    }
   ],
   "source": [
    "raw_clean['review'][425]"
   ]
  },
  {
   "cell_type": "code",
   "execution_count": 79,
   "metadata": {},
   "outputs": [
    {
     "data": {
      "text/plain": [
       "'berguna,efesien,memesan,obat,dimanapun,cari,apotek,menyediakan,obat,suka,cinta,kembangkan'"
      ]
     },
     "execution_count": 79,
     "metadata": {},
     "output_type": "execute_result"
    }
   ],
   "source": [
    "raw_clean['review'][208]"
   ]
  },
  {
   "cell_type": "code",
   "execution_count": null,
   "metadata": {},
   "outputs": [],
   "source": []
  }
 ],
 "metadata": {
  "kernelspec": {
   "display_name": "Python 3",
   "language": "python",
   "name": "python3"
  },
  "language_info": {
   "codemirror_mode": {
    "name": "ipython",
    "version": 3
   },
   "file_extension": ".py",
   "mimetype": "text/x-python",
   "name": "python",
   "nbconvert_exporter": "python",
   "pygments_lexer": "ipython3",
   "version": "3.8.5"
  }
 },
 "nbformat": 4,
 "nbformat_minor": 4
}
