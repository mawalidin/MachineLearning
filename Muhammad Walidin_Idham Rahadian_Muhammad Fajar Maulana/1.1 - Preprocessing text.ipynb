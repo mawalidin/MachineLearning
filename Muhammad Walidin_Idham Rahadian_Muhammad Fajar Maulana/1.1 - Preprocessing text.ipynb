{
 "cells": [
  {
   "cell_type": "markdown",
   "metadata": {},
   "source": [
    "By: 10117094\tMuhammad Walidin\n",
    "    10116476\tIdham Rahadian\n",
    "    10116490\tMuhammad Fajar Maulana"
   ]
  },
  {
   "cell_type": "code",
   "execution_count": 1,
   "metadata": {},
   "outputs": [],
   "source": [
    "import pandas as pd\n",
    "import numpy as np\n",
    "import string\n",
    "import re\n",
    "from collections import Counter"
   ]
  },
  {
   "cell_type": "code",
   "execution_count": 2,
   "metadata": {},
   "outputs": [],
   "source": [
    "raw = pd.read_csv( \"data/data/1.0_data_review_clean_without_stop_removal.csv\")\n",
    "slang_words = pd.read_csv(\"data/external/kbba_ID.txt\",\n",
    "                        sep=\"\\t\", header=None)\n",
    "slang = pd.read_csv(\"data/external/slangword_ID.txt\",\n",
    "                        sep=\":\", header=None)\n",
    "baku_words = pd.read_csv(\"data/external/katabaku_ID.txt\",\n",
    "                        sep=\"|\", header=None)\n",
    "baku_words.columns = [1,0]\n",
    "slang_words = pd.concat([slang_words, slang, baku_words])"
   ]
  },
  {
   "cell_type": "code",
   "execution_count": 3,
   "metadata": {},
   "outputs": [],
   "source": [
    "slang_words.drop_duplicates(inplace=True)\n",
    "slang_words = dict(zip(slang_words[0],slang_words[1]))"
   ]
  },
  {
   "cell_type": "code",
   "execution_count": 4,
   "metadata": {},
   "outputs": [
    {
     "name": "stdout",
     "output_type": "stream",
     "text": [
      "<class 'pandas.core.frame.DataFrame'>\n",
      "RangeIndex: 804 entries, 0 to 803\n",
      "Data columns (total 4 columns):\n",
      " #   Column      Non-Null Count  Dtype  \n",
      "---  ------      --------------  -----  \n",
      " 0   rating      804 non-null    int64  \n",
      " 1   review      804 non-null    object \n",
      " 2   avg_word    804 non-null    float64\n",
      " 3   word_count  804 non-null    int64  \n",
      "dtypes: float64(1), int64(2), object(1)\n",
      "memory usage: 25.2+ KB\n",
      "None\n"
     ]
    }
   ],
   "source": [
    "print(raw.info())"
   ]
  },
  {
   "cell_type": "code",
   "execution_count": 5,
   "metadata": {},
   "outputs": [
    {
     "data": {
      "text/plain": [
       "\"['barang', 'yang', 'datang', 'bukan', 'baracuda', 'tiga', 'lima', 'tujuh', 'tujuh', '0rpm', 'tapi', 'pipeline', 'hd']\""
      ]
     },
     "execution_count": 5,
     "metadata": {},
     "output_type": "execute_result"
    }
   ],
   "source": [
    "raw['review'][2]"
   ]
  },
  {
   "cell_type": "code",
   "execution_count": 6,
   "metadata": {},
   "outputs": [],
   "source": [
    "def remove_numeric(review):\n",
    "    return re.sub(\"\\d\",\" \", review)\n",
    "\n",
    "raw['review'] = raw['review'].apply(remove_numeric)"
   ]
  },
  {
   "cell_type": "code",
   "execution_count": 7,
   "metadata": {},
   "outputs": [
    {
     "data": {
      "text/html": [
       "<div>\n",
       "<style scoped>\n",
       "    .dataframe tbody tr th:only-of-type {\n",
       "        vertical-align: middle;\n",
       "    }\n",
       "\n",
       "    .dataframe tbody tr th {\n",
       "        vertical-align: top;\n",
       "    }\n",
       "\n",
       "    .dataframe thead th {\n",
       "        text-align: right;\n",
       "    }\n",
       "</style>\n",
       "<table border=\"1\" class=\"dataframe\">\n",
       "  <thead>\n",
       "    <tr style=\"text-align: right;\">\n",
       "      <th></th>\n",
       "      <th>rating</th>\n",
       "      <th>review</th>\n",
       "      <th>avg_word</th>\n",
       "      <th>word_count</th>\n",
       "    </tr>\n",
       "  </thead>\n",
       "  <tbody>\n",
       "    <tr>\n",
       "      <th>0</th>\n",
       "      <td>5</td>\n",
       "      <td>['tidak', 'ada', 'ulasan']</td>\n",
       "      <td>4.666667</td>\n",
       "      <td>3</td>\n",
       "    </tr>\n",
       "    <tr>\n",
       "      <th>1</th>\n",
       "      <td>5</td>\n",
       "      <td>['puas', 'kecil', 'tapi', 'kencang']</td>\n",
       "      <td>5.000000</td>\n",
       "      <td>4</td>\n",
       "    </tr>\n",
       "    <tr>\n",
       "      <th>2</th>\n",
       "      <td>1</td>\n",
       "      <td>['barang', 'yang', 'datang', 'bukan', 'baracud...</td>\n",
       "      <td>5.000000</td>\n",
       "      <td>13</td>\n",
       "    </tr>\n",
       "    <tr>\n",
       "      <th>3</th>\n",
       "      <td>5</td>\n",
       "      <td>['terima kasih', 'barang', 'sudah', 'sampai', ...</td>\n",
       "      <td>6.176471</td>\n",
       "      <td>17</td>\n",
       "    </tr>\n",
       "    <tr>\n",
       "      <th>4</th>\n",
       "      <td>5</td>\n",
       "      <td>['barang', 'bagus', 'pengirman', 'cepat', 'man...</td>\n",
       "      <td>5.666667</td>\n",
       "      <td>6</td>\n",
       "    </tr>\n",
       "  </tbody>\n",
       "</table>\n",
       "</div>"
      ],
      "text/plain": [
       "   rating                                             review  avg_word  \\\n",
       "0       5                         ['tidak', 'ada', 'ulasan']  4.666667   \n",
       "1       5               ['puas', 'kecil', 'tapi', 'kencang']  5.000000   \n",
       "2       1  ['barang', 'yang', 'datang', 'bukan', 'baracud...  5.000000   \n",
       "3       5  ['terima kasih', 'barang', 'sudah', 'sampai', ...  6.176471   \n",
       "4       5  ['barang', 'bagus', 'pengirman', 'cepat', 'man...  5.666667   \n",
       "\n",
       "   word_count  \n",
       "0           3  \n",
       "1           4  \n",
       "2          13  \n",
       "3          17  \n",
       "4           6  "
      ]
     },
     "execution_count": 7,
     "metadata": {},
     "output_type": "execute_result"
    }
   ],
   "source": [
    "raw.head()"
   ]
  },
  {
   "cell_type": "code",
   "execution_count": 8,
   "metadata": {
    "scrolled": true
   },
   "outputs": [],
   "source": [
    "def csv_string_to_list(csv_string):\n",
    "    return csv_string[1:-1].split(\",\")\n",
    "\n",
    "def string_without_quotes(word_list):\n",
    "    new  = []\n",
    "    for word in word_list:\n",
    "        new.append(word.replace(\"'\",\"\"))\n",
    "    return new\n",
    "\n",
    "def delete_suffix_nya(review):\n",
    "    return re.sub(\"(?:nya|ny)[$|\\s]\",\"\",review)"
   ]
  },
  {
   "cell_type": "code",
   "execution_count": 9,
   "metadata": {},
   "outputs": [
    {
     "data": {
      "text/plain": [
       "0                             ['tidak', 'ada', 'ulasan']\n",
       "1                   ['puas', 'kecil', 'tapi', 'kencang']\n",
       "2      ['barang', 'yang', 'datang', 'bukan', 'baracud...\n",
       "3      ['terima kasih', 'barang', 'sudah', 'sampai', ...\n",
       "4      ['barang', 'bagus', 'pengirman', 'cepat', 'man...\n",
       "                             ...                        \n",
       "799    ['barang', 'kondisi', 'oke', 'respon', 'cepat'...\n",
       "800    ['barang', 'sampai', 'tepat', 'waktu', 'sesuai...\n",
       "801    ['pelayanan', 'sangat', 'bagus', 'barang', 'se...\n",
       "802    ['barang', 'sampai', 'lebih', 'cepat', 'dan', ...\n",
       "803                  ['bonus', 'bohong', 'tidak', 'ada']\n",
       "Name: review, Length: 804, dtype: object"
      ]
     },
     "execution_count": 9,
     "metadata": {},
     "output_type": "execute_result"
    }
   ],
   "source": [
    "raw['review'] = raw['review'].apply(delete_suffix_nya)\n",
    "raw['review']"
   ]
  },
  {
   "cell_type": "code",
   "execution_count": 10,
   "metadata": {},
   "outputs": [
    {
     "data": {
      "text/plain": [
       "0                           ['tidak',  'ada',  'ulasan']\n",
       "1                ['puas',  'kecil',  'tapi',  'kencang']\n",
       "2      ['barang',  'yang',  'datang',  'bukan',  'bar...\n",
       "3      ['terima kasih',  'barang',  'sudah',  'sampai...\n",
       "4      ['barang',  'bagus',  'pengirman',  'cepat',  ...\n",
       "                             ...                        \n",
       "799    ['barang',  'kondisi',  'oke',  'respon',  'ce...\n",
       "800    ['barang',  'sampai',  'tepat',  'waktu',  'se...\n",
       "801    ['pelayanan',  'sangat',  'bagus',  'barang', ...\n",
       "802    ['barang',  'sampai',  'lebih',  'cepat',  'da...\n",
       "803               ['bonus',  'bohong',  'tidak',  'ada']\n",
       "Name: review, Length: 804, dtype: object"
      ]
     },
     "execution_count": 10,
     "metadata": {},
     "output_type": "execute_result"
    }
   ],
   "source": [
    "raw['review'] = raw['review'].apply(csv_string_to_list)\n",
    "raw['review']"
   ]
  },
  {
   "cell_type": "code",
   "execution_count": 11,
   "metadata": {},
   "outputs": [],
   "source": [
    "def mapping_slang_words(review):\n",
    "    return [slang_words[word] if word in slang_words else word for word in review]\n",
    "raw['review'] = raw['review'].apply(mapping_slang_words)"
   ]
  },
  {
   "cell_type": "code",
   "execution_count": 12,
   "metadata": {},
   "outputs": [
    {
     "data": {
      "text/plain": [
       "0                           ['tidak',  'ada',  'ulasan']\n",
       "1                ['puas',  'kecil',  'tapi',  'kencang']\n",
       "2      ['barang',  'yang',  'datang',  'bukan',  'bar...\n",
       "3      ['terima kasih',  'barang',  'sudah',  'sampai...\n",
       "4      ['barang',  'bagus',  'pengirman',  'cepat',  ...\n",
       "                             ...                        \n",
       "799    ['barang',  'kondisi',  'oke',  'respon',  'ce...\n",
       "800    ['barang',  'sampai',  'tepat',  'waktu',  'se...\n",
       "801    ['pelayanan',  'sangat',  'bagus',  'barang', ...\n",
       "802    ['barang',  'sampai',  'lebih',  'cepat',  'da...\n",
       "803               ['bonus',  'bohong',  'tidak',  'ada']\n",
       "Name: review, Length: 804, dtype: object"
      ]
     },
     "execution_count": 12,
     "metadata": {},
     "output_type": "execute_result"
    }
   ],
   "source": [
    "raw['review']"
   ]
  },
  {
   "cell_type": "code",
   "execution_count": 13,
   "metadata": {},
   "outputs": [],
   "source": [
    "def remove_single_alphabet_only(review):\n",
    "    return [word for word in review if word not in string.ascii_lowercase]\n",
    "\n",
    "def remove_too_short_words(review):\n",
    "    return [word for word in review if len(word) > 2]"
   ]
  },
  {
   "cell_type": "code",
   "execution_count": 14,
   "metadata": {},
   "outputs": [],
   "source": [
    "raw['review'] = raw['review'].apply(remove_single_alphabet_only)\n",
    "raw['review'] = raw['review'].apply(remove_too_short_words)"
   ]
  },
  {
   "cell_type": "code",
   "execution_count": 15,
   "metadata": {},
   "outputs": [],
   "source": [
    "raw = raw.dropna(subset=['review'],how='all')\n",
    "raw = raw[raw['review'].map(len) > 0]\n",
    "raw['word_count'] = raw['review'].map(len)\n",
    "def convert_list_to_string(word_list):\n",
    "    return \",\".join(word_list)\n",
    "raw['review'] = raw['review'].apply(convert_list_to_string)\n",
    "raw = raw.dropna(subset=['review'],how='all')\n",
    "raw = raw[raw['review'].map(len) > 0]"
   ]
  },
  {
   "cell_type": "code",
   "execution_count": 16,
   "metadata": {},
   "outputs": [
    {
     "name": "stdout",
     "output_type": "stream",
     "text": [
      "<class 'pandas.core.frame.DataFrame'>\n",
      "Int64Index: 804 entries, 0 to 803\n",
      "Data columns (total 4 columns):\n",
      " #   Column      Non-Null Count  Dtype  \n",
      "---  ------      --------------  -----  \n",
      " 0   rating      804 non-null    int64  \n",
      " 1   review      804 non-null    object \n",
      " 2   avg_word    804 non-null    float64\n",
      " 3   word_count  804 non-null    int64  \n",
      "dtypes: float64(1), int64(2), object(1)\n",
      "memory usage: 31.4+ KB\n"
     ]
    }
   ],
   "source": [
    "raw.info()"
   ]
  },
  {
   "cell_type": "code",
   "execution_count": 17,
   "metadata": {},
   "outputs": [],
   "source": [
    "def avg_word(words):\n",
    "  return (sum(len(word) for word in words)/len(words))\n",
    "\n",
    "raw['avg_word'] = raw['review'].apply(lambda x: avg_word(x.split(\",\")))"
   ]
  },
  {
   "cell_type": "code",
   "execution_count": 18,
   "metadata": {},
   "outputs": [],
   "source": [
    "raw.to_csv(\"data/data/1.1_data_review_clean.csv\", index=False)"
   ]
  },
  {
   "cell_type": "code",
   "execution_count": 19,
   "metadata": {},
   "outputs": [
    {
     "data": {
      "text/plain": [
       " 'dan'       253\n",
       " 'tidak'     214\n",
       " 'yang'      199\n",
       " 'dengan'    185\n",
       " 'barang'    180\n",
       " 'di'        152\n",
       " 'sesuai'    150\n",
       " 'saya'      137\n",
       " 'sudah'     131\n",
       " 'bagus'     121\n",
       "dtype: int64"
      ]
     },
     "execution_count": 19,
     "metadata": {},
     "output_type": "execute_result"
    }
   ],
   "source": [
    "most_common = pd.Series(''.join(raw['review']).split(\",\")).value_counts()[:10]\n",
    "most_common"
   ]
  },
  {
   "cell_type": "code",
   "execution_count": 20,
   "metadata": {},
   "outputs": [],
   "source": [
    "def add_coma(review):\n",
    "    return review + ','\n",
    "raw['review'] = raw['review'].apply(add_coma)"
   ]
  },
  {
   "cell_type": "code",
   "execution_count": 21,
   "metadata": {},
   "outputs": [
    {
     "data": {
      "text/plain": [
       "[(\" 'help'\", 1),\n",
       " (\"'Cuma'\", 1),\n",
       " (\" 'target'\", 1),\n",
       " (\" 'spekyg'\", 1),\n",
       " (\" 'kosongan'\", 1),\n",
       " (\" 'stil'\", 1),\n",
       " (\" 'great'\", 1),\n",
       " (\" 'sejauh'\", 1),\n",
       " (\"'bonus'\", 1),\n",
       " ('', 1)]"
      ]
     },
     "execution_count": 21,
     "metadata": {},
     "output_type": "execute_result"
    }
   ],
   "source": [
    "least_common = Counter(\"\".join(raw[\"review\"]).split(\",\")).most_common()[-10:]\n",
    "least_common"
   ]
  },
  {
   "cell_type": "code",
   "execution_count": null,
   "metadata": {},
   "outputs": [],
   "source": []
  }
 ],
 "metadata": {
  "kernelspec": {
   "display_name": "Python 3",
   "language": "python",
   "name": "python3"
  },
  "language_info": {
   "codemirror_mode": {
    "name": "ipython",
    "version": 3
   },
   "file_extension": ".py",
   "mimetype": "text/x-python",
   "name": "python",
   "nbconvert_exporter": "python",
   "pygments_lexer": "ipython3",
   "version": "3.8.5"
  }
 },
 "nbformat": 4,
 "nbformat_minor": 4
}
