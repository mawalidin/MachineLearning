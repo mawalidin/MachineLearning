{
 "cells": [
  {
   "cell_type": "code",
   "execution_count": 1,
   "metadata": {},
   "outputs": [],
   "source": [
    "import pandas as pd\n",
    "import numpy as np\n",
    "import seaborn as sns\n",
    "import matplotlib.pyplot as plt\n",
    "import pickle\n",
    "import imblearn"
   ]
  },
  {
   "cell_type": "code",
   "execution_count": 2,
   "metadata": {},
   "outputs": [],
   "source": [
    "from sklearn import model_selection\n",
    "from sklearn.model_selection import RepeatedStratifiedKFold\n",
    "from sklearn.model_selection import cross_val_score\n",
    "from sklearn.metrics import accuracy_score, roc_auc_score, roc_curve"
   ]
  },
  {
   "cell_type": "code",
   "execution_count": 3,
   "metadata": {},
   "outputs": [],
   "source": [
    "# data = pd.read_csv(\"data/data/1.2_data_cleaner_pure_2.csv\")\n",
    "data = pd.read_csv('data/data/1.4_data_clean_stemmed_2.csv')"
   ]
  },
  {
   "cell_type": "code",
   "execution_count": 4,
   "metadata": {},
   "outputs": [],
   "source": [
    "data = data.drop(columns=['rating', 'word_count', 'avg_word'])"
   ]
  },
  {
   "cell_type": "code",
   "execution_count": 5,
   "metadata": {},
   "outputs": [
    {
     "data": {
      "text/html": [
       "<div>\n",
       "<style scoped>\n",
       "    .dataframe tbody tr th:only-of-type {\n",
       "        vertical-align: middle;\n",
       "    }\n",
       "\n",
       "    .dataframe tbody tr th {\n",
       "        vertical-align: top;\n",
       "    }\n",
       "\n",
       "    .dataframe thead th {\n",
       "        text-align: right;\n",
       "    }\n",
       "</style>\n",
       "<table border=\"1\" class=\"dataframe\">\n",
       "  <thead>\n",
       "    <tr style=\"text-align: right;\">\n",
       "      <th></th>\n",
       "      <th>review</th>\n",
       "      <th>aspect_category</th>\n",
       "      <th>polarity</th>\n",
       "    </tr>\n",
       "  </thead>\n",
       "  <tbody>\n",
       "    <tr>\n",
       "      <th>0</th>\n",
       "      <td>bantu kondisi pandemi tolong evaluasi dian oba...</td>\n",
       "      <td>pelayanan</td>\n",
       "      <td>negatif</td>\n",
       "    </tr>\n",
       "    <tr>\n",
       "      <th>1</th>\n",
       "      <td>konsultasi dokter bagus durasi cepat dokter do...</td>\n",
       "      <td>pelayanan</td>\n",
       "      <td>negatif</td>\n",
       "    </tr>\n",
       "    <tr>\n",
       "      <th>2</th>\n",
       "      <td>astaga obat beli obat harga masuk akal lipat u...</td>\n",
       "      <td>harga</td>\n",
       "      <td>negatif</td>\n",
       "    </tr>\n",
       "    <tr>\n",
       "      <th>3</th>\n",
       "      <td>terima kasih layan baik cepat kirim bantu jele...</td>\n",
       "      <td>pelayanan</td>\n",
       "      <td>positif</td>\n",
       "    </tr>\n",
       "    <tr>\n",
       "      <th>4</th>\n",
       "      <td>telepon nomor hadiah konfirmasi aplikasi hadia...</td>\n",
       "      <td>sistem</td>\n",
       "      <td>positif</td>\n",
       "    </tr>\n",
       "  </tbody>\n",
       "</table>\n",
       "</div>"
      ],
      "text/plain": [
       "                                              review aspect_category polarity\n",
       "0  bantu kondisi pandemi tolong evaluasi dian oba...       pelayanan  negatif\n",
       "1  konsultasi dokter bagus durasi cepat dokter do...       pelayanan  negatif\n",
       "2  astaga obat beli obat harga masuk akal lipat u...           harga  negatif\n",
       "3  terima kasih layan baik cepat kirim bantu jele...       pelayanan  positif\n",
       "4  telepon nomor hadiah konfirmasi aplikasi hadia...          sistem  positif"
      ]
     },
     "execution_count": 5,
     "metadata": {},
     "output_type": "execute_result"
    }
   ],
   "source": [
    "data.head()"
   ]
  },
  {
   "cell_type": "code",
   "execution_count": 6,
   "metadata": {},
   "outputs": [
    {
     "data": {
      "text/plain": [
       "(array(['pelayanan', 'harga', 'sistem', 'anekdot/serbaneka'], dtype=object), 4)"
      ]
     },
     "execution_count": 6,
     "metadata": {},
     "output_type": "execute_result"
    }
   ],
   "source": [
    "catagories = data['aspect_category'].unique()\n",
    "catagories , len(catagories)"
   ]
  },
  {
   "cell_type": "code",
   "execution_count": 7,
   "metadata": {},
   "outputs": [
    {
     "data": {
      "text/plain": [
       "array(['negatif', 'positif'], dtype=object)"
      ]
     },
     "execution_count": 7,
     "metadata": {},
     "output_type": "execute_result"
    }
   ],
   "source": [
    "polarity = data['polarity'].unique()\n",
    "polarity"
   ]
  },
  {
   "cell_type": "code",
   "execution_count": 8,
   "metadata": {},
   "outputs": [],
   "source": [
    "X = data['review']\n",
    "y = data['aspect_category']"
   ]
  },
  {
   "cell_type": "code",
   "execution_count": 9,
   "metadata": {},
   "outputs": [],
   "source": [
    "from sklearn.model_selection import train_test_split\n",
    "\n",
    "X_train, X_test, y_train, y_test = train_test_split(X,y,test_size=0.2, random_state=42)"
   ]
  },
  {
   "cell_type": "code",
   "execution_count": 10,
   "metadata": {
    "scrolled": true
   },
   "outputs": [
    {
     "name": "stdout",
     "output_type": "stream",
     "text": [
      "(640,) (640,)\n",
      "(160,) (160,)\n"
     ]
    }
   ],
   "source": [
    "print(X_train.shape, y_train.shape)\n",
    "print(X_test.shape, y_test.shape)"
   ]
  },
  {
   "cell_type": "code",
   "execution_count": 11,
   "metadata": {},
   "outputs": [
    {
     "data": {
      "text/plain": [
       "264    baik tangan suka panik diagnose baik langsung ...\n",
       "615                                          cepat bagus\n",
       "329    mudah repot repot antre antre rumah sakit klin...\n",
       "342                                          bagus layan\n",
       "394    konsultasi bayar pakai gopay gagal konsultasi ...\n",
       "                             ...                        \n",
       "71     layan jelek bayar mengunanakan debit kartu ken...\n",
       "106             kasih bintang semoga aplikasi layan baik\n",
       "270                           praktis bantu terima kasih\n",
       "435    aplikasi jelek cari obat driver gojek arah apo...\n",
       "102    instal daftarin vaksin usia tangal tulis slot ...\n",
       "Name: review, Length: 640, dtype: object"
      ]
     },
     "execution_count": 11,
     "metadata": {},
     "output_type": "execute_result"
    }
   ],
   "source": [
    "X_train"
   ]
  },
  {
   "cell_type": "code",
   "execution_count": 12,
   "metadata": {},
   "outputs": [
    {
     "data": {
      "text/plain": [
       "696                                    bantu mudah bagus\n",
       "667                                              manfaat\n",
       "63                       bagus konsultasi psikologi baik\n",
       "533    puas bantu terimakasi aplikasi halodic dokter ...\n",
       "66     bantu aplikasi lelah rumah bantu jelek aplikas...\n",
       "                             ...                        \n",
       "589                                         respon cepat\n",
       "798                               mudah konsultasi rumah\n",
       "744                         aplikasi bantu pandemi bagus\n",
       "513               bagus aplikasi bantu layan cepat bagus\n",
       "670                                     bagus cepat obat\n",
       "Name: review, Length: 160, dtype: object"
      ]
     },
     "execution_count": 12,
     "metadata": {},
     "output_type": "execute_result"
    }
   ],
   "source": [
    "X_test"
   ]
  },
  {
   "cell_type": "code",
   "execution_count": 13,
   "metadata": {},
   "outputs": [
    {
     "data": {
      "text/plain": [
       "264            pelayanan\n",
       "615    anekdot/serbaneka\n",
       "329            pelayanan\n",
       "342            pelayanan\n",
       "394            pelayanan\n",
       "             ...        \n",
       "71             pelayanan\n",
       "106            pelayanan\n",
       "270    anekdot/serbaneka\n",
       "435               sistem\n",
       "102               sistem\n",
       "Name: aspect_category, Length: 640, dtype: object"
      ]
     },
     "execution_count": 13,
     "metadata": {},
     "output_type": "execute_result"
    }
   ],
   "source": [
    "y_train"
   ]
  },
  {
   "cell_type": "code",
   "execution_count": 14,
   "metadata": {},
   "outputs": [
    {
     "data": {
      "text/plain": [
       "264            pelayanan\n",
       "615    anekdot/serbaneka\n",
       "329            pelayanan\n",
       "342            pelayanan\n",
       "394            pelayanan\n",
       "             ...        \n",
       "71             pelayanan\n",
       "106            pelayanan\n",
       "270    anekdot/serbaneka\n",
       "435               sistem\n",
       "102               sistem\n",
       "Name: aspect_category, Length: 640, dtype: object"
      ]
     },
     "execution_count": 14,
     "metadata": {},
     "output_type": "execute_result"
    }
   ],
   "source": [
    "y_train"
   ]
  },
  {
   "cell_type": "code",
   "execution_count": 15,
   "metadata": {},
   "outputs": [
    {
     "name": "stdout",
     "output_type": "stream",
     "text": [
      "Creating tfidf..\n",
      "Wall time: 289 ms\n"
     ]
    }
   ],
   "source": [
    "# Proses pembobotan atau vektorisasi\n",
    "print(\"Creating tfidf..\")\n",
    "from sklearn.feature_extraction.text import TfidfVectorizer\n",
    "\n",
    "# Initialize\n",
    "vectorizer = TfidfVectorizer(analyzer = \"word\",\n",
    "                             tokenizer = None, \n",
    "                             preprocessor = None,\n",
    "                             stop_words = None, \n",
    "                             max_features = 5000) \n",
    "\n",
    "# Melakukan pengubahan data latih kedalam vektor fitur\n",
    "%time train_data_features = vectorizer.fit_transform(X_train)\n",
    "\n",
    "# Mengkonversi dari list ke array, untuk memudahkan \n",
    "# ke tahap klasifikasi\n",
    "train_data_features = train_data_features.toarray()"
   ]
  },
  {
   "cell_type": "code",
   "execution_count": 16,
   "metadata": {},
   "outputs": [
    {
     "data": {
      "text/plain": [
       "array([[0., 0., 0., ..., 0., 0., 0.],\n",
       "       [0., 0., 0., ..., 0., 0., 0.],\n",
       "       [0., 0., 0., ..., 0., 0., 0.],\n",
       "       ...,\n",
       "       [0., 0., 0., ..., 0., 0., 0.],\n",
       "       [0., 0., 0., ..., 0., 0., 0.],\n",
       "       [0., 0., 0., ..., 0., 0., 0.]])"
      ]
     },
     "execution_count": 16,
     "metadata": {},
     "output_type": "execute_result"
    }
   ],
   "source": [
    "train_data_features"
   ]
  },
  {
   "cell_type": "code",
   "execution_count": 17,
   "metadata": {},
   "outputs": [],
   "source": [
    "# Sama seperti pada data latih, data tes diubah kedalam\n",
    "# vektor fitur selanjutnya di konversi menjadi bentuk array\n",
    "test_data_features = vectorizer.transform(X_test)\n",
    "test_data_features = test_data_features.toarray()"
   ]
  },
  {
   "cell_type": "code",
   "execution_count": 18,
   "metadata": {},
   "outputs": [
    {
     "data": {
      "text/plain": [
       "array([[0., 0., 0., ..., 0., 0., 0.],\n",
       "       [0., 0., 0., ..., 0., 0., 0.],\n",
       "       [0., 0., 0., ..., 0., 0., 0.],\n",
       "       ...,\n",
       "       [0., 0., 0., ..., 0., 0., 0.],\n",
       "       [0., 0., 0., ..., 0., 0., 0.],\n",
       "       [0., 0., 0., ..., 0., 0., 0.]])"
      ]
     },
     "execution_count": 18,
     "metadata": {},
     "output_type": "execute_result"
    }
   ],
   "source": [
    "test_data_features"
   ]
  },
  {
   "cell_type": "code",
   "execution_count": 19,
   "metadata": {},
   "outputs": [
    {
     "name": "stdout",
     "output_type": "stream",
     "text": [
      "(640, 810)\n",
      "(160, 810)\n"
     ]
    }
   ],
   "source": [
    "print(train_data_features.shape)\n",
    "print(test_data_features.shape)"
   ]
  },
  {
   "cell_type": "code",
   "execution_count": 20,
   "metadata": {},
   "outputs": [],
   "source": [
    "from sklearn.metrics import accuracy_score, log_loss,confusion_matrix, roc_curve, roc_auc_score\n",
    "from sklearn.metrics import precision_score, recall_score, f1_score"
   ]
  },
  {
   "cell_type": "code",
   "execution_count": 21,
   "metadata": {},
   "outputs": [],
   "source": [
    "# Proses klasifikasi menggunakan ETC\n",
    "from sklearn.ensemble import ExtraTreesClassifier\n",
    "\n",
    "# Inisialisasi ETC\n",
    "etc = ExtraTreesClassifier(criterion='entropy',class_weight='balanced_subsample', max_features=10)\n",
    "\n",
    "# Memasang data latih ke classifier\n",
    "etc.fit(train_data_features,y_train)\n",
    "\n",
    "# Melakukan prediksi dengan membandingkan dengan data tes\n",
    "y_pred_train = etc.predict(train_data_features)\n",
    "y_pred_cat = etc.predict(test_data_features)"
   ]
  },
  {
   "cell_type": "code",
   "execution_count": 22,
   "metadata": {},
   "outputs": [
    {
     "data": {
      "text/plain": [
       "array(['pelayanan', 'anekdot/serbaneka', 'pelayanan', 'pelayanan',\n",
       "       'pelayanan', 'pelayanan', 'pelayanan', 'anekdot/serbaneka',\n",
       "       'pelayanan', 'sistem', 'pelayanan', 'anekdot/serbaneka',\n",
       "       'pelayanan', 'pelayanan', 'anekdot/serbaneka', 'sistem',\n",
       "       'anekdot/serbaneka', 'anekdot/serbaneka', 'pelayanan', 'pelayanan',\n",
       "       'sistem', 'anekdot/serbaneka', 'pelayanan', 'anekdot/serbaneka',\n",
       "       'anekdot/serbaneka', 'anekdot/serbaneka', 'anekdot/serbaneka',\n",
       "       'anekdot/serbaneka', 'pelayanan', 'anekdot/serbaneka', 'pelayanan',\n",
       "       'pelayanan', 'pelayanan', 'anekdot/serbaneka', 'pelayanan',\n",
       "       'anekdot/serbaneka', 'anekdot/serbaneka', 'pelayanan', 'pelayanan',\n",
       "       'anekdot/serbaneka', 'pelayanan', 'pelayanan', 'pelayanan',\n",
       "       'anekdot/serbaneka', 'anekdot/serbaneka', 'pelayanan',\n",
       "       'anekdot/serbaneka', 'anekdot/serbaneka', 'pelayanan', 'pelayanan',\n",
       "       'pelayanan', 'pelayanan', 'anekdot/serbaneka', 'anekdot/serbaneka',\n",
       "       'anekdot/serbaneka', 'pelayanan', 'pelayanan', 'pelayanan',\n",
       "       'pelayanan', 'pelayanan', 'anekdot/serbaneka', 'pelayanan',\n",
       "       'anekdot/serbaneka', 'pelayanan', 'pelayanan', 'anekdot/serbaneka',\n",
       "       'pelayanan', 'pelayanan', 'anekdot/serbaneka', 'sistem', 'sistem',\n",
       "       'harga', 'pelayanan', 'anekdot/serbaneka', 'pelayanan',\n",
       "       'anekdot/serbaneka', 'pelayanan', 'pelayanan', 'anekdot/serbaneka',\n",
       "       'pelayanan', 'pelayanan', 'anekdot/serbaneka', 'anekdot/serbaneka',\n",
       "       'anekdot/serbaneka', 'harga', 'sistem', 'pelayanan', 'pelayanan',\n",
       "       'anekdot/serbaneka', 'pelayanan', 'anekdot/serbaneka', 'sistem',\n",
       "       'pelayanan', 'pelayanan', 'anekdot/serbaneka', 'pelayanan',\n",
       "       'pelayanan', 'anekdot/serbaneka', 'pelayanan', 'anekdot/serbaneka',\n",
       "       'pelayanan', 'sistem', 'anekdot/serbaneka', 'sistem',\n",
       "       'anekdot/serbaneka', 'anekdot/serbaneka', 'anekdot/serbaneka',\n",
       "       'pelayanan', 'anekdot/serbaneka', 'anekdot/serbaneka', 'sistem',\n",
       "       'pelayanan', 'sistem', 'pelayanan', 'pelayanan', 'pelayanan',\n",
       "       'anekdot/serbaneka', 'sistem', 'pelayanan', 'pelayanan',\n",
       "       'anekdot/serbaneka', 'pelayanan', 'pelayanan', 'sistem',\n",
       "       'anekdot/serbaneka', 'anekdot/serbaneka', 'anekdot/serbaneka',\n",
       "       'pelayanan', 'sistem', 'pelayanan', 'anekdot/serbaneka',\n",
       "       'pelayanan', 'pelayanan', 'pelayanan', 'pelayanan', 'pelayanan',\n",
       "       'pelayanan', 'pelayanan', 'pelayanan', 'pelayanan', 'pelayanan',\n",
       "       'sistem', 'anekdot/serbaneka', 'pelayanan', 'anekdot/serbaneka',\n",
       "       'anekdot/serbaneka', 'sistem', 'anekdot/serbaneka', 'sistem',\n",
       "       'sistem', 'sistem', 'anekdot/serbaneka', 'anekdot/serbaneka',\n",
       "       'anekdot/serbaneka', 'anekdot/serbaneka', 'anekdot/serbaneka',\n",
       "       'anekdot/serbaneka', 'anekdot/serbaneka', 'pelayanan',\n",
       "       'anekdot/serbaneka', 'pelayanan', 'pelayanan', 'pelayanan',\n",
       "       'anekdot/serbaneka', 'sistem', 'pelayanan', 'pelayanan', 'harga',\n",
       "       'pelayanan', 'sistem', 'pelayanan', 'anekdot/serbaneka', 'sistem',\n",
       "       'pelayanan', 'pelayanan', 'anekdot/serbaneka', 'sistem',\n",
       "       'pelayanan', 'sistem', 'anekdot/serbaneka', 'pelayanan',\n",
       "       'anekdot/serbaneka', 'pelayanan', 'anekdot/serbaneka',\n",
       "       'anekdot/serbaneka', 'pelayanan', 'anekdot/serbaneka', 'pelayanan',\n",
       "       'anekdot/serbaneka', 'pelayanan', 'sistem', 'sistem',\n",
       "       'anekdot/serbaneka', 'pelayanan', 'anekdot/serbaneka',\n",
       "       'anekdot/serbaneka', 'anekdot/serbaneka', 'harga', 'pelayanan',\n",
       "       'anekdot/serbaneka', 'anekdot/serbaneka', 'pelayanan',\n",
       "       'anekdot/serbaneka', 'sistem', 'sistem', 'anekdot/serbaneka',\n",
       "       'pelayanan', 'pelayanan', 'anekdot/serbaneka', 'pelayanan',\n",
       "       'sistem', 'sistem', 'anekdot/serbaneka', 'anekdot/serbaneka',\n",
       "       'pelayanan', 'anekdot/serbaneka', 'anekdot/serbaneka',\n",
       "       'anekdot/serbaneka', 'pelayanan', 'sistem', 'anekdot/serbaneka',\n",
       "       'pelayanan', 'anekdot/serbaneka', 'anekdot/serbaneka', 'pelayanan',\n",
       "       'pelayanan', 'pelayanan', 'pelayanan', 'anekdot/serbaneka',\n",
       "       'pelayanan', 'anekdot/serbaneka', 'anekdot/serbaneka',\n",
       "       'anekdot/serbaneka', 'pelayanan', 'pelayanan', 'pelayanan',\n",
       "       'anekdot/serbaneka', 'pelayanan', 'anekdot/serbaneka',\n",
       "       'anekdot/serbaneka', 'pelayanan', 'pelayanan', 'sistem',\n",
       "       'anekdot/serbaneka', 'pelayanan', 'pelayanan', 'pelayanan',\n",
       "       'sistem', 'pelayanan', 'pelayanan', 'anekdot/serbaneka',\n",
       "       'pelayanan', 'pelayanan', 'anekdot/serbaneka', 'anekdot/serbaneka',\n",
       "       'pelayanan', 'anekdot/serbaneka', 'sistem', 'pelayanan',\n",
       "       'anekdot/serbaneka', 'sistem', 'pelayanan', 'harga', 'pelayanan',\n",
       "       'sistem', 'pelayanan', 'pelayanan', 'anekdot/serbaneka',\n",
       "       'pelayanan', 'anekdot/serbaneka', 'pelayanan', 'anekdot/serbaneka',\n",
       "       'pelayanan', 'pelayanan', 'anekdot/serbaneka', 'pelayanan',\n",
       "       'pelayanan', 'pelayanan', 'sistem', 'pelayanan', 'pelayanan',\n",
       "       'pelayanan', 'pelayanan', 'pelayanan', 'pelayanan', 'pelayanan',\n",
       "       'pelayanan', 'pelayanan', 'pelayanan', 'pelayanan',\n",
       "       'anekdot/serbaneka', 'pelayanan', 'pelayanan', 'anekdot/serbaneka',\n",
       "       'pelayanan', 'anekdot/serbaneka', 'pelayanan', 'pelayanan',\n",
       "       'anekdot/serbaneka', 'anekdot/serbaneka', 'harga', 'pelayanan',\n",
       "       'anekdot/serbaneka', 'sistem', 'pelayanan', 'anekdot/serbaneka',\n",
       "       'anekdot/serbaneka', 'anekdot/serbaneka', 'pelayanan', 'pelayanan',\n",
       "       'pelayanan', 'pelayanan', 'anekdot/serbaneka', 'pelayanan',\n",
       "       'pelayanan', 'anekdot/serbaneka', 'pelayanan', 'sistem',\n",
       "       'anekdot/serbaneka', 'pelayanan', 'sistem', 'anekdot/serbaneka',\n",
       "       'pelayanan', 'anekdot/serbaneka', 'anekdot/serbaneka', 'pelayanan',\n",
       "       'anekdot/serbaneka', 'pelayanan', 'anekdot/serbaneka',\n",
       "       'anekdot/serbaneka', 'pelayanan', 'anekdot/serbaneka',\n",
       "       'anekdot/serbaneka', 'anekdot/serbaneka', 'pelayanan', 'pelayanan',\n",
       "       'pelayanan', 'anekdot/serbaneka', 'anekdot/serbaneka', 'pelayanan',\n",
       "       'anekdot/serbaneka', 'anekdot/serbaneka', 'pelayanan', 'sistem',\n",
       "       'harga', 'anekdot/serbaneka', 'harga', 'anekdot/serbaneka',\n",
       "       'pelayanan', 'anekdot/serbaneka', 'sistem', 'anekdot/serbaneka',\n",
       "       'anekdot/serbaneka', 'pelayanan', 'anekdot/serbaneka',\n",
       "       'anekdot/serbaneka', 'anekdot/serbaneka', 'pelayanan', 'sistem',\n",
       "       'pelayanan', 'pelayanan', 'anekdot/serbaneka', 'pelayanan',\n",
       "       'anekdot/serbaneka', 'pelayanan', 'anekdot/serbaneka',\n",
       "       'anekdot/serbaneka', 'pelayanan', 'pelayanan', 'anekdot/serbaneka',\n",
       "       'anekdot/serbaneka', 'sistem', 'pelayanan', 'anekdot/serbaneka',\n",
       "       'anekdot/serbaneka', 'anekdot/serbaneka', 'anekdot/serbaneka',\n",
       "       'anekdot/serbaneka', 'sistem', 'pelayanan', 'anekdot/serbaneka',\n",
       "       'pelayanan', 'anekdot/serbaneka', 'anekdot/serbaneka',\n",
       "       'anekdot/serbaneka', 'pelayanan', 'anekdot/serbaneka',\n",
       "       'anekdot/serbaneka', 'pelayanan', 'sistem', 'harga',\n",
       "       'anekdot/serbaneka', 'pelayanan', 'anekdot/serbaneka', 'sistem',\n",
       "       'pelayanan', 'pelayanan', 'anekdot/serbaneka', 'anekdot/serbaneka',\n",
       "       'pelayanan', 'pelayanan', 'pelayanan', 'pelayanan',\n",
       "       'anekdot/serbaneka', 'anekdot/serbaneka', 'anekdot/serbaneka',\n",
       "       'sistem', 'anekdot/serbaneka', 'harga', 'pelayanan', 'pelayanan',\n",
       "       'pelayanan', 'anekdot/serbaneka', 'anekdot/serbaneka',\n",
       "       'anekdot/serbaneka', 'anekdot/serbaneka', 'pelayanan',\n",
       "       'anekdot/serbaneka', 'anekdot/serbaneka', 'anekdot/serbaneka',\n",
       "       'anekdot/serbaneka', 'pelayanan', 'pelayanan', 'pelayanan',\n",
       "       'anekdot/serbaneka', 'pelayanan', 'anekdot/serbaneka', 'pelayanan',\n",
       "       'anekdot/serbaneka', 'pelayanan', 'pelayanan', 'pelayanan',\n",
       "       'pelayanan', 'pelayanan', 'anekdot/serbaneka', 'pelayanan',\n",
       "       'pelayanan', 'pelayanan', 'sistem', 'anekdot/serbaneka',\n",
       "       'pelayanan', 'pelayanan', 'anekdot/serbaneka', 'anekdot/serbaneka',\n",
       "       'anekdot/serbaneka', 'pelayanan', 'anekdot/serbaneka', 'sistem',\n",
       "       'anekdot/serbaneka', 'anekdot/serbaneka', 'anekdot/serbaneka',\n",
       "       'anekdot/serbaneka', 'sistem', 'pelayanan', 'anekdot/serbaneka',\n",
       "       'pelayanan', 'sistem', 'pelayanan', 'pelayanan',\n",
       "       'anekdot/serbaneka', 'sistem', 'pelayanan', 'anekdot/serbaneka',\n",
       "       'anekdot/serbaneka', 'anekdot/serbaneka', 'harga',\n",
       "       'anekdot/serbaneka', 'pelayanan', 'pelayanan', 'harga',\n",
       "       'pelayanan', 'pelayanan', 'pelayanan', 'pelayanan', 'pelayanan',\n",
       "       'anekdot/serbaneka', 'harga', 'sistem', 'anekdot/serbaneka',\n",
       "       'pelayanan', 'anekdot/serbaneka', 'anekdot/serbaneka',\n",
       "       'anekdot/serbaneka', 'anekdot/serbaneka', 'anekdot/serbaneka',\n",
       "       'pelayanan', 'sistem', 'anekdot/serbaneka', 'anekdot/serbaneka',\n",
       "       'pelayanan', 'pelayanan', 'pelayanan', 'anekdot/serbaneka',\n",
       "       'anekdot/serbaneka', 'anekdot/serbaneka', 'pelayanan', 'pelayanan',\n",
       "       'anekdot/serbaneka', 'anekdot/serbaneka', 'pelayanan',\n",
       "       'anekdot/serbaneka', 'pelayanan', 'pelayanan', 'pelayanan',\n",
       "       'anekdot/serbaneka', 'anekdot/serbaneka', 'pelayanan',\n",
       "       'anekdot/serbaneka', 'pelayanan', 'pelayanan', 'anekdot/serbaneka',\n",
       "       'pelayanan', 'sistem', 'anekdot/serbaneka', 'anekdot/serbaneka',\n",
       "       'pelayanan', 'anekdot/serbaneka', 'pelayanan', 'pelayanan',\n",
       "       'anekdot/serbaneka', 'anekdot/serbaneka', 'pelayanan',\n",
       "       'anekdot/serbaneka', 'anekdot/serbaneka', 'pelayanan', 'sistem',\n",
       "       'anekdot/serbaneka', 'pelayanan', 'anekdot/serbaneka', 'pelayanan',\n",
       "       'pelayanan', 'pelayanan', 'anekdot/serbaneka', 'pelayanan',\n",
       "       'anekdot/serbaneka', 'anekdot/serbaneka', 'pelayanan', 'pelayanan',\n",
       "       'pelayanan', 'anekdot/serbaneka', 'pelayanan', 'pelayanan',\n",
       "       'anekdot/serbaneka', 'pelayanan', 'pelayanan', 'sistem',\n",
       "       'pelayanan', 'anekdot/serbaneka', 'pelayanan', 'pelayanan',\n",
       "       'pelayanan', 'pelayanan', 'anekdot/serbaneka', 'pelayanan',\n",
       "       'sistem', 'pelayanan', 'pelayanan', 'anekdot/serbaneka',\n",
       "       'anekdot/serbaneka', 'pelayanan', 'sistem', 'anekdot/serbaneka',\n",
       "       'anekdot/serbaneka', 'pelayanan', 'sistem', 'sistem', 'pelayanan',\n",
       "       'anekdot/serbaneka', 'pelayanan', 'pelayanan', 'anekdot/serbaneka',\n",
       "       'anekdot/serbaneka', 'pelayanan', 'pelayanan', 'pelayanan',\n",
       "       'anekdot/serbaneka', 'anekdot/serbaneka', 'sistem', 'pelayanan',\n",
       "       'pelayanan', 'pelayanan', 'anekdot/serbaneka', 'pelayanan',\n",
       "       'pelayanan', 'pelayanan', 'pelayanan', 'anekdot/serbaneka',\n",
       "       'pelayanan', 'pelayanan', 'pelayanan', 'anekdot/serbaneka',\n",
       "       'anekdot/serbaneka', 'anekdot/serbaneka', 'pelayanan',\n",
       "       'anekdot/serbaneka', 'anekdot/serbaneka', 'anekdot/serbaneka',\n",
       "       'anekdot/serbaneka', 'anekdot/serbaneka', 'pelayanan',\n",
       "       'anekdot/serbaneka', 'sistem', 'pelayanan', 'anekdot/serbaneka',\n",
       "       'pelayanan', 'sistem', 'anekdot/serbaneka', 'anekdot/serbaneka',\n",
       "       'anekdot/serbaneka', 'pelayanan', 'pelayanan', 'pelayanan',\n",
       "       'sistem', 'sistem', 'pelayanan', 'pelayanan', 'pelayanan',\n",
       "       'anekdot/serbaneka', 'anekdot/serbaneka', 'pelayanan',\n",
       "       'anekdot/serbaneka', 'anekdot/serbaneka', 'pelayanan',\n",
       "       'anekdot/serbaneka', 'pelayanan', 'pelayanan', 'anekdot/serbaneka',\n",
       "       'sistem', 'anekdot/serbaneka', 'harga', 'anekdot/serbaneka',\n",
       "       'harga', 'pelayanan', 'anekdot/serbaneka', 'pelayanan',\n",
       "       'pelayanan', 'pelayanan', 'anekdot/serbaneka', 'sistem', 'sistem'],\n",
       "      dtype=object)"
      ]
     },
     "execution_count": 22,
     "metadata": {},
     "output_type": "execute_result"
    }
   ],
   "source": [
    "y_pred_train"
   ]
  },
  {
   "cell_type": "code",
   "execution_count": 23,
   "metadata": {},
   "outputs": [
    {
     "data": {
      "text/plain": [
       "array(['anekdot/serbaneka', 'anekdot/serbaneka', 'pelayanan',\n",
       "       'anekdot/serbaneka', 'anekdot/serbaneka', 'anekdot/serbaneka',\n",
       "       'anekdot/serbaneka', 'pelayanan', 'pelayanan', 'pelayanan',\n",
       "       'pelayanan', 'pelayanan', 'anekdot/serbaneka', 'pelayanan',\n",
       "       'pelayanan', 'anekdot/serbaneka', 'pelayanan', 'sistem',\n",
       "       'pelayanan', 'pelayanan', 'pelayanan', 'anekdot/serbaneka',\n",
       "       'pelayanan', 'anekdot/serbaneka', 'anekdot/serbaneka', 'pelayanan',\n",
       "       'anekdot/serbaneka', 'pelayanan', 'anekdot/serbaneka', 'pelayanan',\n",
       "       'pelayanan', 'anekdot/serbaneka', 'pelayanan', 'sistem',\n",
       "       'pelayanan', 'pelayanan', 'pelayanan', 'pelayanan', 'pelayanan',\n",
       "       'anekdot/serbaneka', 'pelayanan', 'pelayanan', 'pelayanan',\n",
       "       'pelayanan', 'anekdot/serbaneka', 'anekdot/serbaneka',\n",
       "       'anekdot/serbaneka', 'anekdot/serbaneka', 'sistem',\n",
       "       'anekdot/serbaneka', 'pelayanan', 'pelayanan', 'pelayanan',\n",
       "       'pelayanan', 'pelayanan', 'sistem', 'pelayanan', 'pelayanan',\n",
       "       'pelayanan', 'pelayanan', 'anekdot/serbaneka', 'anekdot/serbaneka',\n",
       "       'pelayanan', 'pelayanan', 'pelayanan', 'pelayanan', 'sistem',\n",
       "       'anekdot/serbaneka', 'anekdot/serbaneka', 'pelayanan', 'pelayanan',\n",
       "       'pelayanan', 'anekdot/serbaneka', 'pelayanan', 'anekdot/serbaneka',\n",
       "       'pelayanan', 'pelayanan', 'anekdot/serbaneka', 'anekdot/serbaneka',\n",
       "       'anekdot/serbaneka', 'pelayanan', 'anekdot/serbaneka', 'sistem',\n",
       "       'pelayanan', 'anekdot/serbaneka', 'anekdot/serbaneka',\n",
       "       'anekdot/serbaneka', 'pelayanan', 'anekdot/serbaneka', 'pelayanan',\n",
       "       'anekdot/serbaneka', 'anekdot/serbaneka', 'anekdot/serbaneka',\n",
       "       'pelayanan', 'pelayanan', 'pelayanan', 'anekdot/serbaneka',\n",
       "       'anekdot/serbaneka', 'pelayanan', 'anekdot/serbaneka',\n",
       "       'anekdot/serbaneka', 'anekdot/serbaneka', 'anekdot/serbaneka',\n",
       "       'pelayanan', 'anekdot/serbaneka', 'pelayanan', 'pelayanan',\n",
       "       'anekdot/serbaneka', 'pelayanan', 'pelayanan', 'pelayanan',\n",
       "       'pelayanan', 'anekdot/serbaneka', 'pelayanan', 'anekdot/serbaneka',\n",
       "       'pelayanan', 'pelayanan', 'pelayanan', 'pelayanan',\n",
       "       'anekdot/serbaneka', 'pelayanan', 'sistem', 'pelayanan',\n",
       "       'anekdot/serbaneka', 'pelayanan', 'pelayanan', 'anekdot/serbaneka',\n",
       "       'anekdot/serbaneka', 'anekdot/serbaneka', 'anekdot/serbaneka',\n",
       "       'pelayanan', 'pelayanan', 'pelayanan', 'pelayanan', 'pelayanan',\n",
       "       'pelayanan', 'pelayanan', 'pelayanan', 'anekdot/serbaneka',\n",
       "       'pelayanan', 'anekdot/serbaneka', 'anekdot/serbaneka',\n",
       "       'anekdot/serbaneka', 'pelayanan', 'pelayanan', 'sistem',\n",
       "       'pelayanan', 'pelayanan', 'anekdot/serbaneka', 'anekdot/serbaneka',\n",
       "       'pelayanan', 'pelayanan', 'anekdot/serbaneka', 'anekdot/serbaneka',\n",
       "       'pelayanan', 'pelayanan', 'anekdot/serbaneka', 'anekdot/serbaneka',\n",
       "       'pelayanan', 'pelayanan'], dtype=object)"
      ]
     },
     "execution_count": 23,
     "metadata": {},
     "output_type": "execute_result"
    }
   ],
   "source": [
    "y_pred_cat"
   ]
  },
  {
   "cell_type": "code",
   "execution_count": 24,
   "metadata": {},
   "outputs": [],
   "source": [
    "tes1 = pd.Series(y_pred_cat)\n",
    "tes1.to_csv('data/data/predicted_category.csv', index=False)"
   ]
  },
  {
   "cell_type": "code",
   "execution_count": 25,
   "metadata": {},
   "outputs": [],
   "source": [
    "pickle.dump(y_pred_cat, open('pred_cat', 'wb'))"
   ]
  },
  {
   "cell_type": "code",
   "execution_count": 26,
   "metadata": {},
   "outputs": [],
   "source": [
    "# Proses pengujian\n",
    "# Import library yang dibutuhkan\n",
    "from sklearn import linear_model, metrics\n",
    "from sklearn.metrics import accuracy_score,confusion_matrix\n",
    "from sklearn.metrics import precision_score, recall_score, f1_score"
   ]
  },
  {
   "cell_type": "code",
   "execution_count": 27,
   "metadata": {},
   "outputs": [
    {
     "data": {
      "text/plain": [
       "95.3125"
      ]
     },
     "execution_count": 27,
     "metadata": {},
     "output_type": "execute_result"
    }
   ],
   "source": [
    "# comparing actual response values (y_train) with predicted response values (y_pred_train) \n",
    "metrics.accuracy_score(y_train, y_pred_train)*100"
   ]
  },
  {
   "cell_type": "code",
   "execution_count": 28,
   "metadata": {},
   "outputs": [
    {
     "name": "stdout",
     "output_type": "stream",
     "text": [
      "(640,) (640,)\n",
      "(160,) (160,)\n"
     ]
    }
   ],
   "source": [
    "print(y_train.shape, y_pred_train.shape)\n",
    "print(y_test.shape, y_pred_cat.shape)"
   ]
  },
  {
   "cell_type": "code",
   "execution_count": 29,
   "metadata": {},
   "outputs": [
    {
     "data": {
      "text/plain": [
       "58.75"
      ]
     },
     "execution_count": 29,
     "metadata": {},
     "output_type": "execute_result"
    }
   ],
   "source": [
    "# comparing actual response values (y_test) with predicted response values (y_pred_cat) \n",
    "metrics.accuracy_score(y_test, y_pred_cat)*100"
   ]
  },
  {
   "cell_type": "markdown",
   "metadata": {},
   "source": [
    "# 2.0 Classification report"
   ]
  },
  {
   "cell_type": "code",
   "execution_count": 30,
   "metadata": {},
   "outputs": [
    {
     "name": "stdout",
     "output_type": "stream",
     "text": [
      "                   precision    recall  f1-score   support\n",
      "\n",
      "        pelayanan       0.62      0.60      0.61        65\n",
      "            harga       0.00      0.00      0.00         4\n",
      "           sistem       0.57      0.69      0.63        74\n",
      "anekdot/serbaneka       0.50      0.24      0.32        17\n",
      "\n",
      "         accuracy                           0.59       160\n",
      "        macro avg       0.42      0.38      0.39       160\n",
      "     weighted avg       0.57      0.59      0.57       160\n",
      "\n"
     ]
    },
    {
     "name": "stderr",
     "output_type": "stream",
     "text": [
      "C:\\Users\\dell\\anaconda3\\lib\\site-packages\\sklearn\\metrics\\_classification.py:1221: UndefinedMetricWarning: Precision and F-score are ill-defined and being set to 0.0 in labels with no predicted samples. Use `zero_division` parameter to control this behavior.\n",
      "  _warn_prf(average, modifier, msg_start, len(result))\n"
     ]
    }
   ],
   "source": [
    "from sklearn.metrics import classification_report\n",
    "print(classification_report(y_test, y_pred_cat ,target_names=catagories))"
   ]
  },
  {
   "cell_type": "code",
   "execution_count": 31,
   "metadata": {
    "scrolled": true
   },
   "outputs": [
    {
     "name": "stdout",
     "output_type": "stream",
     "text": [
      "Accuracy Score: 0.5875\n",
      "Confusion Matrix: [[39  0 23  3]\n",
      " [ 0  0  4  0]\n",
      " [22  0 51  1]\n",
      " [ 2  0 11  4]]\n",
      "Precision Score: 0.5696411851257357\n",
      "Recall Score: 0.5875\n",
      "F1 Score: 0.5709757716641104\n"
     ]
    },
    {
     "name": "stderr",
     "output_type": "stream",
     "text": [
      "C:\\Users\\dell\\anaconda3\\lib\\site-packages\\sklearn\\metrics\\_classification.py:1221: UndefinedMetricWarning: Precision is ill-defined and being set to 0.0 in labels with no predicted samples. Use `zero_division` parameter to control this behavior.\n",
      "  _warn_prf(average, modifier, msg_start, len(result))\n"
     ]
    }
   ],
   "source": [
    "# Melakukan proses pengujian\n",
    "acc = accuracy_score(y_test, y_pred_cat)\n",
    "cm = confusion_matrix(y_test, y_pred_cat)\n",
    "print(\"Accuracy Score: \" + str(acc))\n",
    "print(\"Confusion Matrix: \"+ str(cm))\n",
    "print(\"Precision Score: \"+ str(precision_score(y_test,y_pred_cat,average='weighted')))\n",
    "print(\"Recall Score: \"+ str(recall_score(y_test,y_pred_cat,average='weighted')))\n",
    "print(\"F1 Score: \"+ str(f1_score(y_test,y_pred_cat,average='weighted')))"
   ]
  },
  {
   "cell_type": "code",
   "execution_count": 32,
   "metadata": {},
   "outputs": [
    {
     "name": "stdout",
     "output_type": "stream",
     "text": [
      "['Review ini termasuk kategori anekdot/serbaneka'\n",
      " 'Review ini termasuk kategori pelayanan'\n",
      " 'Review ini termasuk kategori pelayanan'\n",
      " 'Review ini termasuk kategori harga'\n",
      " 'Review ini termasuk kategori anekdot/serbaneka']\n"
     ]
    }
   ],
   "source": [
    "# Menguji model prediksi yang telah di buat\n",
    "# dengan data masukan yang baru\n",
    "tes = ['jelek aplikasinya',\n",
    "       'pelayanannya bagus, dokter baik',\n",
    "       'bagus berfungsi dengan baik',\n",
    "       'bayarnya murah sekali',\n",
    "      'tolong tambahin metode pembayarannya jelek amat']\n",
    "# tes_features = vectorizer.transform(tes).toarray()\n",
    "\n",
    "est = vectorizer.transform(tes)\n",
    "test_aspect = pd.DataFrame(est.toarray(), columns=vectorizer.get_feature_names())\n",
    "test_aspect.to_csv(\"data/data/fitur_test_aspect.csv\")\n",
    "# print(tes_features)\n",
    "print(\"Review ini termasuk kategori \"+etc.predict(test_aspect))"
   ]
  },
  {
   "cell_type": "code",
   "execution_count": 33,
   "metadata": {},
   "outputs": [],
   "source": [
    "from sklearn.model_selection import train_test_split\n",
    "\n",
    "X = data['review']\n",
    "y = data['polarity']\n",
    "\n",
    "X_train, X_test, y_train, y_test = train_test_split(X,y,test_size=0.2, random_state=42)"
   ]
  },
  {
   "cell_type": "code",
   "execution_count": 34,
   "metadata": {},
   "outputs": [
    {
     "name": "stdout",
     "output_type": "stream",
     "text": [
      "(640,) (640,)\n",
      "(160,) (160,)\n"
     ]
    }
   ],
   "source": [
    "print(X_train.shape, y_train.shape)\n",
    "print(X_test.shape, y_test.shape)"
   ]
  },
  {
   "cell_type": "code",
   "execution_count": 35,
   "metadata": {},
   "outputs": [
    {
     "data": {
      "text/plain": [
       "264    baik tangan suka panik diagnose baik langsung ...\n",
       "615                                          cepat bagus\n",
       "329    mudah repot repot antre antre rumah sakit klin...\n",
       "342                                          bagus layan\n",
       "394    konsultasi bayar pakai gopay gagal konsultasi ...\n",
       "Name: review, dtype: object"
      ]
     },
     "execution_count": 35,
     "metadata": {},
     "output_type": "execute_result"
    }
   ],
   "source": [
    "X_train.head()"
   ]
  },
  {
   "cell_type": "code",
   "execution_count": 36,
   "metadata": {},
   "outputs": [
    {
     "data": {
      "text/plain": [
       "696                                    bantu mudah bagus\n",
       "667                                              manfaat\n",
       "63                       bagus konsultasi psikologi baik\n",
       "533    puas bantu terimakasi aplikasi halodic dokter ...\n",
       "66     bantu aplikasi lelah rumah bantu jelek aplikas...\n",
       "Name: review, dtype: object"
      ]
     },
     "execution_count": 36,
     "metadata": {},
     "output_type": "execute_result"
    }
   ],
   "source": [
    "X_test.head()"
   ]
  },
  {
   "cell_type": "code",
   "execution_count": 37,
   "metadata": {},
   "outputs": [
    {
     "data": {
      "text/plain": [
       "264    positif\n",
       "615    positif\n",
       "329    positif\n",
       "342    positif\n",
       "394    negatif\n",
       "Name: polarity, dtype: object"
      ]
     },
     "execution_count": 37,
     "metadata": {},
     "output_type": "execute_result"
    }
   ],
   "source": [
    "y_train.head()"
   ]
  },
  {
   "cell_type": "code",
   "execution_count": 38,
   "metadata": {},
   "outputs": [
    {
     "data": {
      "text/plain": [
       "264    positif\n",
       "615    positif\n",
       "329    positif\n",
       "342    positif\n",
       "394    negatif\n",
       "Name: polarity, dtype: object"
      ]
     },
     "execution_count": 38,
     "metadata": {},
     "output_type": "execute_result"
    }
   ],
   "source": [
    "y_train.head()"
   ]
  },
  {
   "cell_type": "code",
   "execution_count": 39,
   "metadata": {},
   "outputs": [
    {
     "data": {
      "text/plain": [
       "ExtraTreesClassifier(class_weight='balanced_subsample', criterion='entropy',\n",
       "                     max_features=10)"
      ]
     },
     "execution_count": 39,
     "metadata": {},
     "output_type": "execute_result"
    }
   ],
   "source": [
    "etc = ExtraTreesClassifier(criterion='entropy',class_weight='balanced_subsample', max_features=10)\n",
    "\n",
    "# Memasang data latih ke classifier\n",
    "etc.fit(train_data_features,y_train)"
   ]
  },
  {
   "cell_type": "code",
   "execution_count": 40,
   "metadata": {},
   "outputs": [],
   "source": [
    "# Melakukan prediksi dengan membandingkan dengan data tes\n",
    "pred = etc.predict(train_data_features)"
   ]
  },
  {
   "cell_type": "code",
   "execution_count": 41,
   "metadata": {},
   "outputs": [],
   "source": [
    "# Melakukan prediksi dengan membandingkan dengan data tes\n",
    "pred_polarity = etc.predict(test_data_features)"
   ]
  },
  {
   "cell_type": "code",
   "execution_count": 42,
   "metadata": {},
   "outputs": [],
   "source": [
    "pickle.dump(pred_polarity, open('pred_polarity', 'wb'))"
   ]
  },
  {
   "cell_type": "code",
   "execution_count": 43,
   "metadata": {},
   "outputs": [],
   "source": [
    "tes2 = pd.Series(pred_polarity)\n",
    "tes2.to_csv('data/data/predicted_polarity.csv', index=False)"
   ]
  },
  {
   "cell_type": "code",
   "execution_count": 44,
   "metadata": {},
   "outputs": [
    {
     "data": {
      "text/plain": [
       "100.0"
      ]
     },
     "execution_count": 44,
     "metadata": {},
     "output_type": "execute_result"
    }
   ],
   "source": [
    "# comparing actual response values (y_train) with predicted response values (y_pred_train) \n",
    " \n",
    "metrics.accuracy_score(y_train, pred)*100"
   ]
  },
  {
   "cell_type": "code",
   "execution_count": 45,
   "metadata": {},
   "outputs": [
    {
     "data": {
      "text/plain": [
       "91.875"
      ]
     },
     "execution_count": 45,
     "metadata": {},
     "output_type": "execute_result"
    }
   ],
   "source": [
    "# comparing actual response values (y_train) with predicted response values (y_pred_train) \n",
    " \n",
    "metrics.accuracy_score(y_test, pred_polarity)*100"
   ]
  },
  {
   "cell_type": "code",
   "execution_count": 46,
   "metadata": {},
   "outputs": [
    {
     "name": "stdout",
     "output_type": "stream",
     "text": [
      "Accuracy Score: 0.91875\n",
      "Confusion Matrix: [[ 21  10]\n",
      " [  3 126]]\n",
      "Precision Score: 0.9164981617647058\n",
      "Recall Score: 0.91875\n",
      "F1 Score: 0.9146526586620926\n"
     ]
    }
   ],
   "source": [
    "# Melakukan proses pengujian\n",
    "acc = accuracy_score(y_test, pred_polarity)\n",
    "cm = confusion_matrix(y_test, pred_polarity)\n",
    "print(\"Accuracy Score: \" + str(acc))\n",
    "print(\"Confusion Matrix: \"+ str(cm))\n",
    "print(\"Precision Score: \"+ str(precision_score(y_test,pred_polarity,average='weighted')))\n",
    "print(\"Recall Score: \"+ str(recall_score(y_test,pred_polarity,average='weighted')))\n",
    "print(\"F1 Score: \"+ str(f1_score(y_test,pred_polarity,average='weighted')))"
   ]
  },
  {
   "cell_type": "code",
   "execution_count": 47,
   "metadata": {},
   "outputs": [
    {
     "name": "stdout",
     "output_type": "stream",
     "text": [
      "['Nilai sentiment review ini adalah negatif'\n",
      " 'Nilai sentiment review ini adalah positif'\n",
      " 'Nilai sentiment review ini adalah positif'\n",
      " 'Nilai sentiment review ini adalah positif'\n",
      " 'Nilai sentiment review ini adalah negatif']\n"
     ]
    }
   ],
   "source": [
    "# Menguji model prediksi yang telah di buat\n",
    "# dengan data masukan yang baru\n",
    "tes1 = ['jelek aplikasinya',\n",
    "       'pelayanannya bagus, dokter baik',\n",
    "       'bagus berfungsi dengan baik',\n",
    "       'bayarnya murah sekali',\n",
    "       'tolong tambahin metode pembayarannya jelek amat']\n",
    "\n",
    "#preprocessing\n",
    "tes1 = [review.lower() for review in tes1]\n",
    "\n",
    "# tes_features = vectorizer.transform(tes).toarray()\n",
    "est1 = vectorizer.transform(tes1)\n",
    "test_sentiment_terms = pd.DataFrame(est1.toarray(), columns=vectorizer.get_feature_names())\n",
    "test_sentiment_terms.to_csv(\"data/data/fitur_test_sentiment_terms.csv\")\n",
    "# print(tes_features)\n",
    "print(\"Nilai sentiment review ini adalah \"+ etc.predict(test_sentiment_terms))"
   ]
  },
  {
   "cell_type": "code",
   "execution_count": null,
   "metadata": {},
   "outputs": [],
   "source": []
  },
  {
   "cell_type": "code",
   "execution_count": 48,
   "metadata": {},
   "outputs": [],
   "source": [
    "def create_result_dataframe(pred_1,pred_2):\n",
    "  # Calling DataFrame constructor on predicted outputs\n",
    "  resultant_df = pd.DataFrame(list(zip(pred_1,pred_2)), columns = [\"predicted_catagories\" , \"predicted_polarity\"])\n",
    "  result  = pd.crosstab(resultant_df.predicted_catagories,resultant_df.predicted_polarity ,margins = True , margins_name = \"Total\")\n",
    "  result[\"Ranking\"] = ( result.Total/resultant_df.shape[0]) * 5.0\n",
    "  result[\"Negatif in %\"] = (result.negatif/result.Total) * 100\n",
    "  result[\"Positif in %\"] = (result.positif/result.Total) * 100\n",
    "  del result[\"negatif\"]\n",
    "  del result[\"positif\"]\n",
    "  del result[\"Total\"]\n",
    "\n",
    "  return result"
   ]
  },
  {
   "cell_type": "code",
   "execution_count": 49,
   "metadata": {},
   "outputs": [],
   "source": [
    "result = create_result_dataframe(y_pred_cat,pred_polarity)"
   ]
  },
  {
   "cell_type": "code",
   "execution_count": 50,
   "metadata": {},
   "outputs": [
    {
     "data": {
      "text/html": [
       "<div>\n",
       "<style scoped>\n",
       "    .dataframe tbody tr th:only-of-type {\n",
       "        vertical-align: middle;\n",
       "    }\n",
       "\n",
       "    .dataframe tbody tr th {\n",
       "        vertical-align: top;\n",
       "    }\n",
       "\n",
       "    .dataframe thead th {\n",
       "        text-align: right;\n",
       "    }\n",
       "</style>\n",
       "<table border=\"1\" class=\"dataframe\">\n",
       "  <thead>\n",
       "    <tr style=\"text-align: right;\">\n",
       "      <th>predicted_polarity</th>\n",
       "      <th>Ranking</th>\n",
       "      <th>Negatif in %</th>\n",
       "      <th>Positif in %</th>\n",
       "    </tr>\n",
       "    <tr>\n",
       "      <th>predicted_catagories</th>\n",
       "      <th></th>\n",
       "      <th></th>\n",
       "      <th></th>\n",
       "    </tr>\n",
       "  </thead>\n",
       "  <tbody>\n",
       "    <tr>\n",
       "      <th>anekdot/serbaneka</th>\n",
       "      <td>1.96875</td>\n",
       "      <td>7.936508</td>\n",
       "      <td>92.063492</td>\n",
       "    </tr>\n",
       "    <tr>\n",
       "      <th>pelayanan</th>\n",
       "      <td>2.78125</td>\n",
       "      <td>17.977528</td>\n",
       "      <td>82.022472</td>\n",
       "    </tr>\n",
       "    <tr>\n",
       "      <th>sistem</th>\n",
       "      <td>0.25000</td>\n",
       "      <td>37.500000</td>\n",
       "      <td>62.500000</td>\n",
       "    </tr>\n",
       "    <tr>\n",
       "      <th>Total</th>\n",
       "      <td>5.00000</td>\n",
       "      <td>15.000000</td>\n",
       "      <td>85.000000</td>\n",
       "    </tr>\n",
       "  </tbody>\n",
       "</table>\n",
       "</div>"
      ],
      "text/plain": [
       "predicted_polarity    Ranking  Negatif in %  Positif in %\n",
       "predicted_catagories                                     \n",
       "anekdot/serbaneka     1.96875      7.936508     92.063492\n",
       "pelayanan             2.78125     17.977528     82.022472\n",
       "sistem                0.25000     37.500000     62.500000\n",
       "Total                 5.00000     15.000000     85.000000"
      ]
     },
     "execution_count": 50,
     "metadata": {},
     "output_type": "execute_result"
    }
   ],
   "source": [
    "result"
   ]
  },
  {
   "cell_type": "markdown",
   "metadata": {},
   "source": [
    "Hasil di atas menunjukkan bahwa Pemeringkatan dan semua Polaritas dalam persentase untuk semua kategori aspek.\n",
    "\n",
    "Hasil observasi menandakan bahwa:\n",
    "- Pelayanan memiliki ranking tertingi dengan nilai 2.53\n",
    "- Sistem memiliki persentase negatif tertinggi dengan nilai 55%\n",
    "- Anekdot/Serbaneka memiliki persentase positif tertinggi dengan nilai 94.2% dan Pelayanan dengan 80.2% hampir menyusul\n",
    "- Harga tidak masuk karena kekurangan data"
   ]
  },
  {
   "cell_type": "markdown",
   "metadata": {},
   "source": [
    "Klasifikasi kategori aspek 60%\n",
    "Klasifikasi polaritas 92%"
   ]
  },
  {
   "cell_type": "code",
   "execution_count": null,
   "metadata": {},
   "outputs": [],
   "source": []
  },
  {
   "cell_type": "code",
   "execution_count": null,
   "metadata": {},
   "outputs": [],
   "source": []
  }
 ],
 "metadata": {
  "kernelspec": {
   "display_name": "Python 3",
   "language": "python",
   "name": "python3"
  },
  "language_info": {
   "codemirror_mode": {
    "name": "ipython",
    "version": 3
   },
   "file_extension": ".py",
   "mimetype": "text/x-python",
   "name": "python",
   "nbconvert_exporter": "python",
   "pygments_lexer": "ipython3",
   "version": "3.8.5"
  }
 },
 "nbformat": 4,
 "nbformat_minor": 4
}
